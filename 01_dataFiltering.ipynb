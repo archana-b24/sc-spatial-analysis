{
 "cells": [
  {
   "cell_type": "code",
   "execution_count": 1,
   "metadata": {},
   "outputs": [],
   "source": [
    "import squidpy as sq\n",
    "import scanpy as sc\n",
    "import scipy as scp\n",
    "import numpy as np \n",
    "import pandas as pd"
   ]
  },
  {
   "cell_type": "code",
   "execution_count": 2,
   "metadata": {},
   "outputs": [],
   "source": [
    "def metadata_filter(adata, obs_or_var, col_name, value):\n",
    "    '''\n",
    "    Function to quickly filter and subset the dataset based on metadata.\n",
    "    \n",
    "    Parameters:\n",
    "        adata (AnnData): Annotated data object.\n",
    "        obs_or_var (str): 'obs' for filtering based on observations metadata, 'var' for filtering based on variables metadata.\n",
    "        col_name (str): Name of the metadata column to filter by.\n",
    "        value: Value to filter for in the specified column.\n",
    "    \n",
    "    Returns:\n",
    "        AnnData: Subset of the original AnnData object based on the specified metadata filter.\n",
    "    '''\n",
    "    if obs_or_var not in ['obs', 'var']:\n",
    "        raise ValueError(\"Parameter 'obs_or_var' must be either 'obs' or 'var'.\")\n",
    "\n",
    "    if obs_or_var == 'obs':\n",
    "        return adata[adata.obs[col_name] == value, :]\n",
    "    else:\n",
    "        return adata[adata.var[col_name] == value, :]"
   ]
  },
  {
   "cell_type": "code",
   "execution_count": 5,
   "metadata": {},
   "outputs": [],
   "source": [
    "adata = sc.read_h5ad('data/hlcaFull.h5ad', backed='r') # read in backed mode"
   ]
  },
  {
   "cell_type": "code",
   "execution_count": 6,
   "metadata": {},
   "outputs": [],
   "source": [
    "sclc_cells = metadata_filter(adata, 'obs', 'disease', 'squamous cell lung carcinoma') # squamous cell lung carcinoma cells\n",
    "normal_cells = metadata_filter(adata, 'obs', 'disease', 'normal') # normal cells"
   ]
  },
  {
   "cell_type": "code",
   "execution_count": 12,
   "metadata": {},
   "outputs": [],
   "source": [
    "# set index names (ENSEMBL IDs) to gene names for better readability\n",
    "sclc_cells.var.index = sclc_cells.var.feature_name\n",
    "normal_cells.var.index = normal_cells.var.feature_name "
   ]
  },
  {
   "cell_type": "code",
   "execution_count": 18,
   "metadata": {},
   "outputs": [
    {
     "data": {
      "text/plain": [
       "<bound method Series.unique of CGATGTAAGTTACGGG_SC10                          nan\n",
       "cc05p_CATGCCTGTGTGCCTG_carraro_csmc            nan\n",
       "ATTCTACCAAGGTTCT_HD68                          nan\n",
       "D062_TGACCCTTCAAACCCA-sub_wang_sub_batch3      nan\n",
       "P1_2_TGCTGCTAGCTCCTCT                          nan\n",
       "                                              ... \n",
       "P3_4_GCTTGAACACGACGAA                          nan\n",
       "TTGTGGATCGTTCCTG_5-PX5-sub_mould               nan\n",
       "TCAGGATCAAGACGTG_F02526                        nan\n",
       "CAACCTCTCATGTAGC-WSSS8015042-0_meyer_unpubl    nan\n",
       "022C-b_GGATGTTTCCAAGTAC_adams                  nan\n",
       "Name: age_range, Length: 1305099, dtype: category\n",
       "Categories (7, object): ['30-35', '40-45', '50-55', '55-60', '60-65', '65-70', 'nan']>"
      ]
     },
     "execution_count": 18,
     "metadata": {},
     "output_type": "execute_result"
    }
   ],
   "source": [
    "normal_cells.obs.age_range.unique"
   ]
  },
  {
   "cell_type": "code",
   "execution_count": null,
   "metadata": {},
   "outputs": [],
   "source": [
    "abv55 = ['55-60', '60-65', '65-70'] # filter above 55 years of age\n",
    "normalCellsabv55 = normal_cells[normal_cells.obs['age_range'].isin(abv55)] # normal cells above 55\n",
    "normalCellsabv55.write_h5ad('data/normalCellsabv55.h5ad')"
   ]
  },
  {
   "cell_type": "code",
   "execution_count": 28,
   "metadata": {},
   "outputs": [],
   "source": [
    "sclc_cells.var.index = sclc_cells.var.feature_name # set gene names\n",
    "sclc_cells.write_h5ad('data/sclcCellsNew.h5ad') # Copy squamous cell lung carcinoma cells to file"
   ]
  },
  {
   "cell_type": "code",
   "execution_count": 37,
   "metadata": {},
   "outputs": [],
   "source": [
    "bdata = sc.read_h5ad('data/normalCellsabv55.h5ad')\n",
    "bdata.var.index = bdata.var.feature_name"
   ]
  },
  {
   "cell_type": "code",
   "execution_count": 39,
   "metadata": {},
   "outputs": [],
   "source": [
    "bdata.write_h5ad('data/normalCellsabv551.h5ad')"
   ]
  }
 ],
 "metadata": {
  "kernelspec": {
   "display_name": "Python 3",
   "language": "python",
   "name": "python3"
  },
  "language_info": {
   "codemirror_mode": {
    "name": "ipython",
    "version": 3
   },
   "file_extension": ".py",
   "mimetype": "text/x-python",
   "name": "python",
   "nbconvert_exporter": "python",
   "pygments_lexer": "ipython3",
   "version": "3.9.6"
  }
 },
 "nbformat": 4,
 "nbformat_minor": 2
}
