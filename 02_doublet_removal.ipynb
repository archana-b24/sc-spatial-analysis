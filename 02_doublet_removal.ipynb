{
 "cells": [
  {
   "cell_type": "code",
   "execution_count": 110,
   "metadata": {},
   "outputs": [],
   "source": [
    "import squidpy as sq\n",
    "import scanpy as sc\n",
    "import scipy as scp\n",
    "import numpy as np \n",
    "import pandas as pd\n",
    "import scvi\n",
    "import seaborn as sns\n",
    "import pyensembl as ensb\n"
   ]
  },
  {
   "cell_type": "code",
   "execution_count": 2,
   "metadata": {},
   "outputs": [],
   "source": [
    "normalCells = sc.read_h5ad('hlca/normalCells.h5ad')\n",
    "sclcCells = sc.read_h5ad('hlca/sclcCells.h5ad')"
   ]
  },
  {
   "cell_type": "code",
   "execution_count": 5,
   "metadata": {},
   "outputs": [
    {
     "name": "stderr",
     "output_type": "stream",
     "text": [
      "/Users/shivaramakrishna/Library/Python/3.9/lib/python/site-packages/scanpy/preprocessing/_highly_variable_genes.py:64: UserWarning: `flavor='seurat_v3'` expects raw count data, but non-integers were found.\n",
      "  warnings.warn(\n"
     ]
    }
   ],
   "source": [
    "sc.pp.filter_genes(sclcCells, min_cells=10)\n",
    "sc.pp.highly_variable_genes(sclcCells, n_top_genes=2000, subset=True, flavor='seurat_v3') # using seurat_v3 because of raw counts"
   ]
  },
  {
   "cell_type": "code",
   "execution_count": 6,
   "metadata": {},
   "outputs": [
    {
     "name": "stderr",
     "output_type": "stream",
     "text": [
      "/Users/shivaramakrishna/Library/Python/3.9/lib/python/site-packages/scvi/data/fields/_base_field.py:64: UserWarning: adata.X does not contain unnormalized count data. Are you sure this is what you want?\n",
      "  self.validate_field(adata)\n",
      "GPU available: True (mps), used: False\n",
      "TPU available: False, using: 0 TPU cores\n",
      "IPU available: False, using: 0 IPUs\n",
      "HPU available: False, using: 0 HPUs\n",
      "/Users/shivaramakrishna/Library/Python/3.9/lib/python/site-packages/lightning/pytorch/trainer/setup.py:187: GPU available but not used. You can set it by doing `Trainer(accelerator='gpu')`.\n",
      "/Users/shivaramakrishna/Library/Python/3.9/lib/python/site-packages/lightning/pytorch/trainer/connectors/data_connector.py:441: The 'train_dataloader' does not have many workers which may be a bottleneck. Consider increasing the value of the `num_workers` argument` to `num_workers=9` in the `DataLoader` to improve performance.\n"
     ]
    },
    {
     "name": "stdout",
     "output_type": "stream",
     "text": [
      "Epoch 1/388:   0%|          | 0/388 [00:00<?, ?it/s]"
     ]
    },
    {
     "name": "stderr",
     "output_type": "stream",
     "text": [
      "/Users/shivaramakrishna/Library/Python/3.9/lib/python/site-packages/scvi/module/_vae.py:458: UserWarning: The value argument must be within the support of the distribution\n",
      "  reconst_loss = -generative_outputs[\"px\"].log_prob(x).sum(-1)\n",
      "/Users/shivaramakrishna/Library/Python/3.9/lib/python/site-packages/scvi/module/_vae.py:458: UserWarning: The value argument must be within the support of the distribution\n",
      "  reconst_loss = -generative_outputs[\"px\"].log_prob(x).sum(-1)\n"
     ]
    },
    {
     "name": "stdout",
     "output_type": "stream",
     "text": [
      "Epoch 2/388:   0%|          | 1/388 [00:03<22:06,  3.43s/it, v_num=1, train_loss_step=371, train_loss_epoch=367]"
     ]
    },
    {
     "name": "stderr",
     "output_type": "stream",
     "text": [
      "/Users/shivaramakrishna/Library/Python/3.9/lib/python/site-packages/scvi/module/_vae.py:458: UserWarning: The value argument must be within the support of the distribution\n",
      "  reconst_loss = -generative_outputs[\"px\"].log_prob(x).sum(-1)\n",
      "/Users/shivaramakrishna/Library/Python/3.9/lib/python/site-packages/scvi/module/_vae.py:458: UserWarning: The value argument must be within the support of the distribution\n",
      "  reconst_loss = -generative_outputs[\"px\"].log_prob(x).sum(-1)\n"
     ]
    },
    {
     "name": "stdout",
     "output_type": "stream",
     "text": [
      "Epoch 3/388:   1%|          | 2/388 [00:06<21:57,  3.41s/it, v_num=1, train_loss_step=268, train_loss_epoch=305]"
     ]
    },
    {
     "name": "stderr",
     "output_type": "stream",
     "text": [
      "/Users/shivaramakrishna/Library/Python/3.9/lib/python/site-packages/scvi/module/_vae.py:458: UserWarning: The value argument must be within the support of the distribution\n",
      "  reconst_loss = -generative_outputs[\"px\"].log_prob(x).sum(-1)\n",
      "/Users/shivaramakrishna/Library/Python/3.9/lib/python/site-packages/scvi/module/_vae.py:458: UserWarning: The value argument must be within the support of the distribution\n",
      "  reconst_loss = -generative_outputs[\"px\"].log_prob(x).sum(-1)\n"
     ]
    },
    {
     "name": "stdout",
     "output_type": "stream",
     "text": [
      "Epoch 4/388:   1%|          | 3/388 [00:10<22:35,  3.52s/it, v_num=1, train_loss_step=257, train_loss_epoch=294]"
     ]
    },
    {
     "name": "stderr",
     "output_type": "stream",
     "text": [
      "/Users/shivaramakrishna/Library/Python/3.9/lib/python/site-packages/scvi/module/_vae.py:458: UserWarning: The value argument must be within the support of the distribution\n",
      "  reconst_loss = -generative_outputs[\"px\"].log_prob(x).sum(-1)\n",
      "/Users/shivaramakrishna/Library/Python/3.9/lib/python/site-packages/scvi/module/_vae.py:458: UserWarning: The value argument must be within the support of the distribution\n",
      "  reconst_loss = -generative_outputs[\"px\"].log_prob(x).sum(-1)\n"
     ]
    },
    {
     "name": "stdout",
     "output_type": "stream",
     "text": [
      "Epoch 5/388:   1%|          | 4/388 [00:14<22:54,  3.58s/it, v_num=1, train_loss_step=344, train_loss_epoch=287]"
     ]
    },
    {
     "name": "stderr",
     "output_type": "stream",
     "text": [
      "/Users/shivaramakrishna/Library/Python/3.9/lib/python/site-packages/scvi/module/_vae.py:458: UserWarning: The value argument must be within the support of the distribution\n",
      "  reconst_loss = -generative_outputs[\"px\"].log_prob(x).sum(-1)\n",
      "/Users/shivaramakrishna/Library/Python/3.9/lib/python/site-packages/scvi/module/_vae.py:458: UserWarning: The value argument must be within the support of the distribution\n",
      "  reconst_loss = -generative_outputs[\"px\"].log_prob(x).sum(-1)\n"
     ]
    },
    {
     "name": "stdout",
     "output_type": "stream",
     "text": [
      "Epoch 6/388:   1%|▏         | 5/388 [00:17<22:50,  3.58s/it, v_num=1, train_loss_step=282, train_loss_epoch=282]"
     ]
    },
    {
     "name": "stderr",
     "output_type": "stream",
     "text": [
      "/Users/shivaramakrishna/Library/Python/3.9/lib/python/site-packages/scvi/module/_vae.py:458: UserWarning: The value argument must be within the support of the distribution\n",
      "  reconst_loss = -generative_outputs[\"px\"].log_prob(x).sum(-1)\n",
      "/Users/shivaramakrishna/Library/Python/3.9/lib/python/site-packages/scvi/module/_vae.py:458: UserWarning: The value argument must be within the support of the distribution\n",
      "  reconst_loss = -generative_outputs[\"px\"].log_prob(x).sum(-1)\n"
     ]
    },
    {
     "name": "stdout",
     "output_type": "stream",
     "text": [
      "Epoch 7/388:   2%|▏         | 6/388 [00:21<23:22,  3.67s/it, v_num=1, train_loss_step=277, train_loss_epoch=279]"
     ]
    },
    {
     "name": "stderr",
     "output_type": "stream",
     "text": [
      "/Users/shivaramakrishna/Library/Python/3.9/lib/python/site-packages/scvi/module/_vae.py:458: UserWarning: The value argument must be within the support of the distribution\n",
      "  reconst_loss = -generative_outputs[\"px\"].log_prob(x).sum(-1)\n",
      "/Users/shivaramakrishna/Library/Python/3.9/lib/python/site-packages/scvi/module/_vae.py:458: UserWarning: The value argument must be within the support of the distribution\n",
      "  reconst_loss = -generative_outputs[\"px\"].log_prob(x).sum(-1)\n"
     ]
    },
    {
     "name": "stdout",
     "output_type": "stream",
     "text": [
      "Epoch 8/388:   2%|▏         | 7/388 [00:25<23:18,  3.67s/it, v_num=1, train_loss_step=321, train_loss_epoch=276]"
     ]
    },
    {
     "name": "stderr",
     "output_type": "stream",
     "text": [
      "/Users/shivaramakrishna/Library/Python/3.9/lib/python/site-packages/scvi/module/_vae.py:458: UserWarning: The value argument must be within the support of the distribution\n",
      "  reconst_loss = -generative_outputs[\"px\"].log_prob(x).sum(-1)\n",
      "/Users/shivaramakrishna/Library/Python/3.9/lib/python/site-packages/scvi/module/_vae.py:458: UserWarning: The value argument must be within the support of the distribution\n",
      "  reconst_loss = -generative_outputs[\"px\"].log_prob(x).sum(-1)\n"
     ]
    },
    {
     "name": "stdout",
     "output_type": "stream",
     "text": [
      "Epoch 9/388:   2%|▏         | 8/388 [00:28<23:03,  3.64s/it, v_num=1, train_loss_step=255, train_loss_epoch=273]"
     ]
    },
    {
     "name": "stderr",
     "output_type": "stream",
     "text": [
      "/Users/shivaramakrishna/Library/Python/3.9/lib/python/site-packages/scvi/module/_vae.py:458: UserWarning: The value argument must be within the support of the distribution\n",
      "  reconst_loss = -generative_outputs[\"px\"].log_prob(x).sum(-1)\n",
      "/Users/shivaramakrishna/Library/Python/3.9/lib/python/site-packages/scvi/module/_vae.py:458: UserWarning: The value argument must be within the support of the distribution\n",
      "  reconst_loss = -generative_outputs[\"px\"].log_prob(x).sum(-1)\n"
     ]
    },
    {
     "name": "stdout",
     "output_type": "stream",
     "text": [
      "Epoch 10/388:   2%|▏         | 9/388 [00:32<23:09,  3.67s/it, v_num=1, train_loss_step=237, train_loss_epoch=271]"
     ]
    },
    {
     "name": "stderr",
     "output_type": "stream",
     "text": [
      "/Users/shivaramakrishna/Library/Python/3.9/lib/python/site-packages/scvi/module/_vae.py:458: UserWarning: The value argument must be within the support of the distribution\n",
      "  reconst_loss = -generative_outputs[\"px\"].log_prob(x).sum(-1)\n",
      "/Users/shivaramakrishna/Library/Python/3.9/lib/python/site-packages/scvi/module/_vae.py:458: UserWarning: The value argument must be within the support of the distribution\n",
      "  reconst_loss = -generative_outputs[\"px\"].log_prob(x).sum(-1)\n"
     ]
    },
    {
     "name": "stdout",
     "output_type": "stream",
     "text": [
      "Epoch 11/388:   3%|▎         | 10/388 [00:36<23:02,  3.66s/it, v_num=1, train_loss_step=260, train_loss_epoch=268]"
     ]
    },
    {
     "name": "stderr",
     "output_type": "stream",
     "text": [
      "/Users/shivaramakrishna/Library/Python/3.9/lib/python/site-packages/scvi/module/_vae.py:458: UserWarning: The value argument must be within the support of the distribution\n",
      "  reconst_loss = -generative_outputs[\"px\"].log_prob(x).sum(-1)\n",
      "/Users/shivaramakrishna/Library/Python/3.9/lib/python/site-packages/scvi/module/_vae.py:458: UserWarning: The value argument must be within the support of the distribution\n",
      "  reconst_loss = -generative_outputs[\"px\"].log_prob(x).sum(-1)\n"
     ]
    },
    {
     "name": "stdout",
     "output_type": "stream",
     "text": [
      "Epoch 12/388:   3%|▎         | 11/388 [00:39<22:52,  3.64s/it, v_num=1, train_loss_step=269, train_loss_epoch=267]"
     ]
    },
    {
     "name": "stderr",
     "output_type": "stream",
     "text": [
      "/Users/shivaramakrishna/Library/Python/3.9/lib/python/site-packages/scvi/module/_vae.py:458: UserWarning: The value argument must be within the support of the distribution\n",
      "  reconst_loss = -generative_outputs[\"px\"].log_prob(x).sum(-1)\n",
      "/Users/shivaramakrishna/Library/Python/3.9/lib/python/site-packages/scvi/module/_vae.py:458: UserWarning: The value argument must be within the support of the distribution\n",
      "  reconst_loss = -generative_outputs[\"px\"].log_prob(x).sum(-1)\n"
     ]
    },
    {
     "name": "stdout",
     "output_type": "stream",
     "text": [
      "Epoch 13/388:   3%|▎         | 12/388 [00:43<22:39,  3.62s/it, v_num=1, train_loss_step=281, train_loss_epoch=265]"
     ]
    },
    {
     "name": "stderr",
     "output_type": "stream",
     "text": [
      "/Users/shivaramakrishna/Library/Python/3.9/lib/python/site-packages/scvi/module/_vae.py:458: UserWarning: The value argument must be within the support of the distribution\n",
      "  reconst_loss = -generative_outputs[\"px\"].log_prob(x).sum(-1)\n",
      "/Users/shivaramakrishna/Library/Python/3.9/lib/python/site-packages/scvi/module/_vae.py:458: UserWarning: The value argument must be within the support of the distribution\n",
      "  reconst_loss = -generative_outputs[\"px\"].log_prob(x).sum(-1)\n"
     ]
    },
    {
     "name": "stdout",
     "output_type": "stream",
     "text": [
      "Epoch 14/388:   3%|▎         | 13/388 [00:46<22:30,  3.60s/it, v_num=1, train_loss_step=288, train_loss_epoch=263]"
     ]
    },
    {
     "name": "stderr",
     "output_type": "stream",
     "text": [
      "/Users/shivaramakrishna/Library/Python/3.9/lib/python/site-packages/scvi/module/_vae.py:458: UserWarning: The value argument must be within the support of the distribution\n",
      "  reconst_loss = -generative_outputs[\"px\"].log_prob(x).sum(-1)\n",
      "/Users/shivaramakrishna/Library/Python/3.9/lib/python/site-packages/scvi/module/_vae.py:458: UserWarning: The value argument must be within the support of the distribution\n",
      "  reconst_loss = -generative_outputs[\"px\"].log_prob(x).sum(-1)\n"
     ]
    },
    {
     "name": "stdout",
     "output_type": "stream",
     "text": [
      "Epoch 15/388:   4%|▎         | 14/388 [00:50<22:29,  3.61s/it, v_num=1, train_loss_step=249, train_loss_epoch=262]"
     ]
    },
    {
     "name": "stderr",
     "output_type": "stream",
     "text": [
      "/Users/shivaramakrishna/Library/Python/3.9/lib/python/site-packages/scvi/module/_vae.py:458: UserWarning: The value argument must be within the support of the distribution\n",
      "  reconst_loss = -generative_outputs[\"px\"].log_prob(x).sum(-1)\n",
      "/Users/shivaramakrishna/Library/Python/3.9/lib/python/site-packages/scvi/module/_vae.py:458: UserWarning: The value argument must be within the support of the distribution\n",
      "  reconst_loss = -generative_outputs[\"px\"].log_prob(x).sum(-1)\n"
     ]
    },
    {
     "name": "stdout",
     "output_type": "stream",
     "text": [
      "Epoch 16/388:   4%|▍         | 15/388 [00:54<22:23,  3.60s/it, v_num=1, train_loss_step=263, train_loss_epoch=261]"
     ]
    },
    {
     "name": "stderr",
     "output_type": "stream",
     "text": [
      "/Users/shivaramakrishna/Library/Python/3.9/lib/python/site-packages/scvi/module/_vae.py:458: UserWarning: The value argument must be within the support of the distribution\n",
      "  reconst_loss = -generative_outputs[\"px\"].log_prob(x).sum(-1)\n",
      "/Users/shivaramakrishna/Library/Python/3.9/lib/python/site-packages/scvi/module/_vae.py:458: UserWarning: The value argument must be within the support of the distribution\n",
      "  reconst_loss = -generative_outputs[\"px\"].log_prob(x).sum(-1)\n"
     ]
    },
    {
     "name": "stdout",
     "output_type": "stream",
     "text": [
      "Epoch 17/388:   4%|▍         | 16/388 [00:57<22:27,  3.62s/it, v_num=1, train_loss_step=298, train_loss_epoch=260]"
     ]
    },
    {
     "name": "stderr",
     "output_type": "stream",
     "text": [
      "/Users/shivaramakrishna/Library/Python/3.9/lib/python/site-packages/scvi/module/_vae.py:458: UserWarning: The value argument must be within the support of the distribution\n",
      "  reconst_loss = -generative_outputs[\"px\"].log_prob(x).sum(-1)\n",
      "/Users/shivaramakrishna/Library/Python/3.9/lib/python/site-packages/scvi/module/_vae.py:458: UserWarning: The value argument must be within the support of the distribution\n",
      "  reconst_loss = -generative_outputs[\"px\"].log_prob(x).sum(-1)\n"
     ]
    },
    {
     "name": "stdout",
     "output_type": "stream",
     "text": [
      "Epoch 18/388:   4%|▍         | 17/388 [01:01<22:25,  3.63s/it, v_num=1, train_loss_step=276, train_loss_epoch=259]"
     ]
    },
    {
     "name": "stderr",
     "output_type": "stream",
     "text": [
      "/Users/shivaramakrishna/Library/Python/3.9/lib/python/site-packages/scvi/module/_vae.py:458: UserWarning: The value argument must be within the support of the distribution\n",
      "  reconst_loss = -generative_outputs[\"px\"].log_prob(x).sum(-1)\n",
      "/Users/shivaramakrishna/Library/Python/3.9/lib/python/site-packages/scvi/module/_vae.py:458: UserWarning: The value argument must be within the support of the distribution\n",
      "  reconst_loss = -generative_outputs[\"px\"].log_prob(x).sum(-1)\n"
     ]
    },
    {
     "name": "stdout",
     "output_type": "stream",
     "text": [
      "Epoch 19/388:   5%|▍         | 18/388 [01:05<22:16,  3.61s/it, v_num=1, train_loss_step=255, train_loss_epoch=258]"
     ]
    },
    {
     "name": "stderr",
     "output_type": "stream",
     "text": [
      "/Users/shivaramakrishna/Library/Python/3.9/lib/python/site-packages/scvi/module/_vae.py:458: UserWarning: The value argument must be within the support of the distribution\n",
      "  reconst_loss = -generative_outputs[\"px\"].log_prob(x).sum(-1)\n",
      "/Users/shivaramakrishna/Library/Python/3.9/lib/python/site-packages/scvi/module/_vae.py:458: UserWarning: The value argument must be within the support of the distribution\n",
      "  reconst_loss = -generative_outputs[\"px\"].log_prob(x).sum(-1)\n"
     ]
    },
    {
     "name": "stdout",
     "output_type": "stream",
     "text": [
      "Epoch 20/388:   5%|▍         | 19/388 [01:08<22:08,  3.60s/it, v_num=1, train_loss_step=293, train_loss_epoch=257]"
     ]
    },
    {
     "name": "stderr",
     "output_type": "stream",
     "text": [
      "/Users/shivaramakrishna/Library/Python/3.9/lib/python/site-packages/scvi/module/_vae.py:458: UserWarning: The value argument must be within the support of the distribution\n",
      "  reconst_loss = -generative_outputs[\"px\"].log_prob(x).sum(-1)\n",
      "/Users/shivaramakrishna/Library/Python/3.9/lib/python/site-packages/scvi/module/_vae.py:458: UserWarning: The value argument must be within the support of the distribution\n",
      "  reconst_loss = -generative_outputs[\"px\"].log_prob(x).sum(-1)\n"
     ]
    },
    {
     "name": "stdout",
     "output_type": "stream",
     "text": [
      "Epoch 21/388:   5%|▌         | 20/388 [01:12<21:56,  3.58s/it, v_num=1, train_loss_step=244, train_loss_epoch=256]"
     ]
    },
    {
     "name": "stderr",
     "output_type": "stream",
     "text": [
      "/Users/shivaramakrishna/Library/Python/3.9/lib/python/site-packages/scvi/module/_vae.py:458: UserWarning: The value argument must be within the support of the distribution\n",
      "  reconst_loss = -generative_outputs[\"px\"].log_prob(x).sum(-1)\n",
      "/Users/shivaramakrishna/Library/Python/3.9/lib/python/site-packages/scvi/module/_vae.py:458: UserWarning: The value argument must be within the support of the distribution\n",
      "  reconst_loss = -generative_outputs[\"px\"].log_prob(x).sum(-1)\n"
     ]
    },
    {
     "name": "stdout",
     "output_type": "stream",
     "text": [
      "Epoch 22/388:   5%|▌         | 21/388 [01:15<21:44,  3.55s/it, v_num=1, train_loss_step=293, train_loss_epoch=255]"
     ]
    },
    {
     "name": "stderr",
     "output_type": "stream",
     "text": [
      "/Users/shivaramakrishna/Library/Python/3.9/lib/python/site-packages/scvi/module/_vae.py:458: UserWarning: The value argument must be within the support of the distribution\n",
      "  reconst_loss = -generative_outputs[\"px\"].log_prob(x).sum(-1)\n",
      "/Users/shivaramakrishna/Library/Python/3.9/lib/python/site-packages/scvi/module/_vae.py:458: UserWarning: The value argument must be within the support of the distribution\n",
      "  reconst_loss = -generative_outputs[\"px\"].log_prob(x).sum(-1)\n"
     ]
    },
    {
     "name": "stdout",
     "output_type": "stream",
     "text": [
      "Epoch 23/388:   6%|▌         | 22/388 [01:19<21:46,  3.57s/it, v_num=1, train_loss_step=287, train_loss_epoch=255]"
     ]
    },
    {
     "name": "stderr",
     "output_type": "stream",
     "text": [
      "/Users/shivaramakrishna/Library/Python/3.9/lib/python/site-packages/scvi/module/_vae.py:458: UserWarning: The value argument must be within the support of the distribution\n",
      "  reconst_loss = -generative_outputs[\"px\"].log_prob(x).sum(-1)\n",
      "/Users/shivaramakrishna/Library/Python/3.9/lib/python/site-packages/scvi/module/_vae.py:458: UserWarning: The value argument must be within the support of the distribution\n",
      "  reconst_loss = -generative_outputs[\"px\"].log_prob(x).sum(-1)\n"
     ]
    },
    {
     "name": "stdout",
     "output_type": "stream",
     "text": [
      "Epoch 24/388:   6%|▌         | 23/388 [01:22<21:40,  3.56s/it, v_num=1, train_loss_step=297, train_loss_epoch=254]"
     ]
    },
    {
     "name": "stderr",
     "output_type": "stream",
     "text": [
      "/Users/shivaramakrishna/Library/Python/3.9/lib/python/site-packages/scvi/module/_vae.py:458: UserWarning: The value argument must be within the support of the distribution\n",
      "  reconst_loss = -generative_outputs[\"px\"].log_prob(x).sum(-1)\n",
      "/Users/shivaramakrishna/Library/Python/3.9/lib/python/site-packages/scvi/module/_vae.py:458: UserWarning: The value argument must be within the support of the distribution\n",
      "  reconst_loss = -generative_outputs[\"px\"].log_prob(x).sum(-1)\n"
     ]
    },
    {
     "name": "stdout",
     "output_type": "stream",
     "text": [
      "Epoch 25/388:   6%|▌         | 24/388 [01:26<22:06,  3.64s/it, v_num=1, train_loss_step=251, train_loss_epoch=253]"
     ]
    },
    {
     "name": "stderr",
     "output_type": "stream",
     "text": [
      "/Users/shivaramakrishna/Library/Python/3.9/lib/python/site-packages/scvi/module/_vae.py:458: UserWarning: The value argument must be within the support of the distribution\n",
      "  reconst_loss = -generative_outputs[\"px\"].log_prob(x).sum(-1)\n",
      "/Users/shivaramakrishna/Library/Python/3.9/lib/python/site-packages/scvi/module/_vae.py:458: UserWarning: The value argument must be within the support of the distribution\n",
      "  reconst_loss = -generative_outputs[\"px\"].log_prob(x).sum(-1)\n"
     ]
    },
    {
     "name": "stdout",
     "output_type": "stream",
     "text": [
      "Epoch 26/388:   6%|▋         | 25/388 [01:30<22:02,  3.64s/it, v_num=1, train_loss_step=247, train_loss_epoch=253]"
     ]
    },
    {
     "name": "stderr",
     "output_type": "stream",
     "text": [
      "/Users/shivaramakrishna/Library/Python/3.9/lib/python/site-packages/scvi/module/_vae.py:458: UserWarning: The value argument must be within the support of the distribution\n",
      "  reconst_loss = -generative_outputs[\"px\"].log_prob(x).sum(-1)\n",
      "/Users/shivaramakrishna/Library/Python/3.9/lib/python/site-packages/scvi/module/_vae.py:458: UserWarning: The value argument must be within the support of the distribution\n",
      "  reconst_loss = -generative_outputs[\"px\"].log_prob(x).sum(-1)\n"
     ]
    },
    {
     "name": "stdout",
     "output_type": "stream",
     "text": [
      "Epoch 27/388:   7%|▋         | 26/388 [01:33<21:49,  3.62s/it, v_num=1, train_loss_step=284, train_loss_epoch=252]"
     ]
    },
    {
     "name": "stderr",
     "output_type": "stream",
     "text": [
      "/Users/shivaramakrishna/Library/Python/3.9/lib/python/site-packages/scvi/module/_vae.py:458: UserWarning: The value argument must be within the support of the distribution\n",
      "  reconst_loss = -generative_outputs[\"px\"].log_prob(x).sum(-1)\n",
      "/Users/shivaramakrishna/Library/Python/3.9/lib/python/site-packages/scvi/module/_vae.py:458: UserWarning: The value argument must be within the support of the distribution\n",
      "  reconst_loss = -generative_outputs[\"px\"].log_prob(x).sum(-1)\n"
     ]
    },
    {
     "name": "stdout",
     "output_type": "stream",
     "text": [
      "Epoch 28/388:   7%|▋         | 27/388 [01:37<21:40,  3.60s/it, v_num=1, train_loss_step=262, train_loss_epoch=252]"
     ]
    },
    {
     "name": "stderr",
     "output_type": "stream",
     "text": [
      "/Users/shivaramakrishna/Library/Python/3.9/lib/python/site-packages/scvi/module/_vae.py:458: UserWarning: The value argument must be within the support of the distribution\n",
      "  reconst_loss = -generative_outputs[\"px\"].log_prob(x).sum(-1)\n",
      "/Users/shivaramakrishna/Library/Python/3.9/lib/python/site-packages/scvi/module/_vae.py:458: UserWarning: The value argument must be within the support of the distribution\n",
      "  reconst_loss = -generative_outputs[\"px\"].log_prob(x).sum(-1)\n"
     ]
    },
    {
     "name": "stdout",
     "output_type": "stream",
     "text": [
      "Epoch 29/388:   7%|▋         | 28/388 [01:40<21:38,  3.61s/it, v_num=1, train_loss_step=235, train_loss_epoch=251]"
     ]
    },
    {
     "name": "stderr",
     "output_type": "stream",
     "text": [
      "/Users/shivaramakrishna/Library/Python/3.9/lib/python/site-packages/scvi/module/_vae.py:458: UserWarning: The value argument must be within the support of the distribution\n",
      "  reconst_loss = -generative_outputs[\"px\"].log_prob(x).sum(-1)\n",
      "/Users/shivaramakrishna/Library/Python/3.9/lib/python/site-packages/scvi/module/_vae.py:458: UserWarning: The value argument must be within the support of the distribution\n",
      "  reconst_loss = -generative_outputs[\"px\"].log_prob(x).sum(-1)\n"
     ]
    },
    {
     "name": "stdout",
     "output_type": "stream",
     "text": [
      "Epoch 30/388:   7%|▋         | 29/388 [01:44<21:37,  3.61s/it, v_num=1, train_loss_step=271, train_loss_epoch=251]"
     ]
    },
    {
     "name": "stderr",
     "output_type": "stream",
     "text": [
      "/Users/shivaramakrishna/Library/Python/3.9/lib/python/site-packages/scvi/module/_vae.py:458: UserWarning: The value argument must be within the support of the distribution\n",
      "  reconst_loss = -generative_outputs[\"px\"].log_prob(x).sum(-1)\n",
      "/Users/shivaramakrishna/Library/Python/3.9/lib/python/site-packages/scvi/module/_vae.py:458: UserWarning: The value argument must be within the support of the distribution\n",
      "  reconst_loss = -generative_outputs[\"px\"].log_prob(x).sum(-1)\n"
     ]
    },
    {
     "name": "stdout",
     "output_type": "stream",
     "text": [
      "Epoch 31/388:   8%|▊         | 30/388 [01:48<21:40,  3.63s/it, v_num=1, train_loss_step=287, train_loss_epoch=250]"
     ]
    },
    {
     "name": "stderr",
     "output_type": "stream",
     "text": [
      "/Users/shivaramakrishna/Library/Python/3.9/lib/python/site-packages/scvi/module/_vae.py:458: UserWarning: The value argument must be within the support of the distribution\n",
      "  reconst_loss = -generative_outputs[\"px\"].log_prob(x).sum(-1)\n",
      "/Users/shivaramakrishna/Library/Python/3.9/lib/python/site-packages/scvi/module/_vae.py:458: UserWarning: The value argument must be within the support of the distribution\n",
      "  reconst_loss = -generative_outputs[\"px\"].log_prob(x).sum(-1)\n"
     ]
    },
    {
     "name": "stdout",
     "output_type": "stream",
     "text": [
      "Epoch 32/388:   8%|▊         | 31/388 [01:51<21:40,  3.64s/it, v_num=1, train_loss_step=300, train_loss_epoch=250]"
     ]
    },
    {
     "name": "stderr",
     "output_type": "stream",
     "text": [
      "/Users/shivaramakrishna/Library/Python/3.9/lib/python/site-packages/scvi/module/_vae.py:458: UserWarning: The value argument must be within the support of the distribution\n",
      "  reconst_loss = -generative_outputs[\"px\"].log_prob(x).sum(-1)\n",
      "/Users/shivaramakrishna/Library/Python/3.9/lib/python/site-packages/scvi/module/_vae.py:458: UserWarning: The value argument must be within the support of the distribution\n",
      "  reconst_loss = -generative_outputs[\"px\"].log_prob(x).sum(-1)\n"
     ]
    },
    {
     "name": "stdout",
     "output_type": "stream",
     "text": [
      "Epoch 33/388:   8%|▊         | 32/388 [01:55<21:40,  3.65s/it, v_num=1, train_loss_step=305, train_loss_epoch=250]"
     ]
    },
    {
     "name": "stderr",
     "output_type": "stream",
     "text": [
      "/Users/shivaramakrishna/Library/Python/3.9/lib/python/site-packages/scvi/module/_vae.py:458: UserWarning: The value argument must be within the support of the distribution\n",
      "  reconst_loss = -generative_outputs[\"px\"].log_prob(x).sum(-1)\n",
      "/Users/shivaramakrishna/Library/Python/3.9/lib/python/site-packages/scvi/module/_vae.py:458: UserWarning: The value argument must be within the support of the distribution\n",
      "  reconst_loss = -generative_outputs[\"px\"].log_prob(x).sum(-1)\n"
     ]
    },
    {
     "name": "stdout",
     "output_type": "stream",
     "text": [
      "Epoch 34/388:   9%|▊         | 33/388 [01:59<21:31,  3.64s/it, v_num=1, train_loss_step=293, train_loss_epoch=250]"
     ]
    },
    {
     "name": "stderr",
     "output_type": "stream",
     "text": [
      "/Users/shivaramakrishna/Library/Python/3.9/lib/python/site-packages/scvi/module/_vae.py:458: UserWarning: The value argument must be within the support of the distribution\n",
      "  reconst_loss = -generative_outputs[\"px\"].log_prob(x).sum(-1)\n",
      "/Users/shivaramakrishna/Library/Python/3.9/lib/python/site-packages/scvi/module/_vae.py:458: UserWarning: The value argument must be within the support of the distribution\n",
      "  reconst_loss = -generative_outputs[\"px\"].log_prob(x).sum(-1)\n"
     ]
    },
    {
     "name": "stdout",
     "output_type": "stream",
     "text": [
      "Epoch 35/388:   9%|▉         | 34/388 [02:02<21:33,  3.65s/it, v_num=1, train_loss_step=320, train_loss_epoch=249]"
     ]
    },
    {
     "name": "stderr",
     "output_type": "stream",
     "text": [
      "/Users/shivaramakrishna/Library/Python/3.9/lib/python/site-packages/scvi/module/_vae.py:458: UserWarning: The value argument must be within the support of the distribution\n",
      "  reconst_loss = -generative_outputs[\"px\"].log_prob(x).sum(-1)\n",
      "/Users/shivaramakrishna/Library/Python/3.9/lib/python/site-packages/scvi/module/_vae.py:458: UserWarning: The value argument must be within the support of the distribution\n",
      "  reconst_loss = -generative_outputs[\"px\"].log_prob(x).sum(-1)\n"
     ]
    },
    {
     "name": "stdout",
     "output_type": "stream",
     "text": [
      "Epoch 36/388:   9%|▉         | 35/388 [02:06<21:27,  3.65s/it, v_num=1, train_loss_step=259, train_loss_epoch=249]"
     ]
    },
    {
     "name": "stderr",
     "output_type": "stream",
     "text": [
      "/Users/shivaramakrishna/Library/Python/3.9/lib/python/site-packages/scvi/module/_vae.py:458: UserWarning: The value argument must be within the support of the distribution\n",
      "  reconst_loss = -generative_outputs[\"px\"].log_prob(x).sum(-1)\n",
      "/Users/shivaramakrishna/Library/Python/3.9/lib/python/site-packages/scvi/module/_vae.py:458: UserWarning: The value argument must be within the support of the distribution\n",
      "  reconst_loss = -generative_outputs[\"px\"].log_prob(x).sum(-1)\n"
     ]
    },
    {
     "name": "stdout",
     "output_type": "stream",
     "text": [
      "Epoch 37/388:   9%|▉         | 36/388 [02:10<21:20,  3.64s/it, v_num=1, train_loss_step=237, train_loss_epoch=249]"
     ]
    },
    {
     "name": "stderr",
     "output_type": "stream",
     "text": [
      "/Users/shivaramakrishna/Library/Python/3.9/lib/python/site-packages/scvi/module/_vae.py:458: UserWarning: The value argument must be within the support of the distribution\n",
      "  reconst_loss = -generative_outputs[\"px\"].log_prob(x).sum(-1)\n",
      "/Users/shivaramakrishna/Library/Python/3.9/lib/python/site-packages/scvi/module/_vae.py:458: UserWarning: The value argument must be within the support of the distribution\n",
      "  reconst_loss = -generative_outputs[\"px\"].log_prob(x).sum(-1)\n"
     ]
    },
    {
     "name": "stdout",
     "output_type": "stream",
     "text": [
      "Epoch 38/388:  10%|▉         | 37/388 [02:13<21:21,  3.65s/it, v_num=1, train_loss_step=296, train_loss_epoch=248]"
     ]
    },
    {
     "name": "stderr",
     "output_type": "stream",
     "text": [
      "/Users/shivaramakrishna/Library/Python/3.9/lib/python/site-packages/scvi/module/_vae.py:458: UserWarning: The value argument must be within the support of the distribution\n",
      "  reconst_loss = -generative_outputs[\"px\"].log_prob(x).sum(-1)\n",
      "/Users/shivaramakrishna/Library/Python/3.9/lib/python/site-packages/scvi/module/_vae.py:458: UserWarning: The value argument must be within the support of the distribution\n",
      "  reconst_loss = -generative_outputs[\"px\"].log_prob(x).sum(-1)\n"
     ]
    },
    {
     "name": "stdout",
     "output_type": "stream",
     "text": [
      "Epoch 39/388:  10%|▉         | 38/388 [02:17<21:19,  3.65s/it, v_num=1, train_loss_step=227, train_loss_epoch=248]"
     ]
    },
    {
     "name": "stderr",
     "output_type": "stream",
     "text": [
      "/Users/shivaramakrishna/Library/Python/3.9/lib/python/site-packages/scvi/module/_vae.py:458: UserWarning: The value argument must be within the support of the distribution\n",
      "  reconst_loss = -generative_outputs[\"px\"].log_prob(x).sum(-1)\n",
      "/Users/shivaramakrishna/Library/Python/3.9/lib/python/site-packages/scvi/module/_vae.py:458: UserWarning: The value argument must be within the support of the distribution\n",
      "  reconst_loss = -generative_outputs[\"px\"].log_prob(x).sum(-1)\n"
     ]
    },
    {
     "name": "stdout",
     "output_type": "stream",
     "text": [
      "Epoch 40/388:  10%|█         | 39/388 [02:20<20:54,  3.60s/it, v_num=1, train_loss_step=227, train_loss_epoch=248]"
     ]
    },
    {
     "name": "stderr",
     "output_type": "stream",
     "text": [
      "/Users/shivaramakrishna/Library/Python/3.9/lib/python/site-packages/scvi/module/_vae.py:458: UserWarning: The value argument must be within the support of the distribution\n",
      "  reconst_loss = -generative_outputs[\"px\"].log_prob(x).sum(-1)\n",
      "/Users/shivaramakrishna/Library/Python/3.9/lib/python/site-packages/scvi/module/_vae.py:458: UserWarning: The value argument must be within the support of the distribution\n",
      "  reconst_loss = -generative_outputs[\"px\"].log_prob(x).sum(-1)\n"
     ]
    },
    {
     "name": "stdout",
     "output_type": "stream",
     "text": [
      "Epoch 41/388:  10%|█         | 40/388 [02:24<20:12,  3.48s/it, v_num=1, train_loss_step=293, train_loss_epoch=248]"
     ]
    },
    {
     "name": "stderr",
     "output_type": "stream",
     "text": [
      "/Users/shivaramakrishna/Library/Python/3.9/lib/python/site-packages/scvi/module/_vae.py:458: UserWarning: The value argument must be within the support of the distribution\n",
      "  reconst_loss = -generative_outputs[\"px\"].log_prob(x).sum(-1)\n",
      "/Users/shivaramakrishna/Library/Python/3.9/lib/python/site-packages/scvi/module/_vae.py:458: UserWarning: The value argument must be within the support of the distribution\n",
      "  reconst_loss = -generative_outputs[\"px\"].log_prob(x).sum(-1)\n"
     ]
    },
    {
     "name": "stdout",
     "output_type": "stream",
     "text": [
      "Epoch 42/388:  11%|█         | 41/388 [02:27<20:18,  3.51s/it, v_num=1, train_loss_step=263, train_loss_epoch=248]"
     ]
    },
    {
     "name": "stderr",
     "output_type": "stream",
     "text": [
      "/Users/shivaramakrishna/Library/Python/3.9/lib/python/site-packages/scvi/module/_vae.py:458: UserWarning: The value argument must be within the support of the distribution\n",
      "  reconst_loss = -generative_outputs[\"px\"].log_prob(x).sum(-1)\n",
      "/Users/shivaramakrishna/Library/Python/3.9/lib/python/site-packages/scvi/module/_vae.py:458: UserWarning: The value argument must be within the support of the distribution\n",
      "  reconst_loss = -generative_outputs[\"px\"].log_prob(x).sum(-1)\n"
     ]
    },
    {
     "name": "stdout",
     "output_type": "stream",
     "text": [
      "Epoch 43/388:  11%|█         | 42/388 [02:30<19:15,  3.34s/it, v_num=1, train_loss_step=251, train_loss_epoch=247]"
     ]
    },
    {
     "name": "stderr",
     "output_type": "stream",
     "text": [
      "/Users/shivaramakrishna/Library/Python/3.9/lib/python/site-packages/scvi/module/_vae.py:458: UserWarning: The value argument must be within the support of the distribution\n",
      "  reconst_loss = -generative_outputs[\"px\"].log_prob(x).sum(-1)\n",
      "/Users/shivaramakrishna/Library/Python/3.9/lib/python/site-packages/scvi/module/_vae.py:458: UserWarning: The value argument must be within the support of the distribution\n",
      "  reconst_loss = -generative_outputs[\"px\"].log_prob(x).sum(-1)\n"
     ]
    },
    {
     "name": "stdout",
     "output_type": "stream",
     "text": [
      "Epoch 44/388:  11%|█         | 43/388 [02:33<18:46,  3.27s/it, v_num=1, train_loss_step=303, train_loss_epoch=247]"
     ]
    },
    {
     "name": "stderr",
     "output_type": "stream",
     "text": [
      "/Users/shivaramakrishna/Library/Python/3.9/lib/python/site-packages/scvi/module/_vae.py:458: UserWarning: The value argument must be within the support of the distribution\n",
      "  reconst_loss = -generative_outputs[\"px\"].log_prob(x).sum(-1)\n",
      "/Users/shivaramakrishna/Library/Python/3.9/lib/python/site-packages/scvi/module/_vae.py:458: UserWarning: The value argument must be within the support of the distribution\n",
      "  reconst_loss = -generative_outputs[\"px\"].log_prob(x).sum(-1)\n"
     ]
    },
    {
     "name": "stdout",
     "output_type": "stream",
     "text": [
      "Epoch 45/388:  11%|█▏        | 44/388 [02:37<18:39,  3.25s/it, v_num=1, train_loss_step=305, train_loss_epoch=247]"
     ]
    },
    {
     "name": "stderr",
     "output_type": "stream",
     "text": [
      "/Users/shivaramakrishna/Library/Python/3.9/lib/python/site-packages/scvi/module/_vae.py:458: UserWarning: The value argument must be within the support of the distribution\n",
      "  reconst_loss = -generative_outputs[\"px\"].log_prob(x).sum(-1)\n",
      "/Users/shivaramakrishna/Library/Python/3.9/lib/python/site-packages/scvi/module/_vae.py:458: UserWarning: The value argument must be within the support of the distribution\n",
      "  reconst_loss = -generative_outputs[\"px\"].log_prob(x).sum(-1)\n"
     ]
    },
    {
     "name": "stdout",
     "output_type": "stream",
     "text": [
      "Epoch 46/388:  12%|█▏        | 45/388 [02:40<18:29,  3.23s/it, v_num=1, train_loss_step=237, train_loss_epoch=247]"
     ]
    },
    {
     "name": "stderr",
     "output_type": "stream",
     "text": [
      "/Users/shivaramakrishna/Library/Python/3.9/lib/python/site-packages/scvi/module/_vae.py:458: UserWarning: The value argument must be within the support of the distribution\n",
      "  reconst_loss = -generative_outputs[\"px\"].log_prob(x).sum(-1)\n",
      "/Users/shivaramakrishna/Library/Python/3.9/lib/python/site-packages/scvi/module/_vae.py:458: UserWarning: The value argument must be within the support of the distribution\n",
      "  reconst_loss = -generative_outputs[\"px\"].log_prob(x).sum(-1)\n"
     ]
    },
    {
     "name": "stdout",
     "output_type": "stream",
     "text": [
      "Epoch 47/388:  12%|█▏        | 46/388 [02:43<18:26,  3.23s/it, v_num=1, train_loss_step=270, train_loss_epoch=247]"
     ]
    },
    {
     "name": "stderr",
     "output_type": "stream",
     "text": [
      "/Users/shivaramakrishna/Library/Python/3.9/lib/python/site-packages/scvi/module/_vae.py:458: UserWarning: The value argument must be within the support of the distribution\n",
      "  reconst_loss = -generative_outputs[\"px\"].log_prob(x).sum(-1)\n",
      "/Users/shivaramakrishna/Library/Python/3.9/lib/python/site-packages/scvi/module/_vae.py:458: UserWarning: The value argument must be within the support of the distribution\n",
      "  reconst_loss = -generative_outputs[\"px\"].log_prob(x).sum(-1)\n"
     ]
    },
    {
     "name": "stdout",
     "output_type": "stream",
     "text": [
      "Epoch 48/388:  12%|█▏        | 47/388 [02:46<18:21,  3.23s/it, v_num=1, train_loss_step=284, train_loss_epoch=247]"
     ]
    },
    {
     "name": "stderr",
     "output_type": "stream",
     "text": [
      "/Users/shivaramakrishna/Library/Python/3.9/lib/python/site-packages/scvi/module/_vae.py:458: UserWarning: The value argument must be within the support of the distribution\n",
      "  reconst_loss = -generative_outputs[\"px\"].log_prob(x).sum(-1)\n",
      "/Users/shivaramakrishna/Library/Python/3.9/lib/python/site-packages/scvi/module/_vae.py:458: UserWarning: The value argument must be within the support of the distribution\n",
      "  reconst_loss = -generative_outputs[\"px\"].log_prob(x).sum(-1)\n"
     ]
    },
    {
     "name": "stdout",
     "output_type": "stream",
     "text": [
      "Epoch 49/388:  12%|█▏        | 48/388 [02:49<18:18,  3.23s/it, v_num=1, train_loss_step=236, train_loss_epoch=247]"
     ]
    },
    {
     "name": "stderr",
     "output_type": "stream",
     "text": [
      "/Users/shivaramakrishna/Library/Python/3.9/lib/python/site-packages/scvi/module/_vae.py:458: UserWarning: The value argument must be within the support of the distribution\n",
      "  reconst_loss = -generative_outputs[\"px\"].log_prob(x).sum(-1)\n",
      "/Users/shivaramakrishna/Library/Python/3.9/lib/python/site-packages/scvi/module/_vae.py:458: UserWarning: The value argument must be within the support of the distribution\n",
      "  reconst_loss = -generative_outputs[\"px\"].log_prob(x).sum(-1)\n"
     ]
    },
    {
     "name": "stdout",
     "output_type": "stream",
     "text": [
      "Epoch 50/388:  13%|█▎        | 49/388 [02:53<18:04,  3.20s/it, v_num=1, train_loss_step=292, train_loss_epoch=246]"
     ]
    },
    {
     "name": "stderr",
     "output_type": "stream",
     "text": [
      "/Users/shivaramakrishna/Library/Python/3.9/lib/python/site-packages/scvi/module/_vae.py:458: UserWarning: The value argument must be within the support of the distribution\n",
      "  reconst_loss = -generative_outputs[\"px\"].log_prob(x).sum(-1)\n",
      "/Users/shivaramakrishna/Library/Python/3.9/lib/python/site-packages/scvi/module/_vae.py:458: UserWarning: The value argument must be within the support of the distribution\n",
      "  reconst_loss = -generative_outputs[\"px\"].log_prob(x).sum(-1)\n"
     ]
    },
    {
     "name": "stdout",
     "output_type": "stream",
     "text": [
      "Epoch 51/388:  13%|█▎        | 50/388 [02:56<18:04,  3.21s/it, v_num=1, train_loss_step=231, train_loss_epoch=246]"
     ]
    },
    {
     "name": "stderr",
     "output_type": "stream",
     "text": [
      "/Users/shivaramakrishna/Library/Python/3.9/lib/python/site-packages/scvi/module/_vae.py:458: UserWarning: The value argument must be within the support of the distribution\n",
      "  reconst_loss = -generative_outputs[\"px\"].log_prob(x).sum(-1)\n",
      "/Users/shivaramakrishna/Library/Python/3.9/lib/python/site-packages/scvi/module/_vae.py:458: UserWarning: The value argument must be within the support of the distribution\n",
      "  reconst_loss = -generative_outputs[\"px\"].log_prob(x).sum(-1)\n"
     ]
    },
    {
     "name": "stdout",
     "output_type": "stream",
     "text": [
      "Epoch 52/388:  13%|█▎        | 51/388 [02:59<17:59,  3.20s/it, v_num=1, train_loss_step=273, train_loss_epoch=246]"
     ]
    },
    {
     "name": "stderr",
     "output_type": "stream",
     "text": [
      "/Users/shivaramakrishna/Library/Python/3.9/lib/python/site-packages/scvi/module/_vae.py:458: UserWarning: The value argument must be within the support of the distribution\n",
      "  reconst_loss = -generative_outputs[\"px\"].log_prob(x).sum(-1)\n",
      "/Users/shivaramakrishna/Library/Python/3.9/lib/python/site-packages/scvi/module/_vae.py:458: UserWarning: The value argument must be within the support of the distribution\n",
      "  reconst_loss = -generative_outputs[\"px\"].log_prob(x).sum(-1)\n"
     ]
    },
    {
     "name": "stdout",
     "output_type": "stream",
     "text": [
      "Epoch 53/388:  13%|█▎        | 52/388 [03:02<17:40,  3.16s/it, v_num=1, train_loss_step=271, train_loss_epoch=246]"
     ]
    },
    {
     "name": "stderr",
     "output_type": "stream",
     "text": [
      "/Users/shivaramakrishna/Library/Python/3.9/lib/python/site-packages/scvi/module/_vae.py:458: UserWarning: The value argument must be within the support of the distribution\n",
      "  reconst_loss = -generative_outputs[\"px\"].log_prob(x).sum(-1)\n",
      "/Users/shivaramakrishna/Library/Python/3.9/lib/python/site-packages/scvi/module/_vae.py:458: UserWarning: The value argument must be within the support of the distribution\n",
      "  reconst_loss = -generative_outputs[\"px\"].log_prob(x).sum(-1)\n"
     ]
    },
    {
     "name": "stdout",
     "output_type": "stream",
     "text": [
      "Epoch 54/388:  14%|█▎        | 53/388 [03:05<16:58,  3.04s/it, v_num=1, train_loss_step=254, train_loss_epoch=246]"
     ]
    },
    {
     "name": "stderr",
     "output_type": "stream",
     "text": [
      "/Users/shivaramakrishna/Library/Python/3.9/lib/python/site-packages/scvi/module/_vae.py:458: UserWarning: The value argument must be within the support of the distribution\n",
      "  reconst_loss = -generative_outputs[\"px\"].log_prob(x).sum(-1)\n",
      "/Users/shivaramakrishna/Library/Python/3.9/lib/python/site-packages/scvi/module/_vae.py:458: UserWarning: The value argument must be within the support of the distribution\n",
      "  reconst_loss = -generative_outputs[\"px\"].log_prob(x).sum(-1)\n"
     ]
    },
    {
     "name": "stdout",
     "output_type": "stream",
     "text": [
      "Epoch 55/388:  14%|█▍        | 54/388 [03:08<16:40,  2.99s/it, v_num=1, train_loss_step=274, train_loss_epoch=246]"
     ]
    },
    {
     "name": "stderr",
     "output_type": "stream",
     "text": [
      "/Users/shivaramakrishna/Library/Python/3.9/lib/python/site-packages/scvi/module/_vae.py:458: UserWarning: The value argument must be within the support of the distribution\n",
      "  reconst_loss = -generative_outputs[\"px\"].log_prob(x).sum(-1)\n",
      "/Users/shivaramakrishna/Library/Python/3.9/lib/python/site-packages/scvi/module/_vae.py:458: UserWarning: The value argument must be within the support of the distribution\n",
      "  reconst_loss = -generative_outputs[\"px\"].log_prob(x).sum(-1)\n"
     ]
    },
    {
     "name": "stdout",
     "output_type": "stream",
     "text": [
      "Epoch 56/388:  14%|█▍        | 55/388 [03:10<16:11,  2.92s/it, v_num=1, train_loss_step=229, train_loss_epoch=246]"
     ]
    },
    {
     "name": "stderr",
     "output_type": "stream",
     "text": [
      "/Users/shivaramakrishna/Library/Python/3.9/lib/python/site-packages/scvi/module/_vae.py:458: UserWarning: The value argument must be within the support of the distribution\n",
      "  reconst_loss = -generative_outputs[\"px\"].log_prob(x).sum(-1)\n",
      "/Users/shivaramakrishna/Library/Python/3.9/lib/python/site-packages/scvi/module/_vae.py:458: UserWarning: The value argument must be within the support of the distribution\n",
      "  reconst_loss = -generative_outputs[\"px\"].log_prob(x).sum(-1)\n"
     ]
    },
    {
     "name": "stdout",
     "output_type": "stream",
     "text": [
      "Epoch 57/388:  14%|█▍        | 56/388 [03:13<15:51,  2.87s/it, v_num=1, train_loss_step=262, train_loss_epoch=246]"
     ]
    },
    {
     "name": "stderr",
     "output_type": "stream",
     "text": [
      "/Users/shivaramakrishna/Library/Python/3.9/lib/python/site-packages/scvi/module/_vae.py:458: UserWarning: The value argument must be within the support of the distribution\n",
      "  reconst_loss = -generative_outputs[\"px\"].log_prob(x).sum(-1)\n",
      "/Users/shivaramakrishna/Library/Python/3.9/lib/python/site-packages/scvi/module/_vae.py:458: UserWarning: The value argument must be within the support of the distribution\n",
      "  reconst_loss = -generative_outputs[\"px\"].log_prob(x).sum(-1)\n"
     ]
    },
    {
     "name": "stdout",
     "output_type": "stream",
     "text": [
      "Epoch 58/388:  15%|█▍        | 57/388 [03:16<15:38,  2.84s/it, v_num=1, train_loss_step=289, train_loss_epoch=246]"
     ]
    },
    {
     "name": "stderr",
     "output_type": "stream",
     "text": [
      "/Users/shivaramakrishna/Library/Python/3.9/lib/python/site-packages/scvi/module/_vae.py:458: UserWarning: The value argument must be within the support of the distribution\n",
      "  reconst_loss = -generative_outputs[\"px\"].log_prob(x).sum(-1)\n",
      "/Users/shivaramakrishna/Library/Python/3.9/lib/python/site-packages/scvi/module/_vae.py:458: UserWarning: The value argument must be within the support of the distribution\n",
      "  reconst_loss = -generative_outputs[\"px\"].log_prob(x).sum(-1)\n"
     ]
    },
    {
     "name": "stdout",
     "output_type": "stream",
     "text": [
      "Epoch 59/388:  15%|█▍        | 58/388 [03:19<15:30,  2.82s/it, v_num=1, train_loss_step=256, train_loss_epoch=246]"
     ]
    },
    {
     "name": "stderr",
     "output_type": "stream",
     "text": [
      "/Users/shivaramakrishna/Library/Python/3.9/lib/python/site-packages/scvi/module/_vae.py:458: UserWarning: The value argument must be within the support of the distribution\n",
      "  reconst_loss = -generative_outputs[\"px\"].log_prob(x).sum(-1)\n",
      "/Users/shivaramakrishna/Library/Python/3.9/lib/python/site-packages/scvi/module/_vae.py:458: UserWarning: The value argument must be within the support of the distribution\n",
      "  reconst_loss = -generative_outputs[\"px\"].log_prob(x).sum(-1)\n"
     ]
    },
    {
     "name": "stdout",
     "output_type": "stream",
     "text": [
      "Epoch 60/388:  15%|█▌        | 59/388 [03:22<16:10,  2.95s/it, v_num=1, train_loss_step=241, train_loss_epoch=246]"
     ]
    },
    {
     "name": "stderr",
     "output_type": "stream",
     "text": [
      "/Users/shivaramakrishna/Library/Python/3.9/lib/python/site-packages/scvi/module/_vae.py:458: UserWarning: The value argument must be within the support of the distribution\n",
      "  reconst_loss = -generative_outputs[\"px\"].log_prob(x).sum(-1)\n",
      "/Users/shivaramakrishna/Library/Python/3.9/lib/python/site-packages/scvi/module/_vae.py:458: UserWarning: The value argument must be within the support of the distribution\n",
      "  reconst_loss = -generative_outputs[\"px\"].log_prob(x).sum(-1)\n"
     ]
    },
    {
     "name": "stdout",
     "output_type": "stream",
     "text": [
      "Epoch 61/388:  15%|█▌        | 60/388 [03:25<16:33,  3.03s/it, v_num=1, train_loss_step=257, train_loss_epoch=246]"
     ]
    },
    {
     "name": "stderr",
     "output_type": "stream",
     "text": [
      "/Users/shivaramakrishna/Library/Python/3.9/lib/python/site-packages/scvi/module/_vae.py:458: UserWarning: The value argument must be within the support of the distribution\n",
      "  reconst_loss = -generative_outputs[\"px\"].log_prob(x).sum(-1)\n",
      "/Users/shivaramakrishna/Library/Python/3.9/lib/python/site-packages/scvi/module/_vae.py:458: UserWarning: The value argument must be within the support of the distribution\n",
      "  reconst_loss = -generative_outputs[\"px\"].log_prob(x).sum(-1)\n"
     ]
    },
    {
     "name": "stdout",
     "output_type": "stream",
     "text": [
      "Epoch 62/388:  16%|█▌        | 61/388 [03:28<16:09,  2.97s/it, v_num=1, train_loss_step=232, train_loss_epoch=246]"
     ]
    },
    {
     "name": "stderr",
     "output_type": "stream",
     "text": [
      "/Users/shivaramakrishna/Library/Python/3.9/lib/python/site-packages/scvi/module/_vae.py:458: UserWarning: The value argument must be within the support of the distribution\n",
      "  reconst_loss = -generative_outputs[\"px\"].log_prob(x).sum(-1)\n",
      "/Users/shivaramakrishna/Library/Python/3.9/lib/python/site-packages/scvi/module/_vae.py:458: UserWarning: The value argument must be within the support of the distribution\n",
      "  reconst_loss = -generative_outputs[\"px\"].log_prob(x).sum(-1)\n"
     ]
    },
    {
     "name": "stdout",
     "output_type": "stream",
     "text": [
      "Epoch 63/388:  16%|█▌        | 62/388 [03:31<15:47,  2.91s/it, v_num=1, train_loss_step=276, train_loss_epoch=245]"
     ]
    },
    {
     "name": "stderr",
     "output_type": "stream",
     "text": [
      "/Users/shivaramakrishna/Library/Python/3.9/lib/python/site-packages/scvi/module/_vae.py:458: UserWarning: The value argument must be within the support of the distribution\n",
      "  reconst_loss = -generative_outputs[\"px\"].log_prob(x).sum(-1)\n",
      "/Users/shivaramakrishna/Library/Python/3.9/lib/python/site-packages/scvi/module/_vae.py:458: UserWarning: The value argument must be within the support of the distribution\n",
      "  reconst_loss = -generative_outputs[\"px\"].log_prob(x).sum(-1)\n"
     ]
    },
    {
     "name": "stdout",
     "output_type": "stream",
     "text": [
      "Epoch 64/388:  16%|█▌        | 63/388 [03:34<15:33,  2.87s/it, v_num=1, train_loss_step=282, train_loss_epoch=245]"
     ]
    },
    {
     "name": "stderr",
     "output_type": "stream",
     "text": [
      "/Users/shivaramakrishna/Library/Python/3.9/lib/python/site-packages/scvi/module/_vae.py:458: UserWarning: The value argument must be within the support of the distribution\n",
      "  reconst_loss = -generative_outputs[\"px\"].log_prob(x).sum(-1)\n",
      "/Users/shivaramakrishna/Library/Python/3.9/lib/python/site-packages/scvi/module/_vae.py:458: UserWarning: The value argument must be within the support of the distribution\n",
      "  reconst_loss = -generative_outputs[\"px\"].log_prob(x).sum(-1)\n"
     ]
    },
    {
     "name": "stdout",
     "output_type": "stream",
     "text": [
      "Epoch 65/388:  16%|█▋        | 64/388 [03:36<15:31,  2.88s/it, v_num=1, train_loss_step=253, train_loss_epoch=245]"
     ]
    },
    {
     "name": "stderr",
     "output_type": "stream",
     "text": [
      "/Users/shivaramakrishna/Library/Python/3.9/lib/python/site-packages/scvi/module/_vae.py:458: UserWarning: The value argument must be within the support of the distribution\n",
      "  reconst_loss = -generative_outputs[\"px\"].log_prob(x).sum(-1)\n",
      "/Users/shivaramakrishna/Library/Python/3.9/lib/python/site-packages/scvi/module/_vae.py:458: UserWarning: The value argument must be within the support of the distribution\n",
      "  reconst_loss = -generative_outputs[\"px\"].log_prob(x).sum(-1)\n"
     ]
    },
    {
     "name": "stdout",
     "output_type": "stream",
     "text": [
      "Epoch 66/388:  17%|█▋        | 65/388 [03:40<15:59,  2.97s/it, v_num=1, train_loss_step=274, train_loss_epoch=245]"
     ]
    },
    {
     "name": "stderr",
     "output_type": "stream",
     "text": [
      "/Users/shivaramakrishna/Library/Python/3.9/lib/python/site-packages/scvi/module/_vae.py:458: UserWarning: The value argument must be within the support of the distribution\n",
      "  reconst_loss = -generative_outputs[\"px\"].log_prob(x).sum(-1)\n",
      "/Users/shivaramakrishna/Library/Python/3.9/lib/python/site-packages/scvi/module/_vae.py:458: UserWarning: The value argument must be within the support of the distribution\n",
      "  reconst_loss = -generative_outputs[\"px\"].log_prob(x).sum(-1)\n"
     ]
    },
    {
     "name": "stdout",
     "output_type": "stream",
     "text": [
      "Epoch 67/388:  17%|█▋        | 66/388 [03:43<16:25,  3.06s/it, v_num=1, train_loss_step=238, train_loss_epoch=245]"
     ]
    },
    {
     "name": "stderr",
     "output_type": "stream",
     "text": [
      "/Users/shivaramakrishna/Library/Python/3.9/lib/python/site-packages/scvi/module/_vae.py:458: UserWarning: The value argument must be within the support of the distribution\n",
      "  reconst_loss = -generative_outputs[\"px\"].log_prob(x).sum(-1)\n",
      "/Users/shivaramakrishna/Library/Python/3.9/lib/python/site-packages/scvi/module/_vae.py:458: UserWarning: The value argument must be within the support of the distribution\n",
      "  reconst_loss = -generative_outputs[\"px\"].log_prob(x).sum(-1)\n"
     ]
    },
    {
     "name": "stdout",
     "output_type": "stream",
     "text": [
      "Epoch 68/388:  17%|█▋        | 67/388 [03:46<16:48,  3.14s/it, v_num=1, train_loss_step=315, train_loss_epoch=245]"
     ]
    },
    {
     "name": "stderr",
     "output_type": "stream",
     "text": [
      "/Users/shivaramakrishna/Library/Python/3.9/lib/python/site-packages/scvi/module/_vae.py:458: UserWarning: The value argument must be within the support of the distribution\n",
      "  reconst_loss = -generative_outputs[\"px\"].log_prob(x).sum(-1)\n",
      "/Users/shivaramakrishna/Library/Python/3.9/lib/python/site-packages/scvi/module/_vae.py:458: UserWarning: The value argument must be within the support of the distribution\n",
      "  reconst_loss = -generative_outputs[\"px\"].log_prob(x).sum(-1)\n"
     ]
    },
    {
     "name": "stdout",
     "output_type": "stream",
     "text": [
      "Epoch 69/388:  18%|█▊        | 68/388 [03:50<17:04,  3.20s/it, v_num=1, train_loss_step=231, train_loss_epoch=245]"
     ]
    },
    {
     "name": "stderr",
     "output_type": "stream",
     "text": [
      "/Users/shivaramakrishna/Library/Python/3.9/lib/python/site-packages/scvi/module/_vae.py:458: UserWarning: The value argument must be within the support of the distribution\n",
      "  reconst_loss = -generative_outputs[\"px\"].log_prob(x).sum(-1)\n",
      "/Users/shivaramakrishna/Library/Python/3.9/lib/python/site-packages/scvi/module/_vae.py:458: UserWarning: The value argument must be within the support of the distribution\n",
      "  reconst_loss = -generative_outputs[\"px\"].log_prob(x).sum(-1)\n"
     ]
    },
    {
     "name": "stdout",
     "output_type": "stream",
     "text": [
      "Epoch 70/388:  18%|█▊        | 69/388 [03:53<16:55,  3.18s/it, v_num=1, train_loss_step=253, train_loss_epoch=245]"
     ]
    },
    {
     "name": "stderr",
     "output_type": "stream",
     "text": [
      "/Users/shivaramakrishna/Library/Python/3.9/lib/python/site-packages/scvi/module/_vae.py:458: UserWarning: The value argument must be within the support of the distribution\n",
      "  reconst_loss = -generative_outputs[\"px\"].log_prob(x).sum(-1)\n",
      "/Users/shivaramakrishna/Library/Python/3.9/lib/python/site-packages/scvi/module/_vae.py:458: UserWarning: The value argument must be within the support of the distribution\n",
      "  reconst_loss = -generative_outputs[\"px\"].log_prob(x).sum(-1)\n"
     ]
    },
    {
     "name": "stdout",
     "output_type": "stream",
     "text": [
      "Epoch 71/388:  18%|█▊        | 70/388 [03:56<17:07,  3.23s/it, v_num=1, train_loss_step=233, train_loss_epoch=245]"
     ]
    },
    {
     "name": "stderr",
     "output_type": "stream",
     "text": [
      "/Users/shivaramakrishna/Library/Python/3.9/lib/python/site-packages/scvi/module/_vae.py:458: UserWarning: The value argument must be within the support of the distribution\n",
      "  reconst_loss = -generative_outputs[\"px\"].log_prob(x).sum(-1)\n",
      "/Users/shivaramakrishna/Library/Python/3.9/lib/python/site-packages/scvi/module/_vae.py:458: UserWarning: The value argument must be within the support of the distribution\n",
      "  reconst_loss = -generative_outputs[\"px\"].log_prob(x).sum(-1)\n"
     ]
    },
    {
     "name": "stdout",
     "output_type": "stream",
     "text": [
      "Epoch 72/388:  18%|█▊        | 71/388 [04:00<17:35,  3.33s/it, v_num=1, train_loss_step=265, train_loss_epoch=245]"
     ]
    },
    {
     "name": "stderr",
     "output_type": "stream",
     "text": [
      "/Users/shivaramakrishna/Library/Python/3.9/lib/python/site-packages/scvi/module/_vae.py:458: UserWarning: The value argument must be within the support of the distribution\n",
      "  reconst_loss = -generative_outputs[\"px\"].log_prob(x).sum(-1)\n",
      "/Users/shivaramakrishna/Library/Python/3.9/lib/python/site-packages/scvi/module/_vae.py:458: UserWarning: The value argument must be within the support of the distribution\n",
      "  reconst_loss = -generative_outputs[\"px\"].log_prob(x).sum(-1)\n"
     ]
    },
    {
     "name": "stdout",
     "output_type": "stream",
     "text": [
      "Epoch 73/388:  19%|█▊        | 72/388 [04:03<18:07,  3.44s/it, v_num=1, train_loss_step=234, train_loss_epoch=245]"
     ]
    },
    {
     "name": "stderr",
     "output_type": "stream",
     "text": [
      "/Users/shivaramakrishna/Library/Python/3.9/lib/python/site-packages/scvi/module/_vae.py:458: UserWarning: The value argument must be within the support of the distribution\n",
      "  reconst_loss = -generative_outputs[\"px\"].log_prob(x).sum(-1)\n",
      "/Users/shivaramakrishna/Library/Python/3.9/lib/python/site-packages/scvi/module/_vae.py:458: UserWarning: The value argument must be within the support of the distribution\n",
      "  reconst_loss = -generative_outputs[\"px\"].log_prob(x).sum(-1)\n"
     ]
    },
    {
     "name": "stdout",
     "output_type": "stream",
     "text": [
      "Epoch 74/388:  19%|█▉        | 73/388 [04:07<18:20,  3.49s/it, v_num=1, train_loss_step=272, train_loss_epoch=245]"
     ]
    },
    {
     "name": "stderr",
     "output_type": "stream",
     "text": [
      "/Users/shivaramakrishna/Library/Python/3.9/lib/python/site-packages/scvi/module/_vae.py:458: UserWarning: The value argument must be within the support of the distribution\n",
      "  reconst_loss = -generative_outputs[\"px\"].log_prob(x).sum(-1)\n",
      "/Users/shivaramakrishna/Library/Python/3.9/lib/python/site-packages/scvi/module/_vae.py:458: UserWarning: The value argument must be within the support of the distribution\n",
      "  reconst_loss = -generative_outputs[\"px\"].log_prob(x).sum(-1)\n"
     ]
    },
    {
     "name": "stdout",
     "output_type": "stream",
     "text": [
      "Epoch 75/388:  19%|█▉        | 74/388 [04:10<18:12,  3.48s/it, v_num=1, train_loss_step=249, train_loss_epoch=245]"
     ]
    },
    {
     "name": "stderr",
     "output_type": "stream",
     "text": [
      "/Users/shivaramakrishna/Library/Python/3.9/lib/python/site-packages/scvi/module/_vae.py:458: UserWarning: The value argument must be within the support of the distribution\n",
      "  reconst_loss = -generative_outputs[\"px\"].log_prob(x).sum(-1)\n",
      "/Users/shivaramakrishna/Library/Python/3.9/lib/python/site-packages/scvi/module/_vae.py:458: UserWarning: The value argument must be within the support of the distribution\n",
      "  reconst_loss = -generative_outputs[\"px\"].log_prob(x).sum(-1)\n"
     ]
    },
    {
     "name": "stdout",
     "output_type": "stream",
     "text": [
      "Epoch 76/388:  19%|█▉        | 75/388 [04:14<18:13,  3.49s/it, v_num=1, train_loss_step=266, train_loss_epoch=245]"
     ]
    },
    {
     "name": "stderr",
     "output_type": "stream",
     "text": [
      "/Users/shivaramakrishna/Library/Python/3.9/lib/python/site-packages/scvi/module/_vae.py:458: UserWarning: The value argument must be within the support of the distribution\n",
      "  reconst_loss = -generative_outputs[\"px\"].log_prob(x).sum(-1)\n",
      "/Users/shivaramakrishna/Library/Python/3.9/lib/python/site-packages/scvi/module/_vae.py:458: UserWarning: The value argument must be within the support of the distribution\n",
      "  reconst_loss = -generative_outputs[\"px\"].log_prob(x).sum(-1)\n"
     ]
    },
    {
     "name": "stdout",
     "output_type": "stream",
     "text": [
      "Epoch 77/388:  20%|█▉        | 76/388 [04:17<17:46,  3.42s/it, v_num=1, train_loss_step=288, train_loss_epoch=245]"
     ]
    },
    {
     "name": "stderr",
     "output_type": "stream",
     "text": [
      "/Users/shivaramakrishna/Library/Python/3.9/lib/python/site-packages/scvi/module/_vae.py:458: UserWarning: The value argument must be within the support of the distribution\n",
      "  reconst_loss = -generative_outputs[\"px\"].log_prob(x).sum(-1)\n",
      "/Users/shivaramakrishna/Library/Python/3.9/lib/python/site-packages/scvi/module/_vae.py:458: UserWarning: The value argument must be within the support of the distribution\n",
      "  reconst_loss = -generative_outputs[\"px\"].log_prob(x).sum(-1)\n"
     ]
    },
    {
     "name": "stdout",
     "output_type": "stream",
     "text": [
      "Epoch 78/388:  20%|█▉        | 77/388 [04:21<17:39,  3.41s/it, v_num=1, train_loss_step=241, train_loss_epoch=245]"
     ]
    },
    {
     "name": "stderr",
     "output_type": "stream",
     "text": [
      "/Users/shivaramakrishna/Library/Python/3.9/lib/python/site-packages/scvi/module/_vae.py:458: UserWarning: The value argument must be within the support of the distribution\n",
      "  reconst_loss = -generative_outputs[\"px\"].log_prob(x).sum(-1)\n",
      "/Users/shivaramakrishna/Library/Python/3.9/lib/python/site-packages/scvi/module/_vae.py:458: UserWarning: The value argument must be within the support of the distribution\n",
      "  reconst_loss = -generative_outputs[\"px\"].log_prob(x).sum(-1)\n"
     ]
    },
    {
     "name": "stdout",
     "output_type": "stream",
     "text": [
      "Epoch 79/388:  20%|██        | 78/388 [04:24<17:42,  3.43s/it, v_num=1, train_loss_step=286, train_loss_epoch=245]"
     ]
    },
    {
     "name": "stderr",
     "output_type": "stream",
     "text": [
      "/Users/shivaramakrishna/Library/Python/3.9/lib/python/site-packages/scvi/module/_vae.py:458: UserWarning: The value argument must be within the support of the distribution\n",
      "  reconst_loss = -generative_outputs[\"px\"].log_prob(x).sum(-1)\n",
      "/Users/shivaramakrishna/Library/Python/3.9/lib/python/site-packages/scvi/module/_vae.py:458: UserWarning: The value argument must be within the support of the distribution\n",
      "  reconst_loss = -generative_outputs[\"px\"].log_prob(x).sum(-1)\n"
     ]
    },
    {
     "name": "stdout",
     "output_type": "stream",
     "text": [
      "Epoch 80/388:  20%|██        | 79/388 [04:27<17:25,  3.38s/it, v_num=1, train_loss_step=281, train_loss_epoch=245]"
     ]
    },
    {
     "name": "stderr",
     "output_type": "stream",
     "text": [
      "/Users/shivaramakrishna/Library/Python/3.9/lib/python/site-packages/scvi/module/_vae.py:458: UserWarning: The value argument must be within the support of the distribution\n",
      "  reconst_loss = -generative_outputs[\"px\"].log_prob(x).sum(-1)\n",
      "/Users/shivaramakrishna/Library/Python/3.9/lib/python/site-packages/scvi/module/_vae.py:458: UserWarning: The value argument must be within the support of the distribution\n",
      "  reconst_loss = -generative_outputs[\"px\"].log_prob(x).sum(-1)\n"
     ]
    },
    {
     "name": "stdout",
     "output_type": "stream",
     "text": [
      "Epoch 81/388:  21%|██        | 80/388 [04:31<17:23,  3.39s/it, v_num=1, train_loss_step=310, train_loss_epoch=245]"
     ]
    },
    {
     "name": "stderr",
     "output_type": "stream",
     "text": [
      "/Users/shivaramakrishna/Library/Python/3.9/lib/python/site-packages/scvi/module/_vae.py:458: UserWarning: The value argument must be within the support of the distribution\n",
      "  reconst_loss = -generative_outputs[\"px\"].log_prob(x).sum(-1)\n",
      "/Users/shivaramakrishna/Library/Python/3.9/lib/python/site-packages/scvi/module/_vae.py:458: UserWarning: The value argument must be within the support of the distribution\n",
      "  reconst_loss = -generative_outputs[\"px\"].log_prob(x).sum(-1)\n"
     ]
    },
    {
     "name": "stdout",
     "output_type": "stream",
     "text": [
      "Epoch 82/388:  21%|██        | 81/388 [04:34<17:15,  3.37s/it, v_num=1, train_loss_step=247, train_loss_epoch=245]"
     ]
    },
    {
     "name": "stderr",
     "output_type": "stream",
     "text": [
      "/Users/shivaramakrishna/Library/Python/3.9/lib/python/site-packages/scvi/module/_vae.py:458: UserWarning: The value argument must be within the support of the distribution\n",
      "  reconst_loss = -generative_outputs[\"px\"].log_prob(x).sum(-1)\n",
      "/Users/shivaramakrishna/Library/Python/3.9/lib/python/site-packages/scvi/module/_vae.py:458: UserWarning: The value argument must be within the support of the distribution\n",
      "  reconst_loss = -generative_outputs[\"px\"].log_prob(x).sum(-1)\n"
     ]
    },
    {
     "name": "stdout",
     "output_type": "stream",
     "text": [
      "Epoch 83/388:  21%|██        | 82/388 [04:37<17:08,  3.36s/it, v_num=1, train_loss_step=232, train_loss_epoch=245]"
     ]
    },
    {
     "name": "stderr",
     "output_type": "stream",
     "text": [
      "/Users/shivaramakrishna/Library/Python/3.9/lib/python/site-packages/scvi/module/_vae.py:458: UserWarning: The value argument must be within the support of the distribution\n",
      "  reconst_loss = -generative_outputs[\"px\"].log_prob(x).sum(-1)\n",
      "/Users/shivaramakrishna/Library/Python/3.9/lib/python/site-packages/scvi/module/_vae.py:458: UserWarning: The value argument must be within the support of the distribution\n",
      "  reconst_loss = -generative_outputs[\"px\"].log_prob(x).sum(-1)\n"
     ]
    },
    {
     "name": "stdout",
     "output_type": "stream",
     "text": [
      "Epoch 84/388:  21%|██▏       | 83/388 [04:41<17:03,  3.36s/it, v_num=1, train_loss_step=254, train_loss_epoch=245]"
     ]
    },
    {
     "name": "stderr",
     "output_type": "stream",
     "text": [
      "/Users/shivaramakrishna/Library/Python/3.9/lib/python/site-packages/scvi/module/_vae.py:458: UserWarning: The value argument must be within the support of the distribution\n",
      "  reconst_loss = -generative_outputs[\"px\"].log_prob(x).sum(-1)\n",
      "/Users/shivaramakrishna/Library/Python/3.9/lib/python/site-packages/scvi/module/_vae.py:458: UserWarning: The value argument must be within the support of the distribution\n",
      "  reconst_loss = -generative_outputs[\"px\"].log_prob(x).sum(-1)\n"
     ]
    },
    {
     "name": "stdout",
     "output_type": "stream",
     "text": [
      "Epoch 85/388:  22%|██▏       | 84/388 [04:44<16:48,  3.32s/it, v_num=1, train_loss_step=229, train_loss_epoch=245]"
     ]
    },
    {
     "name": "stderr",
     "output_type": "stream",
     "text": [
      "/Users/shivaramakrishna/Library/Python/3.9/lib/python/site-packages/scvi/module/_vae.py:458: UserWarning: The value argument must be within the support of the distribution\n",
      "  reconst_loss = -generative_outputs[\"px\"].log_prob(x).sum(-1)\n",
      "/Users/shivaramakrishna/Library/Python/3.9/lib/python/site-packages/scvi/module/_vae.py:458: UserWarning: The value argument must be within the support of the distribution\n",
      "  reconst_loss = -generative_outputs[\"px\"].log_prob(x).sum(-1)\n"
     ]
    },
    {
     "name": "stdout",
     "output_type": "stream",
     "text": [
      "Epoch 86/388:  22%|██▏       | 85/388 [04:47<16:46,  3.32s/it, v_num=1, train_loss_step=272, train_loss_epoch=245]"
     ]
    },
    {
     "name": "stderr",
     "output_type": "stream",
     "text": [
      "/Users/shivaramakrishna/Library/Python/3.9/lib/python/site-packages/scvi/module/_vae.py:458: UserWarning: The value argument must be within the support of the distribution\n",
      "  reconst_loss = -generative_outputs[\"px\"].log_prob(x).sum(-1)\n",
      "/Users/shivaramakrishna/Library/Python/3.9/lib/python/site-packages/scvi/module/_vae.py:458: UserWarning: The value argument must be within the support of the distribution\n",
      "  reconst_loss = -generative_outputs[\"px\"].log_prob(x).sum(-1)\n"
     ]
    },
    {
     "name": "stdout",
     "output_type": "stream",
     "text": [
      "Epoch 87/388:  22%|██▏       | 86/388 [04:51<16:53,  3.36s/it, v_num=1, train_loss_step=268, train_loss_epoch=245]"
     ]
    },
    {
     "name": "stderr",
     "output_type": "stream",
     "text": [
      "/Users/shivaramakrishna/Library/Python/3.9/lib/python/site-packages/scvi/module/_vae.py:458: UserWarning: The value argument must be within the support of the distribution\n",
      "  reconst_loss = -generative_outputs[\"px\"].log_prob(x).sum(-1)\n",
      "/Users/shivaramakrishna/Library/Python/3.9/lib/python/site-packages/scvi/module/_vae.py:458: UserWarning: The value argument must be within the support of the distribution\n",
      "  reconst_loss = -generative_outputs[\"px\"].log_prob(x).sum(-1)\n"
     ]
    },
    {
     "name": "stdout",
     "output_type": "stream",
     "text": [
      "Epoch 88/388:  22%|██▏       | 87/388 [04:54<16:52,  3.36s/it, v_num=1, train_loss_step=234, train_loss_epoch=245]"
     ]
    },
    {
     "name": "stderr",
     "output_type": "stream",
     "text": [
      "/Users/shivaramakrishna/Library/Python/3.9/lib/python/site-packages/scvi/module/_vae.py:458: UserWarning: The value argument must be within the support of the distribution\n",
      "  reconst_loss = -generative_outputs[\"px\"].log_prob(x).sum(-1)\n",
      "/Users/shivaramakrishna/Library/Python/3.9/lib/python/site-packages/scvi/module/_vae.py:458: UserWarning: The value argument must be within the support of the distribution\n",
      "  reconst_loss = -generative_outputs[\"px\"].log_prob(x).sum(-1)\n"
     ]
    },
    {
     "name": "stdout",
     "output_type": "stream",
     "text": [
      "Epoch 89/388:  23%|██▎       | 88/388 [04:57<16:48,  3.36s/it, v_num=1, train_loss_step=296, train_loss_epoch=245]"
     ]
    },
    {
     "name": "stderr",
     "output_type": "stream",
     "text": [
      "/Users/shivaramakrishna/Library/Python/3.9/lib/python/site-packages/scvi/module/_vae.py:458: UserWarning: The value argument must be within the support of the distribution\n",
      "  reconst_loss = -generative_outputs[\"px\"].log_prob(x).sum(-1)\n",
      "/Users/shivaramakrishna/Library/Python/3.9/lib/python/site-packages/scvi/module/_vae.py:458: UserWarning: The value argument must be within the support of the distribution\n",
      "  reconst_loss = -generative_outputs[\"px\"].log_prob(x).sum(-1)\n"
     ]
    },
    {
     "name": "stdout",
     "output_type": "stream",
     "text": [
      "Epoch 90/388:  23%|██▎       | 89/388 [05:01<16:42,  3.35s/it, v_num=1, train_loss_step=238, train_loss_epoch=245]"
     ]
    },
    {
     "name": "stderr",
     "output_type": "stream",
     "text": [
      "/Users/shivaramakrishna/Library/Python/3.9/lib/python/site-packages/scvi/module/_vae.py:458: UserWarning: The value argument must be within the support of the distribution\n",
      "  reconst_loss = -generative_outputs[\"px\"].log_prob(x).sum(-1)\n",
      "/Users/shivaramakrishna/Library/Python/3.9/lib/python/site-packages/scvi/module/_vae.py:458: UserWarning: The value argument must be within the support of the distribution\n",
      "  reconst_loss = -generative_outputs[\"px\"].log_prob(x).sum(-1)\n"
     ]
    },
    {
     "name": "stdout",
     "output_type": "stream",
     "text": [
      "Epoch 91/388:  23%|██▎       | 90/388 [05:04<16:39,  3.35s/it, v_num=1, train_loss_step=268, train_loss_epoch=245]"
     ]
    },
    {
     "name": "stderr",
     "output_type": "stream",
     "text": [
      "/Users/shivaramakrishna/Library/Python/3.9/lib/python/site-packages/scvi/module/_vae.py:458: UserWarning: The value argument must be within the support of the distribution\n",
      "  reconst_loss = -generative_outputs[\"px\"].log_prob(x).sum(-1)\n",
      "/Users/shivaramakrishna/Library/Python/3.9/lib/python/site-packages/scvi/module/_vae.py:458: UserWarning: The value argument must be within the support of the distribution\n",
      "  reconst_loss = -generative_outputs[\"px\"].log_prob(x).sum(-1)\n"
     ]
    },
    {
     "name": "stdout",
     "output_type": "stream",
     "text": [
      "Epoch 92/388:  23%|██▎       | 91/388 [05:08<16:48,  3.40s/it, v_num=1, train_loss_step=255, train_loss_epoch=245]"
     ]
    },
    {
     "name": "stderr",
     "output_type": "stream",
     "text": [
      "/Users/shivaramakrishna/Library/Python/3.9/lib/python/site-packages/scvi/module/_vae.py:458: UserWarning: The value argument must be within the support of the distribution\n",
      "  reconst_loss = -generative_outputs[\"px\"].log_prob(x).sum(-1)\n",
      "/Users/shivaramakrishna/Library/Python/3.9/lib/python/site-packages/scvi/module/_vae.py:458: UserWarning: The value argument must be within the support of the distribution\n",
      "  reconst_loss = -generative_outputs[\"px\"].log_prob(x).sum(-1)\n"
     ]
    },
    {
     "name": "stdout",
     "output_type": "stream",
     "text": [
      "Epoch 93/388:  24%|██▎       | 92/388 [05:11<16:52,  3.42s/it, v_num=1, train_loss_step=266, train_loss_epoch=245]"
     ]
    },
    {
     "name": "stderr",
     "output_type": "stream",
     "text": [
      "/Users/shivaramakrishna/Library/Python/3.9/lib/python/site-packages/scvi/module/_vae.py:458: UserWarning: The value argument must be within the support of the distribution\n",
      "  reconst_loss = -generative_outputs[\"px\"].log_prob(x).sum(-1)\n",
      "/Users/shivaramakrishna/Library/Python/3.9/lib/python/site-packages/scvi/module/_vae.py:458: UserWarning: The value argument must be within the support of the distribution\n",
      "  reconst_loss = -generative_outputs[\"px\"].log_prob(x).sum(-1)\n"
     ]
    },
    {
     "name": "stdout",
     "output_type": "stream",
     "text": [
      "Epoch 94/388:  24%|██▍       | 93/388 [05:14<16:44,  3.40s/it, v_num=1, train_loss_step=285, train_loss_epoch=245]"
     ]
    },
    {
     "name": "stderr",
     "output_type": "stream",
     "text": [
      "/Users/shivaramakrishna/Library/Python/3.9/lib/python/site-packages/scvi/module/_vae.py:458: UserWarning: The value argument must be within the support of the distribution\n",
      "  reconst_loss = -generative_outputs[\"px\"].log_prob(x).sum(-1)\n",
      "/Users/shivaramakrishna/Library/Python/3.9/lib/python/site-packages/scvi/module/_vae.py:458: UserWarning: The value argument must be within the support of the distribution\n",
      "  reconst_loss = -generative_outputs[\"px\"].log_prob(x).sum(-1)\n"
     ]
    },
    {
     "name": "stdout",
     "output_type": "stream",
     "text": [
      "Epoch 95/388:  24%|██▍       | 94/388 [05:18<16:48,  3.43s/it, v_num=1, train_loss_step=268, train_loss_epoch=245]"
     ]
    },
    {
     "name": "stderr",
     "output_type": "stream",
     "text": [
      "/Users/shivaramakrishna/Library/Python/3.9/lib/python/site-packages/scvi/module/_vae.py:458: UserWarning: The value argument must be within the support of the distribution\n",
      "  reconst_loss = -generative_outputs[\"px\"].log_prob(x).sum(-1)\n",
      "/Users/shivaramakrishna/Library/Python/3.9/lib/python/site-packages/scvi/module/_vae.py:458: UserWarning: The value argument must be within the support of the distribution\n",
      "  reconst_loss = -generative_outputs[\"px\"].log_prob(x).sum(-1)\n"
     ]
    },
    {
     "name": "stdout",
     "output_type": "stream",
     "text": [
      "Epoch 96/388:  24%|██▍       | 95/388 [05:21<16:41,  3.42s/it, v_num=1, train_loss_step=287, train_loss_epoch=245]"
     ]
    },
    {
     "name": "stderr",
     "output_type": "stream",
     "text": [
      "/Users/shivaramakrishna/Library/Python/3.9/lib/python/site-packages/scvi/module/_vae.py:458: UserWarning: The value argument must be within the support of the distribution\n",
      "  reconst_loss = -generative_outputs[\"px\"].log_prob(x).sum(-1)\n",
      "/Users/shivaramakrishna/Library/Python/3.9/lib/python/site-packages/scvi/module/_vae.py:458: UserWarning: The value argument must be within the support of the distribution\n",
      "  reconst_loss = -generative_outputs[\"px\"].log_prob(x).sum(-1)\n"
     ]
    },
    {
     "name": "stdout",
     "output_type": "stream",
     "text": [
      "Epoch 97/388:  25%|██▍       | 96/388 [05:25<16:36,  3.41s/it, v_num=1, train_loss_step=288, train_loss_epoch=245]"
     ]
    },
    {
     "name": "stderr",
     "output_type": "stream",
     "text": [
      "/Users/shivaramakrishna/Library/Python/3.9/lib/python/site-packages/scvi/module/_vae.py:458: UserWarning: The value argument must be within the support of the distribution\n",
      "  reconst_loss = -generative_outputs[\"px\"].log_prob(x).sum(-1)\n",
      "/Users/shivaramakrishna/Library/Python/3.9/lib/python/site-packages/scvi/module/_vae.py:458: UserWarning: The value argument must be within the support of the distribution\n",
      "  reconst_loss = -generative_outputs[\"px\"].log_prob(x).sum(-1)\n"
     ]
    },
    {
     "name": "stdout",
     "output_type": "stream",
     "text": [
      "Epoch 98/388:  25%|██▌       | 97/388 [05:28<16:29,  3.40s/it, v_num=1, train_loss_step=240, train_loss_epoch=245]"
     ]
    },
    {
     "name": "stderr",
     "output_type": "stream",
     "text": [
      "/Users/shivaramakrishna/Library/Python/3.9/lib/python/site-packages/scvi/module/_vae.py:458: UserWarning: The value argument must be within the support of the distribution\n",
      "  reconst_loss = -generative_outputs[\"px\"].log_prob(x).sum(-1)\n",
      "/Users/shivaramakrishna/Library/Python/3.9/lib/python/site-packages/scvi/module/_vae.py:458: UserWarning: The value argument must be within the support of the distribution\n",
      "  reconst_loss = -generative_outputs[\"px\"].log_prob(x).sum(-1)\n"
     ]
    },
    {
     "name": "stdout",
     "output_type": "stream",
     "text": [
      "Epoch 99/388:  25%|██▌       | 98/388 [05:31<16:21,  3.39s/it, v_num=1, train_loss_step=261, train_loss_epoch=245]"
     ]
    },
    {
     "name": "stderr",
     "output_type": "stream",
     "text": [
      "/Users/shivaramakrishna/Library/Python/3.9/lib/python/site-packages/scvi/module/_vae.py:458: UserWarning: The value argument must be within the support of the distribution\n",
      "  reconst_loss = -generative_outputs[\"px\"].log_prob(x).sum(-1)\n",
      "/Users/shivaramakrishna/Library/Python/3.9/lib/python/site-packages/scvi/module/_vae.py:458: UserWarning: The value argument must be within the support of the distribution\n",
      "  reconst_loss = -generative_outputs[\"px\"].log_prob(x).sum(-1)\n"
     ]
    },
    {
     "name": "stdout",
     "output_type": "stream",
     "text": [
      "Epoch 100/388:  26%|██▌       | 99/388 [05:35<16:17,  3.38s/it, v_num=1, train_loss_step=269, train_loss_epoch=245]"
     ]
    },
    {
     "name": "stderr",
     "output_type": "stream",
     "text": [
      "/Users/shivaramakrishna/Library/Python/3.9/lib/python/site-packages/scvi/module/_vae.py:458: UserWarning: The value argument must be within the support of the distribution\n",
      "  reconst_loss = -generative_outputs[\"px\"].log_prob(x).sum(-1)\n",
      "/Users/shivaramakrishna/Library/Python/3.9/lib/python/site-packages/scvi/module/_vae.py:458: UserWarning: The value argument must be within the support of the distribution\n",
      "  reconst_loss = -generative_outputs[\"px\"].log_prob(x).sum(-1)\n"
     ]
    },
    {
     "name": "stdout",
     "output_type": "stream",
     "text": [
      "Epoch 101/388:  26%|██▌       | 100/388 [05:38<16:12,  3.38s/it, v_num=1, train_loss_step=260, train_loss_epoch=245]"
     ]
    },
    {
     "name": "stderr",
     "output_type": "stream",
     "text": [
      "/Users/shivaramakrishna/Library/Python/3.9/lib/python/site-packages/scvi/module/_vae.py:458: UserWarning: The value argument must be within the support of the distribution\n",
      "  reconst_loss = -generative_outputs[\"px\"].log_prob(x).sum(-1)\n",
      "/Users/shivaramakrishna/Library/Python/3.9/lib/python/site-packages/scvi/module/_vae.py:458: UserWarning: The value argument must be within the support of the distribution\n",
      "  reconst_loss = -generative_outputs[\"px\"].log_prob(x).sum(-1)\n"
     ]
    },
    {
     "name": "stdout",
     "output_type": "stream",
     "text": [
      "Epoch 102/388:  26%|██▌       | 101/388 [05:41<16:03,  3.36s/it, v_num=1, train_loss_step=311, train_loss_epoch=245]"
     ]
    },
    {
     "name": "stderr",
     "output_type": "stream",
     "text": [
      "/Users/shivaramakrishna/Library/Python/3.9/lib/python/site-packages/scvi/module/_vae.py:458: UserWarning: The value argument must be within the support of the distribution\n",
      "  reconst_loss = -generative_outputs[\"px\"].log_prob(x).sum(-1)\n",
      "/Users/shivaramakrishna/Library/Python/3.9/lib/python/site-packages/scvi/module/_vae.py:458: UserWarning: The value argument must be within the support of the distribution\n",
      "  reconst_loss = -generative_outputs[\"px\"].log_prob(x).sum(-1)\n"
     ]
    },
    {
     "name": "stdout",
     "output_type": "stream",
     "text": [
      "Epoch 103/388:  26%|██▋       | 102/388 [05:45<15:55,  3.34s/it, v_num=1, train_loss_step=258, train_loss_epoch=245]"
     ]
    },
    {
     "name": "stderr",
     "output_type": "stream",
     "text": [
      "/Users/shivaramakrishna/Library/Python/3.9/lib/python/site-packages/scvi/module/_vae.py:458: UserWarning: The value argument must be within the support of the distribution\n",
      "  reconst_loss = -generative_outputs[\"px\"].log_prob(x).sum(-1)\n",
      "/Users/shivaramakrishna/Library/Python/3.9/lib/python/site-packages/scvi/module/_vae.py:458: UserWarning: The value argument must be within the support of the distribution\n",
      "  reconst_loss = -generative_outputs[\"px\"].log_prob(x).sum(-1)\n"
     ]
    },
    {
     "name": "stdout",
     "output_type": "stream",
     "text": [
      "Epoch 104/388:  27%|██▋       | 103/388 [05:48<15:50,  3.34s/it, v_num=1, train_loss_step=264, train_loss_epoch=245]"
     ]
    },
    {
     "name": "stderr",
     "output_type": "stream",
     "text": [
      "/Users/shivaramakrishna/Library/Python/3.9/lib/python/site-packages/scvi/module/_vae.py:458: UserWarning: The value argument must be within the support of the distribution\n",
      "  reconst_loss = -generative_outputs[\"px\"].log_prob(x).sum(-1)\n",
      "/Users/shivaramakrishna/Library/Python/3.9/lib/python/site-packages/scvi/module/_vae.py:458: UserWarning: The value argument must be within the support of the distribution\n",
      "  reconst_loss = -generative_outputs[\"px\"].log_prob(x).sum(-1)\n"
     ]
    },
    {
     "name": "stdout",
     "output_type": "stream",
     "text": [
      "Epoch 105/388:  27%|██▋       | 104/388 [05:52<15:53,  3.36s/it, v_num=1, train_loss_step=250, train_loss_epoch=245]"
     ]
    },
    {
     "name": "stderr",
     "output_type": "stream",
     "text": [
      "/Users/shivaramakrishna/Library/Python/3.9/lib/python/site-packages/scvi/module/_vae.py:458: UserWarning: The value argument must be within the support of the distribution\n",
      "  reconst_loss = -generative_outputs[\"px\"].log_prob(x).sum(-1)\n",
      "/Users/shivaramakrishna/Library/Python/3.9/lib/python/site-packages/scvi/module/_vae.py:458: UserWarning: The value argument must be within the support of the distribution\n",
      "  reconst_loss = -generative_outputs[\"px\"].log_prob(x).sum(-1)\n"
     ]
    },
    {
     "name": "stdout",
     "output_type": "stream",
     "text": [
      "Epoch 106/388:  27%|██▋       | 105/388 [05:55<15:59,  3.39s/it, v_num=1, train_loss_step=281, train_loss_epoch=245]"
     ]
    },
    {
     "name": "stderr",
     "output_type": "stream",
     "text": [
      "/Users/shivaramakrishna/Library/Python/3.9/lib/python/site-packages/scvi/module/_vae.py:458: UserWarning: The value argument must be within the support of the distribution\n",
      "  reconst_loss = -generative_outputs[\"px\"].log_prob(x).sum(-1)\n",
      "/Users/shivaramakrishna/Library/Python/3.9/lib/python/site-packages/scvi/module/_vae.py:458: UserWarning: The value argument must be within the support of the distribution\n",
      "  reconst_loss = -generative_outputs[\"px\"].log_prob(x).sum(-1)\n"
     ]
    },
    {
     "name": "stdout",
     "output_type": "stream",
     "text": [
      "Epoch 107/388:  27%|██▋       | 106/388 [05:58<15:51,  3.37s/it, v_num=1, train_loss_step=248, train_loss_epoch=245]"
     ]
    },
    {
     "name": "stderr",
     "output_type": "stream",
     "text": [
      "/Users/shivaramakrishna/Library/Python/3.9/lib/python/site-packages/scvi/module/_vae.py:458: UserWarning: The value argument must be within the support of the distribution\n",
      "  reconst_loss = -generative_outputs[\"px\"].log_prob(x).sum(-1)\n",
      "/Users/shivaramakrishna/Library/Python/3.9/lib/python/site-packages/scvi/module/_vae.py:458: UserWarning: The value argument must be within the support of the distribution\n",
      "  reconst_loss = -generative_outputs[\"px\"].log_prob(x).sum(-1)\n"
     ]
    },
    {
     "name": "stdout",
     "output_type": "stream",
     "text": [
      "Epoch 108/388:  28%|██▊       | 107/388 [06:02<15:50,  3.38s/it, v_num=1, train_loss_step=288, train_loss_epoch=245]"
     ]
    },
    {
     "name": "stderr",
     "output_type": "stream",
     "text": [
      "/Users/shivaramakrishna/Library/Python/3.9/lib/python/site-packages/scvi/module/_vae.py:458: UserWarning: The value argument must be within the support of the distribution\n",
      "  reconst_loss = -generative_outputs[\"px\"].log_prob(x).sum(-1)\n",
      "/Users/shivaramakrishna/Library/Python/3.9/lib/python/site-packages/scvi/module/_vae.py:458: UserWarning: The value argument must be within the support of the distribution\n",
      "  reconst_loss = -generative_outputs[\"px\"].log_prob(x).sum(-1)\n"
     ]
    },
    {
     "name": "stdout",
     "output_type": "stream",
     "text": [
      "Epoch 109/388:  28%|██▊       | 108/388 [06:05<15:52,  3.40s/it, v_num=1, train_loss_step=242, train_loss_epoch=245]"
     ]
    },
    {
     "name": "stderr",
     "output_type": "stream",
     "text": [
      "/Users/shivaramakrishna/Library/Python/3.9/lib/python/site-packages/scvi/module/_vae.py:458: UserWarning: The value argument must be within the support of the distribution\n",
      "  reconst_loss = -generative_outputs[\"px\"].log_prob(x).sum(-1)\n",
      "/Users/shivaramakrishna/Library/Python/3.9/lib/python/site-packages/scvi/module/_vae.py:458: UserWarning: The value argument must be within the support of the distribution\n",
      "  reconst_loss = -generative_outputs[\"px\"].log_prob(x).sum(-1)\n"
     ]
    },
    {
     "name": "stdout",
     "output_type": "stream",
     "text": [
      "Epoch 110/388:  28%|██▊       | 109/388 [06:09<15:53,  3.42s/it, v_num=1, train_loss_step=227, train_loss_epoch=245]"
     ]
    },
    {
     "name": "stderr",
     "output_type": "stream",
     "text": [
      "/Users/shivaramakrishna/Library/Python/3.9/lib/python/site-packages/scvi/module/_vae.py:458: UserWarning: The value argument must be within the support of the distribution\n",
      "  reconst_loss = -generative_outputs[\"px\"].log_prob(x).sum(-1)\n",
      "/Users/shivaramakrishna/Library/Python/3.9/lib/python/site-packages/scvi/module/_vae.py:458: UserWarning: The value argument must be within the support of the distribution\n",
      "  reconst_loss = -generative_outputs[\"px\"].log_prob(x).sum(-1)\n"
     ]
    },
    {
     "name": "stdout",
     "output_type": "stream",
     "text": [
      "Epoch 111/388:  28%|██▊       | 110/388 [06:12<15:45,  3.40s/it, v_num=1, train_loss_step=251, train_loss_epoch=245]"
     ]
    },
    {
     "name": "stderr",
     "output_type": "stream",
     "text": [
      "/Users/shivaramakrishna/Library/Python/3.9/lib/python/site-packages/scvi/module/_vae.py:458: UserWarning: The value argument must be within the support of the distribution\n",
      "  reconst_loss = -generative_outputs[\"px\"].log_prob(x).sum(-1)\n",
      "/Users/shivaramakrishna/Library/Python/3.9/lib/python/site-packages/scvi/module/_vae.py:458: UserWarning: The value argument must be within the support of the distribution\n",
      "  reconst_loss = -generative_outputs[\"px\"].log_prob(x).sum(-1)\n"
     ]
    },
    {
     "name": "stdout",
     "output_type": "stream",
     "text": [
      "Epoch 112/388:  29%|██▊       | 111/388 [06:15<15:34,  3.37s/it, v_num=1, train_loss_step=264, train_loss_epoch=245]"
     ]
    },
    {
     "name": "stderr",
     "output_type": "stream",
     "text": [
      "/Users/shivaramakrishna/Library/Python/3.9/lib/python/site-packages/scvi/module/_vae.py:458: UserWarning: The value argument must be within the support of the distribution\n",
      "  reconst_loss = -generative_outputs[\"px\"].log_prob(x).sum(-1)\n",
      "/Users/shivaramakrishna/Library/Python/3.9/lib/python/site-packages/scvi/module/_vae.py:458: UserWarning: The value argument must be within the support of the distribution\n",
      "  reconst_loss = -generative_outputs[\"px\"].log_prob(x).sum(-1)\n"
     ]
    },
    {
     "name": "stdout",
     "output_type": "stream",
     "text": [
      "Epoch 113/388:  29%|██▉       | 112/388 [06:19<15:32,  3.38s/it, v_num=1, train_loss_step=232, train_loss_epoch=245]"
     ]
    },
    {
     "name": "stderr",
     "output_type": "stream",
     "text": [
      "/Users/shivaramakrishna/Library/Python/3.9/lib/python/site-packages/scvi/module/_vae.py:458: UserWarning: The value argument must be within the support of the distribution\n",
      "  reconst_loss = -generative_outputs[\"px\"].log_prob(x).sum(-1)\n",
      "/Users/shivaramakrishna/Library/Python/3.9/lib/python/site-packages/scvi/module/_vae.py:458: UserWarning: The value argument must be within the support of the distribution\n",
      "  reconst_loss = -generative_outputs[\"px\"].log_prob(x).sum(-1)\n"
     ]
    },
    {
     "name": "stdout",
     "output_type": "stream",
     "text": [
      "Epoch 114/388:  29%|██▉       | 113/388 [06:22<15:37,  3.41s/it, v_num=1, train_loss_step=232, train_loss_epoch=245]"
     ]
    },
    {
     "name": "stderr",
     "output_type": "stream",
     "text": [
      "/Users/shivaramakrishna/Library/Python/3.9/lib/python/site-packages/scvi/module/_vae.py:458: UserWarning: The value argument must be within the support of the distribution\n",
      "  reconst_loss = -generative_outputs[\"px\"].log_prob(x).sum(-1)\n",
      "/Users/shivaramakrishna/Library/Python/3.9/lib/python/site-packages/scvi/module/_vae.py:458: UserWarning: The value argument must be within the support of the distribution\n",
      "  reconst_loss = -generative_outputs[\"px\"].log_prob(x).sum(-1)\n"
     ]
    },
    {
     "name": "stdout",
     "output_type": "stream",
     "text": [
      "Epoch 115/388:  29%|██▉       | 114/388 [06:26<15:36,  3.42s/it, v_num=1, train_loss_step=262, train_loss_epoch=245]"
     ]
    },
    {
     "name": "stderr",
     "output_type": "stream",
     "text": [
      "/Users/shivaramakrishna/Library/Python/3.9/lib/python/site-packages/scvi/module/_vae.py:458: UserWarning: The value argument must be within the support of the distribution\n",
      "  reconst_loss = -generative_outputs[\"px\"].log_prob(x).sum(-1)\n",
      "/Users/shivaramakrishna/Library/Python/3.9/lib/python/site-packages/scvi/module/_vae.py:458: UserWarning: The value argument must be within the support of the distribution\n",
      "  reconst_loss = -generative_outputs[\"px\"].log_prob(x).sum(-1)\n"
     ]
    },
    {
     "name": "stdout",
     "output_type": "stream",
     "text": [
      "Epoch 116/388:  30%|██▉       | 115/388 [06:29<15:30,  3.41s/it, v_num=1, train_loss_step=231, train_loss_epoch=245]"
     ]
    },
    {
     "name": "stderr",
     "output_type": "stream",
     "text": [
      "/Users/shivaramakrishna/Library/Python/3.9/lib/python/site-packages/scvi/module/_vae.py:458: UserWarning: The value argument must be within the support of the distribution\n",
      "  reconst_loss = -generative_outputs[\"px\"].log_prob(x).sum(-1)\n",
      "/Users/shivaramakrishna/Library/Python/3.9/lib/python/site-packages/scvi/module/_vae.py:458: UserWarning: The value argument must be within the support of the distribution\n",
      "  reconst_loss = -generative_outputs[\"px\"].log_prob(x).sum(-1)\n"
     ]
    },
    {
     "name": "stdout",
     "output_type": "stream",
     "text": [
      "Epoch 117/388:  30%|██▉       | 116/388 [06:32<15:19,  3.38s/it, v_num=1, train_loss_step=252, train_loss_epoch=245]"
     ]
    },
    {
     "name": "stderr",
     "output_type": "stream",
     "text": [
      "/Users/shivaramakrishna/Library/Python/3.9/lib/python/site-packages/scvi/module/_vae.py:458: UserWarning: The value argument must be within the support of the distribution\n",
      "  reconst_loss = -generative_outputs[\"px\"].log_prob(x).sum(-1)\n",
      "/Users/shivaramakrishna/Library/Python/3.9/lib/python/site-packages/scvi/module/_vae.py:458: UserWarning: The value argument must be within the support of the distribution\n",
      "  reconst_loss = -generative_outputs[\"px\"].log_prob(x).sum(-1)\n"
     ]
    },
    {
     "name": "stdout",
     "output_type": "stream",
     "text": [
      "Epoch 118/388:  30%|███       | 117/388 [06:36<15:10,  3.36s/it, v_num=1, train_loss_step=258, train_loss_epoch=245]"
     ]
    },
    {
     "name": "stderr",
     "output_type": "stream",
     "text": [
      "/Users/shivaramakrishna/Library/Python/3.9/lib/python/site-packages/scvi/module/_vae.py:458: UserWarning: The value argument must be within the support of the distribution\n",
      "  reconst_loss = -generative_outputs[\"px\"].log_prob(x).sum(-1)\n",
      "/Users/shivaramakrishna/Library/Python/3.9/lib/python/site-packages/scvi/module/_vae.py:458: UserWarning: The value argument must be within the support of the distribution\n",
      "  reconst_loss = -generative_outputs[\"px\"].log_prob(x).sum(-1)\n"
     ]
    },
    {
     "name": "stdout",
     "output_type": "stream",
     "text": [
      "Epoch 119/388:  30%|███       | 118/388 [06:39<15:03,  3.35s/it, v_num=1, train_loss_step=270, train_loss_epoch=245]"
     ]
    },
    {
     "name": "stderr",
     "output_type": "stream",
     "text": [
      "/Users/shivaramakrishna/Library/Python/3.9/lib/python/site-packages/scvi/module/_vae.py:458: UserWarning: The value argument must be within the support of the distribution\n",
      "  reconst_loss = -generative_outputs[\"px\"].log_prob(x).sum(-1)\n",
      "/Users/shivaramakrishna/Library/Python/3.9/lib/python/site-packages/scvi/module/_vae.py:458: UserWarning: The value argument must be within the support of the distribution\n",
      "  reconst_loss = -generative_outputs[\"px\"].log_prob(x).sum(-1)\n"
     ]
    },
    {
     "name": "stdout",
     "output_type": "stream",
     "text": [
      "Epoch 120/388:  31%|███       | 119/388 [06:42<15:01,  3.35s/it, v_num=1, train_loss_step=315, train_loss_epoch=245]"
     ]
    },
    {
     "name": "stderr",
     "output_type": "stream",
     "text": [
      "/Users/shivaramakrishna/Library/Python/3.9/lib/python/site-packages/scvi/module/_vae.py:458: UserWarning: The value argument must be within the support of the distribution\n",
      "  reconst_loss = -generative_outputs[\"px\"].log_prob(x).sum(-1)\n",
      "/Users/shivaramakrishna/Library/Python/3.9/lib/python/site-packages/scvi/module/_vae.py:458: UserWarning: The value argument must be within the support of the distribution\n",
      "  reconst_loss = -generative_outputs[\"px\"].log_prob(x).sum(-1)\n"
     ]
    },
    {
     "name": "stdout",
     "output_type": "stream",
     "text": [
      "Epoch 121/388:  31%|███       | 120/388 [06:46<14:55,  3.34s/it, v_num=1, train_loss_step=340, train_loss_epoch=245]"
     ]
    },
    {
     "name": "stderr",
     "output_type": "stream",
     "text": [
      "/Users/shivaramakrishna/Library/Python/3.9/lib/python/site-packages/scvi/module/_vae.py:458: UserWarning: The value argument must be within the support of the distribution\n",
      "  reconst_loss = -generative_outputs[\"px\"].log_prob(x).sum(-1)\n",
      "/Users/shivaramakrishna/Library/Python/3.9/lib/python/site-packages/scvi/module/_vae.py:458: UserWarning: The value argument must be within the support of the distribution\n",
      "  reconst_loss = -generative_outputs[\"px\"].log_prob(x).sum(-1)\n"
     ]
    },
    {
     "name": "stdout",
     "output_type": "stream",
     "text": [
      "Epoch 122/388:  31%|███       | 121/388 [06:49<14:51,  3.34s/it, v_num=1, train_loss_step=296, train_loss_epoch=245]"
     ]
    },
    {
     "name": "stderr",
     "output_type": "stream",
     "text": [
      "/Users/shivaramakrishna/Library/Python/3.9/lib/python/site-packages/scvi/module/_vae.py:458: UserWarning: The value argument must be within the support of the distribution\n",
      "  reconst_loss = -generative_outputs[\"px\"].log_prob(x).sum(-1)\n",
      "/Users/shivaramakrishna/Library/Python/3.9/lib/python/site-packages/scvi/module/_vae.py:458: UserWarning: The value argument must be within the support of the distribution\n",
      "  reconst_loss = -generative_outputs[\"px\"].log_prob(x).sum(-1)\n"
     ]
    },
    {
     "name": "stdout",
     "output_type": "stream",
     "text": [
      "Epoch 123/388:  31%|███▏      | 122/388 [06:52<14:44,  3.32s/it, v_num=1, train_loss_step=271, train_loss_epoch=245]"
     ]
    },
    {
     "name": "stderr",
     "output_type": "stream",
     "text": [
      "/Users/shivaramakrishna/Library/Python/3.9/lib/python/site-packages/scvi/module/_vae.py:458: UserWarning: The value argument must be within the support of the distribution\n",
      "  reconst_loss = -generative_outputs[\"px\"].log_prob(x).sum(-1)\n",
      "/Users/shivaramakrishna/Library/Python/3.9/lib/python/site-packages/scvi/module/_vae.py:458: UserWarning: The value argument must be within the support of the distribution\n",
      "  reconst_loss = -generative_outputs[\"px\"].log_prob(x).sum(-1)\n"
     ]
    },
    {
     "name": "stdout",
     "output_type": "stream",
     "text": [
      "Epoch 124/388:  32%|███▏      | 123/388 [06:56<14:37,  3.31s/it, v_num=1, train_loss_step=295, train_loss_epoch=245]"
     ]
    },
    {
     "name": "stderr",
     "output_type": "stream",
     "text": [
      "/Users/shivaramakrishna/Library/Python/3.9/lib/python/site-packages/scvi/module/_vae.py:458: UserWarning: The value argument must be within the support of the distribution\n",
      "  reconst_loss = -generative_outputs[\"px\"].log_prob(x).sum(-1)\n",
      "/Users/shivaramakrishna/Library/Python/3.9/lib/python/site-packages/scvi/module/_vae.py:458: UserWarning: The value argument must be within the support of the distribution\n",
      "  reconst_loss = -generative_outputs[\"px\"].log_prob(x).sum(-1)\n"
     ]
    },
    {
     "name": "stdout",
     "output_type": "stream",
     "text": [
      "Epoch 125/388:  32%|███▏      | 124/388 [06:59<14:32,  3.30s/it, v_num=1, train_loss_step=283, train_loss_epoch=245]"
     ]
    },
    {
     "name": "stderr",
     "output_type": "stream",
     "text": [
      "/Users/shivaramakrishna/Library/Python/3.9/lib/python/site-packages/scvi/module/_vae.py:458: UserWarning: The value argument must be within the support of the distribution\n",
      "  reconst_loss = -generative_outputs[\"px\"].log_prob(x).sum(-1)\n",
      "/Users/shivaramakrishna/Library/Python/3.9/lib/python/site-packages/scvi/module/_vae.py:458: UserWarning: The value argument must be within the support of the distribution\n",
      "  reconst_loss = -generative_outputs[\"px\"].log_prob(x).sum(-1)\n"
     ]
    },
    {
     "name": "stdout",
     "output_type": "stream",
     "text": [
      "Epoch 126/388:  32%|███▏      | 125/388 [07:02<14:30,  3.31s/it, v_num=1, train_loss_step=242, train_loss_epoch=245]"
     ]
    },
    {
     "name": "stderr",
     "output_type": "stream",
     "text": [
      "/Users/shivaramakrishna/Library/Python/3.9/lib/python/site-packages/scvi/module/_vae.py:458: UserWarning: The value argument must be within the support of the distribution\n",
      "  reconst_loss = -generative_outputs[\"px\"].log_prob(x).sum(-1)\n",
      "/Users/shivaramakrishna/Library/Python/3.9/lib/python/site-packages/scvi/module/_vae.py:458: UserWarning: The value argument must be within the support of the distribution\n",
      "  reconst_loss = -generative_outputs[\"px\"].log_prob(x).sum(-1)\n"
     ]
    },
    {
     "name": "stdout",
     "output_type": "stream",
     "text": [
      "Epoch 127/388:  32%|███▏      | 126/388 [07:06<14:35,  3.34s/it, v_num=1, train_loss_step=272, train_loss_epoch=245]"
     ]
    },
    {
     "name": "stderr",
     "output_type": "stream",
     "text": [
      "/Users/shivaramakrishna/Library/Python/3.9/lib/python/site-packages/scvi/module/_vae.py:458: UserWarning: The value argument must be within the support of the distribution\n",
      "  reconst_loss = -generative_outputs[\"px\"].log_prob(x).sum(-1)\n",
      "/Users/shivaramakrishna/Library/Python/3.9/lib/python/site-packages/scvi/module/_vae.py:458: UserWarning: The value argument must be within the support of the distribution\n",
      "  reconst_loss = -generative_outputs[\"px\"].log_prob(x).sum(-1)\n"
     ]
    },
    {
     "name": "stdout",
     "output_type": "stream",
     "text": [
      "Epoch 128/388:  33%|███▎      | 127/388 [07:09<14:27,  3.33s/it, v_num=1, train_loss_step=249, train_loss_epoch=245]"
     ]
    },
    {
     "name": "stderr",
     "output_type": "stream",
     "text": [
      "/Users/shivaramakrishna/Library/Python/3.9/lib/python/site-packages/scvi/module/_vae.py:458: UserWarning: The value argument must be within the support of the distribution\n",
      "  reconst_loss = -generative_outputs[\"px\"].log_prob(x).sum(-1)\n",
      "/Users/shivaramakrishna/Library/Python/3.9/lib/python/site-packages/scvi/module/_vae.py:458: UserWarning: The value argument must be within the support of the distribution\n",
      "  reconst_loss = -generative_outputs[\"px\"].log_prob(x).sum(-1)\n"
     ]
    },
    {
     "name": "stdout",
     "output_type": "stream",
     "text": [
      "Epoch 129/388:  33%|███▎      | 128/388 [07:12<14:34,  3.36s/it, v_num=1, train_loss_step=269, train_loss_epoch=245]"
     ]
    },
    {
     "name": "stderr",
     "output_type": "stream",
     "text": [
      "/Users/shivaramakrishna/Library/Python/3.9/lib/python/site-packages/scvi/module/_vae.py:458: UserWarning: The value argument must be within the support of the distribution\n",
      "  reconst_loss = -generative_outputs[\"px\"].log_prob(x).sum(-1)\n",
      "/Users/shivaramakrishna/Library/Python/3.9/lib/python/site-packages/scvi/module/_vae.py:458: UserWarning: The value argument must be within the support of the distribution\n",
      "  reconst_loss = -generative_outputs[\"px\"].log_prob(x).sum(-1)\n"
     ]
    },
    {
     "name": "stdout",
     "output_type": "stream",
     "text": [
      "Epoch 130/388:  33%|███▎      | 129/388 [07:16<14:30,  3.36s/it, v_num=1, train_loss_step=250, train_loss_epoch=245]"
     ]
    },
    {
     "name": "stderr",
     "output_type": "stream",
     "text": [
      "/Users/shivaramakrishna/Library/Python/3.9/lib/python/site-packages/scvi/module/_vae.py:458: UserWarning: The value argument must be within the support of the distribution\n",
      "  reconst_loss = -generative_outputs[\"px\"].log_prob(x).sum(-1)\n",
      "/Users/shivaramakrishna/Library/Python/3.9/lib/python/site-packages/scvi/module/_vae.py:458: UserWarning: The value argument must be within the support of the distribution\n",
      "  reconst_loss = -generative_outputs[\"px\"].log_prob(x).sum(-1)\n"
     ]
    },
    {
     "name": "stdout",
     "output_type": "stream",
     "text": [
      "Epoch 131/388:  34%|███▎      | 130/388 [07:19<14:42,  3.42s/it, v_num=1, train_loss_step=314, train_loss_epoch=245]"
     ]
    },
    {
     "name": "stderr",
     "output_type": "stream",
     "text": [
      "/Users/shivaramakrishna/Library/Python/3.9/lib/python/site-packages/scvi/module/_vae.py:458: UserWarning: The value argument must be within the support of the distribution\n",
      "  reconst_loss = -generative_outputs[\"px\"].log_prob(x).sum(-1)\n",
      "/Users/shivaramakrishna/Library/Python/3.9/lib/python/site-packages/scvi/module/_vae.py:458: UserWarning: The value argument must be within the support of the distribution\n",
      "  reconst_loss = -generative_outputs[\"px\"].log_prob(x).sum(-1)\n"
     ]
    },
    {
     "name": "stdout",
     "output_type": "stream",
     "text": [
      "Epoch 132/388:  34%|███▍      | 131/388 [07:23<14:42,  3.43s/it, v_num=1, train_loss_step=251, train_loss_epoch=245]"
     ]
    },
    {
     "name": "stderr",
     "output_type": "stream",
     "text": [
      "/Users/shivaramakrishna/Library/Python/3.9/lib/python/site-packages/scvi/module/_vae.py:458: UserWarning: The value argument must be within the support of the distribution\n",
      "  reconst_loss = -generative_outputs[\"px\"].log_prob(x).sum(-1)\n",
      "/Users/shivaramakrishna/Library/Python/3.9/lib/python/site-packages/scvi/module/_vae.py:458: UserWarning: The value argument must be within the support of the distribution\n",
      "  reconst_loss = -generative_outputs[\"px\"].log_prob(x).sum(-1)\n"
     ]
    },
    {
     "name": "stdout",
     "output_type": "stream",
     "text": [
      "Epoch 133/388:  34%|███▍      | 132/388 [07:26<14:45,  3.46s/it, v_num=1, train_loss_step=265, train_loss_epoch=245]"
     ]
    },
    {
     "name": "stderr",
     "output_type": "stream",
     "text": [
      "/Users/shivaramakrishna/Library/Python/3.9/lib/python/site-packages/scvi/module/_vae.py:458: UserWarning: The value argument must be within the support of the distribution\n",
      "  reconst_loss = -generative_outputs[\"px\"].log_prob(x).sum(-1)\n",
      "/Users/shivaramakrishna/Library/Python/3.9/lib/python/site-packages/scvi/module/_vae.py:458: UserWarning: The value argument must be within the support of the distribution\n",
      "  reconst_loss = -generative_outputs[\"px\"].log_prob(x).sum(-1)\n"
     ]
    },
    {
     "name": "stdout",
     "output_type": "stream",
     "text": [
      "Epoch 134/388:  34%|███▍      | 133/388 [07:30<14:38,  3.44s/it, v_num=1, train_loss_step=250, train_loss_epoch=245]"
     ]
    },
    {
     "name": "stderr",
     "output_type": "stream",
     "text": [
      "/Users/shivaramakrishna/Library/Python/3.9/lib/python/site-packages/scvi/module/_vae.py:458: UserWarning: The value argument must be within the support of the distribution\n",
      "  reconst_loss = -generative_outputs[\"px\"].log_prob(x).sum(-1)\n",
      "/Users/shivaramakrishna/Library/Python/3.9/lib/python/site-packages/scvi/module/_vae.py:458: UserWarning: The value argument must be within the support of the distribution\n",
      "  reconst_loss = -generative_outputs[\"px\"].log_prob(x).sum(-1)\n"
     ]
    },
    {
     "name": "stdout",
     "output_type": "stream",
     "text": [
      "Epoch 135/388:  35%|███▍      | 134/388 [07:33<14:18,  3.38s/it, v_num=1, train_loss_step=285, train_loss_epoch=245]"
     ]
    },
    {
     "name": "stderr",
     "output_type": "stream",
     "text": [
      "/Users/shivaramakrishna/Library/Python/3.9/lib/python/site-packages/scvi/module/_vae.py:458: UserWarning: The value argument must be within the support of the distribution\n",
      "  reconst_loss = -generative_outputs[\"px\"].log_prob(x).sum(-1)\n",
      "/Users/shivaramakrishna/Library/Python/3.9/lib/python/site-packages/scvi/module/_vae.py:458: UserWarning: The value argument must be within the support of the distribution\n",
      "  reconst_loss = -generative_outputs[\"px\"].log_prob(x).sum(-1)\n"
     ]
    },
    {
     "name": "stdout",
     "output_type": "stream",
     "text": [
      "Epoch 136/388:  35%|███▍      | 135/388 [07:36<14:14,  3.38s/it, v_num=1, train_loss_step=250, train_loss_epoch=245]"
     ]
    },
    {
     "name": "stderr",
     "output_type": "stream",
     "text": [
      "/Users/shivaramakrishna/Library/Python/3.9/lib/python/site-packages/scvi/module/_vae.py:458: UserWarning: The value argument must be within the support of the distribution\n",
      "  reconst_loss = -generative_outputs[\"px\"].log_prob(x).sum(-1)\n",
      "/Users/shivaramakrishna/Library/Python/3.9/lib/python/site-packages/scvi/module/_vae.py:458: UserWarning: The value argument must be within the support of the distribution\n",
      "  reconst_loss = -generative_outputs[\"px\"].log_prob(x).sum(-1)\n"
     ]
    },
    {
     "name": "stdout",
     "output_type": "stream",
     "text": [
      "Epoch 137/388:  35%|███▌      | 136/388 [07:40<14:06,  3.36s/it, v_num=1, train_loss_step=237, train_loss_epoch=245]"
     ]
    },
    {
     "name": "stderr",
     "output_type": "stream",
     "text": [
      "/Users/shivaramakrishna/Library/Python/3.9/lib/python/site-packages/scvi/module/_vae.py:458: UserWarning: The value argument must be within the support of the distribution\n",
      "  reconst_loss = -generative_outputs[\"px\"].log_prob(x).sum(-1)\n",
      "/Users/shivaramakrishna/Library/Python/3.9/lib/python/site-packages/scvi/module/_vae.py:458: UserWarning: The value argument must be within the support of the distribution\n",
      "  reconst_loss = -generative_outputs[\"px\"].log_prob(x).sum(-1)\n"
     ]
    },
    {
     "name": "stdout",
     "output_type": "stream",
     "text": [
      "Epoch 138/388:  35%|███▌      | 137/388 [07:43<14:05,  3.37s/it, v_num=1, train_loss_step=256, train_loss_epoch=245]"
     ]
    },
    {
     "name": "stderr",
     "output_type": "stream",
     "text": [
      "/Users/shivaramakrishna/Library/Python/3.9/lib/python/site-packages/scvi/module/_vae.py:458: UserWarning: The value argument must be within the support of the distribution\n",
      "  reconst_loss = -generative_outputs[\"px\"].log_prob(x).sum(-1)\n",
      "/Users/shivaramakrishna/Library/Python/3.9/lib/python/site-packages/scvi/module/_vae.py:458: UserWarning: The value argument must be within the support of the distribution\n",
      "  reconst_loss = -generative_outputs[\"px\"].log_prob(x).sum(-1)\n"
     ]
    },
    {
     "name": "stdout",
     "output_type": "stream",
     "text": [
      "Epoch 139/388:  36%|███▌      | 138/388 [07:46<14:05,  3.38s/it, v_num=1, train_loss_step=251, train_loss_epoch=245]"
     ]
    },
    {
     "name": "stderr",
     "output_type": "stream",
     "text": [
      "/Users/shivaramakrishna/Library/Python/3.9/lib/python/site-packages/scvi/module/_vae.py:458: UserWarning: The value argument must be within the support of the distribution\n",
      "  reconst_loss = -generative_outputs[\"px\"].log_prob(x).sum(-1)\n",
      "/Users/shivaramakrishna/Library/Python/3.9/lib/python/site-packages/scvi/module/_vae.py:458: UserWarning: The value argument must be within the support of the distribution\n",
      "  reconst_loss = -generative_outputs[\"px\"].log_prob(x).sum(-1)\n"
     ]
    },
    {
     "name": "stdout",
     "output_type": "stream",
     "text": [
      "Epoch 140/388:  36%|███▌      | 139/388 [07:50<13:54,  3.35s/it, v_num=1, train_loss_step=294, train_loss_epoch=245]"
     ]
    },
    {
     "name": "stderr",
     "output_type": "stream",
     "text": [
      "/Users/shivaramakrishna/Library/Python/3.9/lib/python/site-packages/scvi/module/_vae.py:458: UserWarning: The value argument must be within the support of the distribution\n",
      "  reconst_loss = -generative_outputs[\"px\"].log_prob(x).sum(-1)\n",
      "/Users/shivaramakrishna/Library/Python/3.9/lib/python/site-packages/scvi/module/_vae.py:458: UserWarning: The value argument must be within the support of the distribution\n",
      "  reconst_loss = -generative_outputs[\"px\"].log_prob(x).sum(-1)\n"
     ]
    },
    {
     "name": "stdout",
     "output_type": "stream",
     "text": [
      "Epoch 141/388:  36%|███▌      | 140/388 [07:53<14:01,  3.39s/it, v_num=1, train_loss_step=305, train_loss_epoch=245]"
     ]
    },
    {
     "name": "stderr",
     "output_type": "stream",
     "text": [
      "/Users/shivaramakrishna/Library/Python/3.9/lib/python/site-packages/scvi/module/_vae.py:458: UserWarning: The value argument must be within the support of the distribution\n",
      "  reconst_loss = -generative_outputs[\"px\"].log_prob(x).sum(-1)\n",
      "/Users/shivaramakrishna/Library/Python/3.9/lib/python/site-packages/scvi/module/_vae.py:458: UserWarning: The value argument must be within the support of the distribution\n",
      "  reconst_loss = -generative_outputs[\"px\"].log_prob(x).sum(-1)\n"
     ]
    },
    {
     "name": "stdout",
     "output_type": "stream",
     "text": [
      "Epoch 142/388:  36%|███▋      | 141/388 [07:56<13:58,  3.40s/it, v_num=1, train_loss_step=259, train_loss_epoch=245]"
     ]
    },
    {
     "name": "stderr",
     "output_type": "stream",
     "text": [
      "/Users/shivaramakrishna/Library/Python/3.9/lib/python/site-packages/scvi/module/_vae.py:458: UserWarning: The value argument must be within the support of the distribution\n",
      "  reconst_loss = -generative_outputs[\"px\"].log_prob(x).sum(-1)\n",
      "/Users/shivaramakrishna/Library/Python/3.9/lib/python/site-packages/scvi/module/_vae.py:458: UserWarning: The value argument must be within the support of the distribution\n",
      "  reconst_loss = -generative_outputs[\"px\"].log_prob(x).sum(-1)\n"
     ]
    },
    {
     "name": "stdout",
     "output_type": "stream",
     "text": [
      "Epoch 143/388:  37%|███▋      | 142/388 [08:00<13:56,  3.40s/it, v_num=1, train_loss_step=237, train_loss_epoch=245]"
     ]
    },
    {
     "name": "stderr",
     "output_type": "stream",
     "text": [
      "/Users/shivaramakrishna/Library/Python/3.9/lib/python/site-packages/scvi/module/_vae.py:458: UserWarning: The value argument must be within the support of the distribution\n",
      "  reconst_loss = -generative_outputs[\"px\"].log_prob(x).sum(-1)\n",
      "/Users/shivaramakrishna/Library/Python/3.9/lib/python/site-packages/scvi/module/_vae.py:458: UserWarning: The value argument must be within the support of the distribution\n",
      "  reconst_loss = -generative_outputs[\"px\"].log_prob(x).sum(-1)\n"
     ]
    },
    {
     "name": "stdout",
     "output_type": "stream",
     "text": [
      "Epoch 144/388:  37%|███▋      | 143/388 [08:03<13:50,  3.39s/it, v_num=1, train_loss_step=237, train_loss_epoch=245]"
     ]
    },
    {
     "name": "stderr",
     "output_type": "stream",
     "text": [
      "/Users/shivaramakrishna/Library/Python/3.9/lib/python/site-packages/scvi/module/_vae.py:458: UserWarning: The value argument must be within the support of the distribution\n",
      "  reconst_loss = -generative_outputs[\"px\"].log_prob(x).sum(-1)\n",
      "/Users/shivaramakrishna/Library/Python/3.9/lib/python/site-packages/scvi/module/_vae.py:458: UserWarning: The value argument must be within the support of the distribution\n",
      "  reconst_loss = -generative_outputs[\"px\"].log_prob(x).sum(-1)\n"
     ]
    },
    {
     "name": "stdout",
     "output_type": "stream",
     "text": [
      "Epoch 145/388:  37%|███▋      | 144/388 [08:07<13:48,  3.40s/it, v_num=1, train_loss_step=304, train_loss_epoch=245]"
     ]
    },
    {
     "name": "stderr",
     "output_type": "stream",
     "text": [
      "/Users/shivaramakrishna/Library/Python/3.9/lib/python/site-packages/scvi/module/_vae.py:458: UserWarning: The value argument must be within the support of the distribution\n",
      "  reconst_loss = -generative_outputs[\"px\"].log_prob(x).sum(-1)\n",
      "/Users/shivaramakrishna/Library/Python/3.9/lib/python/site-packages/scvi/module/_vae.py:458: UserWarning: The value argument must be within the support of the distribution\n",
      "  reconst_loss = -generative_outputs[\"px\"].log_prob(x).sum(-1)\n"
     ]
    },
    {
     "name": "stdout",
     "output_type": "stream",
     "text": [
      "Epoch 146/388:  37%|███▋      | 145/388 [08:10<13:38,  3.37s/it, v_num=1, train_loss_step=303, train_loss_epoch=245]"
     ]
    },
    {
     "name": "stderr",
     "output_type": "stream",
     "text": [
      "/Users/shivaramakrishna/Library/Python/3.9/lib/python/site-packages/scvi/module/_vae.py:458: UserWarning: The value argument must be within the support of the distribution\n",
      "  reconst_loss = -generative_outputs[\"px\"].log_prob(x).sum(-1)\n",
      "/Users/shivaramakrishna/Library/Python/3.9/lib/python/site-packages/scvi/module/_vae.py:458: UserWarning: The value argument must be within the support of the distribution\n",
      "  reconst_loss = -generative_outputs[\"px\"].log_prob(x).sum(-1)\n"
     ]
    },
    {
     "name": "stdout",
     "output_type": "stream",
     "text": [
      "Epoch 147/388:  38%|███▊      | 146/388 [08:13<13:29,  3.35s/it, v_num=1, train_loss_step=262, train_loss_epoch=246]"
     ]
    },
    {
     "name": "stderr",
     "output_type": "stream",
     "text": [
      "/Users/shivaramakrishna/Library/Python/3.9/lib/python/site-packages/scvi/module/_vae.py:458: UserWarning: The value argument must be within the support of the distribution\n",
      "  reconst_loss = -generative_outputs[\"px\"].log_prob(x).sum(-1)\n",
      "/Users/shivaramakrishna/Library/Python/3.9/lib/python/site-packages/scvi/module/_vae.py:458: UserWarning: The value argument must be within the support of the distribution\n",
      "  reconst_loss = -generative_outputs[\"px\"].log_prob(x).sum(-1)\n"
     ]
    },
    {
     "name": "stdout",
     "output_type": "stream",
     "text": [
      "Epoch 148/388:  38%|███▊      | 147/388 [08:17<13:27,  3.35s/it, v_num=1, train_loss_step=303, train_loss_epoch=246]"
     ]
    },
    {
     "name": "stderr",
     "output_type": "stream",
     "text": [
      "/Users/shivaramakrishna/Library/Python/3.9/lib/python/site-packages/scvi/module/_vae.py:458: UserWarning: The value argument must be within the support of the distribution\n",
      "  reconst_loss = -generative_outputs[\"px\"].log_prob(x).sum(-1)\n",
      "/Users/shivaramakrishna/Library/Python/3.9/lib/python/site-packages/scvi/module/_vae.py:458: UserWarning: The value argument must be within the support of the distribution\n",
      "  reconst_loss = -generative_outputs[\"px\"].log_prob(x).sum(-1)\n"
     ]
    },
    {
     "name": "stdout",
     "output_type": "stream",
     "text": [
      "Epoch 149/388:  38%|███▊      | 148/388 [08:20<13:19,  3.33s/it, v_num=1, train_loss_step=255, train_loss_epoch=246]"
     ]
    },
    {
     "name": "stderr",
     "output_type": "stream",
     "text": [
      "/Users/shivaramakrishna/Library/Python/3.9/lib/python/site-packages/scvi/module/_vae.py:458: UserWarning: The value argument must be within the support of the distribution\n",
      "  reconst_loss = -generative_outputs[\"px\"].log_prob(x).sum(-1)\n",
      "/Users/shivaramakrishna/Library/Python/3.9/lib/python/site-packages/scvi/module/_vae.py:458: UserWarning: The value argument must be within the support of the distribution\n",
      "  reconst_loss = -generative_outputs[\"px\"].log_prob(x).sum(-1)\n"
     ]
    },
    {
     "name": "stdout",
     "output_type": "stream",
     "text": [
      "Epoch 150/388:  38%|███▊      | 149/388 [08:23<13:22,  3.36s/it, v_num=1, train_loss_step=269, train_loss_epoch=246]"
     ]
    },
    {
     "name": "stderr",
     "output_type": "stream",
     "text": [
      "/Users/shivaramakrishna/Library/Python/3.9/lib/python/site-packages/scvi/module/_vae.py:458: UserWarning: The value argument must be within the support of the distribution\n",
      "  reconst_loss = -generative_outputs[\"px\"].log_prob(x).sum(-1)\n",
      "/Users/shivaramakrishna/Library/Python/3.9/lib/python/site-packages/scvi/module/_vae.py:458: UserWarning: The value argument must be within the support of the distribution\n",
      "  reconst_loss = -generative_outputs[\"px\"].log_prob(x).sum(-1)\n"
     ]
    },
    {
     "name": "stdout",
     "output_type": "stream",
     "text": [
      "Epoch 151/388:  39%|███▊      | 150/388 [08:27<13:26,  3.39s/it, v_num=1, train_loss_step=262, train_loss_epoch=246]"
     ]
    },
    {
     "name": "stderr",
     "output_type": "stream",
     "text": [
      "/Users/shivaramakrishna/Library/Python/3.9/lib/python/site-packages/scvi/module/_vae.py:458: UserWarning: The value argument must be within the support of the distribution\n",
      "  reconst_loss = -generative_outputs[\"px\"].log_prob(x).sum(-1)\n",
      "/Users/shivaramakrishna/Library/Python/3.9/lib/python/site-packages/scvi/module/_vae.py:458: UserWarning: The value argument must be within the support of the distribution\n",
      "  reconst_loss = -generative_outputs[\"px\"].log_prob(x).sum(-1)\n"
     ]
    },
    {
     "name": "stdout",
     "output_type": "stream",
     "text": [
      "Epoch 152/388:  39%|███▉      | 151/388 [08:30<13:24,  3.39s/it, v_num=1, train_loss_step=228, train_loss_epoch=246]"
     ]
    },
    {
     "name": "stderr",
     "output_type": "stream",
     "text": [
      "/Users/shivaramakrishna/Library/Python/3.9/lib/python/site-packages/scvi/module/_vae.py:458: UserWarning: The value argument must be within the support of the distribution\n",
      "  reconst_loss = -generative_outputs[\"px\"].log_prob(x).sum(-1)\n",
      "/Users/shivaramakrishna/Library/Python/3.9/lib/python/site-packages/scvi/module/_vae.py:458: UserWarning: The value argument must be within the support of the distribution\n",
      "  reconst_loss = -generative_outputs[\"px\"].log_prob(x).sum(-1)\n"
     ]
    },
    {
     "name": "stdout",
     "output_type": "stream",
     "text": [
      "Epoch 153/388:  39%|███▉      | 152/388 [08:33<13:12,  3.36s/it, v_num=1, train_loss_step=237, train_loss_epoch=246]"
     ]
    },
    {
     "name": "stderr",
     "output_type": "stream",
     "text": [
      "/Users/shivaramakrishna/Library/Python/3.9/lib/python/site-packages/scvi/module/_vae.py:458: UserWarning: The value argument must be within the support of the distribution\n",
      "  reconst_loss = -generative_outputs[\"px\"].log_prob(x).sum(-1)\n",
      "/Users/shivaramakrishna/Library/Python/3.9/lib/python/site-packages/scvi/module/_vae.py:458: UserWarning: The value argument must be within the support of the distribution\n",
      "  reconst_loss = -generative_outputs[\"px\"].log_prob(x).sum(-1)\n"
     ]
    },
    {
     "name": "stdout",
     "output_type": "stream",
     "text": [
      "Epoch 154/388:  39%|███▉      | 153/388 [08:37<13:11,  3.37s/it, v_num=1, train_loss_step=247, train_loss_epoch=246]"
     ]
    },
    {
     "name": "stderr",
     "output_type": "stream",
     "text": [
      "/Users/shivaramakrishna/Library/Python/3.9/lib/python/site-packages/scvi/module/_vae.py:458: UserWarning: The value argument must be within the support of the distribution\n",
      "  reconst_loss = -generative_outputs[\"px\"].log_prob(x).sum(-1)\n",
      "/Users/shivaramakrishna/Library/Python/3.9/lib/python/site-packages/scvi/module/_vae.py:458: UserWarning: The value argument must be within the support of the distribution\n",
      "  reconst_loss = -generative_outputs[\"px\"].log_prob(x).sum(-1)\n"
     ]
    },
    {
     "name": "stdout",
     "output_type": "stream",
     "text": [
      "Epoch 155/388:  40%|███▉      | 154/388 [08:41<13:33,  3.48s/it, v_num=1, train_loss_step=275, train_loss_epoch=246]"
     ]
    },
    {
     "name": "stderr",
     "output_type": "stream",
     "text": [
      "/Users/shivaramakrishna/Library/Python/3.9/lib/python/site-packages/scvi/module/_vae.py:458: UserWarning: The value argument must be within the support of the distribution\n",
      "  reconst_loss = -generative_outputs[\"px\"].log_prob(x).sum(-1)\n",
      "/Users/shivaramakrishna/Library/Python/3.9/lib/python/site-packages/scvi/module/_vae.py:458: UserWarning: The value argument must be within the support of the distribution\n",
      "  reconst_loss = -generative_outputs[\"px\"].log_prob(x).sum(-1)\n"
     ]
    },
    {
     "name": "stdout",
     "output_type": "stream",
     "text": [
      "Epoch 156/388:  40%|███▉      | 155/388 [08:44<13:38,  3.51s/it, v_num=1, train_loss_step=234, train_loss_epoch=246]"
     ]
    },
    {
     "name": "stderr",
     "output_type": "stream",
     "text": [
      "/Users/shivaramakrishna/Library/Python/3.9/lib/python/site-packages/scvi/module/_vae.py:458: UserWarning: The value argument must be within the support of the distribution\n",
      "  reconst_loss = -generative_outputs[\"px\"].log_prob(x).sum(-1)\n",
      "/Users/shivaramakrishna/Library/Python/3.9/lib/python/site-packages/scvi/module/_vae.py:458: UserWarning: The value argument must be within the support of the distribution\n",
      "  reconst_loss = -generative_outputs[\"px\"].log_prob(x).sum(-1)\n"
     ]
    },
    {
     "name": "stdout",
     "output_type": "stream",
     "text": [
      "Epoch 157/388:  40%|████      | 156/388 [08:48<13:42,  3.55s/it, v_num=1, train_loss_step=234, train_loss_epoch=246]"
     ]
    },
    {
     "name": "stderr",
     "output_type": "stream",
     "text": [
      "/Users/shivaramakrishna/Library/Python/3.9/lib/python/site-packages/scvi/module/_vae.py:458: UserWarning: The value argument must be within the support of the distribution\n",
      "  reconst_loss = -generative_outputs[\"px\"].log_prob(x).sum(-1)\n",
      "/Users/shivaramakrishna/Library/Python/3.9/lib/python/site-packages/scvi/module/_vae.py:458: UserWarning: The value argument must be within the support of the distribution\n",
      "  reconst_loss = -generative_outputs[\"px\"].log_prob(x).sum(-1)\n"
     ]
    },
    {
     "name": "stdout",
     "output_type": "stream",
     "text": [
      "Epoch 158/388:  40%|████      | 157/388 [08:52<13:54,  3.61s/it, v_num=1, train_loss_step=298, train_loss_epoch=246]"
     ]
    },
    {
     "name": "stderr",
     "output_type": "stream",
     "text": [
      "/Users/shivaramakrishna/Library/Python/3.9/lib/python/site-packages/scvi/module/_vae.py:458: UserWarning: The value argument must be within the support of the distribution\n",
      "  reconst_loss = -generative_outputs[\"px\"].log_prob(x).sum(-1)\n",
      "/Users/shivaramakrishna/Library/Python/3.9/lib/python/site-packages/scvi/module/_vae.py:458: UserWarning: The value argument must be within the support of the distribution\n",
      "  reconst_loss = -generative_outputs[\"px\"].log_prob(x).sum(-1)\n"
     ]
    },
    {
     "name": "stdout",
     "output_type": "stream",
     "text": [
      "Epoch 159/388:  41%|████      | 158/388 [08:55<14:03,  3.67s/it, v_num=1, train_loss_step=223, train_loss_epoch=246]"
     ]
    },
    {
     "name": "stderr",
     "output_type": "stream",
     "text": [
      "/Users/shivaramakrishna/Library/Python/3.9/lib/python/site-packages/scvi/module/_vae.py:458: UserWarning: The value argument must be within the support of the distribution\n",
      "  reconst_loss = -generative_outputs[\"px\"].log_prob(x).sum(-1)\n",
      "/Users/shivaramakrishna/Library/Python/3.9/lib/python/site-packages/scvi/module/_vae.py:458: UserWarning: The value argument must be within the support of the distribution\n",
      "  reconst_loss = -generative_outputs[\"px\"].log_prob(x).sum(-1)\n"
     ]
    },
    {
     "name": "stdout",
     "output_type": "stream",
     "text": [
      "Epoch 160/388:  41%|████      | 159/388 [08:59<13:59,  3.67s/it, v_num=1, train_loss_step=261, train_loss_epoch=246]"
     ]
    },
    {
     "name": "stderr",
     "output_type": "stream",
     "text": [
      "/Users/shivaramakrishna/Library/Python/3.9/lib/python/site-packages/scvi/module/_vae.py:458: UserWarning: The value argument must be within the support of the distribution\n",
      "  reconst_loss = -generative_outputs[\"px\"].log_prob(x).sum(-1)\n",
      "/Users/shivaramakrishna/Library/Python/3.9/lib/python/site-packages/scvi/module/_vae.py:458: UserWarning: The value argument must be within the support of the distribution\n",
      "  reconst_loss = -generative_outputs[\"px\"].log_prob(x).sum(-1)\n"
     ]
    },
    {
     "name": "stdout",
     "output_type": "stream",
     "text": [
      "Epoch 161/388:  41%|████      | 160/388 [09:03<13:56,  3.67s/it, v_num=1, train_loss_step=226, train_loss_epoch=246]"
     ]
    },
    {
     "name": "stderr",
     "output_type": "stream",
     "text": [
      "/Users/shivaramakrishna/Library/Python/3.9/lib/python/site-packages/scvi/module/_vae.py:458: UserWarning: The value argument must be within the support of the distribution\n",
      "  reconst_loss = -generative_outputs[\"px\"].log_prob(x).sum(-1)\n",
      "/Users/shivaramakrishna/Library/Python/3.9/lib/python/site-packages/scvi/module/_vae.py:458: UserWarning: The value argument must be within the support of the distribution\n",
      "  reconst_loss = -generative_outputs[\"px\"].log_prob(x).sum(-1)\n"
     ]
    },
    {
     "name": "stdout",
     "output_type": "stream",
     "text": [
      "Epoch 162/388:  41%|████▏     | 161/388 [09:06<13:52,  3.67s/it, v_num=1, train_loss_step=320, train_loss_epoch=246]"
     ]
    },
    {
     "name": "stderr",
     "output_type": "stream",
     "text": [
      "/Users/shivaramakrishna/Library/Python/3.9/lib/python/site-packages/scvi/module/_vae.py:458: UserWarning: The value argument must be within the support of the distribution\n",
      "  reconst_loss = -generative_outputs[\"px\"].log_prob(x).sum(-1)\n",
      "/Users/shivaramakrishna/Library/Python/3.9/lib/python/site-packages/scvi/module/_vae.py:458: UserWarning: The value argument must be within the support of the distribution\n",
      "  reconst_loss = -generative_outputs[\"px\"].log_prob(x).sum(-1)\n"
     ]
    },
    {
     "name": "stdout",
     "output_type": "stream",
     "text": [
      "Epoch 163/388:  42%|████▏     | 162/388 [09:10<13:50,  3.67s/it, v_num=1, train_loss_step=269, train_loss_epoch=246]"
     ]
    },
    {
     "name": "stderr",
     "output_type": "stream",
     "text": [
      "/Users/shivaramakrishna/Library/Python/3.9/lib/python/site-packages/scvi/module/_vae.py:458: UserWarning: The value argument must be within the support of the distribution\n",
      "  reconst_loss = -generative_outputs[\"px\"].log_prob(x).sum(-1)\n",
      "/Users/shivaramakrishna/Library/Python/3.9/lib/python/site-packages/scvi/module/_vae.py:458: UserWarning: The value argument must be within the support of the distribution\n",
      "  reconst_loss = -generative_outputs[\"px\"].log_prob(x).sum(-1)\n"
     ]
    },
    {
     "name": "stdout",
     "output_type": "stream",
     "text": [
      "Epoch 164/388:  42%|████▏     | 163/388 [09:14<13:47,  3.68s/it, v_num=1, train_loss_step=235, train_loss_epoch=246]"
     ]
    },
    {
     "name": "stderr",
     "output_type": "stream",
     "text": [
      "/Users/shivaramakrishna/Library/Python/3.9/lib/python/site-packages/scvi/module/_vae.py:458: UserWarning: The value argument must be within the support of the distribution\n",
      "  reconst_loss = -generative_outputs[\"px\"].log_prob(x).sum(-1)\n",
      "/Users/shivaramakrishna/Library/Python/3.9/lib/python/site-packages/scvi/module/_vae.py:458: UserWarning: The value argument must be within the support of the distribution\n",
      "  reconst_loss = -generative_outputs[\"px\"].log_prob(x).sum(-1)\n"
     ]
    },
    {
     "name": "stdout",
     "output_type": "stream",
     "text": [
      "Epoch 165/388:  42%|████▏     | 164/388 [09:17<13:41,  3.67s/it, v_num=1, train_loss_step=293, train_loss_epoch=246]"
     ]
    },
    {
     "name": "stderr",
     "output_type": "stream",
     "text": [
      "/Users/shivaramakrishna/Library/Python/3.9/lib/python/site-packages/scvi/module/_vae.py:458: UserWarning: The value argument must be within the support of the distribution\n",
      "  reconst_loss = -generative_outputs[\"px\"].log_prob(x).sum(-1)\n",
      "/Users/shivaramakrishna/Library/Python/3.9/lib/python/site-packages/scvi/module/_vae.py:458: UserWarning: The value argument must be within the support of the distribution\n",
      "  reconst_loss = -generative_outputs[\"px\"].log_prob(x).sum(-1)\n"
     ]
    },
    {
     "name": "stdout",
     "output_type": "stream",
     "text": [
      "Epoch 166/388:  43%|████▎     | 165/388 [09:21<13:37,  3.67s/it, v_num=1, train_loss_step=272, train_loss_epoch=246]"
     ]
    },
    {
     "name": "stderr",
     "output_type": "stream",
     "text": [
      "/Users/shivaramakrishna/Library/Python/3.9/lib/python/site-packages/scvi/module/_vae.py:458: UserWarning: The value argument must be within the support of the distribution\n",
      "  reconst_loss = -generative_outputs[\"px\"].log_prob(x).sum(-1)\n",
      "/Users/shivaramakrishna/Library/Python/3.9/lib/python/site-packages/scvi/module/_vae.py:458: UserWarning: The value argument must be within the support of the distribution\n",
      "  reconst_loss = -generative_outputs[\"px\"].log_prob(x).sum(-1)\n"
     ]
    },
    {
     "name": "stdout",
     "output_type": "stream",
     "text": [
      "Epoch 167/388:  43%|████▎     | 166/388 [09:25<13:38,  3.69s/it, v_num=1, train_loss_step=291, train_loss_epoch=246]"
     ]
    },
    {
     "name": "stderr",
     "output_type": "stream",
     "text": [
      "/Users/shivaramakrishna/Library/Python/3.9/lib/python/site-packages/scvi/module/_vae.py:458: UserWarning: The value argument must be within the support of the distribution\n",
      "  reconst_loss = -generative_outputs[\"px\"].log_prob(x).sum(-1)\n",
      "/Users/shivaramakrishna/Library/Python/3.9/lib/python/site-packages/scvi/module/_vae.py:458: UserWarning: The value argument must be within the support of the distribution\n",
      "  reconst_loss = -generative_outputs[\"px\"].log_prob(x).sum(-1)\n"
     ]
    },
    {
     "name": "stdout",
     "output_type": "stream",
     "text": [
      "Epoch 168/388:  43%|████▎     | 167/388 [09:28<13:31,  3.67s/it, v_num=1, train_loss_step=282, train_loss_epoch=246]"
     ]
    },
    {
     "name": "stderr",
     "output_type": "stream",
     "text": [
      "/Users/shivaramakrishna/Library/Python/3.9/lib/python/site-packages/scvi/module/_vae.py:458: UserWarning: The value argument must be within the support of the distribution\n",
      "  reconst_loss = -generative_outputs[\"px\"].log_prob(x).sum(-1)\n",
      "/Users/shivaramakrishna/Library/Python/3.9/lib/python/site-packages/scvi/module/_vae.py:458: UserWarning: The value argument must be within the support of the distribution\n",
      "  reconst_loss = -generative_outputs[\"px\"].log_prob(x).sum(-1)\n"
     ]
    },
    {
     "name": "stdout",
     "output_type": "stream",
     "text": [
      "Epoch 169/388:  43%|████▎     | 168/388 [09:32<13:26,  3.67s/it, v_num=1, train_loss_step=267, train_loss_epoch=246]"
     ]
    },
    {
     "name": "stderr",
     "output_type": "stream",
     "text": [
      "/Users/shivaramakrishna/Library/Python/3.9/lib/python/site-packages/scvi/module/_vae.py:458: UserWarning: The value argument must be within the support of the distribution\n",
      "  reconst_loss = -generative_outputs[\"px\"].log_prob(x).sum(-1)\n",
      "/Users/shivaramakrishna/Library/Python/3.9/lib/python/site-packages/scvi/module/_vae.py:458: UserWarning: The value argument must be within the support of the distribution\n",
      "  reconst_loss = -generative_outputs[\"px\"].log_prob(x).sum(-1)\n"
     ]
    },
    {
     "name": "stdout",
     "output_type": "stream",
     "text": [
      "Epoch 170/388:  44%|████▎     | 169/388 [09:36<13:24,  3.67s/it, v_num=1, train_loss_step=255, train_loss_epoch=246]"
     ]
    },
    {
     "name": "stderr",
     "output_type": "stream",
     "text": [
      "/Users/shivaramakrishna/Library/Python/3.9/lib/python/site-packages/scvi/module/_vae.py:458: UserWarning: The value argument must be within the support of the distribution\n",
      "  reconst_loss = -generative_outputs[\"px\"].log_prob(x).sum(-1)\n",
      "/Users/shivaramakrishna/Library/Python/3.9/lib/python/site-packages/scvi/module/_vae.py:458: UserWarning: The value argument must be within the support of the distribution\n",
      "  reconst_loss = -generative_outputs[\"px\"].log_prob(x).sum(-1)\n"
     ]
    },
    {
     "name": "stdout",
     "output_type": "stream",
     "text": [
      "Epoch 171/388:  44%|████▍     | 170/388 [09:39<13:11,  3.63s/it, v_num=1, train_loss_step=342, train_loss_epoch=246]"
     ]
    },
    {
     "name": "stderr",
     "output_type": "stream",
     "text": [
      "/Users/shivaramakrishna/Library/Python/3.9/lib/python/site-packages/scvi/module/_vae.py:458: UserWarning: The value argument must be within the support of the distribution\n",
      "  reconst_loss = -generative_outputs[\"px\"].log_prob(x).sum(-1)\n",
      "/Users/shivaramakrishna/Library/Python/3.9/lib/python/site-packages/scvi/module/_vae.py:458: UserWarning: The value argument must be within the support of the distribution\n",
      "  reconst_loss = -generative_outputs[\"px\"].log_prob(x).sum(-1)\n"
     ]
    },
    {
     "name": "stdout",
     "output_type": "stream",
     "text": [
      "Epoch 172/388:  44%|████▍     | 171/388 [09:43<13:14,  3.66s/it, v_num=1, train_loss_step=268, train_loss_epoch=246]"
     ]
    },
    {
     "name": "stderr",
     "output_type": "stream",
     "text": [
      "/Users/shivaramakrishna/Library/Python/3.9/lib/python/site-packages/scvi/module/_vae.py:458: UserWarning: The value argument must be within the support of the distribution\n",
      "  reconst_loss = -generative_outputs[\"px\"].log_prob(x).sum(-1)\n",
      "/Users/shivaramakrishna/Library/Python/3.9/lib/python/site-packages/scvi/module/_vae.py:458: UserWarning: The value argument must be within the support of the distribution\n",
      "  reconst_loss = -generative_outputs[\"px\"].log_prob(x).sum(-1)\n"
     ]
    },
    {
     "name": "stdout",
     "output_type": "stream",
     "text": [
      "Epoch 173/388:  44%|████▍     | 172/388 [09:47<13:11,  3.66s/it, v_num=1, train_loss_step=230, train_loss_epoch=246]"
     ]
    },
    {
     "name": "stderr",
     "output_type": "stream",
     "text": [
      "/Users/shivaramakrishna/Library/Python/3.9/lib/python/site-packages/scvi/module/_vae.py:458: UserWarning: The value argument must be within the support of the distribution\n",
      "  reconst_loss = -generative_outputs[\"px\"].log_prob(x).sum(-1)\n",
      "/Users/shivaramakrishna/Library/Python/3.9/lib/python/site-packages/scvi/module/_vae.py:458: UserWarning: The value argument must be within the support of the distribution\n",
      "  reconst_loss = -generative_outputs[\"px\"].log_prob(x).sum(-1)\n"
     ]
    },
    {
     "name": "stdout",
     "output_type": "stream",
     "text": [
      "Epoch 174/388:  45%|████▍     | 173/388 [09:50<13:08,  3.67s/it, v_num=1, train_loss_step=303, train_loss_epoch=246]"
     ]
    },
    {
     "name": "stderr",
     "output_type": "stream",
     "text": [
      "/Users/shivaramakrishna/Library/Python/3.9/lib/python/site-packages/scvi/module/_vae.py:458: UserWarning: The value argument must be within the support of the distribution\n",
      "  reconst_loss = -generative_outputs[\"px\"].log_prob(x).sum(-1)\n",
      "/Users/shivaramakrishna/Library/Python/3.9/lib/python/site-packages/scvi/module/_vae.py:458: UserWarning: The value argument must be within the support of the distribution\n",
      "  reconst_loss = -generative_outputs[\"px\"].log_prob(x).sum(-1)\n"
     ]
    },
    {
     "name": "stdout",
     "output_type": "stream",
     "text": [
      "Epoch 175/388:  45%|████▍     | 174/388 [09:54<13:05,  3.67s/it, v_num=1, train_loss_step=229, train_loss_epoch=246]"
     ]
    },
    {
     "name": "stderr",
     "output_type": "stream",
     "text": [
      "/Users/shivaramakrishna/Library/Python/3.9/lib/python/site-packages/scvi/module/_vae.py:458: UserWarning: The value argument must be within the support of the distribution\n",
      "  reconst_loss = -generative_outputs[\"px\"].log_prob(x).sum(-1)\n",
      "/Users/shivaramakrishna/Library/Python/3.9/lib/python/site-packages/scvi/module/_vae.py:458: UserWarning: The value argument must be within the support of the distribution\n",
      "  reconst_loss = -generative_outputs[\"px\"].log_prob(x).sum(-1)\n"
     ]
    },
    {
     "name": "stdout",
     "output_type": "stream",
     "text": [
      "Epoch 176/388:  45%|████▌     | 175/388 [09:58<12:58,  3.66s/it, v_num=1, train_loss_step=269, train_loss_epoch=246]"
     ]
    },
    {
     "name": "stderr",
     "output_type": "stream",
     "text": [
      "/Users/shivaramakrishna/Library/Python/3.9/lib/python/site-packages/scvi/module/_vae.py:458: UserWarning: The value argument must be within the support of the distribution\n",
      "  reconst_loss = -generative_outputs[\"px\"].log_prob(x).sum(-1)\n",
      "/Users/shivaramakrishna/Library/Python/3.9/lib/python/site-packages/scvi/module/_vae.py:458: UserWarning: The value argument must be within the support of the distribution\n",
      "  reconst_loss = -generative_outputs[\"px\"].log_prob(x).sum(-1)\n"
     ]
    },
    {
     "name": "stdout",
     "output_type": "stream",
     "text": [
      "Epoch 177/388:  45%|████▌     | 176/388 [10:01<12:57,  3.67s/it, v_num=1, train_loss_step=326, train_loss_epoch=246]"
     ]
    },
    {
     "name": "stderr",
     "output_type": "stream",
     "text": [
      "/Users/shivaramakrishna/Library/Python/3.9/lib/python/site-packages/scvi/module/_vae.py:458: UserWarning: The value argument must be within the support of the distribution\n",
      "  reconst_loss = -generative_outputs[\"px\"].log_prob(x).sum(-1)\n",
      "/Users/shivaramakrishna/Library/Python/3.9/lib/python/site-packages/scvi/module/_vae.py:458: UserWarning: The value argument must be within the support of the distribution\n",
      "  reconst_loss = -generative_outputs[\"px\"].log_prob(x).sum(-1)\n"
     ]
    },
    {
     "name": "stdout",
     "output_type": "stream",
     "text": [
      "Epoch 178/388:  46%|████▌     | 177/388 [10:05<12:50,  3.65s/it, v_num=1, train_loss_step=241, train_loss_epoch=246]"
     ]
    },
    {
     "name": "stderr",
     "output_type": "stream",
     "text": [
      "/Users/shivaramakrishna/Library/Python/3.9/lib/python/site-packages/scvi/module/_vae.py:458: UserWarning: The value argument must be within the support of the distribution\n",
      "  reconst_loss = -generative_outputs[\"px\"].log_prob(x).sum(-1)\n",
      "/Users/shivaramakrishna/Library/Python/3.9/lib/python/site-packages/scvi/module/_vae.py:458: UserWarning: The value argument must be within the support of the distribution\n",
      "  reconst_loss = -generative_outputs[\"px\"].log_prob(x).sum(-1)\n"
     ]
    },
    {
     "name": "stdout",
     "output_type": "stream",
     "text": [
      "Epoch 179/388:  46%|████▌     | 178/388 [10:09<12:46,  3.65s/it, v_num=1, train_loss_step=251, train_loss_epoch=246]"
     ]
    },
    {
     "name": "stderr",
     "output_type": "stream",
     "text": [
      "/Users/shivaramakrishna/Library/Python/3.9/lib/python/site-packages/scvi/module/_vae.py:458: UserWarning: The value argument must be within the support of the distribution\n",
      "  reconst_loss = -generative_outputs[\"px\"].log_prob(x).sum(-1)\n",
      "/Users/shivaramakrishna/Library/Python/3.9/lib/python/site-packages/scvi/module/_vae.py:458: UserWarning: The value argument must be within the support of the distribution\n",
      "  reconst_loss = -generative_outputs[\"px\"].log_prob(x).sum(-1)\n"
     ]
    },
    {
     "name": "stdout",
     "output_type": "stream",
     "text": [
      "Epoch 180/388:  46%|████▌     | 179/388 [10:12<12:46,  3.67s/it, v_num=1, train_loss_step=279, train_loss_epoch=246]"
     ]
    },
    {
     "name": "stderr",
     "output_type": "stream",
     "text": [
      "/Users/shivaramakrishna/Library/Python/3.9/lib/python/site-packages/scvi/module/_vae.py:458: UserWarning: The value argument must be within the support of the distribution\n",
      "  reconst_loss = -generative_outputs[\"px\"].log_prob(x).sum(-1)\n",
      "/Users/shivaramakrishna/Library/Python/3.9/lib/python/site-packages/scvi/module/_vae.py:458: UserWarning: The value argument must be within the support of the distribution\n",
      "  reconst_loss = -generative_outputs[\"px\"].log_prob(x).sum(-1)\n"
     ]
    },
    {
     "name": "stdout",
     "output_type": "stream",
     "text": [
      "Epoch 181/388:  46%|████▋     | 180/388 [10:16<12:39,  3.65s/it, v_num=1, train_loss_step=253, train_loss_epoch=246]"
     ]
    },
    {
     "name": "stderr",
     "output_type": "stream",
     "text": [
      "/Users/shivaramakrishna/Library/Python/3.9/lib/python/site-packages/scvi/module/_vae.py:458: UserWarning: The value argument must be within the support of the distribution\n",
      "  reconst_loss = -generative_outputs[\"px\"].log_prob(x).sum(-1)\n",
      "/Users/shivaramakrishna/Library/Python/3.9/lib/python/site-packages/scvi/module/_vae.py:458: UserWarning: The value argument must be within the support of the distribution\n",
      "  reconst_loss = -generative_outputs[\"px\"].log_prob(x).sum(-1)\n"
     ]
    },
    {
     "name": "stdout",
     "output_type": "stream",
     "text": [
      "Epoch 182/388:  47%|████▋     | 181/388 [10:20<12:30,  3.62s/it, v_num=1, train_loss_step=243, train_loss_epoch=246]"
     ]
    },
    {
     "name": "stderr",
     "output_type": "stream",
     "text": [
      "/Users/shivaramakrishna/Library/Python/3.9/lib/python/site-packages/scvi/module/_vae.py:458: UserWarning: The value argument must be within the support of the distribution\n",
      "  reconst_loss = -generative_outputs[\"px\"].log_prob(x).sum(-1)\n",
      "/Users/shivaramakrishna/Library/Python/3.9/lib/python/site-packages/scvi/module/_vae.py:458: UserWarning: The value argument must be within the support of the distribution\n",
      "  reconst_loss = -generative_outputs[\"px\"].log_prob(x).sum(-1)\n"
     ]
    },
    {
     "name": "stdout",
     "output_type": "stream",
     "text": [
      "Epoch 183/388:  47%|████▋     | 182/388 [10:23<12:26,  3.62s/it, v_num=1, train_loss_step=313, train_loss_epoch=246]"
     ]
    },
    {
     "name": "stderr",
     "output_type": "stream",
     "text": [
      "/Users/shivaramakrishna/Library/Python/3.9/lib/python/site-packages/scvi/module/_vae.py:458: UserWarning: The value argument must be within the support of the distribution\n",
      "  reconst_loss = -generative_outputs[\"px\"].log_prob(x).sum(-1)\n",
      "/Users/shivaramakrishna/Library/Python/3.9/lib/python/site-packages/scvi/module/_vae.py:458: UserWarning: The value argument must be within the support of the distribution\n",
      "  reconst_loss = -generative_outputs[\"px\"].log_prob(x).sum(-1)\n"
     ]
    },
    {
     "name": "stdout",
     "output_type": "stream",
     "text": [
      "Epoch 184/388:  47%|████▋     | 183/388 [10:27<12:28,  3.65s/it, v_num=1, train_loss_step=275, train_loss_epoch=246]"
     ]
    },
    {
     "name": "stderr",
     "output_type": "stream",
     "text": [
      "/Users/shivaramakrishna/Library/Python/3.9/lib/python/site-packages/scvi/module/_vae.py:458: UserWarning: The value argument must be within the support of the distribution\n",
      "  reconst_loss = -generative_outputs[\"px\"].log_prob(x).sum(-1)\n",
      "/Users/shivaramakrishna/Library/Python/3.9/lib/python/site-packages/scvi/module/_vae.py:458: UserWarning: The value argument must be within the support of the distribution\n",
      "  reconst_loss = -generative_outputs[\"px\"].log_prob(x).sum(-1)\n"
     ]
    },
    {
     "name": "stdout",
     "output_type": "stream",
     "text": [
      "Epoch 185/388:  47%|████▋     | 184/388 [10:31<12:25,  3.65s/it, v_num=1, train_loss_step=236, train_loss_epoch=246]"
     ]
    },
    {
     "name": "stderr",
     "output_type": "stream",
     "text": [
      "/Users/shivaramakrishna/Library/Python/3.9/lib/python/site-packages/scvi/module/_vae.py:458: UserWarning: The value argument must be within the support of the distribution\n",
      "  reconst_loss = -generative_outputs[\"px\"].log_prob(x).sum(-1)\n",
      "/Users/shivaramakrishna/Library/Python/3.9/lib/python/site-packages/scvi/module/_vae.py:458: UserWarning: The value argument must be within the support of the distribution\n",
      "  reconst_loss = -generative_outputs[\"px\"].log_prob(x).sum(-1)\n"
     ]
    },
    {
     "name": "stdout",
     "output_type": "stream",
     "text": [
      "Epoch 186/388:  48%|████▊     | 185/388 [10:34<12:18,  3.64s/it, v_num=1, train_loss_step=306, train_loss_epoch=246]"
     ]
    },
    {
     "name": "stderr",
     "output_type": "stream",
     "text": [
      "/Users/shivaramakrishna/Library/Python/3.9/lib/python/site-packages/scvi/module/_vae.py:458: UserWarning: The value argument must be within the support of the distribution\n",
      "  reconst_loss = -generative_outputs[\"px\"].log_prob(x).sum(-1)\n",
      "/Users/shivaramakrishna/Library/Python/3.9/lib/python/site-packages/scvi/module/_vae.py:458: UserWarning: The value argument must be within the support of the distribution\n",
      "  reconst_loss = -generative_outputs[\"px\"].log_prob(x).sum(-1)\n"
     ]
    },
    {
     "name": "stdout",
     "output_type": "stream",
     "text": [
      "Epoch 187/388:  48%|████▊     | 186/388 [10:38<12:12,  3.62s/it, v_num=1, train_loss_step=279, train_loss_epoch=246]"
     ]
    },
    {
     "name": "stderr",
     "output_type": "stream",
     "text": [
      "/Users/shivaramakrishna/Library/Python/3.9/lib/python/site-packages/scvi/module/_vae.py:458: UserWarning: The value argument must be within the support of the distribution\n",
      "  reconst_loss = -generative_outputs[\"px\"].log_prob(x).sum(-1)\n",
      "/Users/shivaramakrishna/Library/Python/3.9/lib/python/site-packages/scvi/module/_vae.py:458: UserWarning: The value argument must be within the support of the distribution\n",
      "  reconst_loss = -generative_outputs[\"px\"].log_prob(x).sum(-1)\n"
     ]
    },
    {
     "name": "stdout",
     "output_type": "stream",
     "text": [
      "Epoch 188/388:  48%|████▊     | 187/388 [10:41<12:13,  3.65s/it, v_num=1, train_loss_step=253, train_loss_epoch=246]"
     ]
    },
    {
     "name": "stderr",
     "output_type": "stream",
     "text": [
      "/Users/shivaramakrishna/Library/Python/3.9/lib/python/site-packages/scvi/module/_vae.py:458: UserWarning: The value argument must be within the support of the distribution\n",
      "  reconst_loss = -generative_outputs[\"px\"].log_prob(x).sum(-1)\n",
      "/Users/shivaramakrishna/Library/Python/3.9/lib/python/site-packages/scvi/module/_vae.py:458: UserWarning: The value argument must be within the support of the distribution\n",
      "  reconst_loss = -generative_outputs[\"px\"].log_prob(x).sum(-1)\n"
     ]
    },
    {
     "name": "stdout",
     "output_type": "stream",
     "text": [
      "Epoch 189/388:  48%|████▊     | 188/388 [10:45<12:13,  3.67s/it, v_num=1, train_loss_step=301, train_loss_epoch=247]"
     ]
    },
    {
     "name": "stderr",
     "output_type": "stream",
     "text": [
      "/Users/shivaramakrishna/Library/Python/3.9/lib/python/site-packages/scvi/module/_vae.py:458: UserWarning: The value argument must be within the support of the distribution\n",
      "  reconst_loss = -generative_outputs[\"px\"].log_prob(x).sum(-1)\n",
      "/Users/shivaramakrishna/Library/Python/3.9/lib/python/site-packages/scvi/module/_vae.py:458: UserWarning: The value argument must be within the support of the distribution\n",
      "  reconst_loss = -generative_outputs[\"px\"].log_prob(x).sum(-1)\n"
     ]
    },
    {
     "name": "stdout",
     "output_type": "stream",
     "text": [
      "Epoch 190/388:  49%|████▊     | 189/388 [10:49<12:07,  3.66s/it, v_num=1, train_loss_step=255, train_loss_epoch=247]"
     ]
    },
    {
     "name": "stderr",
     "output_type": "stream",
     "text": [
      "/Users/shivaramakrishna/Library/Python/3.9/lib/python/site-packages/scvi/module/_vae.py:458: UserWarning: The value argument must be within the support of the distribution\n",
      "  reconst_loss = -generative_outputs[\"px\"].log_prob(x).sum(-1)\n",
      "/Users/shivaramakrishna/Library/Python/3.9/lib/python/site-packages/scvi/module/_vae.py:458: UserWarning: The value argument must be within the support of the distribution\n",
      "  reconst_loss = -generative_outputs[\"px\"].log_prob(x).sum(-1)\n"
     ]
    },
    {
     "name": "stdout",
     "output_type": "stream",
     "text": [
      "Epoch 191/388:  49%|████▉     | 190/388 [10:52<12:04,  3.66s/it, v_num=1, train_loss_step=241, train_loss_epoch=247]"
     ]
    },
    {
     "name": "stderr",
     "output_type": "stream",
     "text": [
      "/Users/shivaramakrishna/Library/Python/3.9/lib/python/site-packages/scvi/module/_vae.py:458: UserWarning: The value argument must be within the support of the distribution\n",
      "  reconst_loss = -generative_outputs[\"px\"].log_prob(x).sum(-1)\n",
      "/Users/shivaramakrishna/Library/Python/3.9/lib/python/site-packages/scvi/module/_vae.py:458: UserWarning: The value argument must be within the support of the distribution\n",
      "  reconst_loss = -generative_outputs[\"px\"].log_prob(x).sum(-1)\n"
     ]
    },
    {
     "name": "stdout",
     "output_type": "stream",
     "text": [
      "Epoch 192/388:  49%|████▉     | 191/388 [10:56<12:04,  3.68s/it, v_num=1, train_loss_step=295, train_loss_epoch=247]"
     ]
    },
    {
     "name": "stderr",
     "output_type": "stream",
     "text": [
      "/Users/shivaramakrishna/Library/Python/3.9/lib/python/site-packages/scvi/module/_vae.py:458: UserWarning: The value argument must be within the support of the distribution\n",
      "  reconst_loss = -generative_outputs[\"px\"].log_prob(x).sum(-1)\n",
      "/Users/shivaramakrishna/Library/Python/3.9/lib/python/site-packages/scvi/module/_vae.py:458: UserWarning: The value argument must be within the support of the distribution\n",
      "  reconst_loss = -generative_outputs[\"px\"].log_prob(x).sum(-1)\n"
     ]
    },
    {
     "name": "stdout",
     "output_type": "stream",
     "text": [
      "Epoch 193/388:  49%|████▉     | 192/388 [11:00<12:02,  3.69s/it, v_num=1, train_loss_step=265, train_loss_epoch=247]"
     ]
    },
    {
     "name": "stderr",
     "output_type": "stream",
     "text": [
      "/Users/shivaramakrishna/Library/Python/3.9/lib/python/site-packages/scvi/module/_vae.py:458: UserWarning: The value argument must be within the support of the distribution\n",
      "  reconst_loss = -generative_outputs[\"px\"].log_prob(x).sum(-1)\n",
      "/Users/shivaramakrishna/Library/Python/3.9/lib/python/site-packages/scvi/module/_vae.py:458: UserWarning: The value argument must be within the support of the distribution\n",
      "  reconst_loss = -generative_outputs[\"px\"].log_prob(x).sum(-1)\n"
     ]
    },
    {
     "name": "stdout",
     "output_type": "stream",
     "text": [
      "Epoch 194/388:  50%|████▉     | 193/388 [11:03<11:54,  3.67s/it, v_num=1, train_loss_step=295, train_loss_epoch=247]"
     ]
    },
    {
     "name": "stderr",
     "output_type": "stream",
     "text": [
      "/Users/shivaramakrishna/Library/Python/3.9/lib/python/site-packages/scvi/module/_vae.py:458: UserWarning: The value argument must be within the support of the distribution\n",
      "  reconst_loss = -generative_outputs[\"px\"].log_prob(x).sum(-1)\n",
      "/Users/shivaramakrishna/Library/Python/3.9/lib/python/site-packages/scvi/module/_vae.py:458: UserWarning: The value argument must be within the support of the distribution\n",
      "  reconst_loss = -generative_outputs[\"px\"].log_prob(x).sum(-1)\n"
     ]
    },
    {
     "name": "stdout",
     "output_type": "stream",
     "text": [
      "Epoch 195/388:  50%|█████     | 194/388 [11:07<11:51,  3.67s/it, v_num=1, train_loss_step=280, train_loss_epoch=247]"
     ]
    },
    {
     "name": "stderr",
     "output_type": "stream",
     "text": [
      "/Users/shivaramakrishna/Library/Python/3.9/lib/python/site-packages/scvi/module/_vae.py:458: UserWarning: The value argument must be within the support of the distribution\n",
      "  reconst_loss = -generative_outputs[\"px\"].log_prob(x).sum(-1)\n",
      "/Users/shivaramakrishna/Library/Python/3.9/lib/python/site-packages/scvi/module/_vae.py:458: UserWarning: The value argument must be within the support of the distribution\n",
      "  reconst_loss = -generative_outputs[\"px\"].log_prob(x).sum(-1)\n"
     ]
    },
    {
     "name": "stdout",
     "output_type": "stream",
     "text": [
      "Epoch 196/388:  50%|█████     | 195/388 [11:11<11:46,  3.66s/it, v_num=1, train_loss_step=331, train_loss_epoch=247]"
     ]
    },
    {
     "name": "stderr",
     "output_type": "stream",
     "text": [
      "/Users/shivaramakrishna/Library/Python/3.9/lib/python/site-packages/scvi/module/_vae.py:458: UserWarning: The value argument must be within the support of the distribution\n",
      "  reconst_loss = -generative_outputs[\"px\"].log_prob(x).sum(-1)\n",
      "/Users/shivaramakrishna/Library/Python/3.9/lib/python/site-packages/scvi/module/_vae.py:458: UserWarning: The value argument must be within the support of the distribution\n",
      "  reconst_loss = -generative_outputs[\"px\"].log_prob(x).sum(-1)\n"
     ]
    },
    {
     "name": "stdout",
     "output_type": "stream",
     "text": [
      "Epoch 197/388:  51%|█████     | 196/388 [11:15<11:46,  3.68s/it, v_num=1, train_loss_step=291, train_loss_epoch=247]"
     ]
    },
    {
     "name": "stderr",
     "output_type": "stream",
     "text": [
      "/Users/shivaramakrishna/Library/Python/3.9/lib/python/site-packages/scvi/module/_vae.py:458: UserWarning: The value argument must be within the support of the distribution\n",
      "  reconst_loss = -generative_outputs[\"px\"].log_prob(x).sum(-1)\n",
      "/Users/shivaramakrishna/Library/Python/3.9/lib/python/site-packages/scvi/module/_vae.py:458: UserWarning: The value argument must be within the support of the distribution\n",
      "  reconst_loss = -generative_outputs[\"px\"].log_prob(x).sum(-1)\n"
     ]
    },
    {
     "name": "stdout",
     "output_type": "stream",
     "text": [
      "Epoch 198/388:  51%|█████     | 197/388 [11:18<11:41,  3.67s/it, v_num=1, train_loss_step=235, train_loss_epoch=247]"
     ]
    },
    {
     "name": "stderr",
     "output_type": "stream",
     "text": [
      "/Users/shivaramakrishna/Library/Python/3.9/lib/python/site-packages/scvi/module/_vae.py:458: UserWarning: The value argument must be within the support of the distribution\n",
      "  reconst_loss = -generative_outputs[\"px\"].log_prob(x).sum(-1)\n",
      "/Users/shivaramakrishna/Library/Python/3.9/lib/python/site-packages/scvi/module/_vae.py:458: UserWarning: The value argument must be within the support of the distribution\n",
      "  reconst_loss = -generative_outputs[\"px\"].log_prob(x).sum(-1)\n"
     ]
    },
    {
     "name": "stdout",
     "output_type": "stream",
     "text": [
      "Epoch 199/388:  51%|█████     | 198/388 [11:22<11:38,  3.68s/it, v_num=1, train_loss_step=292, train_loss_epoch=247]"
     ]
    },
    {
     "name": "stderr",
     "output_type": "stream",
     "text": [
      "/Users/shivaramakrishna/Library/Python/3.9/lib/python/site-packages/scvi/module/_vae.py:458: UserWarning: The value argument must be within the support of the distribution\n",
      "  reconst_loss = -generative_outputs[\"px\"].log_prob(x).sum(-1)\n",
      "/Users/shivaramakrishna/Library/Python/3.9/lib/python/site-packages/scvi/module/_vae.py:458: UserWarning: The value argument must be within the support of the distribution\n",
      "  reconst_loss = -generative_outputs[\"px\"].log_prob(x).sum(-1)\n"
     ]
    },
    {
     "name": "stdout",
     "output_type": "stream",
     "text": [
      "Epoch 200/388:  51%|█████▏    | 199/388 [11:26<11:31,  3.66s/it, v_num=1, train_loss_step=256, train_loss_epoch=247]"
     ]
    },
    {
     "name": "stderr",
     "output_type": "stream",
     "text": [
      "/Users/shivaramakrishna/Library/Python/3.9/lib/python/site-packages/scvi/module/_vae.py:458: UserWarning: The value argument must be within the support of the distribution\n",
      "  reconst_loss = -generative_outputs[\"px\"].log_prob(x).sum(-1)\n",
      "/Users/shivaramakrishna/Library/Python/3.9/lib/python/site-packages/scvi/module/_vae.py:458: UserWarning: The value argument must be within the support of the distribution\n",
      "  reconst_loss = -generative_outputs[\"px\"].log_prob(x).sum(-1)\n"
     ]
    },
    {
     "name": "stdout",
     "output_type": "stream",
     "text": [
      "Epoch 201/388:  52%|█████▏    | 200/388 [11:29<11:27,  3.66s/it, v_num=1, train_loss_step=226, train_loss_epoch=247]"
     ]
    },
    {
     "name": "stderr",
     "output_type": "stream",
     "text": [
      "/Users/shivaramakrishna/Library/Python/3.9/lib/python/site-packages/scvi/module/_vae.py:458: UserWarning: The value argument must be within the support of the distribution\n",
      "  reconst_loss = -generative_outputs[\"px\"].log_prob(x).sum(-1)\n",
      "/Users/shivaramakrishna/Library/Python/3.9/lib/python/site-packages/scvi/module/_vae.py:458: UserWarning: The value argument must be within the support of the distribution\n",
      "  reconst_loss = -generative_outputs[\"px\"].log_prob(x).sum(-1)\n"
     ]
    },
    {
     "name": "stdout",
     "output_type": "stream",
     "text": [
      "Epoch 202/388:  52%|█████▏    | 201/388 [11:33<11:26,  3.67s/it, v_num=1, train_loss_step=234, train_loss_epoch=247]"
     ]
    },
    {
     "name": "stderr",
     "output_type": "stream",
     "text": [
      "/Users/shivaramakrishna/Library/Python/3.9/lib/python/site-packages/scvi/module/_vae.py:458: UserWarning: The value argument must be within the support of the distribution\n",
      "  reconst_loss = -generative_outputs[\"px\"].log_prob(x).sum(-1)\n",
      "/Users/shivaramakrishna/Library/Python/3.9/lib/python/site-packages/scvi/module/_vae.py:458: UserWarning: The value argument must be within the support of the distribution\n",
      "  reconst_loss = -generative_outputs[\"px\"].log_prob(x).sum(-1)\n"
     ]
    },
    {
     "name": "stdout",
     "output_type": "stream",
     "text": [
      "Epoch 203/388:  52%|█████▏    | 202/388 [11:36<11:19,  3.65s/it, v_num=1, train_loss_step=272, train_loss_epoch=247]"
     ]
    },
    {
     "name": "stderr",
     "output_type": "stream",
     "text": [
      "/Users/shivaramakrishna/Library/Python/3.9/lib/python/site-packages/scvi/module/_vae.py:458: UserWarning: The value argument must be within the support of the distribution\n",
      "  reconst_loss = -generative_outputs[\"px\"].log_prob(x).sum(-1)\n",
      "/Users/shivaramakrishna/Library/Python/3.9/lib/python/site-packages/scvi/module/_vae.py:458: UserWarning: The value argument must be within the support of the distribution\n",
      "  reconst_loss = -generative_outputs[\"px\"].log_prob(x).sum(-1)\n"
     ]
    },
    {
     "name": "stdout",
     "output_type": "stream",
     "text": [
      "Epoch 204/388:  52%|█████▏    | 203/388 [11:40<11:14,  3.65s/it, v_num=1, train_loss_step=295, train_loss_epoch=247]"
     ]
    },
    {
     "name": "stderr",
     "output_type": "stream",
     "text": [
      "/Users/shivaramakrishna/Library/Python/3.9/lib/python/site-packages/scvi/module/_vae.py:458: UserWarning: The value argument must be within the support of the distribution\n",
      "  reconst_loss = -generative_outputs[\"px\"].log_prob(x).sum(-1)\n",
      "/Users/shivaramakrishna/Library/Python/3.9/lib/python/site-packages/scvi/module/_vae.py:458: UserWarning: The value argument must be within the support of the distribution\n",
      "  reconst_loss = -generative_outputs[\"px\"].log_prob(x).sum(-1)\n"
     ]
    },
    {
     "name": "stdout",
     "output_type": "stream",
     "text": [
      "Epoch 205/388:  53%|█████▎    | 204/388 [11:44<11:15,  3.67s/it, v_num=1, train_loss_step=289, train_loss_epoch=247]"
     ]
    },
    {
     "name": "stderr",
     "output_type": "stream",
     "text": [
      "/Users/shivaramakrishna/Library/Python/3.9/lib/python/site-packages/scvi/module/_vae.py:458: UserWarning: The value argument must be within the support of the distribution\n",
      "  reconst_loss = -generative_outputs[\"px\"].log_prob(x).sum(-1)\n",
      "/Users/shivaramakrishna/Library/Python/3.9/lib/python/site-packages/scvi/module/_vae.py:458: UserWarning: The value argument must be within the support of the distribution\n",
      "  reconst_loss = -generative_outputs[\"px\"].log_prob(x).sum(-1)\n"
     ]
    },
    {
     "name": "stdout",
     "output_type": "stream",
     "text": [
      "Epoch 206/388:  53%|█████▎    | 205/388 [11:48<11:13,  3.68s/it, v_num=1, train_loss_step=228, train_loss_epoch=247]"
     ]
    },
    {
     "name": "stderr",
     "output_type": "stream",
     "text": [
      "/Users/shivaramakrishna/Library/Python/3.9/lib/python/site-packages/scvi/module/_vae.py:458: UserWarning: The value argument must be within the support of the distribution\n",
      "  reconst_loss = -generative_outputs[\"px\"].log_prob(x).sum(-1)\n",
      "/Users/shivaramakrishna/Library/Python/3.9/lib/python/site-packages/scvi/module/_vae.py:458: UserWarning: The value argument must be within the support of the distribution\n",
      "  reconst_loss = -generative_outputs[\"px\"].log_prob(x).sum(-1)\n"
     ]
    },
    {
     "name": "stdout",
     "output_type": "stream",
     "text": [
      "Epoch 207/388:  53%|█████▎    | 206/388 [11:51<11:11,  3.69s/it, v_num=1, train_loss_step=249, train_loss_epoch=247]"
     ]
    },
    {
     "name": "stderr",
     "output_type": "stream",
     "text": [
      "/Users/shivaramakrishna/Library/Python/3.9/lib/python/site-packages/scvi/module/_vae.py:458: UserWarning: The value argument must be within the support of the distribution\n",
      "  reconst_loss = -generative_outputs[\"px\"].log_prob(x).sum(-1)\n",
      "/Users/shivaramakrishna/Library/Python/3.9/lib/python/site-packages/scvi/module/_vae.py:458: UserWarning: The value argument must be within the support of the distribution\n",
      "  reconst_loss = -generative_outputs[\"px\"].log_prob(x).sum(-1)\n"
     ]
    },
    {
     "name": "stdout",
     "output_type": "stream",
     "text": [
      "Epoch 208/388:  53%|█████▎    | 207/388 [11:55<11:09,  3.70s/it, v_num=1, train_loss_step=275, train_loss_epoch=247]"
     ]
    },
    {
     "name": "stderr",
     "output_type": "stream",
     "text": [
      "/Users/shivaramakrishna/Library/Python/3.9/lib/python/site-packages/scvi/module/_vae.py:458: UserWarning: The value argument must be within the support of the distribution\n",
      "  reconst_loss = -generative_outputs[\"px\"].log_prob(x).sum(-1)\n",
      "/Users/shivaramakrishna/Library/Python/3.9/lib/python/site-packages/scvi/module/_vae.py:458: UserWarning: The value argument must be within the support of the distribution\n",
      "  reconst_loss = -generative_outputs[\"px\"].log_prob(x).sum(-1)\n"
     ]
    },
    {
     "name": "stdout",
     "output_type": "stream",
     "text": [
      "Epoch 209/388:  54%|█████▎    | 208/388 [11:59<11:04,  3.69s/it, v_num=1, train_loss_step=279, train_loss_epoch=247]"
     ]
    },
    {
     "name": "stderr",
     "output_type": "stream",
     "text": [
      "/Users/shivaramakrishna/Library/Python/3.9/lib/python/site-packages/scvi/module/_vae.py:458: UserWarning: The value argument must be within the support of the distribution\n",
      "  reconst_loss = -generative_outputs[\"px\"].log_prob(x).sum(-1)\n",
      "/Users/shivaramakrishna/Library/Python/3.9/lib/python/site-packages/scvi/module/_vae.py:458: UserWarning: The value argument must be within the support of the distribution\n",
      "  reconst_loss = -generative_outputs[\"px\"].log_prob(x).sum(-1)\n"
     ]
    },
    {
     "name": "stdout",
     "output_type": "stream",
     "text": [
      "Epoch 210/388:  54%|█████▍    | 209/388 [12:02<10:58,  3.68s/it, v_num=1, train_loss_step=251, train_loss_epoch=247]"
     ]
    },
    {
     "name": "stderr",
     "output_type": "stream",
     "text": [
      "/Users/shivaramakrishna/Library/Python/3.9/lib/python/site-packages/scvi/module/_vae.py:458: UserWarning: The value argument must be within the support of the distribution\n",
      "  reconst_loss = -generative_outputs[\"px\"].log_prob(x).sum(-1)\n",
      "/Users/shivaramakrishna/Library/Python/3.9/lib/python/site-packages/scvi/module/_vae.py:458: UserWarning: The value argument must be within the support of the distribution\n",
      "  reconst_loss = -generative_outputs[\"px\"].log_prob(x).sum(-1)\n"
     ]
    },
    {
     "name": "stdout",
     "output_type": "stream",
     "text": [
      "Epoch 211/388:  54%|█████▍    | 210/388 [12:06<10:55,  3.68s/it, v_num=1, train_loss_step=219, train_loss_epoch=247]"
     ]
    },
    {
     "name": "stderr",
     "output_type": "stream",
     "text": [
      "/Users/shivaramakrishna/Library/Python/3.9/lib/python/site-packages/scvi/module/_vae.py:458: UserWarning: The value argument must be within the support of the distribution\n",
      "  reconst_loss = -generative_outputs[\"px\"].log_prob(x).sum(-1)\n",
      "/Users/shivaramakrishna/Library/Python/3.9/lib/python/site-packages/scvi/module/_vae.py:458: UserWarning: The value argument must be within the support of the distribution\n",
      "  reconst_loss = -generative_outputs[\"px\"].log_prob(x).sum(-1)\n"
     ]
    },
    {
     "name": "stdout",
     "output_type": "stream",
     "text": [
      "Epoch 212/388:  54%|█████▍    | 211/388 [12:10<10:46,  3.65s/it, v_num=1, train_loss_step=256, train_loss_epoch=247]"
     ]
    },
    {
     "name": "stderr",
     "output_type": "stream",
     "text": [
      "/Users/shivaramakrishna/Library/Python/3.9/lib/python/site-packages/scvi/module/_vae.py:458: UserWarning: The value argument must be within the support of the distribution\n",
      "  reconst_loss = -generative_outputs[\"px\"].log_prob(x).sum(-1)\n",
      "/Users/shivaramakrishna/Library/Python/3.9/lib/python/site-packages/scvi/module/_vae.py:458: UserWarning: The value argument must be within the support of the distribution\n",
      "  reconst_loss = -generative_outputs[\"px\"].log_prob(x).sum(-1)\n"
     ]
    },
    {
     "name": "stdout",
     "output_type": "stream",
     "text": [
      "Epoch 213/388:  55%|█████▍    | 212/388 [12:13<10:45,  3.67s/it, v_num=1, train_loss_step=237, train_loss_epoch=247]"
     ]
    },
    {
     "name": "stderr",
     "output_type": "stream",
     "text": [
      "/Users/shivaramakrishna/Library/Python/3.9/lib/python/site-packages/scvi/module/_vae.py:458: UserWarning: The value argument must be within the support of the distribution\n",
      "  reconst_loss = -generative_outputs[\"px\"].log_prob(x).sum(-1)\n",
      "/Users/shivaramakrishna/Library/Python/3.9/lib/python/site-packages/scvi/module/_vae.py:458: UserWarning: The value argument must be within the support of the distribution\n",
      "  reconst_loss = -generative_outputs[\"px\"].log_prob(x).sum(-1)\n"
     ]
    },
    {
     "name": "stdout",
     "output_type": "stream",
     "text": [
      "Epoch 214/388:  55%|█████▍    | 213/388 [12:17<10:36,  3.64s/it, v_num=1, train_loss_step=272, train_loss_epoch=247]"
     ]
    },
    {
     "name": "stderr",
     "output_type": "stream",
     "text": [
      "/Users/shivaramakrishna/Library/Python/3.9/lib/python/site-packages/scvi/module/_vae.py:458: UserWarning: The value argument must be within the support of the distribution\n",
      "  reconst_loss = -generative_outputs[\"px\"].log_prob(x).sum(-1)\n",
      "/Users/shivaramakrishna/Library/Python/3.9/lib/python/site-packages/scvi/module/_vae.py:458: UserWarning: The value argument must be within the support of the distribution\n",
      "  reconst_loss = -generative_outputs[\"px\"].log_prob(x).sum(-1)\n"
     ]
    },
    {
     "name": "stdout",
     "output_type": "stream",
     "text": [
      "Epoch 215/388:  55%|█████▌    | 214/388 [12:20<10:33,  3.64s/it, v_num=1, train_loss_step=243, train_loss_epoch=247]"
     ]
    },
    {
     "name": "stderr",
     "output_type": "stream",
     "text": [
      "/Users/shivaramakrishna/Library/Python/3.9/lib/python/site-packages/scvi/module/_vae.py:458: UserWarning: The value argument must be within the support of the distribution\n",
      "  reconst_loss = -generative_outputs[\"px\"].log_prob(x).sum(-1)\n",
      "/Users/shivaramakrishna/Library/Python/3.9/lib/python/site-packages/scvi/module/_vae.py:458: UserWarning: The value argument must be within the support of the distribution\n",
      "  reconst_loss = -generative_outputs[\"px\"].log_prob(x).sum(-1)\n"
     ]
    },
    {
     "name": "stdout",
     "output_type": "stream",
     "text": [
      "Epoch 216/388:  55%|█████▌    | 215/388 [12:24<10:32,  3.66s/it, v_num=1, train_loss_step=229, train_loss_epoch=247]"
     ]
    },
    {
     "name": "stderr",
     "output_type": "stream",
     "text": [
      "/Users/shivaramakrishna/Library/Python/3.9/lib/python/site-packages/scvi/module/_vae.py:458: UserWarning: The value argument must be within the support of the distribution\n",
      "  reconst_loss = -generative_outputs[\"px\"].log_prob(x).sum(-1)\n",
      "/Users/shivaramakrishna/Library/Python/3.9/lib/python/site-packages/scvi/module/_vae.py:458: UserWarning: The value argument must be within the support of the distribution\n",
      "  reconst_loss = -generative_outputs[\"px\"].log_prob(x).sum(-1)\n"
     ]
    },
    {
     "name": "stdout",
     "output_type": "stream",
     "text": [
      "Epoch 217/388:  56%|█████▌    | 216/388 [12:28<10:32,  3.68s/it, v_num=1, train_loss_step=271, train_loss_epoch=247]"
     ]
    },
    {
     "name": "stderr",
     "output_type": "stream",
     "text": [
      "/Users/shivaramakrishna/Library/Python/3.9/lib/python/site-packages/scvi/module/_vae.py:458: UserWarning: The value argument must be within the support of the distribution\n",
      "  reconst_loss = -generative_outputs[\"px\"].log_prob(x).sum(-1)\n",
      "/Users/shivaramakrishna/Library/Python/3.9/lib/python/site-packages/scvi/module/_vae.py:458: UserWarning: The value argument must be within the support of the distribution\n",
      "  reconst_loss = -generative_outputs[\"px\"].log_prob(x).sum(-1)\n"
     ]
    },
    {
     "name": "stdout",
     "output_type": "stream",
     "text": [
      "Epoch 218/388:  56%|█████▌    | 217/388 [12:32<10:26,  3.66s/it, v_num=1, train_loss_step=260, train_loss_epoch=247]"
     ]
    },
    {
     "name": "stderr",
     "output_type": "stream",
     "text": [
      "/Users/shivaramakrishna/Library/Python/3.9/lib/python/site-packages/scvi/module/_vae.py:458: UserWarning: The value argument must be within the support of the distribution\n",
      "  reconst_loss = -generative_outputs[\"px\"].log_prob(x).sum(-1)\n",
      "/Users/shivaramakrishna/Library/Python/3.9/lib/python/site-packages/scvi/module/_vae.py:458: UserWarning: The value argument must be within the support of the distribution\n",
      "  reconst_loss = -generative_outputs[\"px\"].log_prob(x).sum(-1)\n"
     ]
    },
    {
     "name": "stdout",
     "output_type": "stream",
     "text": [
      "Epoch 219/388:  56%|█████▌    | 218/388 [12:35<10:23,  3.67s/it, v_num=1, train_loss_step=320, train_loss_epoch=247]"
     ]
    },
    {
     "name": "stderr",
     "output_type": "stream",
     "text": [
      "/Users/shivaramakrishna/Library/Python/3.9/lib/python/site-packages/scvi/module/_vae.py:458: UserWarning: The value argument must be within the support of the distribution\n",
      "  reconst_loss = -generative_outputs[\"px\"].log_prob(x).sum(-1)\n",
      "/Users/shivaramakrishna/Library/Python/3.9/lib/python/site-packages/scvi/module/_vae.py:458: UserWarning: The value argument must be within the support of the distribution\n",
      "  reconst_loss = -generative_outputs[\"px\"].log_prob(x).sum(-1)\n"
     ]
    },
    {
     "name": "stdout",
     "output_type": "stream",
     "text": [
      "Epoch 220/388:  56%|█████▋    | 219/388 [12:39<10:13,  3.63s/it, v_num=1, train_loss_step=246, train_loss_epoch=247]"
     ]
    },
    {
     "name": "stderr",
     "output_type": "stream",
     "text": [
      "/Users/shivaramakrishna/Library/Python/3.9/lib/python/site-packages/scvi/module/_vae.py:458: UserWarning: The value argument must be within the support of the distribution\n",
      "  reconst_loss = -generative_outputs[\"px\"].log_prob(x).sum(-1)\n",
      "/Users/shivaramakrishna/Library/Python/3.9/lib/python/site-packages/scvi/module/_vae.py:458: UserWarning: The value argument must be within the support of the distribution\n",
      "  reconst_loss = -generative_outputs[\"px\"].log_prob(x).sum(-1)\n"
     ]
    },
    {
     "name": "stdout",
     "output_type": "stream",
     "text": [
      "Epoch 221/388:  57%|█████▋    | 220/388 [12:42<10:11,  3.64s/it, v_num=1, train_loss_step=254, train_loss_epoch=247]"
     ]
    },
    {
     "name": "stderr",
     "output_type": "stream",
     "text": [
      "/Users/shivaramakrishna/Library/Python/3.9/lib/python/site-packages/scvi/module/_vae.py:458: UserWarning: The value argument must be within the support of the distribution\n",
      "  reconst_loss = -generative_outputs[\"px\"].log_prob(x).sum(-1)\n",
      "/Users/shivaramakrishna/Library/Python/3.9/lib/python/site-packages/scvi/module/_vae.py:458: UserWarning: The value argument must be within the support of the distribution\n",
      "  reconst_loss = -generative_outputs[\"px\"].log_prob(x).sum(-1)\n"
     ]
    },
    {
     "name": "stdout",
     "output_type": "stream",
     "text": [
      "Epoch 222/388:  57%|█████▋    | 221/388 [12:46<10:05,  3.62s/it, v_num=1, train_loss_step=221, train_loss_epoch=247]"
     ]
    },
    {
     "name": "stderr",
     "output_type": "stream",
     "text": [
      "/Users/shivaramakrishna/Library/Python/3.9/lib/python/site-packages/scvi/module/_vae.py:458: UserWarning: The value argument must be within the support of the distribution\n",
      "  reconst_loss = -generative_outputs[\"px\"].log_prob(x).sum(-1)\n",
      "/Users/shivaramakrishna/Library/Python/3.9/lib/python/site-packages/scvi/module/_vae.py:458: UserWarning: The value argument must be within the support of the distribution\n",
      "  reconst_loss = -generative_outputs[\"px\"].log_prob(x).sum(-1)\n"
     ]
    },
    {
     "name": "stdout",
     "output_type": "stream",
     "text": [
      "Epoch 223/388:  57%|█████▋    | 222/388 [12:50<10:05,  3.65s/it, v_num=1, train_loss_step=313, train_loss_epoch=247]"
     ]
    },
    {
     "name": "stderr",
     "output_type": "stream",
     "text": [
      "/Users/shivaramakrishna/Library/Python/3.9/lib/python/site-packages/scvi/module/_vae.py:458: UserWarning: The value argument must be within the support of the distribution\n",
      "  reconst_loss = -generative_outputs[\"px\"].log_prob(x).sum(-1)\n",
      "/Users/shivaramakrishna/Library/Python/3.9/lib/python/site-packages/scvi/module/_vae.py:458: UserWarning: The value argument must be within the support of the distribution\n",
      "  reconst_loss = -generative_outputs[\"px\"].log_prob(x).sum(-1)\n"
     ]
    },
    {
     "name": "stdout",
     "output_type": "stream",
     "text": [
      "Epoch 224/388:  57%|█████▋    | 223/388 [12:53<10:01,  3.65s/it, v_num=1, train_loss_step=243, train_loss_epoch=248]"
     ]
    },
    {
     "name": "stderr",
     "output_type": "stream",
     "text": [
      "/Users/shivaramakrishna/Library/Python/3.9/lib/python/site-packages/scvi/module/_vae.py:458: UserWarning: The value argument must be within the support of the distribution\n",
      "  reconst_loss = -generative_outputs[\"px\"].log_prob(x).sum(-1)\n",
      "/Users/shivaramakrishna/Library/Python/3.9/lib/python/site-packages/scvi/module/_vae.py:458: UserWarning: The value argument must be within the support of the distribution\n",
      "  reconst_loss = -generative_outputs[\"px\"].log_prob(x).sum(-1)\n"
     ]
    },
    {
     "name": "stdout",
     "output_type": "stream",
     "text": [
      "Epoch 225/388:  58%|█████▊    | 224/388 [12:57<10:07,  3.70s/it, v_num=1, train_loss_step=249, train_loss_epoch=247]"
     ]
    },
    {
     "name": "stderr",
     "output_type": "stream",
     "text": [
      "/Users/shivaramakrishna/Library/Python/3.9/lib/python/site-packages/scvi/module/_vae.py:458: UserWarning: The value argument must be within the support of the distribution\n",
      "  reconst_loss = -generative_outputs[\"px\"].log_prob(x).sum(-1)\n",
      "/Users/shivaramakrishna/Library/Python/3.9/lib/python/site-packages/scvi/module/_vae.py:458: UserWarning: The value argument must be within the support of the distribution\n",
      "  reconst_loss = -generative_outputs[\"px\"].log_prob(x).sum(-1)\n"
     ]
    },
    {
     "name": "stdout",
     "output_type": "stream",
     "text": [
      "Epoch 226/388:  58%|█████▊    | 225/388 [13:01<09:55,  3.65s/it, v_num=1, train_loss_step=289, train_loss_epoch=247]"
     ]
    },
    {
     "name": "stderr",
     "output_type": "stream",
     "text": [
      "/Users/shivaramakrishna/Library/Python/3.9/lib/python/site-packages/scvi/module/_vae.py:458: UserWarning: The value argument must be within the support of the distribution\n",
      "  reconst_loss = -generative_outputs[\"px\"].log_prob(x).sum(-1)\n",
      "/Users/shivaramakrishna/Library/Python/3.9/lib/python/site-packages/scvi/module/_vae.py:458: UserWarning: The value argument must be within the support of the distribution\n",
      "  reconst_loss = -generative_outputs[\"px\"].log_prob(x).sum(-1)\n"
     ]
    },
    {
     "name": "stdout",
     "output_type": "stream",
     "text": [
      "Epoch 227/388:  58%|█████▊    | 226/388 [13:04<09:53,  3.66s/it, v_num=1, train_loss_step=265, train_loss_epoch=248]"
     ]
    },
    {
     "name": "stderr",
     "output_type": "stream",
     "text": [
      "/Users/shivaramakrishna/Library/Python/3.9/lib/python/site-packages/scvi/module/_vae.py:458: UserWarning: The value argument must be within the support of the distribution\n",
      "  reconst_loss = -generative_outputs[\"px\"].log_prob(x).sum(-1)\n",
      "/Users/shivaramakrishna/Library/Python/3.9/lib/python/site-packages/scvi/module/_vae.py:458: UserWarning: The value argument must be within the support of the distribution\n",
      "  reconst_loss = -generative_outputs[\"px\"].log_prob(x).sum(-1)\n"
     ]
    },
    {
     "name": "stdout",
     "output_type": "stream",
     "text": [
      "Epoch 228/388:  59%|█████▊    | 227/388 [13:08<09:50,  3.67s/it, v_num=1, train_loss_step=235, train_loss_epoch=247]"
     ]
    },
    {
     "name": "stderr",
     "output_type": "stream",
     "text": [
      "/Users/shivaramakrishna/Library/Python/3.9/lib/python/site-packages/scvi/module/_vae.py:458: UserWarning: The value argument must be within the support of the distribution\n",
      "  reconst_loss = -generative_outputs[\"px\"].log_prob(x).sum(-1)\n",
      "/Users/shivaramakrishna/Library/Python/3.9/lib/python/site-packages/scvi/module/_vae.py:458: UserWarning: The value argument must be within the support of the distribution\n",
      "  reconst_loss = -generative_outputs[\"px\"].log_prob(x).sum(-1)\n"
     ]
    },
    {
     "name": "stdout",
     "output_type": "stream",
     "text": [
      "Epoch 229/388:  59%|█████▉    | 228/388 [13:12<09:46,  3.66s/it, v_num=1, train_loss_step=251, train_loss_epoch=247]"
     ]
    },
    {
     "name": "stderr",
     "output_type": "stream",
     "text": [
      "/Users/shivaramakrishna/Library/Python/3.9/lib/python/site-packages/scvi/module/_vae.py:458: UserWarning: The value argument must be within the support of the distribution\n",
      "  reconst_loss = -generative_outputs[\"px\"].log_prob(x).sum(-1)\n",
      "/Users/shivaramakrishna/Library/Python/3.9/lib/python/site-packages/scvi/module/_vae.py:458: UserWarning: The value argument must be within the support of the distribution\n",
      "  reconst_loss = -generative_outputs[\"px\"].log_prob(x).sum(-1)\n"
     ]
    },
    {
     "name": "stdout",
     "output_type": "stream",
     "text": [
      "Epoch 230/388:  59%|█████▉    | 229/388 [13:15<09:39,  3.65s/it, v_num=1, train_loss_step=257, train_loss_epoch=248]"
     ]
    },
    {
     "name": "stderr",
     "output_type": "stream",
     "text": [
      "/Users/shivaramakrishna/Library/Python/3.9/lib/python/site-packages/scvi/module/_vae.py:458: UserWarning: The value argument must be within the support of the distribution\n",
      "  reconst_loss = -generative_outputs[\"px\"].log_prob(x).sum(-1)\n",
      "/Users/shivaramakrishna/Library/Python/3.9/lib/python/site-packages/scvi/module/_vae.py:458: UserWarning: The value argument must be within the support of the distribution\n",
      "  reconst_loss = -generative_outputs[\"px\"].log_prob(x).sum(-1)\n"
     ]
    },
    {
     "name": "stdout",
     "output_type": "stream",
     "text": [
      "Epoch 231/388:  59%|█████▉    | 230/388 [13:19<09:35,  3.64s/it, v_num=1, train_loss_step=287, train_loss_epoch=247]"
     ]
    },
    {
     "name": "stderr",
     "output_type": "stream",
     "text": [
      "/Users/shivaramakrishna/Library/Python/3.9/lib/python/site-packages/scvi/module/_vae.py:458: UserWarning: The value argument must be within the support of the distribution\n",
      "  reconst_loss = -generative_outputs[\"px\"].log_prob(x).sum(-1)\n",
      "/Users/shivaramakrishna/Library/Python/3.9/lib/python/site-packages/scvi/module/_vae.py:458: UserWarning: The value argument must be within the support of the distribution\n",
      "  reconst_loss = -generative_outputs[\"px\"].log_prob(x).sum(-1)\n"
     ]
    },
    {
     "name": "stdout",
     "output_type": "stream",
     "text": [
      "Epoch 232/388:  60%|█████▉    | 231/388 [13:23<09:31,  3.64s/it, v_num=1, train_loss_step=264, train_loss_epoch=248]"
     ]
    },
    {
     "name": "stderr",
     "output_type": "stream",
     "text": [
      "/Users/shivaramakrishna/Library/Python/3.9/lib/python/site-packages/scvi/module/_vae.py:458: UserWarning: The value argument must be within the support of the distribution\n",
      "  reconst_loss = -generative_outputs[\"px\"].log_prob(x).sum(-1)\n",
      "/Users/shivaramakrishna/Library/Python/3.9/lib/python/site-packages/scvi/module/_vae.py:458: UserWarning: The value argument must be within the support of the distribution\n",
      "  reconst_loss = -generative_outputs[\"px\"].log_prob(x).sum(-1)\n"
     ]
    },
    {
     "name": "stdout",
     "output_type": "stream",
     "text": [
      "Epoch 233/388:  60%|█████▉    | 232/388 [13:26<09:26,  3.63s/it, v_num=1, train_loss_step=251, train_loss_epoch=248]"
     ]
    },
    {
     "name": "stderr",
     "output_type": "stream",
     "text": [
      "/Users/shivaramakrishna/Library/Python/3.9/lib/python/site-packages/scvi/module/_vae.py:458: UserWarning: The value argument must be within the support of the distribution\n",
      "  reconst_loss = -generative_outputs[\"px\"].log_prob(x).sum(-1)\n",
      "/Users/shivaramakrishna/Library/Python/3.9/lib/python/site-packages/scvi/module/_vae.py:458: UserWarning: The value argument must be within the support of the distribution\n",
      "  reconst_loss = -generative_outputs[\"px\"].log_prob(x).sum(-1)\n"
     ]
    },
    {
     "name": "stdout",
     "output_type": "stream",
     "text": [
      "Epoch 234/388:  60%|██████    | 233/388 [13:30<09:22,  3.63s/it, v_num=1, train_loss_step=268, train_loss_epoch=248]"
     ]
    },
    {
     "name": "stderr",
     "output_type": "stream",
     "text": [
      "/Users/shivaramakrishna/Library/Python/3.9/lib/python/site-packages/scvi/module/_vae.py:458: UserWarning: The value argument must be within the support of the distribution\n",
      "  reconst_loss = -generative_outputs[\"px\"].log_prob(x).sum(-1)\n",
      "/Users/shivaramakrishna/Library/Python/3.9/lib/python/site-packages/scvi/module/_vae.py:458: UserWarning: The value argument must be within the support of the distribution\n",
      "  reconst_loss = -generative_outputs[\"px\"].log_prob(x).sum(-1)\n"
     ]
    },
    {
     "name": "stdout",
     "output_type": "stream",
     "text": [
      "Epoch 235/388:  60%|██████    | 234/388 [13:33<09:17,  3.62s/it, v_num=1, train_loss_step=271, train_loss_epoch=248]"
     ]
    },
    {
     "name": "stderr",
     "output_type": "stream",
     "text": [
      "/Users/shivaramakrishna/Library/Python/3.9/lib/python/site-packages/scvi/module/_vae.py:458: UserWarning: The value argument must be within the support of the distribution\n",
      "  reconst_loss = -generative_outputs[\"px\"].log_prob(x).sum(-1)\n",
      "/Users/shivaramakrishna/Library/Python/3.9/lib/python/site-packages/scvi/module/_vae.py:458: UserWarning: The value argument must be within the support of the distribution\n",
      "  reconst_loss = -generative_outputs[\"px\"].log_prob(x).sum(-1)\n"
     ]
    },
    {
     "name": "stdout",
     "output_type": "stream",
     "text": [
      "Epoch 236/388:  61%|██████    | 235/388 [13:37<09:13,  3.62s/it, v_num=1, train_loss_step=255, train_loss_epoch=248]"
     ]
    },
    {
     "name": "stderr",
     "output_type": "stream",
     "text": [
      "/Users/shivaramakrishna/Library/Python/3.9/lib/python/site-packages/scvi/module/_vae.py:458: UserWarning: The value argument must be within the support of the distribution\n",
      "  reconst_loss = -generative_outputs[\"px\"].log_prob(x).sum(-1)\n",
      "/Users/shivaramakrishna/Library/Python/3.9/lib/python/site-packages/scvi/module/_vae.py:458: UserWarning: The value argument must be within the support of the distribution\n",
      "  reconst_loss = -generative_outputs[\"px\"].log_prob(x).sum(-1)\n"
     ]
    },
    {
     "name": "stdout",
     "output_type": "stream",
     "text": [
      "Epoch 237/388:  61%|██████    | 236/388 [13:41<09:06,  3.60s/it, v_num=1, train_loss_step=276, train_loss_epoch=248]"
     ]
    },
    {
     "name": "stderr",
     "output_type": "stream",
     "text": [
      "/Users/shivaramakrishna/Library/Python/3.9/lib/python/site-packages/scvi/module/_vae.py:458: UserWarning: The value argument must be within the support of the distribution\n",
      "  reconst_loss = -generative_outputs[\"px\"].log_prob(x).sum(-1)\n",
      "/Users/shivaramakrishna/Library/Python/3.9/lib/python/site-packages/scvi/module/_vae.py:458: UserWarning: The value argument must be within the support of the distribution\n",
      "  reconst_loss = -generative_outputs[\"px\"].log_prob(x).sum(-1)\n"
     ]
    },
    {
     "name": "stdout",
     "output_type": "stream",
     "text": [
      "Epoch 238/388:  61%|██████    | 237/388 [13:44<09:06,  3.62s/it, v_num=1, train_loss_step=257, train_loss_epoch=248]"
     ]
    },
    {
     "name": "stderr",
     "output_type": "stream",
     "text": [
      "/Users/shivaramakrishna/Library/Python/3.9/lib/python/site-packages/scvi/module/_vae.py:458: UserWarning: The value argument must be within the support of the distribution\n",
      "  reconst_loss = -generative_outputs[\"px\"].log_prob(x).sum(-1)\n",
      "/Users/shivaramakrishna/Library/Python/3.9/lib/python/site-packages/scvi/module/_vae.py:458: UserWarning: The value argument must be within the support of the distribution\n",
      "  reconst_loss = -generative_outputs[\"px\"].log_prob(x).sum(-1)\n"
     ]
    },
    {
     "name": "stdout",
     "output_type": "stream",
     "text": [
      "Epoch 239/388:  61%|██████▏   | 238/388 [13:48<08:59,  3.60s/it, v_num=1, train_loss_step=224, train_loss_epoch=248]"
     ]
    },
    {
     "name": "stderr",
     "output_type": "stream",
     "text": [
      "/Users/shivaramakrishna/Library/Python/3.9/lib/python/site-packages/scvi/module/_vae.py:458: UserWarning: The value argument must be within the support of the distribution\n",
      "  reconst_loss = -generative_outputs[\"px\"].log_prob(x).sum(-1)\n",
      "/Users/shivaramakrishna/Library/Python/3.9/lib/python/site-packages/scvi/module/_vae.py:458: UserWarning: The value argument must be within the support of the distribution\n",
      "  reconst_loss = -generative_outputs[\"px\"].log_prob(x).sum(-1)\n"
     ]
    },
    {
     "name": "stdout",
     "output_type": "stream",
     "text": [
      "Epoch 240/388:  62%|██████▏   | 239/388 [13:52<09:00,  3.63s/it, v_num=1, train_loss_step=288, train_loss_epoch=248]"
     ]
    },
    {
     "name": "stderr",
     "output_type": "stream",
     "text": [
      "/Users/shivaramakrishna/Library/Python/3.9/lib/python/site-packages/scvi/module/_vae.py:458: UserWarning: The value argument must be within the support of the distribution\n",
      "  reconst_loss = -generative_outputs[\"px\"].log_prob(x).sum(-1)\n",
      "/Users/shivaramakrishna/Library/Python/3.9/lib/python/site-packages/scvi/module/_vae.py:458: UserWarning: The value argument must be within the support of the distribution\n",
      "  reconst_loss = -generative_outputs[\"px\"].log_prob(x).sum(-1)\n"
     ]
    },
    {
     "name": "stdout",
     "output_type": "stream",
     "text": [
      "Epoch 241/388:  62%|██████▏   | 240/388 [13:55<09:03,  3.68s/it, v_num=1, train_loss_step=271, train_loss_epoch=248]"
     ]
    },
    {
     "name": "stderr",
     "output_type": "stream",
     "text": [
      "/Users/shivaramakrishna/Library/Python/3.9/lib/python/site-packages/scvi/module/_vae.py:458: UserWarning: The value argument must be within the support of the distribution\n",
      "  reconst_loss = -generative_outputs[\"px\"].log_prob(x).sum(-1)\n",
      "/Users/shivaramakrishna/Library/Python/3.9/lib/python/site-packages/scvi/module/_vae.py:458: UserWarning: The value argument must be within the support of the distribution\n",
      "  reconst_loss = -generative_outputs[\"px\"].log_prob(x).sum(-1)\n"
     ]
    },
    {
     "name": "stdout",
     "output_type": "stream",
     "text": [
      "Epoch 242/388:  62%|██████▏   | 241/388 [13:59<09:00,  3.68s/it, v_num=1, train_loss_step=312, train_loss_epoch=248]"
     ]
    },
    {
     "name": "stderr",
     "output_type": "stream",
     "text": [
      "/Users/shivaramakrishna/Library/Python/3.9/lib/python/site-packages/scvi/module/_vae.py:458: UserWarning: The value argument must be within the support of the distribution\n",
      "  reconst_loss = -generative_outputs[\"px\"].log_prob(x).sum(-1)\n",
      "/Users/shivaramakrishna/Library/Python/3.9/lib/python/site-packages/scvi/module/_vae.py:458: UserWarning: The value argument must be within the support of the distribution\n",
      "  reconst_loss = -generative_outputs[\"px\"].log_prob(x).sum(-1)\n"
     ]
    },
    {
     "name": "stdout",
     "output_type": "stream",
     "text": [
      "Epoch 243/388:  62%|██████▏   | 242/388 [14:03<08:53,  3.66s/it, v_num=1, train_loss_step=259, train_loss_epoch=248]"
     ]
    },
    {
     "name": "stderr",
     "output_type": "stream",
     "text": [
      "/Users/shivaramakrishna/Library/Python/3.9/lib/python/site-packages/scvi/module/_vae.py:458: UserWarning: The value argument must be within the support of the distribution\n",
      "  reconst_loss = -generative_outputs[\"px\"].log_prob(x).sum(-1)\n",
      "/Users/shivaramakrishna/Library/Python/3.9/lib/python/site-packages/scvi/module/_vae.py:458: UserWarning: The value argument must be within the support of the distribution\n",
      "  reconst_loss = -generative_outputs[\"px\"].log_prob(x).sum(-1)\n"
     ]
    },
    {
     "name": "stdout",
     "output_type": "stream",
     "text": [
      "Epoch 244/388:  63%|██████▎   | 243/388 [14:06<08:50,  3.66s/it, v_num=1, train_loss_step=249, train_loss_epoch=248]"
     ]
    },
    {
     "name": "stderr",
     "output_type": "stream",
     "text": [
      "/Users/shivaramakrishna/Library/Python/3.9/lib/python/site-packages/scvi/module/_vae.py:458: UserWarning: The value argument must be within the support of the distribution\n",
      "  reconst_loss = -generative_outputs[\"px\"].log_prob(x).sum(-1)\n",
      "/Users/shivaramakrishna/Library/Python/3.9/lib/python/site-packages/scvi/module/_vae.py:458: UserWarning: The value argument must be within the support of the distribution\n",
      "  reconst_loss = -generative_outputs[\"px\"].log_prob(x).sum(-1)\n"
     ]
    },
    {
     "name": "stdout",
     "output_type": "stream",
     "text": [
      "Epoch 245/388:  63%|██████▎   | 244/388 [14:10<08:45,  3.65s/it, v_num=1, train_loss_step=216, train_loss_epoch=248]"
     ]
    },
    {
     "name": "stderr",
     "output_type": "stream",
     "text": [
      "/Users/shivaramakrishna/Library/Python/3.9/lib/python/site-packages/scvi/module/_vae.py:458: UserWarning: The value argument must be within the support of the distribution\n",
      "  reconst_loss = -generative_outputs[\"px\"].log_prob(x).sum(-1)\n",
      "/Users/shivaramakrishna/Library/Python/3.9/lib/python/site-packages/scvi/module/_vae.py:458: UserWarning: The value argument must be within the support of the distribution\n",
      "  reconst_loss = -generative_outputs[\"px\"].log_prob(x).sum(-1)\n"
     ]
    },
    {
     "name": "stdout",
     "output_type": "stream",
     "text": [
      "Epoch 246/388:  63%|██████▎   | 245/388 [14:14<08:43,  3.66s/it, v_num=1, train_loss_step=274, train_loss_epoch=248]"
     ]
    },
    {
     "name": "stderr",
     "output_type": "stream",
     "text": [
      "/Users/shivaramakrishna/Library/Python/3.9/lib/python/site-packages/scvi/module/_vae.py:458: UserWarning: The value argument must be within the support of the distribution\n",
      "  reconst_loss = -generative_outputs[\"px\"].log_prob(x).sum(-1)\n",
      "/Users/shivaramakrishna/Library/Python/3.9/lib/python/site-packages/scvi/module/_vae.py:458: UserWarning: The value argument must be within the support of the distribution\n",
      "  reconst_loss = -generative_outputs[\"px\"].log_prob(x).sum(-1)\n"
     ]
    },
    {
     "name": "stdout",
     "output_type": "stream",
     "text": [
      "Epoch 247/388:  63%|██████▎   | 246/388 [14:17<08:41,  3.67s/it, v_num=1, train_loss_step=295, train_loss_epoch=248]"
     ]
    },
    {
     "name": "stderr",
     "output_type": "stream",
     "text": [
      "/Users/shivaramakrishna/Library/Python/3.9/lib/python/site-packages/scvi/module/_vae.py:458: UserWarning: The value argument must be within the support of the distribution\n",
      "  reconst_loss = -generative_outputs[\"px\"].log_prob(x).sum(-1)\n",
      "/Users/shivaramakrishna/Library/Python/3.9/lib/python/site-packages/scvi/module/_vae.py:458: UserWarning: The value argument must be within the support of the distribution\n",
      "  reconst_loss = -generative_outputs[\"px\"].log_prob(x).sum(-1)\n"
     ]
    },
    {
     "name": "stdout",
     "output_type": "stream",
     "text": [
      "Epoch 248/388:  64%|██████▎   | 247/388 [14:20<08:09,  3.47s/it, v_num=1, train_loss_step=289, train_loss_epoch=248]"
     ]
    },
    {
     "name": "stderr",
     "output_type": "stream",
     "text": [
      "/Users/shivaramakrishna/Library/Python/3.9/lib/python/site-packages/scvi/module/_vae.py:458: UserWarning: The value argument must be within the support of the distribution\n",
      "  reconst_loss = -generative_outputs[\"px\"].log_prob(x).sum(-1)\n",
      "/Users/shivaramakrishna/Library/Python/3.9/lib/python/site-packages/scvi/module/_vae.py:458: UserWarning: The value argument must be within the support of the distribution\n",
      "  reconst_loss = -generative_outputs[\"px\"].log_prob(x).sum(-1)\n"
     ]
    },
    {
     "name": "stdout",
     "output_type": "stream",
     "text": [
      "Epoch 249/388:  64%|██████▍   | 248/388 [14:24<08:16,  3.55s/it, v_num=1, train_loss_step=261, train_loss_epoch=248]"
     ]
    },
    {
     "name": "stderr",
     "output_type": "stream",
     "text": [
      "/Users/shivaramakrishna/Library/Python/3.9/lib/python/site-packages/scvi/module/_vae.py:458: UserWarning: The value argument must be within the support of the distribution\n",
      "  reconst_loss = -generative_outputs[\"px\"].log_prob(x).sum(-1)\n",
      "/Users/shivaramakrishna/Library/Python/3.9/lib/python/site-packages/scvi/module/_vae.py:458: UserWarning: The value argument must be within the support of the distribution\n",
      "  reconst_loss = -generative_outputs[\"px\"].log_prob(x).sum(-1)\n"
     ]
    },
    {
     "name": "stdout",
     "output_type": "stream",
     "text": [
      "Epoch 250/388:  64%|██████▍   | 249/388 [14:28<08:13,  3.55s/it, v_num=1, train_loss_step=248, train_loss_epoch=248]"
     ]
    },
    {
     "name": "stderr",
     "output_type": "stream",
     "text": [
      "/Users/shivaramakrishna/Library/Python/3.9/lib/python/site-packages/scvi/module/_vae.py:458: UserWarning: The value argument must be within the support of the distribution\n",
      "  reconst_loss = -generative_outputs[\"px\"].log_prob(x).sum(-1)\n",
      "/Users/shivaramakrishna/Library/Python/3.9/lib/python/site-packages/scvi/module/_vae.py:458: UserWarning: The value argument must be within the support of the distribution\n",
      "  reconst_loss = -generative_outputs[\"px\"].log_prob(x).sum(-1)\n"
     ]
    },
    {
     "name": "stdout",
     "output_type": "stream",
     "text": [
      "Epoch 251/388:  64%|██████▍   | 250/388 [14:31<08:12,  3.57s/it, v_num=1, train_loss_step=249, train_loss_epoch=248]"
     ]
    },
    {
     "name": "stderr",
     "output_type": "stream",
     "text": [
      "/Users/shivaramakrishna/Library/Python/3.9/lib/python/site-packages/scvi/module/_vae.py:458: UserWarning: The value argument must be within the support of the distribution\n",
      "  reconst_loss = -generative_outputs[\"px\"].log_prob(x).sum(-1)\n",
      "/Users/shivaramakrishna/Library/Python/3.9/lib/python/site-packages/scvi/module/_vae.py:458: UserWarning: The value argument must be within the support of the distribution\n",
      "  reconst_loss = -generative_outputs[\"px\"].log_prob(x).sum(-1)\n"
     ]
    },
    {
     "name": "stdout",
     "output_type": "stream",
     "text": [
      "Epoch 252/388:  65%|██████▍   | 251/388 [14:35<08:08,  3.57s/it, v_num=1, train_loss_step=245, train_loss_epoch=248]"
     ]
    },
    {
     "name": "stderr",
     "output_type": "stream",
     "text": [
      "/Users/shivaramakrishna/Library/Python/3.9/lib/python/site-packages/scvi/module/_vae.py:458: UserWarning: The value argument must be within the support of the distribution\n",
      "  reconst_loss = -generative_outputs[\"px\"].log_prob(x).sum(-1)\n",
      "/Users/shivaramakrishna/Library/Python/3.9/lib/python/site-packages/scvi/module/_vae.py:458: UserWarning: The value argument must be within the support of the distribution\n",
      "  reconst_loss = -generative_outputs[\"px\"].log_prob(x).sum(-1)\n"
     ]
    },
    {
     "name": "stdout",
     "output_type": "stream",
     "text": [
      "Epoch 253/388:  65%|██████▍   | 252/388 [14:38<08:03,  3.55s/it, v_num=1, train_loss_step=317, train_loss_epoch=248]"
     ]
    },
    {
     "name": "stderr",
     "output_type": "stream",
     "text": [
      "/Users/shivaramakrishna/Library/Python/3.9/lib/python/site-packages/scvi/module/_vae.py:458: UserWarning: The value argument must be within the support of the distribution\n",
      "  reconst_loss = -generative_outputs[\"px\"].log_prob(x).sum(-1)\n",
      "/Users/shivaramakrishna/Library/Python/3.9/lib/python/site-packages/scvi/module/_vae.py:458: UserWarning: The value argument must be within the support of the distribution\n",
      "  reconst_loss = -generative_outputs[\"px\"].log_prob(x).sum(-1)\n"
     ]
    },
    {
     "name": "stdout",
     "output_type": "stream",
     "text": [
      "Epoch 254/388:  65%|██████▌   | 253/388 [14:42<07:48,  3.47s/it, v_num=1, train_loss_step=300, train_loss_epoch=248]"
     ]
    },
    {
     "name": "stderr",
     "output_type": "stream",
     "text": [
      "/Users/shivaramakrishna/Library/Python/3.9/lib/python/site-packages/scvi/module/_vae.py:458: UserWarning: The value argument must be within the support of the distribution\n",
      "  reconst_loss = -generative_outputs[\"px\"].log_prob(x).sum(-1)\n",
      "/Users/shivaramakrishna/Library/Python/3.9/lib/python/site-packages/scvi/module/_vae.py:458: UserWarning: The value argument must be within the support of the distribution\n",
      "  reconst_loss = -generative_outputs[\"px\"].log_prob(x).sum(-1)\n"
     ]
    },
    {
     "name": "stdout",
     "output_type": "stream",
     "text": [
      "Epoch 255/388:  65%|██████▌   | 254/388 [14:45<07:42,  3.45s/it, v_num=1, train_loss_step=259, train_loss_epoch=248]"
     ]
    },
    {
     "name": "stderr",
     "output_type": "stream",
     "text": [
      "/Users/shivaramakrishna/Library/Python/3.9/lib/python/site-packages/scvi/module/_vae.py:458: UserWarning: The value argument must be within the support of the distribution\n",
      "  reconst_loss = -generative_outputs[\"px\"].log_prob(x).sum(-1)\n",
      "/Users/shivaramakrishna/Library/Python/3.9/lib/python/site-packages/scvi/module/_vae.py:458: UserWarning: The value argument must be within the support of the distribution\n",
      "  reconst_loss = -generative_outputs[\"px\"].log_prob(x).sum(-1)\n"
     ]
    },
    {
     "name": "stdout",
     "output_type": "stream",
     "text": [
      "Epoch 256/388:  66%|██████▌   | 255/388 [14:48<07:32,  3.40s/it, v_num=1, train_loss_step=277, train_loss_epoch=248]"
     ]
    },
    {
     "name": "stderr",
     "output_type": "stream",
     "text": [
      "/Users/shivaramakrishna/Library/Python/3.9/lib/python/site-packages/scvi/module/_vae.py:458: UserWarning: The value argument must be within the support of the distribution\n",
      "  reconst_loss = -generative_outputs[\"px\"].log_prob(x).sum(-1)\n",
      "/Users/shivaramakrishna/Library/Python/3.9/lib/python/site-packages/scvi/module/_vae.py:458: UserWarning: The value argument must be within the support of the distribution\n",
      "  reconst_loss = -generative_outputs[\"px\"].log_prob(x).sum(-1)\n"
     ]
    },
    {
     "name": "stdout",
     "output_type": "stream",
     "text": [
      "Epoch 257/388:  66%|██████▌   | 256/388 [14:52<07:31,  3.42s/it, v_num=1, train_loss_step=266, train_loss_epoch=248]"
     ]
    },
    {
     "name": "stderr",
     "output_type": "stream",
     "text": [
      "/Users/shivaramakrishna/Library/Python/3.9/lib/python/site-packages/scvi/module/_vae.py:458: UserWarning: The value argument must be within the support of the distribution\n",
      "  reconst_loss = -generative_outputs[\"px\"].log_prob(x).sum(-1)\n",
      "/Users/shivaramakrishna/Library/Python/3.9/lib/python/site-packages/scvi/module/_vae.py:458: UserWarning: The value argument must be within the support of the distribution\n",
      "  reconst_loss = -generative_outputs[\"px\"].log_prob(x).sum(-1)\n"
     ]
    },
    {
     "name": "stdout",
     "output_type": "stream",
     "text": [
      "Epoch 258/388:  66%|██████▌   | 257/388 [14:55<07:30,  3.44s/it, v_num=1, train_loss_step=283, train_loss_epoch=248]"
     ]
    },
    {
     "name": "stderr",
     "output_type": "stream",
     "text": [
      "/Users/shivaramakrishna/Library/Python/3.9/lib/python/site-packages/scvi/module/_vae.py:458: UserWarning: The value argument must be within the support of the distribution\n",
      "  reconst_loss = -generative_outputs[\"px\"].log_prob(x).sum(-1)\n",
      "/Users/shivaramakrishna/Library/Python/3.9/lib/python/site-packages/scvi/module/_vae.py:458: UserWarning: The value argument must be within the support of the distribution\n",
      "  reconst_loss = -generative_outputs[\"px\"].log_prob(x).sum(-1)\n"
     ]
    },
    {
     "name": "stdout",
     "output_type": "stream",
     "text": [
      "Epoch 259/388:  66%|██████▋   | 258/388 [14:59<07:26,  3.44s/it, v_num=1, train_loss_step=294, train_loss_epoch=248]"
     ]
    },
    {
     "name": "stderr",
     "output_type": "stream",
     "text": [
      "/Users/shivaramakrishna/Library/Python/3.9/lib/python/site-packages/scvi/module/_vae.py:458: UserWarning: The value argument must be within the support of the distribution\n",
      "  reconst_loss = -generative_outputs[\"px\"].log_prob(x).sum(-1)\n",
      "/Users/shivaramakrishna/Library/Python/3.9/lib/python/site-packages/scvi/module/_vae.py:458: UserWarning: The value argument must be within the support of the distribution\n",
      "  reconst_loss = -generative_outputs[\"px\"].log_prob(x).sum(-1)\n"
     ]
    },
    {
     "name": "stdout",
     "output_type": "stream",
     "text": [
      "Epoch 260/388:  67%|██████▋   | 259/388 [15:02<07:19,  3.41s/it, v_num=1, train_loss_step=233, train_loss_epoch=248]"
     ]
    },
    {
     "name": "stderr",
     "output_type": "stream",
     "text": [
      "/Users/shivaramakrishna/Library/Python/3.9/lib/python/site-packages/scvi/module/_vae.py:458: UserWarning: The value argument must be within the support of the distribution\n",
      "  reconst_loss = -generative_outputs[\"px\"].log_prob(x).sum(-1)\n",
      "/Users/shivaramakrishna/Library/Python/3.9/lib/python/site-packages/scvi/module/_vae.py:458: UserWarning: The value argument must be within the support of the distribution\n",
      "  reconst_loss = -generative_outputs[\"px\"].log_prob(x).sum(-1)\n"
     ]
    },
    {
     "name": "stdout",
     "output_type": "stream",
     "text": [
      "Epoch 261/388:  67%|██████▋   | 260/388 [15:05<07:13,  3.39s/it, v_num=1, train_loss_step=250, train_loss_epoch=248]"
     ]
    },
    {
     "name": "stderr",
     "output_type": "stream",
     "text": [
      "/Users/shivaramakrishna/Library/Python/3.9/lib/python/site-packages/scvi/module/_vae.py:458: UserWarning: The value argument must be within the support of the distribution\n",
      "  reconst_loss = -generative_outputs[\"px\"].log_prob(x).sum(-1)\n",
      "/Users/shivaramakrishna/Library/Python/3.9/lib/python/site-packages/scvi/module/_vae.py:458: UserWarning: The value argument must be within the support of the distribution\n",
      "  reconst_loss = -generative_outputs[\"px\"].log_prob(x).sum(-1)\n"
     ]
    },
    {
     "name": "stdout",
     "output_type": "stream",
     "text": [
      "Epoch 262/388:  67%|██████▋   | 261/388 [15:09<07:07,  3.37s/it, v_num=1, train_loss_step=243, train_loss_epoch=248]"
     ]
    },
    {
     "name": "stderr",
     "output_type": "stream",
     "text": [
      "/Users/shivaramakrishna/Library/Python/3.9/lib/python/site-packages/scvi/module/_vae.py:458: UserWarning: The value argument must be within the support of the distribution\n",
      "  reconst_loss = -generative_outputs[\"px\"].log_prob(x).sum(-1)\n",
      "/Users/shivaramakrishna/Library/Python/3.9/lib/python/site-packages/scvi/module/_vae.py:458: UserWarning: The value argument must be within the support of the distribution\n",
      "  reconst_loss = -generative_outputs[\"px\"].log_prob(x).sum(-1)\n"
     ]
    },
    {
     "name": "stdout",
     "output_type": "stream",
     "text": [
      "Epoch 263/388:  68%|██████▊   | 262/388 [15:12<07:05,  3.37s/it, v_num=1, train_loss_step=220, train_loss_epoch=248]"
     ]
    },
    {
     "name": "stderr",
     "output_type": "stream",
     "text": [
      "/Users/shivaramakrishna/Library/Python/3.9/lib/python/site-packages/scvi/module/_vae.py:458: UserWarning: The value argument must be within the support of the distribution\n",
      "  reconst_loss = -generative_outputs[\"px\"].log_prob(x).sum(-1)\n",
      "/Users/shivaramakrishna/Library/Python/3.9/lib/python/site-packages/scvi/module/_vae.py:458: UserWarning: The value argument must be within the support of the distribution\n",
      "  reconst_loss = -generative_outputs[\"px\"].log_prob(x).sum(-1)\n"
     ]
    },
    {
     "name": "stdout",
     "output_type": "stream",
     "text": [
      "Epoch 264/388:  68%|██████▊   | 263/388 [15:16<07:08,  3.43s/it, v_num=1, train_loss_step=254, train_loss_epoch=248]"
     ]
    },
    {
     "name": "stderr",
     "output_type": "stream",
     "text": [
      "/Users/shivaramakrishna/Library/Python/3.9/lib/python/site-packages/scvi/module/_vae.py:458: UserWarning: The value argument must be within the support of the distribution\n",
      "  reconst_loss = -generative_outputs[\"px\"].log_prob(x).sum(-1)\n",
      "/Users/shivaramakrishna/Library/Python/3.9/lib/python/site-packages/scvi/module/_vae.py:458: UserWarning: The value argument must be within the support of the distribution\n",
      "  reconst_loss = -generative_outputs[\"px\"].log_prob(x).sum(-1)\n"
     ]
    },
    {
     "name": "stdout",
     "output_type": "stream",
     "text": [
      "Epoch 265/388:  68%|██████▊   | 264/388 [15:19<07:01,  3.40s/it, v_num=1, train_loss_step=246, train_loss_epoch=249]"
     ]
    },
    {
     "name": "stderr",
     "output_type": "stream",
     "text": [
      "/Users/shivaramakrishna/Library/Python/3.9/lib/python/site-packages/scvi/module/_vae.py:458: UserWarning: The value argument must be within the support of the distribution\n",
      "  reconst_loss = -generative_outputs[\"px\"].log_prob(x).sum(-1)\n",
      "/Users/shivaramakrishna/Library/Python/3.9/lib/python/site-packages/scvi/module/_vae.py:458: UserWarning: The value argument must be within the support of the distribution\n",
      "  reconst_loss = -generative_outputs[\"px\"].log_prob(x).sum(-1)\n"
     ]
    },
    {
     "name": "stdout",
     "output_type": "stream",
     "text": [
      "Epoch 266/388:  68%|██████▊   | 265/388 [15:22<06:56,  3.38s/it, v_num=1, train_loss_step=274, train_loss_epoch=249]"
     ]
    },
    {
     "name": "stderr",
     "output_type": "stream",
     "text": [
      "/Users/shivaramakrishna/Library/Python/3.9/lib/python/site-packages/scvi/module/_vae.py:458: UserWarning: The value argument must be within the support of the distribution\n",
      "  reconst_loss = -generative_outputs[\"px\"].log_prob(x).sum(-1)\n",
      "/Users/shivaramakrishna/Library/Python/3.9/lib/python/site-packages/scvi/module/_vae.py:458: UserWarning: The value argument must be within the support of the distribution\n",
      "  reconst_loss = -generative_outputs[\"px\"].log_prob(x).sum(-1)\n"
     ]
    },
    {
     "name": "stdout",
     "output_type": "stream",
     "text": [
      "Epoch 267/388:  69%|██████▊   | 266/388 [15:26<06:55,  3.41s/it, v_num=1, train_loss_step=283, train_loss_epoch=249]"
     ]
    },
    {
     "name": "stderr",
     "output_type": "stream",
     "text": [
      "/Users/shivaramakrishna/Library/Python/3.9/lib/python/site-packages/scvi/module/_vae.py:458: UserWarning: The value argument must be within the support of the distribution\n",
      "  reconst_loss = -generative_outputs[\"px\"].log_prob(x).sum(-1)\n",
      "/Users/shivaramakrishna/Library/Python/3.9/lib/python/site-packages/scvi/module/_vae.py:458: UserWarning: The value argument must be within the support of the distribution\n",
      "  reconst_loss = -generative_outputs[\"px\"].log_prob(x).sum(-1)\n"
     ]
    },
    {
     "name": "stdout",
     "output_type": "stream",
     "text": [
      "Epoch 268/388:  69%|██████▉   | 267/388 [15:29<06:48,  3.37s/it, v_num=1, train_loss_step=305, train_loss_epoch=249]"
     ]
    },
    {
     "name": "stderr",
     "output_type": "stream",
     "text": [
      "/Users/shivaramakrishna/Library/Python/3.9/lib/python/site-packages/scvi/module/_vae.py:458: UserWarning: The value argument must be within the support of the distribution\n",
      "  reconst_loss = -generative_outputs[\"px\"].log_prob(x).sum(-1)\n",
      "/Users/shivaramakrishna/Library/Python/3.9/lib/python/site-packages/scvi/module/_vae.py:458: UserWarning: The value argument must be within the support of the distribution\n",
      "  reconst_loss = -generative_outputs[\"px\"].log_prob(x).sum(-1)\n"
     ]
    },
    {
     "name": "stdout",
     "output_type": "stream",
     "text": [
      "Epoch 269/388:  69%|██████▉   | 268/388 [15:32<06:46,  3.39s/it, v_num=1, train_loss_step=275, train_loss_epoch=249]"
     ]
    },
    {
     "name": "stderr",
     "output_type": "stream",
     "text": [
      "/Users/shivaramakrishna/Library/Python/3.9/lib/python/site-packages/scvi/module/_vae.py:458: UserWarning: The value argument must be within the support of the distribution\n",
      "  reconst_loss = -generative_outputs[\"px\"].log_prob(x).sum(-1)\n",
      "/Users/shivaramakrishna/Library/Python/3.9/lib/python/site-packages/scvi/module/_vae.py:458: UserWarning: The value argument must be within the support of the distribution\n",
      "  reconst_loss = -generative_outputs[\"px\"].log_prob(x).sum(-1)\n"
     ]
    },
    {
     "name": "stdout",
     "output_type": "stream",
     "text": [
      "Epoch 270/388:  69%|██████▉   | 269/388 [15:36<06:44,  3.40s/it, v_num=1, train_loss_step=284, train_loss_epoch=249]"
     ]
    },
    {
     "name": "stderr",
     "output_type": "stream",
     "text": [
      "/Users/shivaramakrishna/Library/Python/3.9/lib/python/site-packages/scvi/module/_vae.py:458: UserWarning: The value argument must be within the support of the distribution\n",
      "  reconst_loss = -generative_outputs[\"px\"].log_prob(x).sum(-1)\n",
      "/Users/shivaramakrishna/Library/Python/3.9/lib/python/site-packages/scvi/module/_vae.py:458: UserWarning: The value argument must be within the support of the distribution\n",
      "  reconst_loss = -generative_outputs[\"px\"].log_prob(x).sum(-1)\n"
     ]
    },
    {
     "name": "stdout",
     "output_type": "stream",
     "text": [
      "Epoch 271/388:  70%|██████▉   | 270/388 [15:39<06:39,  3.39s/it, v_num=1, train_loss_step=257, train_loss_epoch=249]"
     ]
    },
    {
     "name": "stderr",
     "output_type": "stream",
     "text": [
      "/Users/shivaramakrishna/Library/Python/3.9/lib/python/site-packages/scvi/module/_vae.py:458: UserWarning: The value argument must be within the support of the distribution\n",
      "  reconst_loss = -generative_outputs[\"px\"].log_prob(x).sum(-1)\n",
      "/Users/shivaramakrishna/Library/Python/3.9/lib/python/site-packages/scvi/module/_vae.py:458: UserWarning: The value argument must be within the support of the distribution\n",
      "  reconst_loss = -generative_outputs[\"px\"].log_prob(x).sum(-1)\n"
     ]
    },
    {
     "name": "stdout",
     "output_type": "stream",
     "text": [
      "Epoch 272/388:  70%|██████▉   | 271/388 [15:43<06:35,  3.38s/it, v_num=1, train_loss_step=321, train_loss_epoch=249]"
     ]
    },
    {
     "name": "stderr",
     "output_type": "stream",
     "text": [
      "/Users/shivaramakrishna/Library/Python/3.9/lib/python/site-packages/scvi/module/_vae.py:458: UserWarning: The value argument must be within the support of the distribution\n",
      "  reconst_loss = -generative_outputs[\"px\"].log_prob(x).sum(-1)\n",
      "/Users/shivaramakrishna/Library/Python/3.9/lib/python/site-packages/scvi/module/_vae.py:458: UserWarning: The value argument must be within the support of the distribution\n",
      "  reconst_loss = -generative_outputs[\"px\"].log_prob(x).sum(-1)\n"
     ]
    },
    {
     "name": "stdout",
     "output_type": "stream",
     "text": [
      "Epoch 273/388:  70%|███████   | 272/388 [15:46<06:32,  3.39s/it, v_num=1, train_loss_step=270, train_loss_epoch=249]"
     ]
    },
    {
     "name": "stderr",
     "output_type": "stream",
     "text": [
      "/Users/shivaramakrishna/Library/Python/3.9/lib/python/site-packages/scvi/module/_vae.py:458: UserWarning: The value argument must be within the support of the distribution\n",
      "  reconst_loss = -generative_outputs[\"px\"].log_prob(x).sum(-1)\n",
      "/Users/shivaramakrishna/Library/Python/3.9/lib/python/site-packages/scvi/module/_vae.py:458: UserWarning: The value argument must be within the support of the distribution\n",
      "  reconst_loss = -generative_outputs[\"px\"].log_prob(x).sum(-1)\n"
     ]
    },
    {
     "name": "stdout",
     "output_type": "stream",
     "text": [
      "Epoch 274/388:  70%|███████   | 273/388 [15:49<06:27,  3.37s/it, v_num=1, train_loss_step=274, train_loss_epoch=249]"
     ]
    },
    {
     "name": "stderr",
     "output_type": "stream",
     "text": [
      "/Users/shivaramakrishna/Library/Python/3.9/lib/python/site-packages/scvi/module/_vae.py:458: UserWarning: The value argument must be within the support of the distribution\n",
      "  reconst_loss = -generative_outputs[\"px\"].log_prob(x).sum(-1)\n",
      "/Users/shivaramakrishna/Library/Python/3.9/lib/python/site-packages/scvi/module/_vae.py:458: UserWarning: The value argument must be within the support of the distribution\n",
      "  reconst_loss = -generative_outputs[\"px\"].log_prob(x).sum(-1)\n"
     ]
    },
    {
     "name": "stdout",
     "output_type": "stream",
     "text": [
      "Epoch 275/388:  71%|███████   | 274/388 [15:53<06:28,  3.41s/it, v_num=1, train_loss_step=300, train_loss_epoch=249]"
     ]
    },
    {
     "name": "stderr",
     "output_type": "stream",
     "text": [
      "/Users/shivaramakrishna/Library/Python/3.9/lib/python/site-packages/scvi/module/_vae.py:458: UserWarning: The value argument must be within the support of the distribution\n",
      "  reconst_loss = -generative_outputs[\"px\"].log_prob(x).sum(-1)\n",
      "/Users/shivaramakrishna/Library/Python/3.9/lib/python/site-packages/scvi/module/_vae.py:458: UserWarning: The value argument must be within the support of the distribution\n",
      "  reconst_loss = -generative_outputs[\"px\"].log_prob(x).sum(-1)\n"
     ]
    },
    {
     "name": "stdout",
     "output_type": "stream",
     "text": [
      "Epoch 276/388:  71%|███████   | 275/388 [15:56<06:29,  3.45s/it, v_num=1, train_loss_step=267, train_loss_epoch=249]"
     ]
    },
    {
     "name": "stderr",
     "output_type": "stream",
     "text": [
      "/Users/shivaramakrishna/Library/Python/3.9/lib/python/site-packages/scvi/module/_vae.py:458: UserWarning: The value argument must be within the support of the distribution\n",
      "  reconst_loss = -generative_outputs[\"px\"].log_prob(x).sum(-1)\n",
      "/Users/shivaramakrishna/Library/Python/3.9/lib/python/site-packages/scvi/module/_vae.py:458: UserWarning: The value argument must be within the support of the distribution\n",
      "  reconst_loss = -generative_outputs[\"px\"].log_prob(x).sum(-1)\n"
     ]
    },
    {
     "name": "stdout",
     "output_type": "stream",
     "text": [
      "Epoch 277/388:  71%|███████   | 276/388 [16:00<06:27,  3.46s/it, v_num=1, train_loss_step=280, train_loss_epoch=249]"
     ]
    },
    {
     "name": "stderr",
     "output_type": "stream",
     "text": [
      "/Users/shivaramakrishna/Library/Python/3.9/lib/python/site-packages/scvi/module/_vae.py:458: UserWarning: The value argument must be within the support of the distribution\n",
      "  reconst_loss = -generative_outputs[\"px\"].log_prob(x).sum(-1)\n",
      "/Users/shivaramakrishna/Library/Python/3.9/lib/python/site-packages/scvi/module/_vae.py:458: UserWarning: The value argument must be within the support of the distribution\n",
      "  reconst_loss = -generative_outputs[\"px\"].log_prob(x).sum(-1)\n"
     ]
    },
    {
     "name": "stdout",
     "output_type": "stream",
     "text": [
      "Epoch 278/388:  71%|███████▏  | 277/388 [16:03<06:23,  3.46s/it, v_num=1, train_loss_step=264, train_loss_epoch=249]"
     ]
    },
    {
     "name": "stderr",
     "output_type": "stream",
     "text": [
      "/Users/shivaramakrishna/Library/Python/3.9/lib/python/site-packages/scvi/module/_vae.py:458: UserWarning: The value argument must be within the support of the distribution\n",
      "  reconst_loss = -generative_outputs[\"px\"].log_prob(x).sum(-1)\n",
      "/Users/shivaramakrishna/Library/Python/3.9/lib/python/site-packages/scvi/module/_vae.py:458: UserWarning: The value argument must be within the support of the distribution\n",
      "  reconst_loss = -generative_outputs[\"px\"].log_prob(x).sum(-1)\n"
     ]
    },
    {
     "name": "stdout",
     "output_type": "stream",
     "text": [
      "Epoch 279/388:  72%|███████▏  | 278/388 [16:07<06:16,  3.43s/it, v_num=1, train_loss_step=238, train_loss_epoch=249]"
     ]
    },
    {
     "name": "stderr",
     "output_type": "stream",
     "text": [
      "/Users/shivaramakrishna/Library/Python/3.9/lib/python/site-packages/scvi/module/_vae.py:458: UserWarning: The value argument must be within the support of the distribution\n",
      "  reconst_loss = -generative_outputs[\"px\"].log_prob(x).sum(-1)\n",
      "/Users/shivaramakrishna/Library/Python/3.9/lib/python/site-packages/scvi/module/_vae.py:458: UserWarning: The value argument must be within the support of the distribution\n",
      "  reconst_loss = -generative_outputs[\"px\"].log_prob(x).sum(-1)\n"
     ]
    },
    {
     "name": "stdout",
     "output_type": "stream",
     "text": [
      "Epoch 280/388:  72%|███████▏  | 279/388 [16:10<06:10,  3.40s/it, v_num=1, train_loss_step=309, train_loss_epoch=249]"
     ]
    },
    {
     "name": "stderr",
     "output_type": "stream",
     "text": [
      "/Users/shivaramakrishna/Library/Python/3.9/lib/python/site-packages/scvi/module/_vae.py:458: UserWarning: The value argument must be within the support of the distribution\n",
      "  reconst_loss = -generative_outputs[\"px\"].log_prob(x).sum(-1)\n",
      "/Users/shivaramakrishna/Library/Python/3.9/lib/python/site-packages/scvi/module/_vae.py:458: UserWarning: The value argument must be within the support of the distribution\n",
      "  reconst_loss = -generative_outputs[\"px\"].log_prob(x).sum(-1)\n"
     ]
    },
    {
     "name": "stdout",
     "output_type": "stream",
     "text": [
      "Epoch 281/388:  72%|███████▏  | 280/388 [16:13<06:11,  3.44s/it, v_num=1, train_loss_step=278, train_loss_epoch=249]"
     ]
    },
    {
     "name": "stderr",
     "output_type": "stream",
     "text": [
      "/Users/shivaramakrishna/Library/Python/3.9/lib/python/site-packages/scvi/module/_vae.py:458: UserWarning: The value argument must be within the support of the distribution\n",
      "  reconst_loss = -generative_outputs[\"px\"].log_prob(x).sum(-1)\n",
      "/Users/shivaramakrishna/Library/Python/3.9/lib/python/site-packages/scvi/module/_vae.py:458: UserWarning: The value argument must be within the support of the distribution\n",
      "  reconst_loss = -generative_outputs[\"px\"].log_prob(x).sum(-1)\n"
     ]
    },
    {
     "name": "stdout",
     "output_type": "stream",
     "text": [
      "Epoch 282/388:  72%|███████▏  | 281/388 [16:18<06:41,  3.76s/it, v_num=1, train_loss_step=276, train_loss_epoch=249]"
     ]
    },
    {
     "name": "stderr",
     "output_type": "stream",
     "text": [
      "/Users/shivaramakrishna/Library/Python/3.9/lib/python/site-packages/scvi/module/_vae.py:458: UserWarning: The value argument must be within the support of the distribution\n",
      "  reconst_loss = -generative_outputs[\"px\"].log_prob(x).sum(-1)\n",
      "/Users/shivaramakrishna/Library/Python/3.9/lib/python/site-packages/scvi/module/_vae.py:458: UserWarning: The value argument must be within the support of the distribution\n",
      "  reconst_loss = -generative_outputs[\"px\"].log_prob(x).sum(-1)\n"
     ]
    },
    {
     "name": "stdout",
     "output_type": "stream",
     "text": [
      "Epoch 283/388:  73%|███████▎  | 282/388 [16:21<06:06,  3.46s/it, v_num=1, train_loss_step=256, train_loss_epoch=249]"
     ]
    },
    {
     "name": "stderr",
     "output_type": "stream",
     "text": [
      "/Users/shivaramakrishna/Library/Python/3.9/lib/python/site-packages/scvi/module/_vae.py:458: UserWarning: The value argument must be within the support of the distribution\n",
      "  reconst_loss = -generative_outputs[\"px\"].log_prob(x).sum(-1)\n",
      "/Users/shivaramakrishna/Library/Python/3.9/lib/python/site-packages/scvi/module/_vae.py:458: UserWarning: The value argument must be within the support of the distribution\n",
      "  reconst_loss = -generative_outputs[\"px\"].log_prob(x).sum(-1)\n"
     ]
    },
    {
     "name": "stdout",
     "output_type": "stream",
     "text": [
      "Epoch 284/388:  73%|███████▎  | 283/388 [16:24<06:06,  3.49s/it, v_num=1, train_loss_step=232, train_loss_epoch=249]"
     ]
    },
    {
     "name": "stderr",
     "output_type": "stream",
     "text": [
      "/Users/shivaramakrishna/Library/Python/3.9/lib/python/site-packages/scvi/module/_vae.py:458: UserWarning: The value argument must be within the support of the distribution\n",
      "  reconst_loss = -generative_outputs[\"px\"].log_prob(x).sum(-1)\n",
      "/Users/shivaramakrishna/Library/Python/3.9/lib/python/site-packages/scvi/module/_vae.py:458: UserWarning: The value argument must be within the support of the distribution\n",
      "  reconst_loss = -generative_outputs[\"px\"].log_prob(x).sum(-1)\n"
     ]
    },
    {
     "name": "stdout",
     "output_type": "stream",
     "text": [
      "Epoch 285/388:  73%|███████▎  | 284/388 [16:27<05:35,  3.22s/it, v_num=1, train_loss_step=247, train_loss_epoch=249]"
     ]
    },
    {
     "name": "stderr",
     "output_type": "stream",
     "text": [
      "/Users/shivaramakrishna/Library/Python/3.9/lib/python/site-packages/scvi/module/_vae.py:458: UserWarning: The value argument must be within the support of the distribution\n",
      "  reconst_loss = -generative_outputs[\"px\"].log_prob(x).sum(-1)\n",
      "/Users/shivaramakrishna/Library/Python/3.9/lib/python/site-packages/scvi/module/_vae.py:458: UserWarning: The value argument must be within the support of the distribution\n",
      "  reconst_loss = -generative_outputs[\"px\"].log_prob(x).sum(-1)\n"
     ]
    },
    {
     "name": "stdout",
     "output_type": "stream",
     "text": [
      "Epoch 286/388:  73%|███████▎  | 285/388 [16:30<05:12,  3.04s/it, v_num=1, train_loss_step=302, train_loss_epoch=249]"
     ]
    },
    {
     "name": "stderr",
     "output_type": "stream",
     "text": [
      "/Users/shivaramakrishna/Library/Python/3.9/lib/python/site-packages/scvi/module/_vae.py:458: UserWarning: The value argument must be within the support of the distribution\n",
      "  reconst_loss = -generative_outputs[\"px\"].log_prob(x).sum(-1)\n",
      "/Users/shivaramakrishna/Library/Python/3.9/lib/python/site-packages/scvi/module/_vae.py:458: UserWarning: The value argument must be within the support of the distribution\n",
      "  reconst_loss = -generative_outputs[\"px\"].log_prob(x).sum(-1)\n"
     ]
    },
    {
     "name": "stdout",
     "output_type": "stream",
     "text": [
      "Epoch 287/388:  74%|███████▎  | 286/388 [16:32<04:57,  2.92s/it, v_num=1, train_loss_step=313, train_loss_epoch=249]"
     ]
    },
    {
     "name": "stderr",
     "output_type": "stream",
     "text": [
      "/Users/shivaramakrishna/Library/Python/3.9/lib/python/site-packages/scvi/module/_vae.py:458: UserWarning: The value argument must be within the support of the distribution\n",
      "  reconst_loss = -generative_outputs[\"px\"].log_prob(x).sum(-1)\n",
      "/Users/shivaramakrishna/Library/Python/3.9/lib/python/site-packages/scvi/module/_vae.py:458: UserWarning: The value argument must be within the support of the distribution\n",
      "  reconst_loss = -generative_outputs[\"px\"].log_prob(x).sum(-1)\n"
     ]
    },
    {
     "name": "stdout",
     "output_type": "stream",
     "text": [
      "Epoch 288/388:  74%|███████▍  | 287/388 [16:35<04:49,  2.87s/it, v_num=1, train_loss_step=244, train_loss_epoch=249]"
     ]
    },
    {
     "name": "stderr",
     "output_type": "stream",
     "text": [
      "/Users/shivaramakrishna/Library/Python/3.9/lib/python/site-packages/scvi/module/_vae.py:458: UserWarning: The value argument must be within the support of the distribution\n",
      "  reconst_loss = -generative_outputs[\"px\"].log_prob(x).sum(-1)\n",
      "/Users/shivaramakrishna/Library/Python/3.9/lib/python/site-packages/scvi/module/_vae.py:458: UserWarning: The value argument must be within the support of the distribution\n",
      "  reconst_loss = -generative_outputs[\"px\"].log_prob(x).sum(-1)\n"
     ]
    },
    {
     "name": "stdout",
     "output_type": "stream",
     "text": [
      "Epoch 289/388:  74%|███████▍  | 288/388 [16:37<04:37,  2.78s/it, v_num=1, train_loss_step=300, train_loss_epoch=249]"
     ]
    },
    {
     "name": "stderr",
     "output_type": "stream",
     "text": [
      "/Users/shivaramakrishna/Library/Python/3.9/lib/python/site-packages/scvi/module/_vae.py:458: UserWarning: The value argument must be within the support of the distribution\n",
      "  reconst_loss = -generative_outputs[\"px\"].log_prob(x).sum(-1)\n",
      "/Users/shivaramakrishna/Library/Python/3.9/lib/python/site-packages/scvi/module/_vae.py:458: UserWarning: The value argument must be within the support of the distribution\n",
      "  reconst_loss = -generative_outputs[\"px\"].log_prob(x).sum(-1)\n"
     ]
    },
    {
     "name": "stdout",
     "output_type": "stream",
     "text": [
      "Epoch 290/388:  74%|███████▍  | 289/388 [16:40<04:31,  2.74s/it, v_num=1, train_loss_step=246, train_loss_epoch=249]"
     ]
    },
    {
     "name": "stderr",
     "output_type": "stream",
     "text": [
      "/Users/shivaramakrishna/Library/Python/3.9/lib/python/site-packages/scvi/module/_vae.py:458: UserWarning: The value argument must be within the support of the distribution\n",
      "  reconst_loss = -generative_outputs[\"px\"].log_prob(x).sum(-1)\n",
      "/Users/shivaramakrishna/Library/Python/3.9/lib/python/site-packages/scvi/module/_vae.py:458: UserWarning: The value argument must be within the support of the distribution\n",
      "  reconst_loss = -generative_outputs[\"px\"].log_prob(x).sum(-1)\n"
     ]
    },
    {
     "name": "stdout",
     "output_type": "stream",
     "text": [
      "Epoch 291/388:  75%|███████▍  | 290/388 [16:43<04:25,  2.71s/it, v_num=1, train_loss_step=289, train_loss_epoch=249]"
     ]
    },
    {
     "name": "stderr",
     "output_type": "stream",
     "text": [
      "/Users/shivaramakrishna/Library/Python/3.9/lib/python/site-packages/scvi/module/_vae.py:458: UserWarning: The value argument must be within the support of the distribution\n",
      "  reconst_loss = -generative_outputs[\"px\"].log_prob(x).sum(-1)\n",
      "/Users/shivaramakrishna/Library/Python/3.9/lib/python/site-packages/scvi/module/_vae.py:458: UserWarning: The value argument must be within the support of the distribution\n",
      "  reconst_loss = -generative_outputs[\"px\"].log_prob(x).sum(-1)\n"
     ]
    },
    {
     "name": "stdout",
     "output_type": "stream",
     "text": [
      "Epoch 292/388:  75%|███████▌  | 291/388 [16:46<04:28,  2.77s/it, v_num=1, train_loss_step=262, train_loss_epoch=249]"
     ]
    },
    {
     "name": "stderr",
     "output_type": "stream",
     "text": [
      "/Users/shivaramakrishna/Library/Python/3.9/lib/python/site-packages/scvi/module/_vae.py:458: UserWarning: The value argument must be within the support of the distribution\n",
      "  reconst_loss = -generative_outputs[\"px\"].log_prob(x).sum(-1)\n",
      "/Users/shivaramakrishna/Library/Python/3.9/lib/python/site-packages/scvi/module/_vae.py:458: UserWarning: The value argument must be within the support of the distribution\n",
      "  reconst_loss = -generative_outputs[\"px\"].log_prob(x).sum(-1)\n"
     ]
    },
    {
     "name": "stdout",
     "output_type": "stream",
     "text": [
      "Epoch 293/388:  75%|███████▌  | 292/388 [16:49<04:54,  3.07s/it, v_num=1, train_loss_step=306, train_loss_epoch=249]"
     ]
    },
    {
     "name": "stderr",
     "output_type": "stream",
     "text": [
      "/Users/shivaramakrishna/Library/Python/3.9/lib/python/site-packages/scvi/module/_vae.py:458: UserWarning: The value argument must be within the support of the distribution\n",
      "  reconst_loss = -generative_outputs[\"px\"].log_prob(x).sum(-1)\n",
      "/Users/shivaramakrishna/Library/Python/3.9/lib/python/site-packages/scvi/module/_vae.py:458: UserWarning: The value argument must be within the support of the distribution\n",
      "  reconst_loss = -generative_outputs[\"px\"].log_prob(x).sum(-1)\n"
     ]
    },
    {
     "name": "stdout",
     "output_type": "stream",
     "text": [
      "Epoch 294/388:  76%|███████▌  | 293/388 [16:54<05:28,  3.45s/it, v_num=1, train_loss_step=253, train_loss_epoch=250]"
     ]
    },
    {
     "name": "stderr",
     "output_type": "stream",
     "text": [
      "/Users/shivaramakrishna/Library/Python/3.9/lib/python/site-packages/scvi/module/_vae.py:458: UserWarning: The value argument must be within the support of the distribution\n",
      "  reconst_loss = -generative_outputs[\"px\"].log_prob(x).sum(-1)\n",
      "/Users/shivaramakrishna/Library/Python/3.9/lib/python/site-packages/scvi/module/_vae.py:458: UserWarning: The value argument must be within the support of the distribution\n",
      "  reconst_loss = -generative_outputs[\"px\"].log_prob(x).sum(-1)\n"
     ]
    },
    {
     "name": "stdout",
     "output_type": "stream",
     "text": [
      "Epoch 295/388:  76%|███████▌  | 294/388 [16:58<05:45,  3.68s/it, v_num=1, train_loss_step=240, train_loss_epoch=249]"
     ]
    },
    {
     "name": "stderr",
     "output_type": "stream",
     "text": [
      "/Users/shivaramakrishna/Library/Python/3.9/lib/python/site-packages/scvi/module/_vae.py:458: UserWarning: The value argument must be within the support of the distribution\n",
      "  reconst_loss = -generative_outputs[\"px\"].log_prob(x).sum(-1)\n",
      "/Users/shivaramakrishna/Library/Python/3.9/lib/python/site-packages/scvi/module/_vae.py:458: UserWarning: The value argument must be within the support of the distribution\n",
      "  reconst_loss = -generative_outputs[\"px\"].log_prob(x).sum(-1)\n"
     ]
    },
    {
     "name": "stdout",
     "output_type": "stream",
     "text": [
      "Epoch 296/388:  76%|███████▌  | 295/388 [17:03<06:20,  4.09s/it, v_num=1, train_loss_step=252, train_loss_epoch=249]"
     ]
    },
    {
     "name": "stderr",
     "output_type": "stream",
     "text": [
      "/Users/shivaramakrishna/Library/Python/3.9/lib/python/site-packages/scvi/module/_vae.py:458: UserWarning: The value argument must be within the support of the distribution\n",
      "  reconst_loss = -generative_outputs[\"px\"].log_prob(x).sum(-1)\n",
      "/Users/shivaramakrishna/Library/Python/3.9/lib/python/site-packages/scvi/module/_vae.py:458: UserWarning: The value argument must be within the support of the distribution\n",
      "  reconst_loss = -generative_outputs[\"px\"].log_prob(x).sum(-1)\n"
     ]
    },
    {
     "name": "stdout",
     "output_type": "stream",
     "text": [
      "Epoch 297/388:  76%|███████▋  | 296/388 [17:06<05:57,  3.88s/it, v_num=1, train_loss_step=297, train_loss_epoch=249]"
     ]
    },
    {
     "name": "stderr",
     "output_type": "stream",
     "text": [
      "/Users/shivaramakrishna/Library/Python/3.9/lib/python/site-packages/scvi/module/_vae.py:458: UserWarning: The value argument must be within the support of the distribution\n",
      "  reconst_loss = -generative_outputs[\"px\"].log_prob(x).sum(-1)\n",
      "/Users/shivaramakrishna/Library/Python/3.9/lib/python/site-packages/scvi/module/_vae.py:458: UserWarning: The value argument must be within the support of the distribution\n",
      "  reconst_loss = -generative_outputs[\"px\"].log_prob(x).sum(-1)\n"
     ]
    },
    {
     "name": "stdout",
     "output_type": "stream",
     "text": [
      "Epoch 298/388:  77%|███████▋  | 297/388 [17:09<05:18,  3.50s/it, v_num=1, train_loss_step=236, train_loss_epoch=250]"
     ]
    },
    {
     "name": "stderr",
     "output_type": "stream",
     "text": [
      "/Users/shivaramakrishna/Library/Python/3.9/lib/python/site-packages/scvi/module/_vae.py:458: UserWarning: The value argument must be within the support of the distribution\n",
      "  reconst_loss = -generative_outputs[\"px\"].log_prob(x).sum(-1)\n",
      "/Users/shivaramakrishna/Library/Python/3.9/lib/python/site-packages/scvi/module/_vae.py:458: UserWarning: The value argument must be within the support of the distribution\n",
      "  reconst_loss = -generative_outputs[\"px\"].log_prob(x).sum(-1)\n"
     ]
    },
    {
     "name": "stdout",
     "output_type": "stream",
     "text": [
      "Epoch 299/388:  77%|███████▋  | 298/388 [17:12<05:03,  3.38s/it, v_num=1, train_loss_step=238, train_loss_epoch=249]"
     ]
    },
    {
     "name": "stderr",
     "output_type": "stream",
     "text": [
      "/Users/shivaramakrishna/Library/Python/3.9/lib/python/site-packages/scvi/module/_vae.py:458: UserWarning: The value argument must be within the support of the distribution\n",
      "  reconst_loss = -generative_outputs[\"px\"].log_prob(x).sum(-1)\n",
      "/Users/shivaramakrishna/Library/Python/3.9/lib/python/site-packages/scvi/module/_vae.py:458: UserWarning: The value argument must be within the support of the distribution\n",
      "  reconst_loss = -generative_outputs[\"px\"].log_prob(x).sum(-1)\n"
     ]
    },
    {
     "name": "stdout",
     "output_type": "stream",
     "text": [
      "Epoch 300/388:  77%|███████▋  | 299/388 [17:15<04:57,  3.34s/it, v_num=1, train_loss_step=257, train_loss_epoch=249]"
     ]
    },
    {
     "name": "stderr",
     "output_type": "stream",
     "text": [
      "/Users/shivaramakrishna/Library/Python/3.9/lib/python/site-packages/scvi/module/_vae.py:458: UserWarning: The value argument must be within the support of the distribution\n",
      "  reconst_loss = -generative_outputs[\"px\"].log_prob(x).sum(-1)\n",
      "/Users/shivaramakrishna/Library/Python/3.9/lib/python/site-packages/scvi/module/_vae.py:458: UserWarning: The value argument must be within the support of the distribution\n",
      "  reconst_loss = -generative_outputs[\"px\"].log_prob(x).sum(-1)\n"
     ]
    },
    {
     "name": "stdout",
     "output_type": "stream",
     "text": [
      "Epoch 301/388:  77%|███████▋  | 300/388 [17:19<04:53,  3.33s/it, v_num=1, train_loss_step=258, train_loss_epoch=250]"
     ]
    },
    {
     "name": "stderr",
     "output_type": "stream",
     "text": [
      "/Users/shivaramakrishna/Library/Python/3.9/lib/python/site-packages/scvi/module/_vae.py:458: UserWarning: The value argument must be within the support of the distribution\n",
      "  reconst_loss = -generative_outputs[\"px\"].log_prob(x).sum(-1)\n",
      "/Users/shivaramakrishna/Library/Python/3.9/lib/python/site-packages/scvi/module/_vae.py:458: UserWarning: The value argument must be within the support of the distribution\n",
      "  reconst_loss = -generative_outputs[\"px\"].log_prob(x).sum(-1)\n"
     ]
    },
    {
     "name": "stdout",
     "output_type": "stream",
     "text": [
      "Epoch 302/388:  78%|███████▊  | 301/388 [17:22<04:48,  3.32s/it, v_num=1, train_loss_step=286, train_loss_epoch=250]"
     ]
    },
    {
     "name": "stderr",
     "output_type": "stream",
     "text": [
      "/Users/shivaramakrishna/Library/Python/3.9/lib/python/site-packages/scvi/module/_vae.py:458: UserWarning: The value argument must be within the support of the distribution\n",
      "  reconst_loss = -generative_outputs[\"px\"].log_prob(x).sum(-1)\n",
      "/Users/shivaramakrishna/Library/Python/3.9/lib/python/site-packages/scvi/module/_vae.py:458: UserWarning: The value argument must be within the support of the distribution\n",
      "  reconst_loss = -generative_outputs[\"px\"].log_prob(x).sum(-1)\n"
     ]
    },
    {
     "name": "stdout",
     "output_type": "stream",
     "text": [
      "Epoch 303/388:  78%|███████▊  | 302/388 [17:26<04:57,  3.45s/it, v_num=1, train_loss_step=275, train_loss_epoch=250]"
     ]
    },
    {
     "name": "stderr",
     "output_type": "stream",
     "text": [
      "/Users/shivaramakrishna/Library/Python/3.9/lib/python/site-packages/scvi/module/_vae.py:458: UserWarning: The value argument must be within the support of the distribution\n",
      "  reconst_loss = -generative_outputs[\"px\"].log_prob(x).sum(-1)\n",
      "/Users/shivaramakrishna/Library/Python/3.9/lib/python/site-packages/scvi/module/_vae.py:458: UserWarning: The value argument must be within the support of the distribution\n",
      "  reconst_loss = -generative_outputs[\"px\"].log_prob(x).sum(-1)\n"
     ]
    },
    {
     "name": "stdout",
     "output_type": "stream",
     "text": [
      "Epoch 304/388:  78%|███████▊  | 303/388 [17:29<04:50,  3.42s/it, v_num=1, train_loss_step=283, train_loss_epoch=250]"
     ]
    },
    {
     "name": "stderr",
     "output_type": "stream",
     "text": [
      "/Users/shivaramakrishna/Library/Python/3.9/lib/python/site-packages/scvi/module/_vae.py:458: UserWarning: The value argument must be within the support of the distribution\n",
      "  reconst_loss = -generative_outputs[\"px\"].log_prob(x).sum(-1)\n",
      "/Users/shivaramakrishna/Library/Python/3.9/lib/python/site-packages/scvi/module/_vae.py:458: UserWarning: The value argument must be within the support of the distribution\n",
      "  reconst_loss = -generative_outputs[\"px\"].log_prob(x).sum(-1)\n"
     ]
    },
    {
     "name": "stdout",
     "output_type": "stream",
     "text": [
      "Epoch 305/388:  78%|███████▊  | 304/388 [17:32<04:43,  3.37s/it, v_num=1, train_loss_step=244, train_loss_epoch=250]"
     ]
    },
    {
     "name": "stderr",
     "output_type": "stream",
     "text": [
      "/Users/shivaramakrishna/Library/Python/3.9/lib/python/site-packages/scvi/module/_vae.py:458: UserWarning: The value argument must be within the support of the distribution\n",
      "  reconst_loss = -generative_outputs[\"px\"].log_prob(x).sum(-1)\n",
      "/Users/shivaramakrishna/Library/Python/3.9/lib/python/site-packages/scvi/module/_vae.py:458: UserWarning: The value argument must be within the support of the distribution\n",
      "  reconst_loss = -generative_outputs[\"px\"].log_prob(x).sum(-1)\n"
     ]
    },
    {
     "name": "stdout",
     "output_type": "stream",
     "text": [
      "Epoch 306/388:  79%|███████▊  | 305/388 [17:36<04:37,  3.35s/it, v_num=1, train_loss_step=270, train_loss_epoch=250]"
     ]
    },
    {
     "name": "stderr",
     "output_type": "stream",
     "text": [
      "/Users/shivaramakrishna/Library/Python/3.9/lib/python/site-packages/scvi/module/_vae.py:458: UserWarning: The value argument must be within the support of the distribution\n",
      "  reconst_loss = -generative_outputs[\"px\"].log_prob(x).sum(-1)\n",
      "/Users/shivaramakrishna/Library/Python/3.9/lib/python/site-packages/scvi/module/_vae.py:458: UserWarning: The value argument must be within the support of the distribution\n",
      "  reconst_loss = -generative_outputs[\"px\"].log_prob(x).sum(-1)\n"
     ]
    },
    {
     "name": "stdout",
     "output_type": "stream",
     "text": [
      "Epoch 307/388:  79%|███████▉  | 306/388 [17:39<04:32,  3.33s/it, v_num=1, train_loss_step=319, train_loss_epoch=250]"
     ]
    },
    {
     "name": "stderr",
     "output_type": "stream",
     "text": [
      "/Users/shivaramakrishna/Library/Python/3.9/lib/python/site-packages/scvi/module/_vae.py:458: UserWarning: The value argument must be within the support of the distribution\n",
      "  reconst_loss = -generative_outputs[\"px\"].log_prob(x).sum(-1)\n",
      "/Users/shivaramakrishna/Library/Python/3.9/lib/python/site-packages/scvi/module/_vae.py:458: UserWarning: The value argument must be within the support of the distribution\n",
      "  reconst_loss = -generative_outputs[\"px\"].log_prob(x).sum(-1)\n"
     ]
    },
    {
     "name": "stdout",
     "output_type": "stream",
     "text": [
      "Epoch 308/388:  79%|███████▉  | 307/388 [17:42<04:28,  3.31s/it, v_num=1, train_loss_step=249, train_loss_epoch=250]"
     ]
    },
    {
     "name": "stderr",
     "output_type": "stream",
     "text": [
      "/Users/shivaramakrishna/Library/Python/3.9/lib/python/site-packages/scvi/module/_vae.py:458: UserWarning: The value argument must be within the support of the distribution\n",
      "  reconst_loss = -generative_outputs[\"px\"].log_prob(x).sum(-1)\n",
      "/Users/shivaramakrishna/Library/Python/3.9/lib/python/site-packages/scvi/module/_vae.py:458: UserWarning: The value argument must be within the support of the distribution\n",
      "  reconst_loss = -generative_outputs[\"px\"].log_prob(x).sum(-1)\n"
     ]
    },
    {
     "name": "stdout",
     "output_type": "stream",
     "text": [
      "Epoch 309/388:  79%|███████▉  | 308/388 [17:46<04:26,  3.33s/it, v_num=1, train_loss_step=332, train_loss_epoch=250]"
     ]
    },
    {
     "name": "stderr",
     "output_type": "stream",
     "text": [
      "/Users/shivaramakrishna/Library/Python/3.9/lib/python/site-packages/scvi/module/_vae.py:458: UserWarning: The value argument must be within the support of the distribution\n",
      "  reconst_loss = -generative_outputs[\"px\"].log_prob(x).sum(-1)\n",
      "/Users/shivaramakrishna/Library/Python/3.9/lib/python/site-packages/scvi/module/_vae.py:458: UserWarning: The value argument must be within the support of the distribution\n",
      "  reconst_loss = -generative_outputs[\"px\"].log_prob(x).sum(-1)\n"
     ]
    },
    {
     "name": "stdout",
     "output_type": "stream",
     "text": [
      "Epoch 310/388:  80%|███████▉  | 309/388 [17:49<04:23,  3.34s/it, v_num=1, train_loss_step=295, train_loss_epoch=250]"
     ]
    },
    {
     "name": "stderr",
     "output_type": "stream",
     "text": [
      "/Users/shivaramakrishna/Library/Python/3.9/lib/python/site-packages/scvi/module/_vae.py:458: UserWarning: The value argument must be within the support of the distribution\n",
      "  reconst_loss = -generative_outputs[\"px\"].log_prob(x).sum(-1)\n",
      "/Users/shivaramakrishna/Library/Python/3.9/lib/python/site-packages/scvi/module/_vae.py:458: UserWarning: The value argument must be within the support of the distribution\n",
      "  reconst_loss = -generative_outputs[\"px\"].log_prob(x).sum(-1)\n"
     ]
    },
    {
     "name": "stdout",
     "output_type": "stream",
     "text": [
      "Epoch 311/388:  80%|███████▉  | 310/388 [17:52<04:21,  3.35s/it, v_num=1, train_loss_step=240, train_loss_epoch=250]"
     ]
    },
    {
     "name": "stderr",
     "output_type": "stream",
     "text": [
      "/Users/shivaramakrishna/Library/Python/3.9/lib/python/site-packages/scvi/module/_vae.py:458: UserWarning: The value argument must be within the support of the distribution\n",
      "  reconst_loss = -generative_outputs[\"px\"].log_prob(x).sum(-1)\n",
      "/Users/shivaramakrishna/Library/Python/3.9/lib/python/site-packages/scvi/module/_vae.py:458: UserWarning: The value argument must be within the support of the distribution\n",
      "  reconst_loss = -generative_outputs[\"px\"].log_prob(x).sum(-1)\n"
     ]
    },
    {
     "name": "stdout",
     "output_type": "stream",
     "text": [
      "Epoch 312/388:  80%|████████  | 311/388 [17:56<04:19,  3.37s/it, v_num=1, train_loss_step=276, train_loss_epoch=250]"
     ]
    },
    {
     "name": "stderr",
     "output_type": "stream",
     "text": [
      "/Users/shivaramakrishna/Library/Python/3.9/lib/python/site-packages/scvi/module/_vae.py:458: UserWarning: The value argument must be within the support of the distribution\n",
      "  reconst_loss = -generative_outputs[\"px\"].log_prob(x).sum(-1)\n",
      "/Users/shivaramakrishna/Library/Python/3.9/lib/python/site-packages/scvi/module/_vae.py:458: UserWarning: The value argument must be within the support of the distribution\n",
      "  reconst_loss = -generative_outputs[\"px\"].log_prob(x).sum(-1)\n"
     ]
    },
    {
     "name": "stdout",
     "output_type": "stream",
     "text": [
      "Epoch 313/388:  80%|████████  | 312/388 [17:59<04:16,  3.38s/it, v_num=1, train_loss_step=283, train_loss_epoch=250]"
     ]
    },
    {
     "name": "stderr",
     "output_type": "stream",
     "text": [
      "/Users/shivaramakrishna/Library/Python/3.9/lib/python/site-packages/scvi/module/_vae.py:458: UserWarning: The value argument must be within the support of the distribution\n",
      "  reconst_loss = -generative_outputs[\"px\"].log_prob(x).sum(-1)\n",
      "/Users/shivaramakrishna/Library/Python/3.9/lib/python/site-packages/scvi/module/_vae.py:458: UserWarning: The value argument must be within the support of the distribution\n",
      "  reconst_loss = -generative_outputs[\"px\"].log_prob(x).sum(-1)\n"
     ]
    },
    {
     "name": "stdout",
     "output_type": "stream",
     "text": [
      "Epoch 314/388:  81%|████████  | 313/388 [18:03<04:13,  3.38s/it, v_num=1, train_loss_step=275, train_loss_epoch=250]"
     ]
    },
    {
     "name": "stderr",
     "output_type": "stream",
     "text": [
      "/Users/shivaramakrishna/Library/Python/3.9/lib/python/site-packages/scvi/module/_vae.py:458: UserWarning: The value argument must be within the support of the distribution\n",
      "  reconst_loss = -generative_outputs[\"px\"].log_prob(x).sum(-1)\n",
      "/Users/shivaramakrishna/Library/Python/3.9/lib/python/site-packages/scvi/module/_vae.py:458: UserWarning: The value argument must be within the support of the distribution\n",
      "  reconst_loss = -generative_outputs[\"px\"].log_prob(x).sum(-1)\n"
     ]
    },
    {
     "name": "stdout",
     "output_type": "stream",
     "text": [
      "Epoch 315/388:  81%|████████  | 314/388 [18:06<04:08,  3.35s/it, v_num=1, train_loss_step=233, train_loss_epoch=250]"
     ]
    },
    {
     "name": "stderr",
     "output_type": "stream",
     "text": [
      "/Users/shivaramakrishna/Library/Python/3.9/lib/python/site-packages/scvi/module/_vae.py:458: UserWarning: The value argument must be within the support of the distribution\n",
      "  reconst_loss = -generative_outputs[\"px\"].log_prob(x).sum(-1)\n",
      "/Users/shivaramakrishna/Library/Python/3.9/lib/python/site-packages/scvi/module/_vae.py:458: UserWarning: The value argument must be within the support of the distribution\n",
      "  reconst_loss = -generative_outputs[\"px\"].log_prob(x).sum(-1)\n"
     ]
    },
    {
     "name": "stdout",
     "output_type": "stream",
     "text": [
      "Epoch 316/388:  81%|████████  | 315/388 [18:09<04:05,  3.36s/it, v_num=1, train_loss_step=234, train_loss_epoch=250]"
     ]
    },
    {
     "name": "stderr",
     "output_type": "stream",
     "text": [
      "/Users/shivaramakrishna/Library/Python/3.9/lib/python/site-packages/scvi/module/_vae.py:458: UserWarning: The value argument must be within the support of the distribution\n",
      "  reconst_loss = -generative_outputs[\"px\"].log_prob(x).sum(-1)\n",
      "/Users/shivaramakrishna/Library/Python/3.9/lib/python/site-packages/scvi/module/_vae.py:458: UserWarning: The value argument must be within the support of the distribution\n",
      "  reconst_loss = -generative_outputs[\"px\"].log_prob(x).sum(-1)\n"
     ]
    },
    {
     "name": "stdout",
     "output_type": "stream",
     "text": [
      "Epoch 317/388:  81%|████████▏ | 316/388 [18:13<04:09,  3.46s/it, v_num=1, train_loss_step=252, train_loss_epoch=250]"
     ]
    },
    {
     "name": "stderr",
     "output_type": "stream",
     "text": [
      "/Users/shivaramakrishna/Library/Python/3.9/lib/python/site-packages/scvi/module/_vae.py:458: UserWarning: The value argument must be within the support of the distribution\n",
      "  reconst_loss = -generative_outputs[\"px\"].log_prob(x).sum(-1)\n",
      "/Users/shivaramakrishna/Library/Python/3.9/lib/python/site-packages/scvi/module/_vae.py:458: UserWarning: The value argument must be within the support of the distribution\n",
      "  reconst_loss = -generative_outputs[\"px\"].log_prob(x).sum(-1)\n"
     ]
    },
    {
     "name": "stdout",
     "output_type": "stream",
     "text": [
      "Epoch 318/388:  82%|████████▏ | 317/388 [18:17<04:10,  3.53s/it, v_num=1, train_loss_step=288, train_loss_epoch=250]"
     ]
    },
    {
     "name": "stderr",
     "output_type": "stream",
     "text": [
      "/Users/shivaramakrishna/Library/Python/3.9/lib/python/site-packages/scvi/module/_vae.py:458: UserWarning: The value argument must be within the support of the distribution\n",
      "  reconst_loss = -generative_outputs[\"px\"].log_prob(x).sum(-1)\n",
      "/Users/shivaramakrishna/Library/Python/3.9/lib/python/site-packages/scvi/module/_vae.py:458: UserWarning: The value argument must be within the support of the distribution\n",
      "  reconst_loss = -generative_outputs[\"px\"].log_prob(x).sum(-1)\n"
     ]
    },
    {
     "name": "stdout",
     "output_type": "stream",
     "text": [
      "Epoch 319/388:  82%|████████▏ | 318/388 [18:20<04:03,  3.48s/it, v_num=1, train_loss_step=278, train_loss_epoch=250]"
     ]
    },
    {
     "name": "stderr",
     "output_type": "stream",
     "text": [
      "/Users/shivaramakrishna/Library/Python/3.9/lib/python/site-packages/scvi/module/_vae.py:458: UserWarning: The value argument must be within the support of the distribution\n",
      "  reconst_loss = -generative_outputs[\"px\"].log_prob(x).sum(-1)\n",
      "/Users/shivaramakrishna/Library/Python/3.9/lib/python/site-packages/scvi/module/_vae.py:458: UserWarning: The value argument must be within the support of the distribution\n",
      "  reconst_loss = -generative_outputs[\"px\"].log_prob(x).sum(-1)\n"
     ]
    },
    {
     "name": "stdout",
     "output_type": "stream",
     "text": [
      "Epoch 320/388:  82%|████████▏ | 319/388 [18:23<03:56,  3.43s/it, v_num=1, train_loss_step=276, train_loss_epoch=250]"
     ]
    },
    {
     "name": "stderr",
     "output_type": "stream",
     "text": [
      "/Users/shivaramakrishna/Library/Python/3.9/lib/python/site-packages/scvi/module/_vae.py:458: UserWarning: The value argument must be within the support of the distribution\n",
      "  reconst_loss = -generative_outputs[\"px\"].log_prob(x).sum(-1)\n",
      "/Users/shivaramakrishna/Library/Python/3.9/lib/python/site-packages/scvi/module/_vae.py:458: UserWarning: The value argument must be within the support of the distribution\n",
      "  reconst_loss = -generative_outputs[\"px\"].log_prob(x).sum(-1)\n"
     ]
    },
    {
     "name": "stdout",
     "output_type": "stream",
     "text": [
      "Epoch 321/388:  82%|████████▏ | 320/388 [18:27<03:52,  3.43s/it, v_num=1, train_loss_step=283, train_loss_epoch=250]"
     ]
    },
    {
     "name": "stderr",
     "output_type": "stream",
     "text": [
      "/Users/shivaramakrishna/Library/Python/3.9/lib/python/site-packages/scvi/module/_vae.py:458: UserWarning: The value argument must be within the support of the distribution\n",
      "  reconst_loss = -generative_outputs[\"px\"].log_prob(x).sum(-1)\n",
      "/Users/shivaramakrishna/Library/Python/3.9/lib/python/site-packages/scvi/module/_vae.py:458: UserWarning: The value argument must be within the support of the distribution\n",
      "  reconst_loss = -generative_outputs[\"px\"].log_prob(x).sum(-1)\n"
     ]
    },
    {
     "name": "stdout",
     "output_type": "stream",
     "text": [
      "Epoch 322/388:  83%|████████▎ | 321/388 [18:30<03:46,  3.38s/it, v_num=1, train_loss_step=227, train_loss_epoch=250]"
     ]
    },
    {
     "name": "stderr",
     "output_type": "stream",
     "text": [
      "/Users/shivaramakrishna/Library/Python/3.9/lib/python/site-packages/scvi/module/_vae.py:458: UserWarning: The value argument must be within the support of the distribution\n",
      "  reconst_loss = -generative_outputs[\"px\"].log_prob(x).sum(-1)\n",
      "/Users/shivaramakrishna/Library/Python/3.9/lib/python/site-packages/scvi/module/_vae.py:458: UserWarning: The value argument must be within the support of the distribution\n",
      "  reconst_loss = -generative_outputs[\"px\"].log_prob(x).sum(-1)\n"
     ]
    },
    {
     "name": "stdout",
     "output_type": "stream",
     "text": [
      "Epoch 323/388:  83%|████████▎ | 322/388 [18:33<03:42,  3.38s/it, v_num=1, train_loss_step=286, train_loss_epoch=250]"
     ]
    },
    {
     "name": "stderr",
     "output_type": "stream",
     "text": [
      "/Users/shivaramakrishna/Library/Python/3.9/lib/python/site-packages/scvi/module/_vae.py:458: UserWarning: The value argument must be within the support of the distribution\n",
      "  reconst_loss = -generative_outputs[\"px\"].log_prob(x).sum(-1)\n",
      "/Users/shivaramakrishna/Library/Python/3.9/lib/python/site-packages/scvi/module/_vae.py:458: UserWarning: The value argument must be within the support of the distribution\n",
      "  reconst_loss = -generative_outputs[\"px\"].log_prob(x).sum(-1)\n"
     ]
    },
    {
     "name": "stdout",
     "output_type": "stream",
     "text": [
      "Epoch 324/388:  83%|████████▎ | 323/388 [18:37<03:38,  3.36s/it, v_num=1, train_loss_step=279, train_loss_epoch=250]"
     ]
    },
    {
     "name": "stderr",
     "output_type": "stream",
     "text": [
      "/Users/shivaramakrishna/Library/Python/3.9/lib/python/site-packages/scvi/module/_vae.py:458: UserWarning: The value argument must be within the support of the distribution\n",
      "  reconst_loss = -generative_outputs[\"px\"].log_prob(x).sum(-1)\n",
      "/Users/shivaramakrishna/Library/Python/3.9/lib/python/site-packages/scvi/module/_vae.py:458: UserWarning: The value argument must be within the support of the distribution\n",
      "  reconst_loss = -generative_outputs[\"px\"].log_prob(x).sum(-1)\n"
     ]
    },
    {
     "name": "stdout",
     "output_type": "stream",
     "text": [
      "Epoch 325/388:  84%|████████▎ | 324/388 [18:40<03:32,  3.32s/it, v_num=1, train_loss_step=277, train_loss_epoch=250]"
     ]
    },
    {
     "name": "stderr",
     "output_type": "stream",
     "text": [
      "/Users/shivaramakrishna/Library/Python/3.9/lib/python/site-packages/scvi/module/_vae.py:458: UserWarning: The value argument must be within the support of the distribution\n",
      "  reconst_loss = -generative_outputs[\"px\"].log_prob(x).sum(-1)\n",
      "/Users/shivaramakrishna/Library/Python/3.9/lib/python/site-packages/scvi/module/_vae.py:458: UserWarning: The value argument must be within the support of the distribution\n",
      "  reconst_loss = -generative_outputs[\"px\"].log_prob(x).sum(-1)\n"
     ]
    },
    {
     "name": "stdout",
     "output_type": "stream",
     "text": [
      "Epoch 326/388:  84%|████████▍ | 325/388 [18:43<03:29,  3.33s/it, v_num=1, train_loss_step=277, train_loss_epoch=250]"
     ]
    },
    {
     "name": "stderr",
     "output_type": "stream",
     "text": [
      "/Users/shivaramakrishna/Library/Python/3.9/lib/python/site-packages/scvi/module/_vae.py:458: UserWarning: The value argument must be within the support of the distribution\n",
      "  reconst_loss = -generative_outputs[\"px\"].log_prob(x).sum(-1)\n",
      "/Users/shivaramakrishna/Library/Python/3.9/lib/python/site-packages/scvi/module/_vae.py:458: UserWarning: The value argument must be within the support of the distribution\n",
      "  reconst_loss = -generative_outputs[\"px\"].log_prob(x).sum(-1)\n"
     ]
    },
    {
     "name": "stdout",
     "output_type": "stream",
     "text": [
      "Epoch 327/388:  84%|████████▍ | 326/388 [18:46<03:25,  3.31s/it, v_num=1, train_loss_step=258, train_loss_epoch=250]"
     ]
    },
    {
     "name": "stderr",
     "output_type": "stream",
     "text": [
      "/Users/shivaramakrishna/Library/Python/3.9/lib/python/site-packages/scvi/module/_vae.py:458: UserWarning: The value argument must be within the support of the distribution\n",
      "  reconst_loss = -generative_outputs[\"px\"].log_prob(x).sum(-1)\n",
      "/Users/shivaramakrishna/Library/Python/3.9/lib/python/site-packages/scvi/module/_vae.py:458: UserWarning: The value argument must be within the support of the distribution\n",
      "  reconst_loss = -generative_outputs[\"px\"].log_prob(x).sum(-1)\n"
     ]
    },
    {
     "name": "stdout",
     "output_type": "stream",
     "text": [
      "Epoch 328/388:  84%|████████▍ | 327/388 [18:50<03:22,  3.33s/it, v_num=1, train_loss_step=260, train_loss_epoch=250]"
     ]
    },
    {
     "name": "stderr",
     "output_type": "stream",
     "text": [
      "/Users/shivaramakrishna/Library/Python/3.9/lib/python/site-packages/scvi/module/_vae.py:458: UserWarning: The value argument must be within the support of the distribution\n",
      "  reconst_loss = -generative_outputs[\"px\"].log_prob(x).sum(-1)\n",
      "/Users/shivaramakrishna/Library/Python/3.9/lib/python/site-packages/scvi/module/_vae.py:458: UserWarning: The value argument must be within the support of the distribution\n",
      "  reconst_loss = -generative_outputs[\"px\"].log_prob(x).sum(-1)\n"
     ]
    },
    {
     "name": "stdout",
     "output_type": "stream",
     "text": [
      "Epoch 329/388:  85%|████████▍ | 328/388 [18:53<03:20,  3.33s/it, v_num=1, train_loss_step=237, train_loss_epoch=250]"
     ]
    },
    {
     "name": "stderr",
     "output_type": "stream",
     "text": [
      "/Users/shivaramakrishna/Library/Python/3.9/lib/python/site-packages/scvi/module/_vae.py:458: UserWarning: The value argument must be within the support of the distribution\n",
      "  reconst_loss = -generative_outputs[\"px\"].log_prob(x).sum(-1)\n",
      "/Users/shivaramakrishna/Library/Python/3.9/lib/python/site-packages/scvi/module/_vae.py:458: UserWarning: The value argument must be within the support of the distribution\n",
      "  reconst_loss = -generative_outputs[\"px\"].log_prob(x).sum(-1)\n"
     ]
    },
    {
     "name": "stdout",
     "output_type": "stream",
     "text": [
      "Epoch 330/388:  85%|████████▍ | 329/388 [18:57<03:18,  3.36s/it, v_num=1, train_loss_step=244, train_loss_epoch=250]"
     ]
    },
    {
     "name": "stderr",
     "output_type": "stream",
     "text": [
      "/Users/shivaramakrishna/Library/Python/3.9/lib/python/site-packages/scvi/module/_vae.py:458: UserWarning: The value argument must be within the support of the distribution\n",
      "  reconst_loss = -generative_outputs[\"px\"].log_prob(x).sum(-1)\n",
      "/Users/shivaramakrishna/Library/Python/3.9/lib/python/site-packages/scvi/module/_vae.py:458: UserWarning: The value argument must be within the support of the distribution\n",
      "  reconst_loss = -generative_outputs[\"px\"].log_prob(x).sum(-1)\n"
     ]
    },
    {
     "name": "stdout",
     "output_type": "stream",
     "text": [
      "Epoch 331/388:  85%|████████▌ | 330/388 [19:00<03:15,  3.37s/it, v_num=1, train_loss_step=268, train_loss_epoch=250]"
     ]
    },
    {
     "name": "stderr",
     "output_type": "stream",
     "text": [
      "/Users/shivaramakrishna/Library/Python/3.9/lib/python/site-packages/scvi/module/_vae.py:458: UserWarning: The value argument must be within the support of the distribution\n",
      "  reconst_loss = -generative_outputs[\"px\"].log_prob(x).sum(-1)\n",
      "/Users/shivaramakrishna/Library/Python/3.9/lib/python/site-packages/scvi/module/_vae.py:458: UserWarning: The value argument must be within the support of the distribution\n",
      "  reconst_loss = -generative_outputs[\"px\"].log_prob(x).sum(-1)\n"
     ]
    },
    {
     "name": "stdout",
     "output_type": "stream",
     "text": [
      "Epoch 332/388:  85%|████████▌ | 331/388 [19:03<03:10,  3.35s/it, v_num=1, train_loss_step=338, train_loss_epoch=251]"
     ]
    },
    {
     "name": "stderr",
     "output_type": "stream",
     "text": [
      "/Users/shivaramakrishna/Library/Python/3.9/lib/python/site-packages/scvi/module/_vae.py:458: UserWarning: The value argument must be within the support of the distribution\n",
      "  reconst_loss = -generative_outputs[\"px\"].log_prob(x).sum(-1)\n",
      "/Users/shivaramakrishna/Library/Python/3.9/lib/python/site-packages/scvi/module/_vae.py:458: UserWarning: The value argument must be within the support of the distribution\n",
      "  reconst_loss = -generative_outputs[\"px\"].log_prob(x).sum(-1)\n"
     ]
    },
    {
     "name": "stdout",
     "output_type": "stream",
     "text": [
      "Epoch 333/388:  86%|████████▌ | 332/388 [19:07<03:06,  3.32s/it, v_num=1, train_loss_step=292, train_loss_epoch=251]"
     ]
    },
    {
     "name": "stderr",
     "output_type": "stream",
     "text": [
      "/Users/shivaramakrishna/Library/Python/3.9/lib/python/site-packages/scvi/module/_vae.py:458: UserWarning: The value argument must be within the support of the distribution\n",
      "  reconst_loss = -generative_outputs[\"px\"].log_prob(x).sum(-1)\n",
      "/Users/shivaramakrishna/Library/Python/3.9/lib/python/site-packages/scvi/module/_vae.py:458: UserWarning: The value argument must be within the support of the distribution\n",
      "  reconst_loss = -generative_outputs[\"px\"].log_prob(x).sum(-1)\n"
     ]
    },
    {
     "name": "stdout",
     "output_type": "stream",
     "text": [
      "Epoch 334/388:  86%|████████▌ | 333/388 [19:10<03:01,  3.30s/it, v_num=1, train_loss_step=266, train_loss_epoch=250]"
     ]
    },
    {
     "name": "stderr",
     "output_type": "stream",
     "text": [
      "/Users/shivaramakrishna/Library/Python/3.9/lib/python/site-packages/scvi/module/_vae.py:458: UserWarning: The value argument must be within the support of the distribution\n",
      "  reconst_loss = -generative_outputs[\"px\"].log_prob(x).sum(-1)\n",
      "/Users/shivaramakrishna/Library/Python/3.9/lib/python/site-packages/scvi/module/_vae.py:458: UserWarning: The value argument must be within the support of the distribution\n",
      "  reconst_loss = -generative_outputs[\"px\"].log_prob(x).sum(-1)\n"
     ]
    },
    {
     "name": "stdout",
     "output_type": "stream",
     "text": [
      "Epoch 335/388:  86%|████████▌ | 334/388 [19:13<02:59,  3.33s/it, v_num=1, train_loss_step=253, train_loss_epoch=250]"
     ]
    },
    {
     "name": "stderr",
     "output_type": "stream",
     "text": [
      "/Users/shivaramakrishna/Library/Python/3.9/lib/python/site-packages/scvi/module/_vae.py:458: UserWarning: The value argument must be within the support of the distribution\n",
      "  reconst_loss = -generative_outputs[\"px\"].log_prob(x).sum(-1)\n",
      "/Users/shivaramakrishna/Library/Python/3.9/lib/python/site-packages/scvi/module/_vae.py:458: UserWarning: The value argument must be within the support of the distribution\n",
      "  reconst_loss = -generative_outputs[\"px\"].log_prob(x).sum(-1)\n"
     ]
    },
    {
     "name": "stdout",
     "output_type": "stream",
     "text": [
      "Epoch 336/388:  86%|████████▋ | 335/388 [19:17<02:59,  3.39s/it, v_num=1, train_loss_step=239, train_loss_epoch=251]"
     ]
    },
    {
     "name": "stderr",
     "output_type": "stream",
     "text": [
      "/Users/shivaramakrishna/Library/Python/3.9/lib/python/site-packages/scvi/module/_vae.py:458: UserWarning: The value argument must be within the support of the distribution\n",
      "  reconst_loss = -generative_outputs[\"px\"].log_prob(x).sum(-1)\n",
      "/Users/shivaramakrishna/Library/Python/3.9/lib/python/site-packages/scvi/module/_vae.py:458: UserWarning: The value argument must be within the support of the distribution\n",
      "  reconst_loss = -generative_outputs[\"px\"].log_prob(x).sum(-1)\n"
     ]
    },
    {
     "name": "stdout",
     "output_type": "stream",
     "text": [
      "Epoch 337/388:  87%|████████▋ | 336/388 [19:20<02:52,  3.32s/it, v_num=1, train_loss_step=243, train_loss_epoch=251]"
     ]
    },
    {
     "name": "stderr",
     "output_type": "stream",
     "text": [
      "/Users/shivaramakrishna/Library/Python/3.9/lib/python/site-packages/scvi/module/_vae.py:458: UserWarning: The value argument must be within the support of the distribution\n",
      "  reconst_loss = -generative_outputs[\"px\"].log_prob(x).sum(-1)\n",
      "/Users/shivaramakrishna/Library/Python/3.9/lib/python/site-packages/scvi/module/_vae.py:458: UserWarning: The value argument must be within the support of the distribution\n",
      "  reconst_loss = -generative_outputs[\"px\"].log_prob(x).sum(-1)\n"
     ]
    },
    {
     "name": "stdout",
     "output_type": "stream",
     "text": [
      "Epoch 338/388:  87%|████████▋ | 337/388 [19:23<02:41,  3.17s/it, v_num=1, train_loss_step=301, train_loss_epoch=251]"
     ]
    },
    {
     "name": "stderr",
     "output_type": "stream",
     "text": [
      "/Users/shivaramakrishna/Library/Python/3.9/lib/python/site-packages/scvi/module/_vae.py:458: UserWarning: The value argument must be within the support of the distribution\n",
      "  reconst_loss = -generative_outputs[\"px\"].log_prob(x).sum(-1)\n",
      "/Users/shivaramakrishna/Library/Python/3.9/lib/python/site-packages/scvi/module/_vae.py:458: UserWarning: The value argument must be within the support of the distribution\n",
      "  reconst_loss = -generative_outputs[\"px\"].log_prob(x).sum(-1)\n"
     ]
    },
    {
     "name": "stdout",
     "output_type": "stream",
     "text": [
      "Epoch 339/388:  87%|████████▋ | 338/388 [19:26<02:33,  3.08s/it, v_num=1, train_loss_step=265, train_loss_epoch=251]"
     ]
    },
    {
     "name": "stderr",
     "output_type": "stream",
     "text": [
      "/Users/shivaramakrishna/Library/Python/3.9/lib/python/site-packages/scvi/module/_vae.py:458: UserWarning: The value argument must be within the support of the distribution\n",
      "  reconst_loss = -generative_outputs[\"px\"].log_prob(x).sum(-1)\n",
      "/Users/shivaramakrishna/Library/Python/3.9/lib/python/site-packages/scvi/module/_vae.py:458: UserWarning: The value argument must be within the support of the distribution\n",
      "  reconst_loss = -generative_outputs[\"px\"].log_prob(x).sum(-1)\n"
     ]
    },
    {
     "name": "stdout",
     "output_type": "stream",
     "text": [
      "Epoch 340/388:  87%|████████▋ | 339/388 [19:29<02:34,  3.15s/it, v_num=1, train_loss_step=249, train_loss_epoch=251]"
     ]
    },
    {
     "name": "stderr",
     "output_type": "stream",
     "text": [
      "/Users/shivaramakrishna/Library/Python/3.9/lib/python/site-packages/scvi/module/_vae.py:458: UserWarning: The value argument must be within the support of the distribution\n",
      "  reconst_loss = -generative_outputs[\"px\"].log_prob(x).sum(-1)\n",
      "/Users/shivaramakrishna/Library/Python/3.9/lib/python/site-packages/scvi/module/_vae.py:458: UserWarning: The value argument must be within the support of the distribution\n",
      "  reconst_loss = -generative_outputs[\"px\"].log_prob(x).sum(-1)\n"
     ]
    },
    {
     "name": "stdout",
     "output_type": "stream",
     "text": [
      "Epoch 341/388:  88%|████████▊ | 340/388 [19:32<02:34,  3.23s/it, v_num=1, train_loss_step=237, train_loss_epoch=251]"
     ]
    },
    {
     "name": "stderr",
     "output_type": "stream",
     "text": [
      "/Users/shivaramakrishna/Library/Python/3.9/lib/python/site-packages/scvi/module/_vae.py:458: UserWarning: The value argument must be within the support of the distribution\n",
      "  reconst_loss = -generative_outputs[\"px\"].log_prob(x).sum(-1)\n",
      "/Users/shivaramakrishna/Library/Python/3.9/lib/python/site-packages/scvi/module/_vae.py:458: UserWarning: The value argument must be within the support of the distribution\n",
      "  reconst_loss = -generative_outputs[\"px\"].log_prob(x).sum(-1)\n"
     ]
    },
    {
     "name": "stdout",
     "output_type": "stream",
     "text": [
      "Epoch 342/388:  88%|████████▊ | 341/388 [19:35<02:22,  3.03s/it, v_num=1, train_loss_step=262, train_loss_epoch=251]"
     ]
    },
    {
     "name": "stderr",
     "output_type": "stream",
     "text": [
      "/Users/shivaramakrishna/Library/Python/3.9/lib/python/site-packages/scvi/module/_vae.py:458: UserWarning: The value argument must be within the support of the distribution\n",
      "  reconst_loss = -generative_outputs[\"px\"].log_prob(x).sum(-1)\n",
      "/Users/shivaramakrishna/Library/Python/3.9/lib/python/site-packages/scvi/module/_vae.py:458: UserWarning: The value argument must be within the support of the distribution\n",
      "  reconst_loss = -generative_outputs[\"px\"].log_prob(x).sum(-1)\n"
     ]
    },
    {
     "name": "stdout",
     "output_type": "stream",
     "text": [
      "Epoch 343/388:  88%|████████▊ | 342/388 [19:37<02:13,  2.90s/it, v_num=1, train_loss_step=275, train_loss_epoch=251]"
     ]
    },
    {
     "name": "stderr",
     "output_type": "stream",
     "text": [
      "/Users/shivaramakrishna/Library/Python/3.9/lib/python/site-packages/scvi/module/_vae.py:458: UserWarning: The value argument must be within the support of the distribution\n",
      "  reconst_loss = -generative_outputs[\"px\"].log_prob(x).sum(-1)\n",
      "/Users/shivaramakrishna/Library/Python/3.9/lib/python/site-packages/scvi/module/_vae.py:458: UserWarning: The value argument must be within the support of the distribution\n",
      "  reconst_loss = -generative_outputs[\"px\"].log_prob(x).sum(-1)\n"
     ]
    },
    {
     "name": "stdout",
     "output_type": "stream",
     "text": [
      "Epoch 344/388:  88%|████████▊ | 343/388 [19:40<02:06,  2.82s/it, v_num=1, train_loss_step=244, train_loss_epoch=251]"
     ]
    },
    {
     "name": "stderr",
     "output_type": "stream",
     "text": [
      "/Users/shivaramakrishna/Library/Python/3.9/lib/python/site-packages/scvi/module/_vae.py:458: UserWarning: The value argument must be within the support of the distribution\n",
      "  reconst_loss = -generative_outputs[\"px\"].log_prob(x).sum(-1)\n",
      "/Users/shivaramakrishna/Library/Python/3.9/lib/python/site-packages/scvi/module/_vae.py:458: UserWarning: The value argument must be within the support of the distribution\n",
      "  reconst_loss = -generative_outputs[\"px\"].log_prob(x).sum(-1)\n"
     ]
    },
    {
     "name": "stdout",
     "output_type": "stream",
     "text": [
      "Epoch 345/388:  89%|████████▊ | 344/388 [19:43<02:02,  2.79s/it, v_num=1, train_loss_step=256, train_loss_epoch=251]"
     ]
    },
    {
     "name": "stderr",
     "output_type": "stream",
     "text": [
      "/Users/shivaramakrishna/Library/Python/3.9/lib/python/site-packages/scvi/module/_vae.py:458: UserWarning: The value argument must be within the support of the distribution\n",
      "  reconst_loss = -generative_outputs[\"px\"].log_prob(x).sum(-1)\n",
      "/Users/shivaramakrishna/Library/Python/3.9/lib/python/site-packages/scvi/module/_vae.py:458: UserWarning: The value argument must be within the support of the distribution\n",
      "  reconst_loss = -generative_outputs[\"px\"].log_prob(x).sum(-1)\n"
     ]
    },
    {
     "name": "stdout",
     "output_type": "stream",
     "text": [
      "Epoch 346/388:  89%|████████▉ | 345/388 [19:46<02:08,  2.99s/it, v_num=1, train_loss_step=270, train_loss_epoch=251]"
     ]
    },
    {
     "name": "stderr",
     "output_type": "stream",
     "text": [
      "/Users/shivaramakrishna/Library/Python/3.9/lib/python/site-packages/scvi/module/_vae.py:458: UserWarning: The value argument must be within the support of the distribution\n",
      "  reconst_loss = -generative_outputs[\"px\"].log_prob(x).sum(-1)\n",
      "/Users/shivaramakrishna/Library/Python/3.9/lib/python/site-packages/scvi/module/_vae.py:458: UserWarning: The value argument must be within the support of the distribution\n",
      "  reconst_loss = -generative_outputs[\"px\"].log_prob(x).sum(-1)\n"
     ]
    },
    {
     "name": "stdout",
     "output_type": "stream",
     "text": [
      "Epoch 347/388:  89%|████████▉ | 346/388 [19:50<02:09,  3.08s/it, v_num=1, train_loss_step=271, train_loss_epoch=251]"
     ]
    },
    {
     "name": "stderr",
     "output_type": "stream",
     "text": [
      "/Users/shivaramakrishna/Library/Python/3.9/lib/python/site-packages/scvi/module/_vae.py:458: UserWarning: The value argument must be within the support of the distribution\n",
      "  reconst_loss = -generative_outputs[\"px\"].log_prob(x).sum(-1)\n",
      "/Users/shivaramakrishna/Library/Python/3.9/lib/python/site-packages/scvi/module/_vae.py:458: UserWarning: The value argument must be within the support of the distribution\n",
      "  reconst_loss = -generative_outputs[\"px\"].log_prob(x).sum(-1)\n"
     ]
    },
    {
     "name": "stdout",
     "output_type": "stream",
     "text": [
      "Epoch 348/388:  89%|████████▉ | 347/388 [19:53<02:09,  3.16s/it, v_num=1, train_loss_step=292, train_loss_epoch=251]"
     ]
    },
    {
     "name": "stderr",
     "output_type": "stream",
     "text": [
      "/Users/shivaramakrishna/Library/Python/3.9/lib/python/site-packages/scvi/module/_vae.py:458: UserWarning: The value argument must be within the support of the distribution\n",
      "  reconst_loss = -generative_outputs[\"px\"].log_prob(x).sum(-1)\n",
      "/Users/shivaramakrishna/Library/Python/3.9/lib/python/site-packages/scvi/module/_vae.py:458: UserWarning: The value argument must be within the support of the distribution\n",
      "  reconst_loss = -generative_outputs[\"px\"].log_prob(x).sum(-1)\n"
     ]
    },
    {
     "name": "stdout",
     "output_type": "stream",
     "text": [
      "Epoch 349/388:  90%|████████▉ | 348/388 [19:56<02:08,  3.22s/it, v_num=1, train_loss_step=279, train_loss_epoch=251]"
     ]
    },
    {
     "name": "stderr",
     "output_type": "stream",
     "text": [
      "/Users/shivaramakrishna/Library/Python/3.9/lib/python/site-packages/scvi/module/_vae.py:458: UserWarning: The value argument must be within the support of the distribution\n",
      "  reconst_loss = -generative_outputs[\"px\"].log_prob(x).sum(-1)\n",
      "/Users/shivaramakrishna/Library/Python/3.9/lib/python/site-packages/scvi/module/_vae.py:458: UserWarning: The value argument must be within the support of the distribution\n",
      "  reconst_loss = -generative_outputs[\"px\"].log_prob(x).sum(-1)\n"
     ]
    },
    {
     "name": "stdout",
     "output_type": "stream",
     "text": [
      "Epoch 350/388:  90%|████████▉ | 349/388 [20:00<02:07,  3.28s/it, v_num=1, train_loss_step=240, train_loss_epoch=251]"
     ]
    },
    {
     "name": "stderr",
     "output_type": "stream",
     "text": [
      "/Users/shivaramakrishna/Library/Python/3.9/lib/python/site-packages/scvi/module/_vae.py:458: UserWarning: The value argument must be within the support of the distribution\n",
      "  reconst_loss = -generative_outputs[\"px\"].log_prob(x).sum(-1)\n",
      "/Users/shivaramakrishna/Library/Python/3.9/lib/python/site-packages/scvi/module/_vae.py:458: UserWarning: The value argument must be within the support of the distribution\n",
      "  reconst_loss = -generative_outputs[\"px\"].log_prob(x).sum(-1)\n"
     ]
    },
    {
     "name": "stdout",
     "output_type": "stream",
     "text": [
      "Epoch 351/388:  90%|█████████ | 350/388 [20:03<02:05,  3.31s/it, v_num=1, train_loss_step=246, train_loss_epoch=251]"
     ]
    },
    {
     "name": "stderr",
     "output_type": "stream",
     "text": [
      "/Users/shivaramakrishna/Library/Python/3.9/lib/python/site-packages/scvi/module/_vae.py:458: UserWarning: The value argument must be within the support of the distribution\n",
      "  reconst_loss = -generative_outputs[\"px\"].log_prob(x).sum(-1)\n",
      "/Users/shivaramakrishna/Library/Python/3.9/lib/python/site-packages/scvi/module/_vae.py:458: UserWarning: The value argument must be within the support of the distribution\n",
      "  reconst_loss = -generative_outputs[\"px\"].log_prob(x).sum(-1)\n"
     ]
    },
    {
     "name": "stdout",
     "output_type": "stream",
     "text": [
      "Epoch 352/388:  90%|█████████ | 351/388 [20:06<02:02,  3.30s/it, v_num=1, train_loss_step=281, train_loss_epoch=251]"
     ]
    },
    {
     "name": "stderr",
     "output_type": "stream",
     "text": [
      "/Users/shivaramakrishna/Library/Python/3.9/lib/python/site-packages/scvi/module/_vae.py:458: UserWarning: The value argument must be within the support of the distribution\n",
      "  reconst_loss = -generative_outputs[\"px\"].log_prob(x).sum(-1)\n",
      "/Users/shivaramakrishna/Library/Python/3.9/lib/python/site-packages/scvi/module/_vae.py:458: UserWarning: The value argument must be within the support of the distribution\n",
      "  reconst_loss = -generative_outputs[\"px\"].log_prob(x).sum(-1)\n"
     ]
    },
    {
     "name": "stdout",
     "output_type": "stream",
     "text": [
      "Epoch 353/388:  91%|█████████ | 352/388 [20:10<01:58,  3.30s/it, v_num=1, train_loss_step=271, train_loss_epoch=251]"
     ]
    },
    {
     "name": "stderr",
     "output_type": "stream",
     "text": [
      "/Users/shivaramakrishna/Library/Python/3.9/lib/python/site-packages/scvi/module/_vae.py:458: UserWarning: The value argument must be within the support of the distribution\n",
      "  reconst_loss = -generative_outputs[\"px\"].log_prob(x).sum(-1)\n",
      "/Users/shivaramakrishna/Library/Python/3.9/lib/python/site-packages/scvi/module/_vae.py:458: UserWarning: The value argument must be within the support of the distribution\n",
      "  reconst_loss = -generative_outputs[\"px\"].log_prob(x).sum(-1)\n"
     ]
    },
    {
     "name": "stdout",
     "output_type": "stream",
     "text": [
      "Epoch 354/388:  91%|█████████ | 353/388 [20:13<01:55,  3.31s/it, v_num=1, train_loss_step=234, train_loss_epoch=251]"
     ]
    },
    {
     "name": "stderr",
     "output_type": "stream",
     "text": [
      "/Users/shivaramakrishna/Library/Python/3.9/lib/python/site-packages/scvi/module/_vae.py:458: UserWarning: The value argument must be within the support of the distribution\n",
      "  reconst_loss = -generative_outputs[\"px\"].log_prob(x).sum(-1)\n",
      "/Users/shivaramakrishna/Library/Python/3.9/lib/python/site-packages/scvi/module/_vae.py:458: UserWarning: The value argument must be within the support of the distribution\n",
      "  reconst_loss = -generative_outputs[\"px\"].log_prob(x).sum(-1)\n"
     ]
    },
    {
     "name": "stdout",
     "output_type": "stream",
     "text": [
      "Epoch 355/388:  91%|█████████ | 354/388 [20:16<01:53,  3.33s/it, v_num=1, train_loss_step=268, train_loss_epoch=251]"
     ]
    },
    {
     "name": "stderr",
     "output_type": "stream",
     "text": [
      "/Users/shivaramakrishna/Library/Python/3.9/lib/python/site-packages/scvi/module/_vae.py:458: UserWarning: The value argument must be within the support of the distribution\n",
      "  reconst_loss = -generative_outputs[\"px\"].log_prob(x).sum(-1)\n",
      "/Users/shivaramakrishna/Library/Python/3.9/lib/python/site-packages/scvi/module/_vae.py:458: UserWarning: The value argument must be within the support of the distribution\n",
      "  reconst_loss = -generative_outputs[\"px\"].log_prob(x).sum(-1)\n"
     ]
    },
    {
     "name": "stdout",
     "output_type": "stream",
     "text": [
      "Epoch 356/388:  91%|█████████▏| 355/388 [20:20<01:51,  3.37s/it, v_num=1, train_loss_step=257, train_loss_epoch=251]"
     ]
    },
    {
     "name": "stderr",
     "output_type": "stream",
     "text": [
      "/Users/shivaramakrishna/Library/Python/3.9/lib/python/site-packages/scvi/module/_vae.py:458: UserWarning: The value argument must be within the support of the distribution\n",
      "  reconst_loss = -generative_outputs[\"px\"].log_prob(x).sum(-1)\n",
      "/Users/shivaramakrishna/Library/Python/3.9/lib/python/site-packages/scvi/module/_vae.py:458: UserWarning: The value argument must be within the support of the distribution\n",
      "  reconst_loss = -generative_outputs[\"px\"].log_prob(x).sum(-1)\n"
     ]
    },
    {
     "name": "stdout",
     "output_type": "stream",
     "text": [
      "Epoch 357/388:  92%|█████████▏| 356/388 [20:23<01:48,  3.39s/it, v_num=1, train_loss_step=261, train_loss_epoch=251]"
     ]
    },
    {
     "name": "stderr",
     "output_type": "stream",
     "text": [
      "/Users/shivaramakrishna/Library/Python/3.9/lib/python/site-packages/scvi/module/_vae.py:458: UserWarning: The value argument must be within the support of the distribution\n",
      "  reconst_loss = -generative_outputs[\"px\"].log_prob(x).sum(-1)\n",
      "/Users/shivaramakrishna/Library/Python/3.9/lib/python/site-packages/scvi/module/_vae.py:458: UserWarning: The value argument must be within the support of the distribution\n",
      "  reconst_loss = -generative_outputs[\"px\"].log_prob(x).sum(-1)\n"
     ]
    },
    {
     "name": "stdout",
     "output_type": "stream",
     "text": [
      "Epoch 358/388:  92%|█████████▏| 357/388 [20:27<01:44,  3.38s/it, v_num=1, train_loss_step=283, train_loss_epoch=251]"
     ]
    },
    {
     "name": "stderr",
     "output_type": "stream",
     "text": [
      "/Users/shivaramakrishna/Library/Python/3.9/lib/python/site-packages/scvi/module/_vae.py:458: UserWarning: The value argument must be within the support of the distribution\n",
      "  reconst_loss = -generative_outputs[\"px\"].log_prob(x).sum(-1)\n",
      "/Users/shivaramakrishna/Library/Python/3.9/lib/python/site-packages/scvi/module/_vae.py:458: UserWarning: The value argument must be within the support of the distribution\n",
      "  reconst_loss = -generative_outputs[\"px\"].log_prob(x).sum(-1)\n"
     ]
    },
    {
     "name": "stdout",
     "output_type": "stream",
     "text": [
      "Epoch 359/388:  92%|█████████▏| 358/388 [20:30<01:40,  3.34s/it, v_num=1, train_loss_step=261, train_loss_epoch=251]"
     ]
    },
    {
     "name": "stderr",
     "output_type": "stream",
     "text": [
      "/Users/shivaramakrishna/Library/Python/3.9/lib/python/site-packages/scvi/module/_vae.py:458: UserWarning: The value argument must be within the support of the distribution\n",
      "  reconst_loss = -generative_outputs[\"px\"].log_prob(x).sum(-1)\n",
      "/Users/shivaramakrishna/Library/Python/3.9/lib/python/site-packages/scvi/module/_vae.py:458: UserWarning: The value argument must be within the support of the distribution\n",
      "  reconst_loss = -generative_outputs[\"px\"].log_prob(x).sum(-1)\n"
     ]
    },
    {
     "name": "stdout",
     "output_type": "stream",
     "text": [
      "Epoch 360/388:  93%|█████████▎| 359/388 [20:33<01:37,  3.38s/it, v_num=1, train_loss_step=265, train_loss_epoch=251]"
     ]
    },
    {
     "name": "stderr",
     "output_type": "stream",
     "text": [
      "/Users/shivaramakrishna/Library/Python/3.9/lib/python/site-packages/scvi/module/_vae.py:458: UserWarning: The value argument must be within the support of the distribution\n",
      "  reconst_loss = -generative_outputs[\"px\"].log_prob(x).sum(-1)\n",
      "/Users/shivaramakrishna/Library/Python/3.9/lib/python/site-packages/scvi/module/_vae.py:458: UserWarning: The value argument must be within the support of the distribution\n",
      "  reconst_loss = -generative_outputs[\"px\"].log_prob(x).sum(-1)\n"
     ]
    },
    {
     "name": "stdout",
     "output_type": "stream",
     "text": [
      "Epoch 361/388:  93%|█████████▎| 360/388 [20:37<01:33,  3.34s/it, v_num=1, train_loss_step=241, train_loss_epoch=251]"
     ]
    },
    {
     "name": "stderr",
     "output_type": "stream",
     "text": [
      "/Users/shivaramakrishna/Library/Python/3.9/lib/python/site-packages/scvi/module/_vae.py:458: UserWarning: The value argument must be within the support of the distribution\n",
      "  reconst_loss = -generative_outputs[\"px\"].log_prob(x).sum(-1)\n",
      "/Users/shivaramakrishna/Library/Python/3.9/lib/python/site-packages/scvi/module/_vae.py:458: UserWarning: The value argument must be within the support of the distribution\n",
      "  reconst_loss = -generative_outputs[\"px\"].log_prob(x).sum(-1)\n"
     ]
    },
    {
     "name": "stdout",
     "output_type": "stream",
     "text": [
      "Epoch 362/388:  93%|█████████▎| 361/388 [20:40<01:30,  3.34s/it, v_num=1, train_loss_step=339, train_loss_epoch=251]"
     ]
    },
    {
     "name": "stderr",
     "output_type": "stream",
     "text": [
      "/Users/shivaramakrishna/Library/Python/3.9/lib/python/site-packages/scvi/module/_vae.py:458: UserWarning: The value argument must be within the support of the distribution\n",
      "  reconst_loss = -generative_outputs[\"px\"].log_prob(x).sum(-1)\n",
      "/Users/shivaramakrishna/Library/Python/3.9/lib/python/site-packages/scvi/module/_vae.py:458: UserWarning: The value argument must be within the support of the distribution\n",
      "  reconst_loss = -generative_outputs[\"px\"].log_prob(x).sum(-1)\n"
     ]
    },
    {
     "name": "stdout",
     "output_type": "stream",
     "text": [
      "Epoch 363/388:  93%|█████████▎| 362/388 [20:43<01:26,  3.34s/it, v_num=1, train_loss_step=274, train_loss_epoch=251]"
     ]
    },
    {
     "name": "stderr",
     "output_type": "stream",
     "text": [
      "/Users/shivaramakrishna/Library/Python/3.9/lib/python/site-packages/scvi/module/_vae.py:458: UserWarning: The value argument must be within the support of the distribution\n",
      "  reconst_loss = -generative_outputs[\"px\"].log_prob(x).sum(-1)\n",
      "/Users/shivaramakrishna/Library/Python/3.9/lib/python/site-packages/scvi/module/_vae.py:458: UserWarning: The value argument must be within the support of the distribution\n",
      "  reconst_loss = -generative_outputs[\"px\"].log_prob(x).sum(-1)\n"
     ]
    },
    {
     "name": "stdout",
     "output_type": "stream",
     "text": [
      "Epoch 364/388:  94%|█████████▎| 363/388 [20:47<01:23,  3.34s/it, v_num=1, train_loss_step=258, train_loss_epoch=251]"
     ]
    },
    {
     "name": "stderr",
     "output_type": "stream",
     "text": [
      "/Users/shivaramakrishna/Library/Python/3.9/lib/python/site-packages/scvi/module/_vae.py:458: UserWarning: The value argument must be within the support of the distribution\n",
      "  reconst_loss = -generative_outputs[\"px\"].log_prob(x).sum(-1)\n",
      "/Users/shivaramakrishna/Library/Python/3.9/lib/python/site-packages/scvi/module/_vae.py:458: UserWarning: The value argument must be within the support of the distribution\n",
      "  reconst_loss = -generative_outputs[\"px\"].log_prob(x).sum(-1)\n"
     ]
    },
    {
     "name": "stdout",
     "output_type": "stream",
     "text": [
      "Epoch 365/388:  94%|█████████▍| 364/388 [20:50<01:19,  3.33s/it, v_num=1, train_loss_step=296, train_loss_epoch=251]"
     ]
    },
    {
     "name": "stderr",
     "output_type": "stream",
     "text": [
      "/Users/shivaramakrishna/Library/Python/3.9/lib/python/site-packages/scvi/module/_vae.py:458: UserWarning: The value argument must be within the support of the distribution\n",
      "  reconst_loss = -generative_outputs[\"px\"].log_prob(x).sum(-1)\n",
      "/Users/shivaramakrishna/Library/Python/3.9/lib/python/site-packages/scvi/module/_vae.py:458: UserWarning: The value argument must be within the support of the distribution\n",
      "  reconst_loss = -generative_outputs[\"px\"].log_prob(x).sum(-1)\n"
     ]
    },
    {
     "name": "stdout",
     "output_type": "stream",
     "text": [
      "Epoch 366/388:  94%|█████████▍| 365/388 [20:53<01:17,  3.36s/it, v_num=1, train_loss_step=262, train_loss_epoch=251]"
     ]
    },
    {
     "name": "stderr",
     "output_type": "stream",
     "text": [
      "/Users/shivaramakrishna/Library/Python/3.9/lib/python/site-packages/scvi/module/_vae.py:458: UserWarning: The value argument must be within the support of the distribution\n",
      "  reconst_loss = -generative_outputs[\"px\"].log_prob(x).sum(-1)\n",
      "/Users/shivaramakrishna/Library/Python/3.9/lib/python/site-packages/scvi/module/_vae.py:458: UserWarning: The value argument must be within the support of the distribution\n",
      "  reconst_loss = -generative_outputs[\"px\"].log_prob(x).sum(-1)\n"
     ]
    },
    {
     "name": "stdout",
     "output_type": "stream",
     "text": [
      "Epoch 367/388:  94%|█████████▍| 366/388 [20:57<01:14,  3.40s/it, v_num=1, train_loss_step=238, train_loss_epoch=251]"
     ]
    },
    {
     "name": "stderr",
     "output_type": "stream",
     "text": [
      "/Users/shivaramakrishna/Library/Python/3.9/lib/python/site-packages/scvi/module/_vae.py:458: UserWarning: The value argument must be within the support of the distribution\n",
      "  reconst_loss = -generative_outputs[\"px\"].log_prob(x).sum(-1)\n",
      "/Users/shivaramakrishna/Library/Python/3.9/lib/python/site-packages/scvi/module/_vae.py:458: UserWarning: The value argument must be within the support of the distribution\n",
      "  reconst_loss = -generative_outputs[\"px\"].log_prob(x).sum(-1)\n"
     ]
    },
    {
     "name": "stdout",
     "output_type": "stream",
     "text": [
      "Epoch 368/388:  95%|█████████▍| 367/388 [21:00<01:11,  3.39s/it, v_num=1, train_loss_step=289, train_loss_epoch=251]"
     ]
    },
    {
     "name": "stderr",
     "output_type": "stream",
     "text": [
      "/Users/shivaramakrishna/Library/Python/3.9/lib/python/site-packages/scvi/module/_vae.py:458: UserWarning: The value argument must be within the support of the distribution\n",
      "  reconst_loss = -generative_outputs[\"px\"].log_prob(x).sum(-1)\n",
      "/Users/shivaramakrishna/Library/Python/3.9/lib/python/site-packages/scvi/module/_vae.py:458: UserWarning: The value argument must be within the support of the distribution\n",
      "  reconst_loss = -generative_outputs[\"px\"].log_prob(x).sum(-1)\n"
     ]
    },
    {
     "name": "stdout",
     "output_type": "stream",
     "text": [
      "Epoch 369/388:  95%|█████████▍| 368/388 [21:04<01:07,  3.39s/it, v_num=1, train_loss_step=275, train_loss_epoch=251]"
     ]
    },
    {
     "name": "stderr",
     "output_type": "stream",
     "text": [
      "/Users/shivaramakrishna/Library/Python/3.9/lib/python/site-packages/scvi/module/_vae.py:458: UserWarning: The value argument must be within the support of the distribution\n",
      "  reconst_loss = -generative_outputs[\"px\"].log_prob(x).sum(-1)\n",
      "/Users/shivaramakrishna/Library/Python/3.9/lib/python/site-packages/scvi/module/_vae.py:458: UserWarning: The value argument must be within the support of the distribution\n",
      "  reconst_loss = -generative_outputs[\"px\"].log_prob(x).sum(-1)\n"
     ]
    },
    {
     "name": "stdout",
     "output_type": "stream",
     "text": [
      "Epoch 370/388:  95%|█████████▌| 369/388 [21:07<01:04,  3.41s/it, v_num=1, train_loss_step=278, train_loss_epoch=252]"
     ]
    },
    {
     "name": "stderr",
     "output_type": "stream",
     "text": [
      "/Users/shivaramakrishna/Library/Python/3.9/lib/python/site-packages/scvi/module/_vae.py:458: UserWarning: The value argument must be within the support of the distribution\n",
      "  reconst_loss = -generative_outputs[\"px\"].log_prob(x).sum(-1)\n",
      "/Users/shivaramakrishna/Library/Python/3.9/lib/python/site-packages/scvi/module/_vae.py:458: UserWarning: The value argument must be within the support of the distribution\n",
      "  reconst_loss = -generative_outputs[\"px\"].log_prob(x).sum(-1)\n"
     ]
    },
    {
     "name": "stdout",
     "output_type": "stream",
     "text": [
      "Epoch 371/388:  95%|█████████▌| 370/388 [21:10<01:01,  3.41s/it, v_num=1, train_loss_step=247, train_loss_epoch=252]"
     ]
    },
    {
     "name": "stderr",
     "output_type": "stream",
     "text": [
      "/Users/shivaramakrishna/Library/Python/3.9/lib/python/site-packages/scvi/module/_vae.py:458: UserWarning: The value argument must be within the support of the distribution\n",
      "  reconst_loss = -generative_outputs[\"px\"].log_prob(x).sum(-1)\n",
      "/Users/shivaramakrishna/Library/Python/3.9/lib/python/site-packages/scvi/module/_vae.py:458: UserWarning: The value argument must be within the support of the distribution\n",
      "  reconst_loss = -generative_outputs[\"px\"].log_prob(x).sum(-1)\n"
     ]
    },
    {
     "name": "stdout",
     "output_type": "stream",
     "text": [
      "Epoch 372/388:  96%|█████████▌| 371/388 [21:14<00:58,  3.43s/it, v_num=1, train_loss_step=240, train_loss_epoch=251]"
     ]
    },
    {
     "name": "stderr",
     "output_type": "stream",
     "text": [
      "/Users/shivaramakrishna/Library/Python/3.9/lib/python/site-packages/scvi/module/_vae.py:458: UserWarning: The value argument must be within the support of the distribution\n",
      "  reconst_loss = -generative_outputs[\"px\"].log_prob(x).sum(-1)\n",
      "/Users/shivaramakrishna/Library/Python/3.9/lib/python/site-packages/scvi/module/_vae.py:458: UserWarning: The value argument must be within the support of the distribution\n",
      "  reconst_loss = -generative_outputs[\"px\"].log_prob(x).sum(-1)\n"
     ]
    },
    {
     "name": "stdout",
     "output_type": "stream",
     "text": [
      "Epoch 373/388:  96%|█████████▌| 372/388 [21:17<00:55,  3.45s/it, v_num=1, train_loss_step=254, train_loss_epoch=252]"
     ]
    },
    {
     "name": "stderr",
     "output_type": "stream",
     "text": [
      "/Users/shivaramakrishna/Library/Python/3.9/lib/python/site-packages/scvi/module/_vae.py:458: UserWarning: The value argument must be within the support of the distribution\n",
      "  reconst_loss = -generative_outputs[\"px\"].log_prob(x).sum(-1)\n",
      "/Users/shivaramakrishna/Library/Python/3.9/lib/python/site-packages/scvi/module/_vae.py:458: UserWarning: The value argument must be within the support of the distribution\n",
      "  reconst_loss = -generative_outputs[\"px\"].log_prob(x).sum(-1)\n"
     ]
    },
    {
     "name": "stdout",
     "output_type": "stream",
     "text": [
      "Epoch 374/388:  96%|█████████▌| 373/388 [21:21<00:51,  3.44s/it, v_num=1, train_loss_step=270, train_loss_epoch=252]"
     ]
    },
    {
     "name": "stderr",
     "output_type": "stream",
     "text": [
      "/Users/shivaramakrishna/Library/Python/3.9/lib/python/site-packages/scvi/module/_vae.py:458: UserWarning: The value argument must be within the support of the distribution\n",
      "  reconst_loss = -generative_outputs[\"px\"].log_prob(x).sum(-1)\n",
      "/Users/shivaramakrishna/Library/Python/3.9/lib/python/site-packages/scvi/module/_vae.py:458: UserWarning: The value argument must be within the support of the distribution\n",
      "  reconst_loss = -generative_outputs[\"px\"].log_prob(x).sum(-1)\n"
     ]
    },
    {
     "name": "stdout",
     "output_type": "stream",
     "text": [
      "Epoch 375/388:  96%|█████████▋| 374/388 [21:24<00:48,  3.46s/it, v_num=1, train_loss_step=252, train_loss_epoch=252]"
     ]
    },
    {
     "name": "stderr",
     "output_type": "stream",
     "text": [
      "/Users/shivaramakrishna/Library/Python/3.9/lib/python/site-packages/scvi/module/_vae.py:458: UserWarning: The value argument must be within the support of the distribution\n",
      "  reconst_loss = -generative_outputs[\"px\"].log_prob(x).sum(-1)\n",
      "/Users/shivaramakrishna/Library/Python/3.9/lib/python/site-packages/scvi/module/_vae.py:458: UserWarning: The value argument must be within the support of the distribution\n",
      "  reconst_loss = -generative_outputs[\"px\"].log_prob(x).sum(-1)\n"
     ]
    },
    {
     "name": "stdout",
     "output_type": "stream",
     "text": [
      "Epoch 376/388:  97%|█████████▋| 375/388 [21:28<00:44,  3.46s/it, v_num=1, train_loss_step=269, train_loss_epoch=252]"
     ]
    },
    {
     "name": "stderr",
     "output_type": "stream",
     "text": [
      "/Users/shivaramakrishna/Library/Python/3.9/lib/python/site-packages/scvi/module/_vae.py:458: UserWarning: The value argument must be within the support of the distribution\n",
      "  reconst_loss = -generative_outputs[\"px\"].log_prob(x).sum(-1)\n",
      "/Users/shivaramakrishna/Library/Python/3.9/lib/python/site-packages/scvi/module/_vae.py:458: UserWarning: The value argument must be within the support of the distribution\n",
      "  reconst_loss = -generative_outputs[\"px\"].log_prob(x).sum(-1)\n"
     ]
    },
    {
     "name": "stdout",
     "output_type": "stream",
     "text": [
      "Epoch 377/388:  97%|█████████▋| 376/388 [21:31<00:41,  3.42s/it, v_num=1, train_loss_step=260, train_loss_epoch=252]"
     ]
    },
    {
     "name": "stderr",
     "output_type": "stream",
     "text": [
      "/Users/shivaramakrishna/Library/Python/3.9/lib/python/site-packages/scvi/module/_vae.py:458: UserWarning: The value argument must be within the support of the distribution\n",
      "  reconst_loss = -generative_outputs[\"px\"].log_prob(x).sum(-1)\n",
      "/Users/shivaramakrishna/Library/Python/3.9/lib/python/site-packages/scvi/module/_vae.py:458: UserWarning: The value argument must be within the support of the distribution\n",
      "  reconst_loss = -generative_outputs[\"px\"].log_prob(x).sum(-1)\n"
     ]
    },
    {
     "name": "stdout",
     "output_type": "stream",
     "text": [
      "Epoch 378/388:  97%|█████████▋| 377/388 [21:35<00:37,  3.40s/it, v_num=1, train_loss_step=283, train_loss_epoch=252]"
     ]
    },
    {
     "name": "stderr",
     "output_type": "stream",
     "text": [
      "/Users/shivaramakrishna/Library/Python/3.9/lib/python/site-packages/scvi/module/_vae.py:458: UserWarning: The value argument must be within the support of the distribution\n",
      "  reconst_loss = -generative_outputs[\"px\"].log_prob(x).sum(-1)\n",
      "/Users/shivaramakrishna/Library/Python/3.9/lib/python/site-packages/scvi/module/_vae.py:458: UserWarning: The value argument must be within the support of the distribution\n",
      "  reconst_loss = -generative_outputs[\"px\"].log_prob(x).sum(-1)\n"
     ]
    },
    {
     "name": "stdout",
     "output_type": "stream",
     "text": [
      "Epoch 379/388:  97%|█████████▋| 378/388 [21:38<00:33,  3.39s/it, v_num=1, train_loss_step=315, train_loss_epoch=252]"
     ]
    },
    {
     "name": "stderr",
     "output_type": "stream",
     "text": [
      "/Users/shivaramakrishna/Library/Python/3.9/lib/python/site-packages/scvi/module/_vae.py:458: UserWarning: The value argument must be within the support of the distribution\n",
      "  reconst_loss = -generative_outputs[\"px\"].log_prob(x).sum(-1)\n",
      "/Users/shivaramakrishna/Library/Python/3.9/lib/python/site-packages/scvi/module/_vae.py:458: UserWarning: The value argument must be within the support of the distribution\n",
      "  reconst_loss = -generative_outputs[\"px\"].log_prob(x).sum(-1)\n"
     ]
    },
    {
     "name": "stdout",
     "output_type": "stream",
     "text": [
      "Epoch 380/388:  98%|█████████▊| 379/388 [21:41<00:30,  3.37s/it, v_num=1, train_loss_step=275, train_loss_epoch=252]"
     ]
    },
    {
     "name": "stderr",
     "output_type": "stream",
     "text": [
      "/Users/shivaramakrishna/Library/Python/3.9/lib/python/site-packages/scvi/module/_vae.py:458: UserWarning: The value argument must be within the support of the distribution\n",
      "  reconst_loss = -generative_outputs[\"px\"].log_prob(x).sum(-1)\n",
      "/Users/shivaramakrishna/Library/Python/3.9/lib/python/site-packages/scvi/module/_vae.py:458: UserWarning: The value argument must be within the support of the distribution\n",
      "  reconst_loss = -generative_outputs[\"px\"].log_prob(x).sum(-1)\n"
     ]
    },
    {
     "name": "stdout",
     "output_type": "stream",
     "text": [
      "Epoch 381/388:  98%|█████████▊| 380/388 [21:44<00:26,  3.34s/it, v_num=1, train_loss_step=272, train_loss_epoch=252]"
     ]
    },
    {
     "name": "stderr",
     "output_type": "stream",
     "text": [
      "/Users/shivaramakrishna/Library/Python/3.9/lib/python/site-packages/scvi/module/_vae.py:458: UserWarning: The value argument must be within the support of the distribution\n",
      "  reconst_loss = -generative_outputs[\"px\"].log_prob(x).sum(-1)\n",
      "/Users/shivaramakrishna/Library/Python/3.9/lib/python/site-packages/scvi/module/_vae.py:458: UserWarning: The value argument must be within the support of the distribution\n",
      "  reconst_loss = -generative_outputs[\"px\"].log_prob(x).sum(-1)\n"
     ]
    },
    {
     "name": "stdout",
     "output_type": "stream",
     "text": [
      "Epoch 382/388:  98%|█████████▊| 381/388 [21:48<00:23,  3.32s/it, v_num=1, train_loss_step=267, train_loss_epoch=252]"
     ]
    },
    {
     "name": "stderr",
     "output_type": "stream",
     "text": [
      "/Users/shivaramakrishna/Library/Python/3.9/lib/python/site-packages/scvi/module/_vae.py:458: UserWarning: The value argument must be within the support of the distribution\n",
      "  reconst_loss = -generative_outputs[\"px\"].log_prob(x).sum(-1)\n",
      "/Users/shivaramakrishna/Library/Python/3.9/lib/python/site-packages/scvi/module/_vae.py:458: UserWarning: The value argument must be within the support of the distribution\n",
      "  reconst_loss = -generative_outputs[\"px\"].log_prob(x).sum(-1)\n"
     ]
    },
    {
     "name": "stdout",
     "output_type": "stream",
     "text": [
      "Epoch 383/388:  98%|█████████▊| 382/388 [21:51<00:20,  3.35s/it, v_num=1, train_loss_step=255, train_loss_epoch=252]"
     ]
    },
    {
     "name": "stderr",
     "output_type": "stream",
     "text": [
      "/Users/shivaramakrishna/Library/Python/3.9/lib/python/site-packages/scvi/module/_vae.py:458: UserWarning: The value argument must be within the support of the distribution\n",
      "  reconst_loss = -generative_outputs[\"px\"].log_prob(x).sum(-1)\n",
      "/Users/shivaramakrishna/Library/Python/3.9/lib/python/site-packages/scvi/module/_vae.py:458: UserWarning: The value argument must be within the support of the distribution\n",
      "  reconst_loss = -generative_outputs[\"px\"].log_prob(x).sum(-1)\n"
     ]
    },
    {
     "name": "stdout",
     "output_type": "stream",
     "text": [
      "Epoch 384/388:  99%|█████████▊| 383/388 [21:54<00:16,  3.32s/it, v_num=1, train_loss_step=297, train_loss_epoch=252]"
     ]
    },
    {
     "name": "stderr",
     "output_type": "stream",
     "text": [
      "/Users/shivaramakrishna/Library/Python/3.9/lib/python/site-packages/scvi/module/_vae.py:458: UserWarning: The value argument must be within the support of the distribution\n",
      "  reconst_loss = -generative_outputs[\"px\"].log_prob(x).sum(-1)\n",
      "/Users/shivaramakrishna/Library/Python/3.9/lib/python/site-packages/scvi/module/_vae.py:458: UserWarning: The value argument must be within the support of the distribution\n",
      "  reconst_loss = -generative_outputs[\"px\"].log_prob(x).sum(-1)\n"
     ]
    },
    {
     "name": "stdout",
     "output_type": "stream",
     "text": [
      "Epoch 385/388:  99%|█████████▉| 384/388 [21:58<00:13,  3.28s/it, v_num=1, train_loss_step=273, train_loss_epoch=252]"
     ]
    },
    {
     "name": "stderr",
     "output_type": "stream",
     "text": [
      "/Users/shivaramakrishna/Library/Python/3.9/lib/python/site-packages/scvi/module/_vae.py:458: UserWarning: The value argument must be within the support of the distribution\n",
      "  reconst_loss = -generative_outputs[\"px\"].log_prob(x).sum(-1)\n",
      "/Users/shivaramakrishna/Library/Python/3.9/lib/python/site-packages/scvi/module/_vae.py:458: UserWarning: The value argument must be within the support of the distribution\n",
      "  reconst_loss = -generative_outputs[\"px\"].log_prob(x).sum(-1)\n"
     ]
    },
    {
     "name": "stdout",
     "output_type": "stream",
     "text": [
      "Epoch 386/388:  99%|█████████▉| 385/388 [22:01<00:09,  3.29s/it, v_num=1, train_loss_step=272, train_loss_epoch=252]"
     ]
    },
    {
     "name": "stderr",
     "output_type": "stream",
     "text": [
      "/Users/shivaramakrishna/Library/Python/3.9/lib/python/site-packages/scvi/module/_vae.py:458: UserWarning: The value argument must be within the support of the distribution\n",
      "  reconst_loss = -generative_outputs[\"px\"].log_prob(x).sum(-1)\n",
      "/Users/shivaramakrishna/Library/Python/3.9/lib/python/site-packages/scvi/module/_vae.py:458: UserWarning: The value argument must be within the support of the distribution\n",
      "  reconst_loss = -generative_outputs[\"px\"].log_prob(x).sum(-1)\n"
     ]
    },
    {
     "name": "stdout",
     "output_type": "stream",
     "text": [
      "Epoch 387/388:  99%|█████████▉| 386/388 [22:04<00:06,  3.31s/it, v_num=1, train_loss_step=275, train_loss_epoch=252]"
     ]
    },
    {
     "name": "stderr",
     "output_type": "stream",
     "text": [
      "/Users/shivaramakrishna/Library/Python/3.9/lib/python/site-packages/scvi/module/_vae.py:458: UserWarning: The value argument must be within the support of the distribution\n",
      "  reconst_loss = -generative_outputs[\"px\"].log_prob(x).sum(-1)\n",
      "/Users/shivaramakrishna/Library/Python/3.9/lib/python/site-packages/scvi/module/_vae.py:458: UserWarning: The value argument must be within the support of the distribution\n",
      "  reconst_loss = -generative_outputs[\"px\"].log_prob(x).sum(-1)\n"
     ]
    },
    {
     "name": "stdout",
     "output_type": "stream",
     "text": [
      "Epoch 388/388: 100%|█████████▉| 387/388 [22:08<00:03,  3.33s/it, v_num=1, train_loss_step=283, train_loss_epoch=252]"
     ]
    },
    {
     "name": "stderr",
     "output_type": "stream",
     "text": [
      "/Users/shivaramakrishna/Library/Python/3.9/lib/python/site-packages/scvi/module/_vae.py:458: UserWarning: The value argument must be within the support of the distribution\n",
      "  reconst_loss = -generative_outputs[\"px\"].log_prob(x).sum(-1)\n",
      "/Users/shivaramakrishna/Library/Python/3.9/lib/python/site-packages/scvi/module/_vae.py:458: UserWarning: The value argument must be within the support of the distribution\n",
      "  reconst_loss = -generative_outputs[\"px\"].log_prob(x).sum(-1)\n"
     ]
    },
    {
     "name": "stdout",
     "output_type": "stream",
     "text": [
      "Epoch 388/388: 100%|██████████| 388/388 [22:11<00:00,  3.34s/it, v_num=1, train_loss_step=265, train_loss_epoch=252]"
     ]
    },
    {
     "name": "stderr",
     "output_type": "stream",
     "text": [
      "`Trainer.fit` stopped: `max_epochs=388` reached.\n"
     ]
    },
    {
     "name": "stdout",
     "output_type": "stream",
     "text": [
      "Epoch 388/388: 100%|██████████| 388/388 [22:11<00:00,  3.43s/it, v_num=1, train_loss_step=265, train_loss_epoch=252]\n"
     ]
    }
   ],
   "source": [
    "scvi.model.SCVI.setup_anndata(sclcCells)\n",
    "vae = scvi.model.SCVI(sclcCells)\n",
    "vae.train()"
   ]
  },
  {
   "cell_type": "code",
   "execution_count": 7,
   "metadata": {},
   "outputs": [
    {
     "name": "stdout",
     "output_type": "stream",
     "text": [
      "\u001b[34mINFO    \u001b[0m Creating doublets, preparing SOLO model.                                                                  \n"
     ]
    },
    {
     "name": "stderr",
     "output_type": "stream",
     "text": [
      "/Users/shivaramakrishna/Library/Python/3.9/lib/python/site-packages/scvi/data/fields/_base_field.py:64: UserWarning: adata.X does not contain unnormalized count data. Are you sure this is what you want?\n",
      "  self.validate_field(adata)\n",
      "GPU available: True (mps), used: False\n",
      "TPU available: False, using: 0 TPU cores\n",
      "IPU available: False, using: 0 IPUs\n",
      "HPU available: False, using: 0 HPUs\n",
      "/Users/shivaramakrishna/Library/Python/3.9/lib/python/site-packages/lightning/pytorch/trainer/setup.py:187: GPU available but not used. You can set it by doing `Trainer(accelerator='gpu')`.\n",
      "/Users/shivaramakrishna/Library/Python/3.9/lib/python/site-packages/lightning/pytorch/trainer/connectors/data_connector.py:441: The 'train_dataloader' does not have many workers which may be a bottleneck. Consider increasing the value of the `num_workers` argument` to `num_workers=9` in the `DataLoader` to improve performance.\n",
      "/Users/shivaramakrishna/Library/Python/3.9/lib/python/site-packages/lightning/pytorch/trainer/connectors/data_connector.py:441: The 'val_dataloader' does not have many workers which may be a bottleneck. Consider increasing the value of the `num_workers` argument` to `num_workers=9` in the `DataLoader` to improve performance.\n"
     ]
    },
    {
     "name": "stdout",
     "output_type": "stream",
     "text": [
      "Epoch 282/400:  70%|███████   | 282/400 [02:58<01:14,  1.58it/s, v_num=1, train_loss_step=0.000891, train_loss_epoch=0.0229]\n",
      "Monitored metric validation_loss did not improve in the last 30 records. Best score: 0.021. Signaling Trainer to stop.\n"
     ]
    }
   ],
   "source": [
    "solo = scvi.external.SOLO.from_scvi_model(vae) # get the SOLO model from SCVI\n",
    "solo.train() # train the model over the standard number of epochs, set to auto-terminate"
   ]
  },
  {
   "cell_type": "code",
   "execution_count": 72,
   "metadata": {},
   "outputs": [
    {
     "data": {
      "text/html": [
       "<div>\n",
       "<style scoped>\n",
       "    .dataframe tbody tr th:only-of-type {\n",
       "        vertical-align: middle;\n",
       "    }\n",
       "\n",
       "    .dataframe tbody tr th {\n",
       "        vertical-align: top;\n",
       "    }\n",
       "\n",
       "    .dataframe thead th {\n",
       "        text-align: right;\n",
       "    }\n",
       "</style>\n",
       "<table border=\"1\" class=\"dataframe\">\n",
       "  <thead>\n",
       "    <tr style=\"text-align: right;\">\n",
       "      <th></th>\n",
       "      <th>doublet</th>\n",
       "      <th>singlet</th>\n",
       "      <th>prediction</th>\n",
       "    </tr>\n",
       "  </thead>\n",
       "  <tbody>\n",
       "    <tr>\n",
       "      <th>scrBT1428_CCACGGATCGCATGGC_lambrechts</th>\n",
       "      <td>-5.628602</td>\n",
       "      <td>6.556221</td>\n",
       "      <td>singlet</td>\n",
       "    </tr>\n",
       "    <tr>\n",
       "      <th>BT1248_GGACAGGATGACCA_lambrechts</th>\n",
       "      <td>-3.310676</td>\n",
       "      <td>4.069046</td>\n",
       "      <td>singlet</td>\n",
       "    </tr>\n",
       "    <tr>\n",
       "      <th>scrBT1428_TATGCCCTCCACTGGG_lambrechts</th>\n",
       "      <td>-5.403605</td>\n",
       "      <td>6.863903</td>\n",
       "      <td>singlet</td>\n",
       "    </tr>\n",
       "    <tr>\n",
       "      <th>scrBT1426_ATTCTACTCTGTGCAA_lambrechts</th>\n",
       "      <td>-3.028437</td>\n",
       "      <td>3.379791</td>\n",
       "      <td>singlet</td>\n",
       "    </tr>\n",
       "    <tr>\n",
       "      <th>scrBT1428_GGACGTCAGCTAACAA_lambrechts</th>\n",
       "      <td>-1.272661</td>\n",
       "      <td>1.978790</td>\n",
       "      <td>singlet</td>\n",
       "    </tr>\n",
       "  </tbody>\n",
       "</table>\n",
       "</div>"
      ],
      "text/plain": [
       "                                        doublet   singlet prediction\n",
       "scrBT1428_CCACGGATCGCATGGC_lambrechts -5.628602  6.556221    singlet\n",
       "BT1248_GGACAGGATGACCA_lambrechts      -3.310676  4.069046    singlet\n",
       "scrBT1428_TATGCCCTCCACTGGG_lambrechts -5.403605  6.863903    singlet\n",
       "scrBT1426_ATTCTACTCTGTGCAA_lambrechts -3.028437  3.379791    singlet\n",
       "scrBT1428_GGACGTCAGCTAACAA_lambrechts -1.272661  1.978790    singlet"
      ]
     },
     "execution_count": 72,
     "metadata": {},
     "output_type": "execute_result"
    }
   ],
   "source": [
    "singletPredict = solo.predict() # use the SOLO model to predict if a cell is a singlet or doublet\n",
    "singletPredict['prediction'] = solo.predict(soft=False) # predict in a new column\n",
    "singletPredict.head(5) # visualise counts"
   ]
  },
  {
   "cell_type": "code",
   "execution_count": 73,
   "metadata": {},
   "outputs": [
    {
     "data": {
      "text/html": [
       "<div>\n",
       "<style scoped>\n",
       "    .dataframe tbody tr th:only-of-type {\n",
       "        vertical-align: middle;\n",
       "    }\n",
       "\n",
       "    .dataframe tbody tr th {\n",
       "        vertical-align: top;\n",
       "    }\n",
       "\n",
       "    .dataframe thead th {\n",
       "        text-align: right;\n",
       "    }\n",
       "</style>\n",
       "<table border=\"1\" class=\"dataframe\">\n",
       "  <thead>\n",
       "    <tr style=\"text-align: right;\">\n",
       "      <th></th>\n",
       "      <th>doublet</th>\n",
       "      <th>singlet</th>\n",
       "    </tr>\n",
       "    <tr>\n",
       "      <th>prediction</th>\n",
       "      <th></th>\n",
       "      <th></th>\n",
       "    </tr>\n",
       "  </thead>\n",
       "  <tbody>\n",
       "    <tr>\n",
       "      <th>doublet</th>\n",
       "      <td>126</td>\n",
       "      <td>126</td>\n",
       "    </tr>\n",
       "    <tr>\n",
       "      <th>singlet</th>\n",
       "      <td>20505</td>\n",
       "      <td>20505</td>\n",
       "    </tr>\n",
       "  </tbody>\n",
       "</table>\n",
       "</div>"
      ],
      "text/plain": [
       "            doublet  singlet\n",
       "prediction                  \n",
       "doublet         126      126\n",
       "singlet       20505    20505"
      ]
     },
     "execution_count": 73,
     "metadata": {},
     "output_type": "execute_result"
    }
   ],
   "source": [
    "singletPredict.groupby('prediction').count() # doublets - 126, singlets - 20505\n"
   ]
  },
  {
   "cell_type": "code",
   "execution_count": 79,
   "metadata": {},
   "outputs": [
    {
     "data": {
      "text/plain": [
       "(20631, 4)"
      ]
     },
     "execution_count": 79,
     "metadata": {},
     "output_type": "execute_result"
    },
    {
     "data": {
      "image/png": "[encoded data removed]",
      "text/plain": [
       "<Figure size 500x500 with 1 Axes>"
      ]
     },
     "metadata": {},
     "output_type": "display_data"
    }
   ],
   "source": [
    "singletPredict['predDif'] = singletPredict['singlet'] - singletPredict['doublet'] # visualise certainty with which singlets are predicted\n",
    "sns.displot(singletPredict[singletPredict.prediction == 'singlet'], x = 'predDif')\n",
    "singletPredict.shape "
   ]
  },
  {
   "cell_type": "code",
   "execution_count": 106,
   "metadata": {},
   "outputs": [],
   "source": [
    "sclcCells.obs['singlet'] = sclcCells.obs.index.isin(singletPredict.index)"
   ]
  },
  {
   "cell_type": "code",
   "execution_count": 146,
   "metadata": {},
   "outputs": [
    {
     "name": "stdout",
     "output_type": "stream",
     "text": [
      "Gene Name: MT-ND1\n"
     ]
    }
   ],
   "source": [
    "release = ensb.EnsemblRelease(104)\n",
    "\n",
    "\n",
    "def ensembl_id_to_gene_name(ensembl_id):\n",
    "    '''\n",
    "    Define a function to convert Ensembl IDs to gene names\n",
    "    '''\n",
    "    try:\n",
    "        gene = release.gene_by_id(gene_id=ensembl_id)\n",
    "        return gene.gene_name\n",
    "    except ValueError:\n",
    "        return 'NA'\n",
    "\n",
    "ensembl_id = \"ENSG00000198888\"  # Example Ensembl ID for MT-ND1 in human\n",
    "gene_name = ensembl_id_to_gene_name(ensembl_id)\n",
    "print(\"Gene Name:\", gene_name)"
   ]
  },
  {
   "cell_type": "code",
   "execution_count": 153,
   "metadata": {},
   "outputs": [],
   "source": [
    "sclcCells.var_names = sclcCells.var_names.map(ensembl_id_to_gene_name) # change all ENSEMBL-IDs to Gene Names"
   ]
  },
  {
   "cell_type": "code",
   "execution_count": 1,
   "metadata": {},
   "outputs": [
    {
     "ename": "NameError",
     "evalue": "name 'sclcCells' is not defined",
     "output_type": "error",
     "traceback": [
      "\u001b[0;31m---------------------------------------------------------------------------\u001b[0m",
      "\u001b[0;31mNameError\u001b[0m                                 Traceback (most recent call last)",
      "Cell \u001b[0;32mIn[1], line 1\u001b[0m\n\u001b[0;32m----> 1\u001b[0m \u001b[43msclcCells\u001b[49m\u001b[38;5;241m.\u001b[39mvar_names\n",
      "\u001b[0;31mNameError\u001b[0m: name 'sclcCells' is not defined"
     ]
    }
   ],
   "source": [
    "sclcCells.var_names"
   ]
  },
  {
   "cell_type": "code",
   "execution_count": 155,
   "metadata": {},
   "outputs": [],
   "source": [
    "sclcCells.write_h5ad('sclcCells_GeneNames.h5ad')"
   ]
  }
 ],
 "metadata": {
  "kernelspec": {
   "display_name": "Python 3",
   "language": "python",
   "name": "python3"
  },
  "language_info": {
   "codemirror_mode": {
    "name": "ipython",
    "version": 3
   },
   "file_extension": ".py",
   "mimetype": "text/x-python",
   "name": "python",
   "nbconvert_exporter": "python",
   "pygments_lexer": "ipython3",
   "version": "3.9.6"
  }
 },
 "nbformat": 4,
 "nbformat_minor": 2
}
