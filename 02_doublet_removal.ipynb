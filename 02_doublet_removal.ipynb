{
 "cells": [
  {
   "cell_type": "code",
   "execution_count": 3,
   "metadata": {},
   "outputs": [],
   "source": [
    "import squidpy as sq\n",
    "import scanpy as sc\n",
    "import scipy as scp\n",
    "import numpy as np \n",
    "import pandas as pd\n",
    "import scvi\n",
    "import seaborn as sns\n",
    "import pyensembl as ensb\n"
   ]
  },
  {
   "cell_type": "code",
   "execution_count": 8,
   "metadata": {},
   "outputs": [],
   "source": [
    "normalCells = sc.read_h5ad('hlca/nor.h5ad')\n",
    "sclcCells = sc.read_h5ad('hlca/sclcCells.h5ad')"
   ]
  },
  {
   "cell_type": "code",
   "execution_count": 9,
   "metadata": {},
   "outputs": [
    {
     "name": "stderr",
     "output_type": "stream",
     "text": [
      "/Users/shivaramakrishna/Library/Python/3.9/lib/python/site-packages/scanpy/preprocessing/_highly_variable_genes.py:64: UserWarning: `flavor='seurat_v3'` expects raw count data, but non-integers were found.\n",
      "  warnings.warn(\n"
     ]
    }
   ],
   "source": [
    "sc.pp.filter_genes(sclcCells, min_cells=10)\n",
    "sc.pp.highly_variable_genes(sclcCells, n_top_genes=2000, subset=True, flavor='seurat_v3') # using seurat_v3 because of raw counts"
   ]
  },
  {
   "cell_type": "code",
   "execution_count": 10,
   "metadata": {},
   "outputs": [
    {
     "data": {
      "text/plain": [
       "AnnData object with n_obs × n_vars = 20631 × 2000\n",
       "    obs: 'suspension_type', 'donor_id', 'is_primary_data', 'assay_ontology_term_id', 'cell_type_ontology_term_id', 'development_stage_ontology_term_id', 'disease_ontology_term_id', 'self_reported_ethnicity_ontology_term_id', 'tissue_ontology_term_id', 'organism_ontology_term_id', 'sex_ontology_term_id', \"3'_or_5'\", 'BMI', 'age_or_mean_of_age_range', 'age_range', 'anatomical_region_ccf_score', 'ann_coarse_for_GWAS_and_modeling', 'ann_finest_level', 'ann_level_1', 'ann_level_2', 'ann_level_3', 'ann_level_4', 'ann_level_5', 'cause_of_death', 'core_or_extension', 'dataset', 'fresh_or_frozen', 'log10_total_counts', 'lung_condition', 'mixed_ancestry', 'original_ann_level_1', 'original_ann_level_2', 'original_ann_level_3', 'original_ann_level_4', 'original_ann_level_5', 'original_ann_nonharmonized', 'reannotation_type', 'sample', 'scanvi_label', 'sequencing_platform', 'smoking_status', 'study', 'subject_type', 'tissue_coarse_unharmonized', 'tissue_detailed_unharmonized', 'tissue_dissociation_protocol', 'tissue_level_2', 'tissue_level_3', 'tissue_sampling_method', 'total_counts', 'transf_ann_level_1_label', 'transf_ann_level_1_uncert', 'transf_ann_level_2_label', 'transf_ann_level_2_uncert', 'transf_ann_level_3_label', 'transf_ann_level_3_uncert', 'transf_ann_level_4_label', 'transf_ann_level_4_uncert', 'transf_ann_level_5_label', 'transf_ann_level_5_uncert', 'tissue_type', 'cell_type', 'assay', 'disease', 'organism', 'sex', 'tissue', 'self_reported_ethnicity', 'development_stage', 'observation_joinid'\n",
       "    var: 'feature_is_filtered', 'original_gene_symbols', 'feature_name', 'feature_reference', 'feature_biotype', 'feature_length', 'n_cells', 'highly_variable', 'highly_variable_rank', 'means', 'variances', 'variances_norm'\n",
       "    uns: 'batch_condition', 'citation', 'default_embedding', 'schema_reference', 'schema_version', 'title', 'hvg'\n",
       "    obsm: 'X_scanvi_emb', 'X_umap'\n",
       "    layers: 'soupX'\n",
       "    obsp: 'connectivities', 'distances'"
      ]
     },
     "execution_count": 10,
     "metadata": {},
     "output_type": "execute_result"
    }
   ],
   "source": [
    "sclcCells"
   ]
  },
  {
   "cell_type": "code",
   "execution_count": 12,
   "metadata": {},
   "outputs": [
    {
     "name": "stderr",
     "output_type": "stream",
     "text": [
      "/Users/shivaramakrishna/Library/Python/3.9/lib/python/site-packages/scvi/data/fields/_base_field.py:64: UserWarning: adata.X does not contain unnormalized count data. Are you sure this is what you want?\n",
      "  self.validate_field(adata)\n",
      "GPU available: True (mps), used: False\n",
      "TPU available: False, using: 0 TPU cores\n",
      "IPU available: False, using: 0 IPUs\n",
      "HPU available: False, using: 0 HPUs\n",
      "/Users/shivaramakrishna/Library/Python/3.9/lib/python/site-packages/lightning/pytorch/trainer/setup.py:187: GPU available but not used. You can set it by doing `Trainer(accelerator='gpu')`.\n",
      "/Users/shivaramakrishna/Library/Python/3.9/lib/python/site-packages/lightning/pytorch/trainer/connectors/data_connector.py:441: The 'train_dataloader' does not have many workers which may be a bottleneck. Consider increasing the value of the `num_workers` argument` to `num_workers=9` in the `DataLoader` to improve performance.\n"
     ]
    },
    {
     "name": "stdout",
     "output_type": "stream",
     "text": [
      "Epoch 1/388:   0%|          | 0/388 [00:00<?, ?it/s]"
     ]
    },
    {
     "name": "stderr",
     "output_type": "stream",
     "text": [
      "/Users/shivaramakrishna/Library/Python/3.9/lib/python/site-packages/scvi/module/_vae.py:458: UserWarning: The value argument must be within the support of the distribution\n",
      "  reconst_loss = -generative_outputs[\"px\"].log_prob(x).sum(-1)\n",
      "/Users/shivaramakrishna/Library/Python/3.9/lib/python/site-packages/scvi/module/_vae.py:458: UserWarning: The value argument must be within the support of the distribution\n",
      "  reconst_loss = -generative_outputs[\"px\"].log_prob(x).sum(-1)\n"
     ]
    },
    {
     "name": "stdout",
     "output_type": "stream",
     "text": [
      "Epoch 2/388:   0%|          | 1/388 [00:03<19:54,  3.09s/it, v_num=1, train_loss_step=294, train_loss_epoch=363]"
     ]
    },
    {
     "name": "stderr",
     "output_type": "stream",
     "text": [
      "/Users/shivaramakrishna/Library/Python/3.9/lib/python/site-packages/scvi/module/_vae.py:458: UserWarning: The value argument must be within the support of the distribution\n",
      "  reconst_loss = -generative_outputs[\"px\"].log_prob(x).sum(-1)\n",
      "/Users/shivaramakrishna/Library/Python/3.9/lib/python/site-packages/scvi/module/_vae.py:458: UserWarning: The value argument must be within the support of the distribution\n",
      "  reconst_loss = -generative_outputs[\"px\"].log_prob(x).sum(-1)\n"
     ]
    },
    {
     "name": "stdout",
     "output_type": "stream",
     "text": [
      "Epoch 3/388:   1%|          | 2/388 [00:06<19:47,  3.08s/it, v_num=1, train_loss_step=281, train_loss_epoch=298]"
     ]
    },
    {
     "name": "stderr",
     "output_type": "stream",
     "text": [
      "/Users/shivaramakrishna/Library/Python/3.9/lib/python/site-packages/scvi/module/_vae.py:458: UserWarning: The value argument must be within the support of the distribution\n",
      "  reconst_loss = -generative_outputs[\"px\"].log_prob(x).sum(-1)\n",
      "/Users/shivaramakrishna/Library/Python/3.9/lib/python/site-packages/scvi/module/_vae.py:458: UserWarning: The value argument must be within the support of the distribution\n",
      "  reconst_loss = -generative_outputs[\"px\"].log_prob(x).sum(-1)\n"
     ]
    },
    {
     "name": "stdout",
     "output_type": "stream",
     "text": [
      "Epoch 4/388:   1%|          | 3/388 [00:09<19:23,  3.02s/it, v_num=1, train_loss_step=269, train_loss_epoch=287]"
     ]
    },
    {
     "name": "stderr",
     "output_type": "stream",
     "text": [
      "/Users/shivaramakrishna/Library/Python/3.9/lib/python/site-packages/scvi/module/_vae.py:458: UserWarning: The value argument must be within the support of the distribution\n",
      "  reconst_loss = -generative_outputs[\"px\"].log_prob(x).sum(-1)\n",
      "/Users/shivaramakrishna/Library/Python/3.9/lib/python/site-packages/scvi/module/_vae.py:458: UserWarning: The value argument must be within the support of the distribution\n",
      "  reconst_loss = -generative_outputs[\"px\"].log_prob(x).sum(-1)\n"
     ]
    },
    {
     "name": "stdout",
     "output_type": "stream",
     "text": [
      "Epoch 5/388:   1%|          | 4/388 [00:12<19:32,  3.05s/it, v_num=1, train_loss_step=300, train_loss_epoch=281]"
     ]
    },
    {
     "name": "stderr",
     "output_type": "stream",
     "text": [
      "/Users/shivaramakrishna/Library/Python/3.9/lib/python/site-packages/scvi/module/_vae.py:458: UserWarning: The value argument must be within the support of the distribution\n",
      "  reconst_loss = -generative_outputs[\"px\"].log_prob(x).sum(-1)\n",
      "/Users/shivaramakrishna/Library/Python/3.9/lib/python/site-packages/scvi/module/_vae.py:458: UserWarning: The value argument must be within the support of the distribution\n",
      "  reconst_loss = -generative_outputs[\"px\"].log_prob(x).sum(-1)\n"
     ]
    },
    {
     "name": "stdout",
     "output_type": "stream",
     "text": [
      "Epoch 6/388:   1%|▏         | 5/388 [00:15<19:24,  3.04s/it, v_num=1, train_loss_step=308, train_loss_epoch=277]"
     ]
    },
    {
     "name": "stderr",
     "output_type": "stream",
     "text": [
      "/Users/shivaramakrishna/Library/Python/3.9/lib/python/site-packages/scvi/module/_vae.py:458: UserWarning: The value argument must be within the support of the distribution\n",
      "  reconst_loss = -generative_outputs[\"px\"].log_prob(x).sum(-1)\n",
      "/Users/shivaramakrishna/Library/Python/3.9/lib/python/site-packages/scvi/module/_vae.py:458: UserWarning: The value argument must be within the support of the distribution\n",
      "  reconst_loss = -generative_outputs[\"px\"].log_prob(x).sum(-1)\n"
     ]
    },
    {
     "name": "stdout",
     "output_type": "stream",
     "text": [
      "Epoch 7/388:   2%|▏         | 6/388 [00:18<19:19,  3.04s/it, v_num=1, train_loss_step=261, train_loss_epoch=274]"
     ]
    },
    {
     "name": "stderr",
     "output_type": "stream",
     "text": [
      "/Users/shivaramakrishna/Library/Python/3.9/lib/python/site-packages/scvi/module/_vae.py:458: UserWarning: The value argument must be within the support of the distribution\n",
      "  reconst_loss = -generative_outputs[\"px\"].log_prob(x).sum(-1)\n",
      "/Users/shivaramakrishna/Library/Python/3.9/lib/python/site-packages/scvi/module/_vae.py:458: UserWarning: The value argument must be within the support of the distribution\n",
      "  reconst_loss = -generative_outputs[\"px\"].log_prob(x).sum(-1)\n"
     ]
    },
    {
     "name": "stdout",
     "output_type": "stream",
     "text": [
      "Epoch 8/388:   2%|▏         | 7/388 [00:21<19:12,  3.02s/it, v_num=1, train_loss_step=281, train_loss_epoch=271]"
     ]
    },
    {
     "name": "stderr",
     "output_type": "stream",
     "text": [
      "/Users/shivaramakrishna/Library/Python/3.9/lib/python/site-packages/scvi/module/_vae.py:458: UserWarning: The value argument must be within the support of the distribution\n",
      "  reconst_loss = -generative_outputs[\"px\"].log_prob(x).sum(-1)\n",
      "/Users/shivaramakrishna/Library/Python/3.9/lib/python/site-packages/scvi/module/_vae.py:458: UserWarning: The value argument must be within the support of the distribution\n",
      "  reconst_loss = -generative_outputs[\"px\"].log_prob(x).sum(-1)\n"
     ]
    },
    {
     "name": "stdout",
     "output_type": "stream",
     "text": [
      "Epoch 9/388:   2%|▏         | 8/388 [00:24<19:21,  3.06s/it, v_num=1, train_loss_step=282, train_loss_epoch=268]"
     ]
    },
    {
     "name": "stderr",
     "output_type": "stream",
     "text": [
      "/Users/shivaramakrishna/Library/Python/3.9/lib/python/site-packages/scvi/module/_vae.py:458: UserWarning: The value argument must be within the support of the distribution\n",
      "  reconst_loss = -generative_outputs[\"px\"].log_prob(x).sum(-1)\n",
      "/Users/shivaramakrishna/Library/Python/3.9/lib/python/site-packages/scvi/module/_vae.py:458: UserWarning: The value argument must be within the support of the distribution\n",
      "  reconst_loss = -generative_outputs[\"px\"].log_prob(x).sum(-1)\n"
     ]
    },
    {
     "name": "stdout",
     "output_type": "stream",
     "text": [
      "Epoch 10/388:   2%|▏         | 9/388 [00:27<19:16,  3.05s/it, v_num=1, train_loss_step=247, train_loss_epoch=266]"
     ]
    },
    {
     "name": "stderr",
     "output_type": "stream",
     "text": [
      "/Users/shivaramakrishna/Library/Python/3.9/lib/python/site-packages/scvi/module/_vae.py:458: UserWarning: The value argument must be within the support of the distribution\n",
      "  reconst_loss = -generative_outputs[\"px\"].log_prob(x).sum(-1)\n",
      "/Users/shivaramakrishna/Library/Python/3.9/lib/python/site-packages/scvi/module/_vae.py:458: UserWarning: The value argument must be within the support of the distribution\n",
      "  reconst_loss = -generative_outputs[\"px\"].log_prob(x).sum(-1)\n"
     ]
    },
    {
     "name": "stdout",
     "output_type": "stream",
     "text": [
      "Epoch 11/388:   3%|▎         | 10/388 [00:30<19:14,  3.05s/it, v_num=1, train_loss_step=232, train_loss_epoch=265]"
     ]
    },
    {
     "name": "stderr",
     "output_type": "stream",
     "text": [
      "/Users/shivaramakrishna/Library/Python/3.9/lib/python/site-packages/scvi/module/_vae.py:458: UserWarning: The value argument must be within the support of the distribution\n",
      "  reconst_loss = -generative_outputs[\"px\"].log_prob(x).sum(-1)\n",
      "/Users/shivaramakrishna/Library/Python/3.9/lib/python/site-packages/scvi/module/_vae.py:458: UserWarning: The value argument must be within the support of the distribution\n",
      "  reconst_loss = -generative_outputs[\"px\"].log_prob(x).sum(-1)\n"
     ]
    },
    {
     "name": "stdout",
     "output_type": "stream",
     "text": [
      "Epoch 12/388:   3%|▎         | 11/388 [00:33<19:07,  3.04s/it, v_num=1, train_loss_step=299, train_loss_epoch=263]"
     ]
    },
    {
     "name": "stderr",
     "output_type": "stream",
     "text": [
      "/Users/shivaramakrishna/Library/Python/3.9/lib/python/site-packages/scvi/module/_vae.py:458: UserWarning: The value argument must be within the support of the distribution\n",
      "  reconst_loss = -generative_outputs[\"px\"].log_prob(x).sum(-1)\n",
      "/Users/shivaramakrishna/Library/Python/3.9/lib/python/site-packages/scvi/module/_vae.py:458: UserWarning: The value argument must be within the support of the distribution\n",
      "  reconst_loss = -generative_outputs[\"px\"].log_prob(x).sum(-1)\n"
     ]
    },
    {
     "name": "stdout",
     "output_type": "stream",
     "text": [
      "Epoch 13/388:   3%|▎         | 12/388 [00:36<18:58,  3.03s/it, v_num=1, train_loss_step=273, train_loss_epoch=262]"
     ]
    },
    {
     "name": "stderr",
     "output_type": "stream",
     "text": [
      "/Users/shivaramakrishna/Library/Python/3.9/lib/python/site-packages/scvi/module/_vae.py:458: UserWarning: The value argument must be within the support of the distribution\n",
      "  reconst_loss = -generative_outputs[\"px\"].log_prob(x).sum(-1)\n",
      "/Users/shivaramakrishna/Library/Python/3.9/lib/python/site-packages/scvi/module/_vae.py:458: UserWarning: The value argument must be within the support of the distribution\n",
      "  reconst_loss = -generative_outputs[\"px\"].log_prob(x).sum(-1)\n"
     ]
    },
    {
     "name": "stdout",
     "output_type": "stream",
     "text": [
      "Epoch 14/388:   3%|▎         | 13/388 [00:39<18:49,  3.01s/it, v_num=1, train_loss_step=269, train_loss_epoch=260]"
     ]
    },
    {
     "name": "stderr",
     "output_type": "stream",
     "text": [
      "/Users/shivaramakrishna/Library/Python/3.9/lib/python/site-packages/scvi/module/_vae.py:458: UserWarning: The value argument must be within the support of the distribution\n",
      "  reconst_loss = -generative_outputs[\"px\"].log_prob(x).sum(-1)\n",
      "/Users/shivaramakrishna/Library/Python/3.9/lib/python/site-packages/scvi/module/_vae.py:458: UserWarning: The value argument must be within the support of the distribution\n",
      "  reconst_loss = -generative_outputs[\"px\"].log_prob(x).sum(-1)\n"
     ]
    },
    {
     "name": "stdout",
     "output_type": "stream",
     "text": [
      "Epoch 15/388:   4%|▎         | 14/388 [00:42<18:46,  3.01s/it, v_num=1, train_loss_step=266, train_loss_epoch=259]"
     ]
    },
    {
     "name": "stderr",
     "output_type": "stream",
     "text": [
      "/Users/shivaramakrishna/Library/Python/3.9/lib/python/site-packages/scvi/module/_vae.py:458: UserWarning: The value argument must be within the support of the distribution\n",
      "  reconst_loss = -generative_outputs[\"px\"].log_prob(x).sum(-1)\n",
      "/Users/shivaramakrishna/Library/Python/3.9/lib/python/site-packages/scvi/module/_vae.py:458: UserWarning: The value argument must be within the support of the distribution\n",
      "  reconst_loss = -generative_outputs[\"px\"].log_prob(x).sum(-1)\n"
     ]
    },
    {
     "name": "stdout",
     "output_type": "stream",
     "text": [
      "Epoch 16/388:   4%|▍         | 15/388 [00:45<18:37,  3.00s/it, v_num=1, train_loss_step=278, train_loss_epoch=258]"
     ]
    },
    {
     "name": "stderr",
     "output_type": "stream",
     "text": [
      "/Users/shivaramakrishna/Library/Python/3.9/lib/python/site-packages/scvi/module/_vae.py:458: UserWarning: The value argument must be within the support of the distribution\n",
      "  reconst_loss = -generative_outputs[\"px\"].log_prob(x).sum(-1)\n",
      "/Users/shivaramakrishna/Library/Python/3.9/lib/python/site-packages/scvi/module/_vae.py:458: UserWarning: The value argument must be within the support of the distribution\n",
      "  reconst_loss = -generative_outputs[\"px\"].log_prob(x).sum(-1)\n"
     ]
    },
    {
     "name": "stdout",
     "output_type": "stream",
     "text": [
      "Epoch 17/388:   4%|▍         | 16/388 [00:48<18:33,  2.99s/it, v_num=1, train_loss_step=253, train_loss_epoch=257]"
     ]
    },
    {
     "name": "stderr",
     "output_type": "stream",
     "text": [
      "/Users/shivaramakrishna/Library/Python/3.9/lib/python/site-packages/scvi/module/_vae.py:458: UserWarning: The value argument must be within the support of the distribution\n",
      "  reconst_loss = -generative_outputs[\"px\"].log_prob(x).sum(-1)\n",
      "/Users/shivaramakrishna/Library/Python/3.9/lib/python/site-packages/scvi/module/_vae.py:458: UserWarning: The value argument must be within the support of the distribution\n",
      "  reconst_loss = -generative_outputs[\"px\"].log_prob(x).sum(-1)\n"
     ]
    },
    {
     "name": "stdout",
     "output_type": "stream",
     "text": [
      "Epoch 18/388:   4%|▍         | 17/388 [00:51<18:22,  2.97s/it, v_num=1, train_loss_step=257, train_loss_epoch=256]"
     ]
    },
    {
     "name": "stderr",
     "output_type": "stream",
     "text": [
      "/Users/shivaramakrishna/Library/Python/3.9/lib/python/site-packages/scvi/module/_vae.py:458: UserWarning: The value argument must be within the support of the distribution\n",
      "  reconst_loss = -generative_outputs[\"px\"].log_prob(x).sum(-1)\n",
      "/Users/shivaramakrishna/Library/Python/3.9/lib/python/site-packages/scvi/module/_vae.py:458: UserWarning: The value argument must be within the support of the distribution\n",
      "  reconst_loss = -generative_outputs[\"px\"].log_prob(x).sum(-1)\n"
     ]
    },
    {
     "name": "stdout",
     "output_type": "stream",
     "text": [
      "Epoch 19/388:   5%|▍         | 18/388 [00:54<18:22,  2.98s/it, v_num=1, train_loss_step=268, train_loss_epoch=256]"
     ]
    },
    {
     "name": "stderr",
     "output_type": "stream",
     "text": [
      "/Users/shivaramakrishna/Library/Python/3.9/lib/python/site-packages/scvi/module/_vae.py:458: UserWarning: The value argument must be within the support of the distribution\n",
      "  reconst_loss = -generative_outputs[\"px\"].log_prob(x).sum(-1)\n",
      "/Users/shivaramakrishna/Library/Python/3.9/lib/python/site-packages/scvi/module/_vae.py:458: UserWarning: The value argument must be within the support of the distribution\n",
      "  reconst_loss = -generative_outputs[\"px\"].log_prob(x).sum(-1)\n"
     ]
    },
    {
     "name": "stdout",
     "output_type": "stream",
     "text": [
      "Epoch 20/388:   5%|▍         | 19/388 [00:57<18:34,  3.02s/it, v_num=1, train_loss_step=269, train_loss_epoch=255]"
     ]
    },
    {
     "name": "stderr",
     "output_type": "stream",
     "text": [
      "/Users/shivaramakrishna/Library/Python/3.9/lib/python/site-packages/scvi/module/_vae.py:458: UserWarning: The value argument must be within the support of the distribution\n",
      "  reconst_loss = -generative_outputs[\"px\"].log_prob(x).sum(-1)\n",
      "/Users/shivaramakrishna/Library/Python/3.9/lib/python/site-packages/scvi/module/_vae.py:458: UserWarning: The value argument must be within the support of the distribution\n",
      "  reconst_loss = -generative_outputs[\"px\"].log_prob(x).sum(-1)\n"
     ]
    },
    {
     "name": "stdout",
     "output_type": "stream",
     "text": [
      "Epoch 21/388:   5%|▌         | 20/388 [01:00<18:41,  3.05s/it, v_num=1, train_loss_step=283, train_loss_epoch=254]"
     ]
    },
    {
     "name": "stderr",
     "output_type": "stream",
     "text": [
      "/Users/shivaramakrishna/Library/Python/3.9/lib/python/site-packages/scvi/module/_vae.py:458: UserWarning: The value argument must be within the support of the distribution\n",
      "  reconst_loss = -generative_outputs[\"px\"].log_prob(x).sum(-1)\n",
      "/Users/shivaramakrishna/Library/Python/3.9/lib/python/site-packages/scvi/module/_vae.py:458: UserWarning: The value argument must be within the support of the distribution\n",
      "  reconst_loss = -generative_outputs[\"px\"].log_prob(x).sum(-1)\n"
     ]
    },
    {
     "name": "stdout",
     "output_type": "stream",
     "text": [
      "Epoch 22/388:   5%|▌         | 21/388 [01:03<18:32,  3.03s/it, v_num=1, train_loss_step=270, train_loss_epoch=253]"
     ]
    },
    {
     "name": "stderr",
     "output_type": "stream",
     "text": [
      "/Users/shivaramakrishna/Library/Python/3.9/lib/python/site-packages/scvi/module/_vae.py:458: UserWarning: The value argument must be within the support of the distribution\n",
      "  reconst_loss = -generative_outputs[\"px\"].log_prob(x).sum(-1)\n",
      "/Users/shivaramakrishna/Library/Python/3.9/lib/python/site-packages/scvi/module/_vae.py:458: UserWarning: The value argument must be within the support of the distribution\n",
      "  reconst_loss = -generative_outputs[\"px\"].log_prob(x).sum(-1)\n"
     ]
    },
    {
     "name": "stdout",
     "output_type": "stream",
     "text": [
      "Epoch 23/388:   6%|▌         | 22/388 [01:06<18:26,  3.02s/it, v_num=1, train_loss_step=256, train_loss_epoch=253]"
     ]
    },
    {
     "name": "stderr",
     "output_type": "stream",
     "text": [
      "/Users/shivaramakrishna/Library/Python/3.9/lib/python/site-packages/scvi/module/_vae.py:458: UserWarning: The value argument must be within the support of the distribution\n",
      "  reconst_loss = -generative_outputs[\"px\"].log_prob(x).sum(-1)\n",
      "/Users/shivaramakrishna/Library/Python/3.9/lib/python/site-packages/scvi/module/_vae.py:458: UserWarning: The value argument must be within the support of the distribution\n",
      "  reconst_loss = -generative_outputs[\"px\"].log_prob(x).sum(-1)\n"
     ]
    },
    {
     "name": "stdout",
     "output_type": "stream",
     "text": [
      "Epoch 24/388:   6%|▌         | 23/388 [01:09<18:16,  3.00s/it, v_num=1, train_loss_step=259, train_loss_epoch=252]"
     ]
    },
    {
     "name": "stderr",
     "output_type": "stream",
     "text": [
      "/Users/shivaramakrishna/Library/Python/3.9/lib/python/site-packages/scvi/module/_vae.py:458: UserWarning: The value argument must be within the support of the distribution\n",
      "  reconst_loss = -generative_outputs[\"px\"].log_prob(x).sum(-1)\n",
      "/Users/shivaramakrishna/Library/Python/3.9/lib/python/site-packages/scvi/module/_vae.py:458: UserWarning: The value argument must be within the support of the distribution\n",
      "  reconst_loss = -generative_outputs[\"px\"].log_prob(x).sum(-1)\n"
     ]
    },
    {
     "name": "stdout",
     "output_type": "stream",
     "text": [
      "Epoch 25/388:   6%|▌         | 24/388 [01:12<18:06,  2.98s/it, v_num=1, train_loss_step=249, train_loss_epoch=252]"
     ]
    },
    {
     "name": "stderr",
     "output_type": "stream",
     "text": [
      "/Users/shivaramakrishna/Library/Python/3.9/lib/python/site-packages/scvi/module/_vae.py:458: UserWarning: The value argument must be within the support of the distribution\n",
      "  reconst_loss = -generative_outputs[\"px\"].log_prob(x).sum(-1)\n",
      "/Users/shivaramakrishna/Library/Python/3.9/lib/python/site-packages/scvi/module/_vae.py:458: UserWarning: The value argument must be within the support of the distribution\n",
      "  reconst_loss = -generative_outputs[\"px\"].log_prob(x).sum(-1)\n"
     ]
    },
    {
     "name": "stdout",
     "output_type": "stream",
     "text": [
      "Epoch 26/388:   6%|▋         | 25/388 [01:15<18:01,  2.98s/it, v_num=1, train_loss_step=275, train_loss_epoch=251]"
     ]
    },
    {
     "name": "stderr",
     "output_type": "stream",
     "text": [
      "/Users/shivaramakrishna/Library/Python/3.9/lib/python/site-packages/scvi/module/_vae.py:458: UserWarning: The value argument must be within the support of the distribution\n",
      "  reconst_loss = -generative_outputs[\"px\"].log_prob(x).sum(-1)\n",
      "/Users/shivaramakrishna/Library/Python/3.9/lib/python/site-packages/scvi/module/_vae.py:458: UserWarning: The value argument must be within the support of the distribution\n",
      "  reconst_loss = -generative_outputs[\"px\"].log_prob(x).sum(-1)\n"
     ]
    },
    {
     "name": "stdout",
     "output_type": "stream",
     "text": [
      "Epoch 27/388:   7%|▋         | 26/388 [01:18<17:55,  2.97s/it, v_num=1, train_loss_step=275, train_loss_epoch=251]"
     ]
    },
    {
     "name": "stderr",
     "output_type": "stream",
     "text": [
      "/Users/shivaramakrishna/Library/Python/3.9/lib/python/site-packages/scvi/module/_vae.py:458: UserWarning: The value argument must be within the support of the distribution\n",
      "  reconst_loss = -generative_outputs[\"px\"].log_prob(x).sum(-1)\n",
      "/Users/shivaramakrishna/Library/Python/3.9/lib/python/site-packages/scvi/module/_vae.py:458: UserWarning: The value argument must be within the support of the distribution\n",
      "  reconst_loss = -generative_outputs[\"px\"].log_prob(x).sum(-1)\n"
     ]
    },
    {
     "name": "stdout",
     "output_type": "stream",
     "text": [
      "Epoch 28/388:   7%|▋         | 27/388 [01:21<17:51,  2.97s/it, v_num=1, train_loss_step=275, train_loss_epoch=251]"
     ]
    },
    {
     "name": "stderr",
     "output_type": "stream",
     "text": [
      "/Users/shivaramakrishna/Library/Python/3.9/lib/python/site-packages/scvi/module/_vae.py:458: UserWarning: The value argument must be within the support of the distribution\n",
      "  reconst_loss = -generative_outputs[\"px\"].log_prob(x).sum(-1)\n",
      "/Users/shivaramakrishna/Library/Python/3.9/lib/python/site-packages/scvi/module/_vae.py:458: UserWarning: The value argument must be within the support of the distribution\n",
      "  reconst_loss = -generative_outputs[\"px\"].log_prob(x).sum(-1)\n"
     ]
    },
    {
     "name": "stdout",
     "output_type": "stream",
     "text": [
      "Epoch 29/388:   7%|▋         | 28/388 [01:24<18:00,  3.00s/it, v_num=1, train_loss_step=262, train_loss_epoch=250]"
     ]
    },
    {
     "name": "stderr",
     "output_type": "stream",
     "text": [
      "/Users/shivaramakrishna/Library/Python/3.9/lib/python/site-packages/scvi/module/_vae.py:458: UserWarning: The value argument must be within the support of the distribution\n",
      "  reconst_loss = -generative_outputs[\"px\"].log_prob(x).sum(-1)\n",
      "/Users/shivaramakrishna/Library/Python/3.9/lib/python/site-packages/scvi/module/_vae.py:458: UserWarning: The value argument must be within the support of the distribution\n",
      "  reconst_loss = -generative_outputs[\"px\"].log_prob(x).sum(-1)\n"
     ]
    },
    {
     "name": "stdout",
     "output_type": "stream",
     "text": [
      "Epoch 30/388:   7%|▋         | 29/388 [01:27<18:00,  3.01s/it, v_num=1, train_loss_step=243, train_loss_epoch=250]"
     ]
    },
    {
     "name": "stderr",
     "output_type": "stream",
     "text": [
      "/Users/shivaramakrishna/Library/Python/3.9/lib/python/site-packages/scvi/module/_vae.py:458: UserWarning: The value argument must be within the support of the distribution\n",
      "  reconst_loss = -generative_outputs[\"px\"].log_prob(x).sum(-1)\n",
      "/Users/shivaramakrishna/Library/Python/3.9/lib/python/site-packages/scvi/module/_vae.py:458: UserWarning: The value argument must be within the support of the distribution\n",
      "  reconst_loss = -generative_outputs[\"px\"].log_prob(x).sum(-1)\n"
     ]
    },
    {
     "name": "stdout",
     "output_type": "stream",
     "text": [
      "Epoch 31/388:   8%|▊         | 30/388 [01:30<17:58,  3.01s/it, v_num=1, train_loss_step=250, train_loss_epoch=250]"
     ]
    },
    {
     "name": "stderr",
     "output_type": "stream",
     "text": [
      "/Users/shivaramakrishna/Library/Python/3.9/lib/python/site-packages/scvi/module/_vae.py:458: UserWarning: The value argument must be within the support of the distribution\n",
      "  reconst_loss = -generative_outputs[\"px\"].log_prob(x).sum(-1)\n",
      "/Users/shivaramakrishna/Library/Python/3.9/lib/python/site-packages/scvi/module/_vae.py:458: UserWarning: The value argument must be within the support of the distribution\n",
      "  reconst_loss = -generative_outputs[\"px\"].log_prob(x).sum(-1)\n"
     ]
    },
    {
     "name": "stdout",
     "output_type": "stream",
     "text": [
      "Epoch 32/388:   8%|▊         | 31/388 [01:33<17:56,  3.01s/it, v_num=1, train_loss_step=283, train_loss_epoch=249]"
     ]
    },
    {
     "name": "stderr",
     "output_type": "stream",
     "text": [
      "/Users/shivaramakrishna/Library/Python/3.9/lib/python/site-packages/scvi/module/_vae.py:458: UserWarning: The value argument must be within the support of the distribution\n",
      "  reconst_loss = -generative_outputs[\"px\"].log_prob(x).sum(-1)\n",
      "/Users/shivaramakrishna/Library/Python/3.9/lib/python/site-packages/scvi/module/_vae.py:458: UserWarning: The value argument must be within the support of the distribution\n",
      "  reconst_loss = -generative_outputs[\"px\"].log_prob(x).sum(-1)\n"
     ]
    },
    {
     "name": "stdout",
     "output_type": "stream",
     "text": [
      "Epoch 33/388:   8%|▊         | 32/388 [01:36<17:55,  3.02s/it, v_num=1, train_loss_step=258, train_loss_epoch=249]"
     ]
    },
    {
     "name": "stderr",
     "output_type": "stream",
     "text": [
      "/Users/shivaramakrishna/Library/Python/3.9/lib/python/site-packages/scvi/module/_vae.py:458: UserWarning: The value argument must be within the support of the distribution\n",
      "  reconst_loss = -generative_outputs[\"px\"].log_prob(x).sum(-1)\n",
      "/Users/shivaramakrishna/Library/Python/3.9/lib/python/site-packages/scvi/module/_vae.py:458: UserWarning: The value argument must be within the support of the distribution\n",
      "  reconst_loss = -generative_outputs[\"px\"].log_prob(x).sum(-1)\n"
     ]
    },
    {
     "name": "stdout",
     "output_type": "stream",
     "text": [
      "Epoch 34/388:   9%|▊         | 33/388 [01:39<17:47,  3.01s/it, v_num=1, train_loss_step=273, train_loss_epoch=249]"
     ]
    },
    {
     "name": "stderr",
     "output_type": "stream",
     "text": [
      "/Users/shivaramakrishna/Library/Python/3.9/lib/python/site-packages/scvi/module/_vae.py:458: UserWarning: The value argument must be within the support of the distribution\n",
      "  reconst_loss = -generative_outputs[\"px\"].log_prob(x).sum(-1)\n",
      "/Users/shivaramakrishna/Library/Python/3.9/lib/python/site-packages/scvi/module/_vae.py:458: UserWarning: The value argument must be within the support of the distribution\n",
      "  reconst_loss = -generative_outputs[\"px\"].log_prob(x).sum(-1)\n"
     ]
    },
    {
     "name": "stdout",
     "output_type": "stream",
     "text": [
      "Epoch 35/388:   9%|▉         | 34/388 [01:42<17:43,  3.00s/it, v_num=1, train_loss_step=250, train_loss_epoch=249]"
     ]
    },
    {
     "name": "stderr",
     "output_type": "stream",
     "text": [
      "/Users/shivaramakrishna/Library/Python/3.9/lib/python/site-packages/scvi/module/_vae.py:458: UserWarning: The value argument must be within the support of the distribution\n",
      "  reconst_loss = -generative_outputs[\"px\"].log_prob(x).sum(-1)\n",
      "/Users/shivaramakrishna/Library/Python/3.9/lib/python/site-packages/scvi/module/_vae.py:458: UserWarning: The value argument must be within the support of the distribution\n",
      "  reconst_loss = -generative_outputs[\"px\"].log_prob(x).sum(-1)\n"
     ]
    },
    {
     "name": "stdout",
     "output_type": "stream",
     "text": [
      "Epoch 36/388:   9%|▉         | 35/388 [01:45<17:34,  2.99s/it, v_num=1, train_loss_step=289, train_loss_epoch=248]"
     ]
    },
    {
     "name": "stderr",
     "output_type": "stream",
     "text": [
      "/Users/shivaramakrishna/Library/Python/3.9/lib/python/site-packages/scvi/module/_vae.py:458: UserWarning: The value argument must be within the support of the distribution\n",
      "  reconst_loss = -generative_outputs[\"px\"].log_prob(x).sum(-1)\n",
      "/Users/shivaramakrishna/Library/Python/3.9/lib/python/site-packages/scvi/module/_vae.py:458: UserWarning: The value argument must be within the support of the distribution\n",
      "  reconst_loss = -generative_outputs[\"px\"].log_prob(x).sum(-1)\n"
     ]
    },
    {
     "name": "stdout",
     "output_type": "stream",
     "text": [
      "Epoch 37/388:   9%|▉         | 36/388 [01:48<17:34,  3.00s/it, v_num=1, train_loss_step=233, train_loss_epoch=248]"
     ]
    },
    {
     "name": "stderr",
     "output_type": "stream",
     "text": [
      "/Users/shivaramakrishna/Library/Python/3.9/lib/python/site-packages/scvi/module/_vae.py:458: UserWarning: The value argument must be within the support of the distribution\n",
      "  reconst_loss = -generative_outputs[\"px\"].log_prob(x).sum(-1)\n",
      "/Users/shivaramakrishna/Library/Python/3.9/lib/python/site-packages/scvi/module/_vae.py:458: UserWarning: The value argument must be within the support of the distribution\n",
      "  reconst_loss = -generative_outputs[\"px\"].log_prob(x).sum(-1)\n"
     ]
    },
    {
     "name": "stdout",
     "output_type": "stream",
     "text": [
      "Epoch 38/388:  10%|▉         | 37/388 [01:51<17:26,  2.98s/it, v_num=1, train_loss_step=297, train_loss_epoch=248]"
     ]
    },
    {
     "name": "stderr",
     "output_type": "stream",
     "text": [
      "/Users/shivaramakrishna/Library/Python/3.9/lib/python/site-packages/scvi/module/_vae.py:458: UserWarning: The value argument must be within the support of the distribution\n",
      "  reconst_loss = -generative_outputs[\"px\"].log_prob(x).sum(-1)\n",
      "/Users/shivaramakrishna/Library/Python/3.9/lib/python/site-packages/scvi/module/_vae.py:458: UserWarning: The value argument must be within the support of the distribution\n",
      "  reconst_loss = -generative_outputs[\"px\"].log_prob(x).sum(-1)\n"
     ]
    },
    {
     "name": "stdout",
     "output_type": "stream",
     "text": [
      "Epoch 39/388:  10%|▉         | 38/388 [01:54<17:31,  3.00s/it, v_num=1, train_loss_step=328, train_loss_epoch=248]"
     ]
    },
    {
     "name": "stderr",
     "output_type": "stream",
     "text": [
      "/Users/shivaramakrishna/Library/Python/3.9/lib/python/site-packages/scvi/module/_vae.py:458: UserWarning: The value argument must be within the support of the distribution\n",
      "  reconst_loss = -generative_outputs[\"px\"].log_prob(x).sum(-1)\n",
      "/Users/shivaramakrishna/Library/Python/3.9/lib/python/site-packages/scvi/module/_vae.py:458: UserWarning: The value argument must be within the support of the distribution\n",
      "  reconst_loss = -generative_outputs[\"px\"].log_prob(x).sum(-1)\n"
     ]
    },
    {
     "name": "stdout",
     "output_type": "stream",
     "text": [
      "Epoch 40/388:  10%|█         | 39/388 [01:57<17:21,  2.99s/it, v_num=1, train_loss_step=271, train_loss_epoch=247]"
     ]
    },
    {
     "name": "stderr",
     "output_type": "stream",
     "text": [
      "/Users/shivaramakrishna/Library/Python/3.9/lib/python/site-packages/scvi/module/_vae.py:458: UserWarning: The value argument must be within the support of the distribution\n",
      "  reconst_loss = -generative_outputs[\"px\"].log_prob(x).sum(-1)\n",
      "/Users/shivaramakrishna/Library/Python/3.9/lib/python/site-packages/scvi/module/_vae.py:458: UserWarning: The value argument must be within the support of the distribution\n",
      "  reconst_loss = -generative_outputs[\"px\"].log_prob(x).sum(-1)\n"
     ]
    },
    {
     "name": "stdout",
     "output_type": "stream",
     "text": [
      "Epoch 41/388:  10%|█         | 40/388 [02:00<17:16,  2.98s/it, v_num=1, train_loss_step=229, train_loss_epoch=247]"
     ]
    },
    {
     "name": "stderr",
     "output_type": "stream",
     "text": [
      "/Users/shivaramakrishna/Library/Python/3.9/lib/python/site-packages/scvi/module/_vae.py:458: UserWarning: The value argument must be within the support of the distribution\n",
      "  reconst_loss = -generative_outputs[\"px\"].log_prob(x).sum(-1)\n",
      "/Users/shivaramakrishna/Library/Python/3.9/lib/python/site-packages/scvi/module/_vae.py:458: UserWarning: The value argument must be within the support of the distribution\n",
      "  reconst_loss = -generative_outputs[\"px\"].log_prob(x).sum(-1)\n"
     ]
    },
    {
     "name": "stdout",
     "output_type": "stream",
     "text": [
      "Epoch 42/388:  11%|█         | 41/388 [02:03<17:14,  2.98s/it, v_num=1, train_loss_step=266, train_loss_epoch=247]"
     ]
    },
    {
     "name": "stderr",
     "output_type": "stream",
     "text": [
      "/Users/shivaramakrishna/Library/Python/3.9/lib/python/site-packages/scvi/module/_vae.py:458: UserWarning: The value argument must be within the support of the distribution\n",
      "  reconst_loss = -generative_outputs[\"px\"].log_prob(x).sum(-1)\n",
      "/Users/shivaramakrishna/Library/Python/3.9/lib/python/site-packages/scvi/module/_vae.py:458: UserWarning: The value argument must be within the support of the distribution\n",
      "  reconst_loss = -generative_outputs[\"px\"].log_prob(x).sum(-1)\n"
     ]
    },
    {
     "name": "stdout",
     "output_type": "stream",
     "text": [
      "Epoch 43/388:  11%|█         | 42/388 [02:06<17:09,  2.97s/it, v_num=1, train_loss_step=285, train_loss_epoch=247]"
     ]
    },
    {
     "name": "stderr",
     "output_type": "stream",
     "text": [
      "/Users/shivaramakrishna/Library/Python/3.9/lib/python/site-packages/scvi/module/_vae.py:458: UserWarning: The value argument must be within the support of the distribution\n",
      "  reconst_loss = -generative_outputs[\"px\"].log_prob(x).sum(-1)\n",
      "/Users/shivaramakrishna/Library/Python/3.9/lib/python/site-packages/scvi/module/_vae.py:458: UserWarning: The value argument must be within the support of the distribution\n",
      "  reconst_loss = -generative_outputs[\"px\"].log_prob(x).sum(-1)\n"
     ]
    },
    {
     "name": "stdout",
     "output_type": "stream",
     "text": [
      "Epoch 44/388:  11%|█         | 43/388 [02:09<17:03,  2.97s/it, v_num=1, train_loss_step=276, train_loss_epoch=247]"
     ]
    },
    {
     "name": "stderr",
     "output_type": "stream",
     "text": [
      "/Users/shivaramakrishna/Library/Python/3.9/lib/python/site-packages/scvi/module/_vae.py:458: UserWarning: The value argument must be within the support of the distribution\n",
      "  reconst_loss = -generative_outputs[\"px\"].log_prob(x).sum(-1)\n",
      "/Users/shivaramakrishna/Library/Python/3.9/lib/python/site-packages/scvi/module/_vae.py:458: UserWarning: The value argument must be within the support of the distribution\n",
      "  reconst_loss = -generative_outputs[\"px\"].log_prob(x).sum(-1)\n"
     ]
    },
    {
     "name": "stdout",
     "output_type": "stream",
     "text": [
      "Epoch 45/388:  11%|█▏        | 44/388 [02:12<16:56,  2.96s/it, v_num=1, train_loss_step=252, train_loss_epoch=247]"
     ]
    },
    {
     "name": "stderr",
     "output_type": "stream",
     "text": [
      "/Users/shivaramakrishna/Library/Python/3.9/lib/python/site-packages/scvi/module/_vae.py:458: UserWarning: The value argument must be within the support of the distribution\n",
      "  reconst_loss = -generative_outputs[\"px\"].log_prob(x).sum(-1)\n",
      "/Users/shivaramakrishna/Library/Python/3.9/lib/python/site-packages/scvi/module/_vae.py:458: UserWarning: The value argument must be within the support of the distribution\n",
      "  reconst_loss = -generative_outputs[\"px\"].log_prob(x).sum(-1)\n"
     ]
    },
    {
     "name": "stdout",
     "output_type": "stream",
     "text": [
      "Epoch 46/388:  12%|█▏        | 45/388 [02:15<17:00,  2.98s/it, v_num=1, train_loss_step=251, train_loss_epoch=247]"
     ]
    },
    {
     "name": "stderr",
     "output_type": "stream",
     "text": [
      "/Users/shivaramakrishna/Library/Python/3.9/lib/python/site-packages/scvi/module/_vae.py:458: UserWarning: The value argument must be within the support of the distribution\n",
      "  reconst_loss = -generative_outputs[\"px\"].log_prob(x).sum(-1)\n",
      "/Users/shivaramakrishna/Library/Python/3.9/lib/python/site-packages/scvi/module/_vae.py:458: UserWarning: The value argument must be within the support of the distribution\n",
      "  reconst_loss = -generative_outputs[\"px\"].log_prob(x).sum(-1)\n"
     ]
    },
    {
     "name": "stdout",
     "output_type": "stream",
     "text": [
      "Epoch 47/388:  12%|█▏        | 46/388 [02:18<16:59,  2.98s/it, v_num=1, train_loss_step=280, train_loss_epoch=247]"
     ]
    },
    {
     "name": "stderr",
     "output_type": "stream",
     "text": [
      "/Users/shivaramakrishna/Library/Python/3.9/lib/python/site-packages/scvi/module/_vae.py:458: UserWarning: The value argument must be within the support of the distribution\n",
      "  reconst_loss = -generative_outputs[\"px\"].log_prob(x).sum(-1)\n",
      "/Users/shivaramakrishna/Library/Python/3.9/lib/python/site-packages/scvi/module/_vae.py:458: UserWarning: The value argument must be within the support of the distribution\n",
      "  reconst_loss = -generative_outputs[\"px\"].log_prob(x).sum(-1)\n"
     ]
    },
    {
     "name": "stdout",
     "output_type": "stream",
     "text": [
      "Epoch 48/388:  12%|█▏        | 47/388 [02:21<16:55,  2.98s/it, v_num=1, train_loss_step=281, train_loss_epoch=246]"
     ]
    },
    {
     "name": "stderr",
     "output_type": "stream",
     "text": [
      "/Users/shivaramakrishna/Library/Python/3.9/lib/python/site-packages/scvi/module/_vae.py:458: UserWarning: The value argument must be within the support of the distribution\n",
      "  reconst_loss = -generative_outputs[\"px\"].log_prob(x).sum(-1)\n",
      "/Users/shivaramakrishna/Library/Python/3.9/lib/python/site-packages/scvi/module/_vae.py:458: UserWarning: The value argument must be within the support of the distribution\n",
      "  reconst_loss = -generative_outputs[\"px\"].log_prob(x).sum(-1)\n"
     ]
    },
    {
     "name": "stdout",
     "output_type": "stream",
     "text": [
      "Epoch 49/388:  12%|█▏        | 48/388 [02:24<17:06,  3.02s/it, v_num=1, train_loss_step=240, train_loss_epoch=246]"
     ]
    },
    {
     "name": "stderr",
     "output_type": "stream",
     "text": [
      "/Users/shivaramakrishna/Library/Python/3.9/lib/python/site-packages/scvi/module/_vae.py:458: UserWarning: The value argument must be within the support of the distribution\n",
      "  reconst_loss = -generative_outputs[\"px\"].log_prob(x).sum(-1)\n",
      "/Users/shivaramakrishna/Library/Python/3.9/lib/python/site-packages/scvi/module/_vae.py:458: UserWarning: The value argument must be within the support of the distribution\n",
      "  reconst_loss = -generative_outputs[\"px\"].log_prob(x).sum(-1)\n"
     ]
    },
    {
     "name": "stdout",
     "output_type": "stream",
     "text": [
      "Epoch 50/388:  13%|█▎        | 49/388 [02:27<16:58,  3.01s/it, v_num=1, train_loss_step=267, train_loss_epoch=246]"
     ]
    },
    {
     "name": "stderr",
     "output_type": "stream",
     "text": [
      "/Users/shivaramakrishna/Library/Python/3.9/lib/python/site-packages/scvi/module/_vae.py:458: UserWarning: The value argument must be within the support of the distribution\n",
      "  reconst_loss = -generative_outputs[\"px\"].log_prob(x).sum(-1)\n",
      "/Users/shivaramakrishna/Library/Python/3.9/lib/python/site-packages/scvi/module/_vae.py:458: UserWarning: The value argument must be within the support of the distribution\n",
      "  reconst_loss = -generative_outputs[\"px\"].log_prob(x).sum(-1)\n"
     ]
    },
    {
     "name": "stdout",
     "output_type": "stream",
     "text": [
      "Epoch 51/388:  13%|█▎        | 50/388 [02:30<17:03,  3.03s/it, v_num=1, train_loss_step=245, train_loss_epoch=246]"
     ]
    },
    {
     "name": "stderr",
     "output_type": "stream",
     "text": [
      "/Users/shivaramakrishna/Library/Python/3.9/lib/python/site-packages/scvi/module/_vae.py:458: UserWarning: The value argument must be within the support of the distribution\n",
      "  reconst_loss = -generative_outputs[\"px\"].log_prob(x).sum(-1)\n",
      "/Users/shivaramakrishna/Library/Python/3.9/lib/python/site-packages/scvi/module/_vae.py:458: UserWarning: The value argument must be within the support of the distribution\n",
      "  reconst_loss = -generative_outputs[\"px\"].log_prob(x).sum(-1)\n"
     ]
    },
    {
     "name": "stdout",
     "output_type": "stream",
     "text": [
      "Epoch 52/388:  13%|█▎        | 51/388 [02:33<16:59,  3.02s/it, v_num=1, train_loss_step=226, train_loss_epoch=246]"
     ]
    },
    {
     "name": "stderr",
     "output_type": "stream",
     "text": [
      "/Users/shivaramakrishna/Library/Python/3.9/lib/python/site-packages/scvi/module/_vae.py:458: UserWarning: The value argument must be within the support of the distribution\n",
      "  reconst_loss = -generative_outputs[\"px\"].log_prob(x).sum(-1)\n",
      "/Users/shivaramakrishna/Library/Python/3.9/lib/python/site-packages/scvi/module/_vae.py:458: UserWarning: The value argument must be within the support of the distribution\n",
      "  reconst_loss = -generative_outputs[\"px\"].log_prob(x).sum(-1)\n"
     ]
    },
    {
     "name": "stdout",
     "output_type": "stream",
     "text": [
      "Epoch 53/388:  13%|█▎        | 52/388 [02:36<16:52,  3.01s/it, v_num=1, train_loss_step=277, train_loss_epoch=246]"
     ]
    },
    {
     "name": "stderr",
     "output_type": "stream",
     "text": [
      "/Users/shivaramakrishna/Library/Python/3.9/lib/python/site-packages/scvi/module/_vae.py:458: UserWarning: The value argument must be within the support of the distribution\n",
      "  reconst_loss = -generative_outputs[\"px\"].log_prob(x).sum(-1)\n",
      "/Users/shivaramakrishna/Library/Python/3.9/lib/python/site-packages/scvi/module/_vae.py:458: UserWarning: The value argument must be within the support of the distribution\n",
      "  reconst_loss = -generative_outputs[\"px\"].log_prob(x).sum(-1)\n"
     ]
    },
    {
     "name": "stdout",
     "output_type": "stream",
     "text": [
      "Epoch 54/388:  14%|█▎        | 53/388 [02:39<16:48,  3.01s/it, v_num=1, train_loss_step=273, train_loss_epoch=246]"
     ]
    },
    {
     "name": "stderr",
     "output_type": "stream",
     "text": [
      "/Users/shivaramakrishna/Library/Python/3.9/lib/python/site-packages/scvi/module/_vae.py:458: UserWarning: The value argument must be within the support of the distribution\n",
      "  reconst_loss = -generative_outputs[\"px\"].log_prob(x).sum(-1)\n",
      "/Users/shivaramakrishna/Library/Python/3.9/lib/python/site-packages/scvi/module/_vae.py:458: UserWarning: The value argument must be within the support of the distribution\n",
      "  reconst_loss = -generative_outputs[\"px\"].log_prob(x).sum(-1)\n"
     ]
    },
    {
     "name": "stdout",
     "output_type": "stream",
     "text": [
      "Epoch 55/388:  14%|█▍        | 54/388 [02:42<16:42,  3.00s/it, v_num=1, train_loss_step=263, train_loss_epoch=246]"
     ]
    },
    {
     "name": "stderr",
     "output_type": "stream",
     "text": [
      "/Users/shivaramakrishna/Library/Python/3.9/lib/python/site-packages/scvi/module/_vae.py:458: UserWarning: The value argument must be within the support of the distribution\n",
      "  reconst_loss = -generative_outputs[\"px\"].log_prob(x).sum(-1)\n",
      "/Users/shivaramakrishna/Library/Python/3.9/lib/python/site-packages/scvi/module/_vae.py:458: UserWarning: The value argument must be within the support of the distribution\n",
      "  reconst_loss = -generative_outputs[\"px\"].log_prob(x).sum(-1)\n"
     ]
    },
    {
     "name": "stdout",
     "output_type": "stream",
     "text": [
      "Epoch 56/388:  14%|█▍        | 55/388 [02:45<16:40,  3.00s/it, v_num=1, train_loss_step=240, train_loss_epoch=246]"
     ]
    },
    {
     "name": "stderr",
     "output_type": "stream",
     "text": [
      "/Users/shivaramakrishna/Library/Python/3.9/lib/python/site-packages/scvi/module/_vae.py:458: UserWarning: The value argument must be within the support of the distribution\n",
      "  reconst_loss = -generative_outputs[\"px\"].log_prob(x).sum(-1)\n",
      "/Users/shivaramakrishna/Library/Python/3.9/lib/python/site-packages/scvi/module/_vae.py:458: UserWarning: The value argument must be within the support of the distribution\n",
      "  reconst_loss = -generative_outputs[\"px\"].log_prob(x).sum(-1)\n"
     ]
    },
    {
     "name": "stdout",
     "output_type": "stream",
     "text": [
      "Epoch 57/388:  14%|█▍        | 56/388 [02:48<16:32,  2.99s/it, v_num=1, train_loss_step=213, train_loss_epoch=246]"
     ]
    },
    {
     "name": "stderr",
     "output_type": "stream",
     "text": [
      "/Users/shivaramakrishna/Library/Python/3.9/lib/python/site-packages/scvi/module/_vae.py:458: UserWarning: The value argument must be within the support of the distribution\n",
      "  reconst_loss = -generative_outputs[\"px\"].log_prob(x).sum(-1)\n",
      "/Users/shivaramakrishna/Library/Python/3.9/lib/python/site-packages/scvi/module/_vae.py:458: UserWarning: The value argument must be within the support of the distribution\n",
      "  reconst_loss = -generative_outputs[\"px\"].log_prob(x).sum(-1)\n"
     ]
    },
    {
     "name": "stdout",
     "output_type": "stream",
     "text": [
      "Epoch 58/388:  15%|█▍        | 57/388 [02:51<16:33,  3.00s/it, v_num=1, train_loss_step=249, train_loss_epoch=246]"
     ]
    },
    {
     "name": "stderr",
     "output_type": "stream",
     "text": [
      "/Users/shivaramakrishna/Library/Python/3.9/lib/python/site-packages/scvi/module/_vae.py:458: UserWarning: The value argument must be within the support of the distribution\n",
      "  reconst_loss = -generative_outputs[\"px\"].log_prob(x).sum(-1)\n",
      "/Users/shivaramakrishna/Library/Python/3.9/lib/python/site-packages/scvi/module/_vae.py:458: UserWarning: The value argument must be within the support of the distribution\n",
      "  reconst_loss = -generative_outputs[\"px\"].log_prob(x).sum(-1)\n"
     ]
    },
    {
     "name": "stdout",
     "output_type": "stream",
     "text": [
      "Epoch 59/388:  15%|█▍        | 58/388 [02:54<16:43,  3.04s/it, v_num=1, train_loss_step=220, train_loss_epoch=246]"
     ]
    },
    {
     "name": "stderr",
     "output_type": "stream",
     "text": [
      "/Users/shivaramakrishna/Library/Python/3.9/lib/python/site-packages/scvi/module/_vae.py:458: UserWarning: The value argument must be within the support of the distribution\n",
      "  reconst_loss = -generative_outputs[\"px\"].log_prob(x).sum(-1)\n",
      "/Users/shivaramakrishna/Library/Python/3.9/lib/python/site-packages/scvi/module/_vae.py:458: UserWarning: The value argument must be within the support of the distribution\n",
      "  reconst_loss = -generative_outputs[\"px\"].log_prob(x).sum(-1)\n"
     ]
    },
    {
     "name": "stdout",
     "output_type": "stream",
     "text": [
      "Epoch 60/388:  15%|█▌        | 59/388 [02:57<16:57,  3.09s/it, v_num=1, train_loss_step=246, train_loss_epoch=245]"
     ]
    },
    {
     "name": "stderr",
     "output_type": "stream",
     "text": [
      "/Users/shivaramakrishna/Library/Python/3.9/lib/python/site-packages/scvi/module/_vae.py:458: UserWarning: The value argument must be within the support of the distribution\n",
      "  reconst_loss = -generative_outputs[\"px\"].log_prob(x).sum(-1)\n",
      "/Users/shivaramakrishna/Library/Python/3.9/lib/python/site-packages/scvi/module/_vae.py:458: UserWarning: The value argument must be within the support of the distribution\n",
      "  reconst_loss = -generative_outputs[\"px\"].log_prob(x).sum(-1)\n"
     ]
    },
    {
     "name": "stdout",
     "output_type": "stream",
     "text": [
      "Epoch 61/388:  15%|█▌        | 60/388 [03:00<17:12,  3.15s/it, v_num=1, train_loss_step=305, train_loss_epoch=245]"
     ]
    },
    {
     "name": "stderr",
     "output_type": "stream",
     "text": [
      "/Users/shivaramakrishna/Library/Python/3.9/lib/python/site-packages/scvi/module/_vae.py:458: UserWarning: The value argument must be within the support of the distribution\n",
      "  reconst_loss = -generative_outputs[\"px\"].log_prob(x).sum(-1)\n",
      "/Users/shivaramakrishna/Library/Python/3.9/lib/python/site-packages/scvi/module/_vae.py:458: UserWarning: The value argument must be within the support of the distribution\n",
      "  reconst_loss = -generative_outputs[\"px\"].log_prob(x).sum(-1)\n"
     ]
    },
    {
     "name": "stdout",
     "output_type": "stream",
     "text": [
      "Epoch 62/388:  16%|█▌        | 61/388 [03:04<17:02,  3.13s/it, v_num=1, train_loss_step=325, train_loss_epoch=245]"
     ]
    },
    {
     "name": "stderr",
     "output_type": "stream",
     "text": [
      "/Users/shivaramakrishna/Library/Python/3.9/lib/python/site-packages/scvi/module/_vae.py:458: UserWarning: The value argument must be within the support of the distribution\n",
      "  reconst_loss = -generative_outputs[\"px\"].log_prob(x).sum(-1)\n",
      "/Users/shivaramakrishna/Library/Python/3.9/lib/python/site-packages/scvi/module/_vae.py:458: UserWarning: The value argument must be within the support of the distribution\n",
      "  reconst_loss = -generative_outputs[\"px\"].log_prob(x).sum(-1)\n"
     ]
    },
    {
     "name": "stdout",
     "output_type": "stream",
     "text": [
      "Epoch 63/388:  16%|█▌        | 62/388 [03:07<17:01,  3.13s/it, v_num=1, train_loss_step=247, train_loss_epoch=245]"
     ]
    },
    {
     "name": "stderr",
     "output_type": "stream",
     "text": [
      "/Users/shivaramakrishna/Library/Python/3.9/lib/python/site-packages/scvi/module/_vae.py:458: UserWarning: The value argument must be within the support of the distribution\n",
      "  reconst_loss = -generative_outputs[\"px\"].log_prob(x).sum(-1)\n",
      "/Users/shivaramakrishna/Library/Python/3.9/lib/python/site-packages/scvi/module/_vae.py:458: UserWarning: The value argument must be within the support of the distribution\n",
      "  reconst_loss = -generative_outputs[\"px\"].log_prob(x).sum(-1)\n"
     ]
    },
    {
     "name": "stdout",
     "output_type": "stream",
     "text": [
      "Epoch 64/388:  16%|█▌        | 63/388 [03:10<16:59,  3.14s/it, v_num=1, train_loss_step=292, train_loss_epoch=245]"
     ]
    },
    {
     "name": "stderr",
     "output_type": "stream",
     "text": [
      "/Users/shivaramakrishna/Library/Python/3.9/lib/python/site-packages/scvi/module/_vae.py:458: UserWarning: The value argument must be within the support of the distribution\n",
      "  reconst_loss = -generative_outputs[\"px\"].log_prob(x).sum(-1)\n",
      "/Users/shivaramakrishna/Library/Python/3.9/lib/python/site-packages/scvi/module/_vae.py:458: UserWarning: The value argument must be within the support of the distribution\n",
      "  reconst_loss = -generative_outputs[\"px\"].log_prob(x).sum(-1)\n"
     ]
    },
    {
     "name": "stdout",
     "output_type": "stream",
     "text": [
      "Epoch 65/388:  16%|█▋        | 64/388 [03:13<16:39,  3.08s/it, v_num=1, train_loss_step=246, train_loss_epoch=245]"
     ]
    },
    {
     "name": "stderr",
     "output_type": "stream",
     "text": [
      "/Users/shivaramakrishna/Library/Python/3.9/lib/python/site-packages/scvi/module/_vae.py:458: UserWarning: The value argument must be within the support of the distribution\n",
      "  reconst_loss = -generative_outputs[\"px\"].log_prob(x).sum(-1)\n",
      "/Users/shivaramakrishna/Library/Python/3.9/lib/python/site-packages/scvi/module/_vae.py:458: UserWarning: The value argument must be within the support of the distribution\n",
      "  reconst_loss = -generative_outputs[\"px\"].log_prob(x).sum(-1)\n"
     ]
    },
    {
     "name": "stdout",
     "output_type": "stream",
     "text": [
      "Epoch 66/388:  17%|█▋        | 65/388 [03:16<16:59,  3.16s/it, v_num=1, train_loss_step=249, train_loss_epoch=245]"
     ]
    },
    {
     "name": "stderr",
     "output_type": "stream",
     "text": [
      "/Users/shivaramakrishna/Library/Python/3.9/lib/python/site-packages/scvi/module/_vae.py:458: UserWarning: The value argument must be within the support of the distribution\n",
      "  reconst_loss = -generative_outputs[\"px\"].log_prob(x).sum(-1)\n",
      "/Users/shivaramakrishna/Library/Python/3.9/lib/python/site-packages/scvi/module/_vae.py:458: UserWarning: The value argument must be within the support of the distribution\n",
      "  reconst_loss = -generative_outputs[\"px\"].log_prob(x).sum(-1)\n"
     ]
    },
    {
     "name": "stdout",
     "output_type": "stream",
     "text": [
      "Epoch 67/388:  17%|█▋        | 66/388 [03:19<16:17,  3.03s/it, v_num=1, train_loss_step=255, train_loss_epoch=245]"
     ]
    },
    {
     "name": "stderr",
     "output_type": "stream",
     "text": [
      "/Users/shivaramakrishna/Library/Python/3.9/lib/python/site-packages/scvi/module/_vae.py:458: UserWarning: The value argument must be within the support of the distribution\n",
      "  reconst_loss = -generative_outputs[\"px\"].log_prob(x).sum(-1)\n",
      "/Users/shivaramakrishna/Library/Python/3.9/lib/python/site-packages/scvi/module/_vae.py:458: UserWarning: The value argument must be within the support of the distribution\n",
      "  reconst_loss = -generative_outputs[\"px\"].log_prob(x).sum(-1)\n"
     ]
    },
    {
     "name": "stdout",
     "output_type": "stream",
     "text": [
      "Epoch 68/388:  17%|█▋        | 67/388 [03:22<15:51,  2.96s/it, v_num=1, train_loss_step=251, train_loss_epoch=245]"
     ]
    },
    {
     "name": "stderr",
     "output_type": "stream",
     "text": [
      "/Users/shivaramakrishna/Library/Python/3.9/lib/python/site-packages/scvi/module/_vae.py:458: UserWarning: The value argument must be within the support of the distribution\n",
      "  reconst_loss = -generative_outputs[\"px\"].log_prob(x).sum(-1)\n",
      "/Users/shivaramakrishna/Library/Python/3.9/lib/python/site-packages/scvi/module/_vae.py:458: UserWarning: The value argument must be within the support of the distribution\n",
      "  reconst_loss = -generative_outputs[\"px\"].log_prob(x).sum(-1)\n"
     ]
    },
    {
     "name": "stdout",
     "output_type": "stream",
     "text": [
      "Epoch 69/388:  18%|█▊        | 68/388 [03:25<15:57,  2.99s/it, v_num=1, train_loss_step=306, train_loss_epoch=245]"
     ]
    },
    {
     "name": "stderr",
     "output_type": "stream",
     "text": [
      "/Users/shivaramakrishna/Library/Python/3.9/lib/python/site-packages/scvi/module/_vae.py:458: UserWarning: The value argument must be within the support of the distribution\n",
      "  reconst_loss = -generative_outputs[\"px\"].log_prob(x).sum(-1)\n",
      "/Users/shivaramakrishna/Library/Python/3.9/lib/python/site-packages/scvi/module/_vae.py:458: UserWarning: The value argument must be within the support of the distribution\n",
      "  reconst_loss = -generative_outputs[\"px\"].log_prob(x).sum(-1)\n"
     ]
    },
    {
     "name": "stdout",
     "output_type": "stream",
     "text": [
      "Epoch 70/388:  18%|█▊        | 69/388 [03:28<15:48,  2.97s/it, v_num=1, train_loss_step=293, train_loss_epoch=245]"
     ]
    },
    {
     "name": "stderr",
     "output_type": "stream",
     "text": [
      "/Users/shivaramakrishna/Library/Python/3.9/lib/python/site-packages/scvi/module/_vae.py:458: UserWarning: The value argument must be within the support of the distribution\n",
      "  reconst_loss = -generative_outputs[\"px\"].log_prob(x).sum(-1)\n",
      "/Users/shivaramakrishna/Library/Python/3.9/lib/python/site-packages/scvi/module/_vae.py:458: UserWarning: The value argument must be within the support of the distribution\n",
      "  reconst_loss = -generative_outputs[\"px\"].log_prob(x).sum(-1)\n"
     ]
    },
    {
     "name": "stdout",
     "output_type": "stream",
     "text": [
      "Epoch 71/388:  18%|█▊        | 70/388 [03:31<15:56,  3.01s/it, v_num=1, train_loss_step=277, train_loss_epoch=245]"
     ]
    },
    {
     "name": "stderr",
     "output_type": "stream",
     "text": [
      "/Users/shivaramakrishna/Library/Python/3.9/lib/python/site-packages/scvi/module/_vae.py:458: UserWarning: The value argument must be within the support of the distribution\n",
      "  reconst_loss = -generative_outputs[\"px\"].log_prob(x).sum(-1)\n",
      "/Users/shivaramakrishna/Library/Python/3.9/lib/python/site-packages/scvi/module/_vae.py:458: UserWarning: The value argument must be within the support of the distribution\n",
      "  reconst_loss = -generative_outputs[\"px\"].log_prob(x).sum(-1)\n"
     ]
    },
    {
     "name": "stdout",
     "output_type": "stream",
     "text": [
      "Epoch 72/388:  18%|█▊        | 71/388 [03:34<15:53,  3.01s/it, v_num=1, train_loss_step=238, train_loss_epoch=245]"
     ]
    },
    {
     "name": "stderr",
     "output_type": "stream",
     "text": [
      "/Users/shivaramakrishna/Library/Python/3.9/lib/python/site-packages/scvi/module/_vae.py:458: UserWarning: The value argument must be within the support of the distribution\n",
      "  reconst_loss = -generative_outputs[\"px\"].log_prob(x).sum(-1)\n",
      "/Users/shivaramakrishna/Library/Python/3.9/lib/python/site-packages/scvi/module/_vae.py:458: UserWarning: The value argument must be within the support of the distribution\n",
      "  reconst_loss = -generative_outputs[\"px\"].log_prob(x).sum(-1)\n"
     ]
    },
    {
     "name": "stdout",
     "output_type": "stream",
     "text": [
      "Epoch 73/388:  19%|█▊        | 72/388 [03:37<16:07,  3.06s/it, v_num=1, train_loss_step=229, train_loss_epoch=245]"
     ]
    },
    {
     "name": "stderr",
     "output_type": "stream",
     "text": [
      "/Users/shivaramakrishna/Library/Python/3.9/lib/python/site-packages/scvi/module/_vae.py:458: UserWarning: The value argument must be within the support of the distribution\n",
      "  reconst_loss = -generative_outputs[\"px\"].log_prob(x).sum(-1)\n",
      "/Users/shivaramakrishna/Library/Python/3.9/lib/python/site-packages/scvi/module/_vae.py:458: UserWarning: The value argument must be within the support of the distribution\n",
      "  reconst_loss = -generative_outputs[\"px\"].log_prob(x).sum(-1)\n"
     ]
    },
    {
     "name": "stdout",
     "output_type": "stream",
     "text": [
      "Epoch 74/388:  19%|█▉        | 73/388 [03:40<16:21,  3.12s/it, v_num=1, train_loss_step=229, train_loss_epoch=245]"
     ]
    },
    {
     "name": "stderr",
     "output_type": "stream",
     "text": [
      "/Users/shivaramakrishna/Library/Python/3.9/lib/python/site-packages/scvi/module/_vae.py:458: UserWarning: The value argument must be within the support of the distribution\n",
      "  reconst_loss = -generative_outputs[\"px\"].log_prob(x).sum(-1)\n",
      "/Users/shivaramakrishna/Library/Python/3.9/lib/python/site-packages/scvi/module/_vae.py:458: UserWarning: The value argument must be within the support of the distribution\n",
      "  reconst_loss = -generative_outputs[\"px\"].log_prob(x).sum(-1)\n"
     ]
    },
    {
     "name": "stdout",
     "output_type": "stream",
     "text": [
      "Epoch 75/388:  19%|█▉        | 74/388 [03:43<16:30,  3.16s/it, v_num=1, train_loss_step=227, train_loss_epoch=245]"
     ]
    },
    {
     "name": "stderr",
     "output_type": "stream",
     "text": [
      "/Users/shivaramakrishna/Library/Python/3.9/lib/python/site-packages/scvi/module/_vae.py:458: UserWarning: The value argument must be within the support of the distribution\n",
      "  reconst_loss = -generative_outputs[\"px\"].log_prob(x).sum(-1)\n",
      "/Users/shivaramakrishna/Library/Python/3.9/lib/python/site-packages/scvi/module/_vae.py:458: UserWarning: The value argument must be within the support of the distribution\n",
      "  reconst_loss = -generative_outputs[\"px\"].log_prob(x).sum(-1)\n"
     ]
    },
    {
     "name": "stdout",
     "output_type": "stream",
     "text": [
      "Epoch 76/388:  19%|█▉        | 75/388 [03:47<16:24,  3.15s/it, v_num=1, train_loss_step=313, train_loss_epoch=245]"
     ]
    },
    {
     "name": "stderr",
     "output_type": "stream",
     "text": [
      "/Users/shivaramakrishna/Library/Python/3.9/lib/python/site-packages/scvi/module/_vae.py:458: UserWarning: The value argument must be within the support of the distribution\n",
      "  reconst_loss = -generative_outputs[\"px\"].log_prob(x).sum(-1)\n",
      "/Users/shivaramakrishna/Library/Python/3.9/lib/python/site-packages/scvi/module/_vae.py:458: UserWarning: The value argument must be within the support of the distribution\n",
      "  reconst_loss = -generative_outputs[\"px\"].log_prob(x).sum(-1)\n"
     ]
    },
    {
     "name": "stdout",
     "output_type": "stream",
     "text": [
      "Epoch 77/388:  20%|█▉        | 76/388 [03:50<16:29,  3.17s/it, v_num=1, train_loss_step=278, train_loss_epoch=245]"
     ]
    },
    {
     "name": "stderr",
     "output_type": "stream",
     "text": [
      "/Users/shivaramakrishna/Library/Python/3.9/lib/python/site-packages/scvi/module/_vae.py:458: UserWarning: The value argument must be within the support of the distribution\n",
      "  reconst_loss = -generative_outputs[\"px\"].log_prob(x).sum(-1)\n",
      "/Users/shivaramakrishna/Library/Python/3.9/lib/python/site-packages/scvi/module/_vae.py:458: UserWarning: The value argument must be within the support of the distribution\n",
      "  reconst_loss = -generative_outputs[\"px\"].log_prob(x).sum(-1)\n"
     ]
    },
    {
     "name": "stdout",
     "output_type": "stream",
     "text": [
      "Epoch 78/388:  20%|█▉        | 77/388 [03:53<15:53,  3.07s/it, v_num=1, train_loss_step=223, train_loss_epoch=245]"
     ]
    },
    {
     "name": "stderr",
     "output_type": "stream",
     "text": [
      "/Users/shivaramakrishna/Library/Python/3.9/lib/python/site-packages/scvi/module/_vae.py:458: UserWarning: The value argument must be within the support of the distribution\n",
      "  reconst_loss = -generative_outputs[\"px\"].log_prob(x).sum(-1)\n",
      "/Users/shivaramakrishna/Library/Python/3.9/lib/python/site-packages/scvi/module/_vae.py:458: UserWarning: The value argument must be within the support of the distribution\n",
      "  reconst_loss = -generative_outputs[\"px\"].log_prob(x).sum(-1)\n"
     ]
    },
    {
     "name": "stdout",
     "output_type": "stream",
     "text": [
      "Epoch 79/388:  20%|██        | 78/388 [03:55<15:28,  2.99s/it, v_num=1, train_loss_step=264, train_loss_epoch=245]"
     ]
    },
    {
     "name": "stderr",
     "output_type": "stream",
     "text": [
      "/Users/shivaramakrishna/Library/Python/3.9/lib/python/site-packages/scvi/module/_vae.py:458: UserWarning: The value argument must be within the support of the distribution\n",
      "  reconst_loss = -generative_outputs[\"px\"].log_prob(x).sum(-1)\n",
      "/Users/shivaramakrishna/Library/Python/3.9/lib/python/site-packages/scvi/module/_vae.py:458: UserWarning: The value argument must be within the support of the distribution\n",
      "  reconst_loss = -generative_outputs[\"px\"].log_prob(x).sum(-1)\n"
     ]
    },
    {
     "name": "stdout",
     "output_type": "stream",
     "text": [
      "Epoch 80/388:  20%|██        | 79/388 [03:58<15:05,  2.93s/it, v_num=1, train_loss_step=275, train_loss_epoch=245]"
     ]
    },
    {
     "name": "stderr",
     "output_type": "stream",
     "text": [
      "/Users/shivaramakrishna/Library/Python/3.9/lib/python/site-packages/scvi/module/_vae.py:458: UserWarning: The value argument must be within the support of the distribution\n",
      "  reconst_loss = -generative_outputs[\"px\"].log_prob(x).sum(-1)\n",
      "/Users/shivaramakrishna/Library/Python/3.9/lib/python/site-packages/scvi/module/_vae.py:458: UserWarning: The value argument must be within the support of the distribution\n",
      "  reconst_loss = -generative_outputs[\"px\"].log_prob(x).sum(-1)\n"
     ]
    },
    {
     "name": "stdout",
     "output_type": "stream",
     "text": [
      "Epoch 81/388:  21%|██        | 80/388 [04:01<15:00,  2.92s/it, v_num=1, train_loss_step=244, train_loss_epoch=245]"
     ]
    },
    {
     "name": "stderr",
     "output_type": "stream",
     "text": [
      "/Users/shivaramakrishna/Library/Python/3.9/lib/python/site-packages/scvi/module/_vae.py:458: UserWarning: The value argument must be within the support of the distribution\n",
      "  reconst_loss = -generative_outputs[\"px\"].log_prob(x).sum(-1)\n",
      "/Users/shivaramakrishna/Library/Python/3.9/lib/python/site-packages/scvi/module/_vae.py:458: UserWarning: The value argument must be within the support of the distribution\n",
      "  reconst_loss = -generative_outputs[\"px\"].log_prob(x).sum(-1)\n"
     ]
    },
    {
     "name": "stdout",
     "output_type": "stream",
     "text": [
      "Epoch 82/388:  21%|██        | 81/388 [04:04<15:00,  2.93s/it, v_num=1, train_loss_step=306, train_loss_epoch=245]"
     ]
    },
    {
     "name": "stderr",
     "output_type": "stream",
     "text": [
      "/Users/shivaramakrishna/Library/Python/3.9/lib/python/site-packages/scvi/module/_vae.py:458: UserWarning: The value argument must be within the support of the distribution\n",
      "  reconst_loss = -generative_outputs[\"px\"].log_prob(x).sum(-1)\n",
      "/Users/shivaramakrishna/Library/Python/3.9/lib/python/site-packages/scvi/module/_vae.py:458: UserWarning: The value argument must be within the support of the distribution\n",
      "  reconst_loss = -generative_outputs[\"px\"].log_prob(x).sum(-1)\n"
     ]
    },
    {
     "name": "stdout",
     "output_type": "stream",
     "text": [
      "Epoch 83/388:  21%|██        | 82/388 [04:07<15:01,  2.95s/it, v_num=1, train_loss_step=298, train_loss_epoch=245]"
     ]
    },
    {
     "name": "stderr",
     "output_type": "stream",
     "text": [
      "/Users/shivaramakrishna/Library/Python/3.9/lib/python/site-packages/scvi/module/_vae.py:458: UserWarning: The value argument must be within the support of the distribution\n",
      "  reconst_loss = -generative_outputs[\"px\"].log_prob(x).sum(-1)\n",
      "/Users/shivaramakrishna/Library/Python/3.9/lib/python/site-packages/scvi/module/_vae.py:458: UserWarning: The value argument must be within the support of the distribution\n",
      "  reconst_loss = -generative_outputs[\"px\"].log_prob(x).sum(-1)\n"
     ]
    },
    {
     "name": "stdout",
     "output_type": "stream",
     "text": [
      "Epoch 84/388:  21%|██▏       | 83/388 [04:10<15:19,  3.02s/it, v_num=1, train_loss_step=279, train_loss_epoch=245]"
     ]
    },
    {
     "name": "stderr",
     "output_type": "stream",
     "text": [
      "/Users/shivaramakrishna/Library/Python/3.9/lib/python/site-packages/scvi/module/_vae.py:458: UserWarning: The value argument must be within the support of the distribution\n",
      "  reconst_loss = -generative_outputs[\"px\"].log_prob(x).sum(-1)\n",
      "/Users/shivaramakrishna/Library/Python/3.9/lib/python/site-packages/scvi/module/_vae.py:458: UserWarning: The value argument must be within the support of the distribution\n",
      "  reconst_loss = -generative_outputs[\"px\"].log_prob(x).sum(-1)\n"
     ]
    },
    {
     "name": "stdout",
     "output_type": "stream",
     "text": [
      "Epoch 85/388:  22%|██▏       | 84/388 [04:13<14:55,  2.95s/it, v_num=1, train_loss_step=317, train_loss_epoch=245]"
     ]
    },
    {
     "name": "stderr",
     "output_type": "stream",
     "text": [
      "/Users/shivaramakrishna/Library/Python/3.9/lib/python/site-packages/scvi/module/_vae.py:458: UserWarning: The value argument must be within the support of the distribution\n",
      "  reconst_loss = -generative_outputs[\"px\"].log_prob(x).sum(-1)\n",
      "/Users/shivaramakrishna/Library/Python/3.9/lib/python/site-packages/scvi/module/_vae.py:458: UserWarning: The value argument must be within the support of the distribution\n",
      "  reconst_loss = -generative_outputs[\"px\"].log_prob(x).sum(-1)\n"
     ]
    },
    {
     "name": "stdout",
     "output_type": "stream",
     "text": [
      "Epoch 86/388:  22%|██▏       | 85/388 [04:16<15:01,  2.97s/it, v_num=1, train_loss_step=244, train_loss_epoch=245]"
     ]
    },
    {
     "name": "stderr",
     "output_type": "stream",
     "text": [
      "/Users/shivaramakrishna/Library/Python/3.9/lib/python/site-packages/scvi/module/_vae.py:458: UserWarning: The value argument must be within the support of the distribution\n",
      "  reconst_loss = -generative_outputs[\"px\"].log_prob(x).sum(-1)\n",
      "/Users/shivaramakrishna/Library/Python/3.9/lib/python/site-packages/scvi/module/_vae.py:458: UserWarning: The value argument must be within the support of the distribution\n",
      "  reconst_loss = -generative_outputs[\"px\"].log_prob(x).sum(-1)\n"
     ]
    },
    {
     "name": "stdout",
     "output_type": "stream",
     "text": [
      "Epoch 87/388:  22%|██▏       | 86/388 [04:19<14:56,  2.97s/it, v_num=1, train_loss_step=257, train_loss_epoch=245]"
     ]
    },
    {
     "name": "stderr",
     "output_type": "stream",
     "text": [
      "/Users/shivaramakrishna/Library/Python/3.9/lib/python/site-packages/scvi/module/_vae.py:458: UserWarning: The value argument must be within the support of the distribution\n",
      "  reconst_loss = -generative_outputs[\"px\"].log_prob(x).sum(-1)\n",
      "/Users/shivaramakrishna/Library/Python/3.9/lib/python/site-packages/scvi/module/_vae.py:458: UserWarning: The value argument must be within the support of the distribution\n",
      "  reconst_loss = -generative_outputs[\"px\"].log_prob(x).sum(-1)\n"
     ]
    },
    {
     "name": "stdout",
     "output_type": "stream",
     "text": [
      "Epoch 88/388:  22%|██▏       | 87/388 [04:22<15:30,  3.09s/it, v_num=1, train_loss_step=298, train_loss_epoch=245]"
     ]
    },
    {
     "name": "stderr",
     "output_type": "stream",
     "text": [
      "/Users/shivaramakrishna/Library/Python/3.9/lib/python/site-packages/scvi/module/_vae.py:458: UserWarning: The value argument must be within the support of the distribution\n",
      "  reconst_loss = -generative_outputs[\"px\"].log_prob(x).sum(-1)\n",
      "/Users/shivaramakrishna/Library/Python/3.9/lib/python/site-packages/scvi/module/_vae.py:458: UserWarning: The value argument must be within the support of the distribution\n",
      "  reconst_loss = -generative_outputs[\"px\"].log_prob(x).sum(-1)\n"
     ]
    },
    {
     "name": "stdout",
     "output_type": "stream",
     "text": [
      "Epoch 89/388:  23%|██▎       | 88/388 [04:25<15:10,  3.04s/it, v_num=1, train_loss_step=231, train_loss_epoch=245]"
     ]
    },
    {
     "name": "stderr",
     "output_type": "stream",
     "text": [
      "/Users/shivaramakrishna/Library/Python/3.9/lib/python/site-packages/scvi/module/_vae.py:458: UserWarning: The value argument must be within the support of the distribution\n",
      "  reconst_loss = -generative_outputs[\"px\"].log_prob(x).sum(-1)\n",
      "/Users/shivaramakrishna/Library/Python/3.9/lib/python/site-packages/scvi/module/_vae.py:458: UserWarning: The value argument must be within the support of the distribution\n",
      "  reconst_loss = -generative_outputs[\"px\"].log_prob(x).sum(-1)\n"
     ]
    },
    {
     "name": "stdout",
     "output_type": "stream",
     "text": [
      "Epoch 90/388:  23%|██▎       | 89/388 [04:28<15:01,  3.01s/it, v_num=1, train_loss_step=207, train_loss_epoch=245]"
     ]
    },
    {
     "name": "stderr",
     "output_type": "stream",
     "text": [
      "/Users/shivaramakrishna/Library/Python/3.9/lib/python/site-packages/scvi/module/_vae.py:458: UserWarning: The value argument must be within the support of the distribution\n",
      "  reconst_loss = -generative_outputs[\"px\"].log_prob(x).sum(-1)\n",
      "/Users/shivaramakrishna/Library/Python/3.9/lib/python/site-packages/scvi/module/_vae.py:458: UserWarning: The value argument must be within the support of the distribution\n",
      "  reconst_loss = -generative_outputs[\"px\"].log_prob(x).sum(-1)\n"
     ]
    },
    {
     "name": "stdout",
     "output_type": "stream",
     "text": [
      "Epoch 91/388:  23%|██▎       | 90/388 [04:32<15:19,  3.09s/it, v_num=1, train_loss_step=275, train_loss_epoch=245]"
     ]
    },
    {
     "name": "stderr",
     "output_type": "stream",
     "text": [
      "/Users/shivaramakrishna/Library/Python/3.9/lib/python/site-packages/scvi/module/_vae.py:458: UserWarning: The value argument must be within the support of the distribution\n",
      "  reconst_loss = -generative_outputs[\"px\"].log_prob(x).sum(-1)\n",
      "/Users/shivaramakrishna/Library/Python/3.9/lib/python/site-packages/scvi/module/_vae.py:458: UserWarning: The value argument must be within the support of the distribution\n",
      "  reconst_loss = -generative_outputs[\"px\"].log_prob(x).sum(-1)\n"
     ]
    },
    {
     "name": "stdout",
     "output_type": "stream",
     "text": [
      "Epoch 92/388:  23%|██▎       | 91/388 [04:35<15:17,  3.09s/it, v_num=1, train_loss_step=244, train_loss_epoch=245]"
     ]
    },
    {
     "name": "stderr",
     "output_type": "stream",
     "text": [
      "/Users/shivaramakrishna/Library/Python/3.9/lib/python/site-packages/scvi/module/_vae.py:458: UserWarning: The value argument must be within the support of the distribution\n",
      "  reconst_loss = -generative_outputs[\"px\"].log_prob(x).sum(-1)\n",
      "/Users/shivaramakrishna/Library/Python/3.9/lib/python/site-packages/scvi/module/_vae.py:458: UserWarning: The value argument must be within the support of the distribution\n",
      "  reconst_loss = -generative_outputs[\"px\"].log_prob(x).sum(-1)\n"
     ]
    },
    {
     "name": "stdout",
     "output_type": "stream",
     "text": [
      "Epoch 93/388:  24%|██▎       | 92/388 [04:38<15:07,  3.07s/it, v_num=1, train_loss_step=304, train_loss_epoch=245]"
     ]
    },
    {
     "name": "stderr",
     "output_type": "stream",
     "text": [
      "/Users/shivaramakrishna/Library/Python/3.9/lib/python/site-packages/scvi/module/_vae.py:458: UserWarning: The value argument must be within the support of the distribution\n",
      "  reconst_loss = -generative_outputs[\"px\"].log_prob(x).sum(-1)\n",
      "/Users/shivaramakrishna/Library/Python/3.9/lib/python/site-packages/scvi/module/_vae.py:458: UserWarning: The value argument must be within the support of the distribution\n",
      "  reconst_loss = -generative_outputs[\"px\"].log_prob(x).sum(-1)\n"
     ]
    },
    {
     "name": "stdout",
     "output_type": "stream",
     "text": [
      "Epoch 94/388:  24%|██▍       | 93/388 [04:41<14:47,  3.01s/it, v_num=1, train_loss_step=246, train_loss_epoch=245]"
     ]
    },
    {
     "name": "stderr",
     "output_type": "stream",
     "text": [
      "/Users/shivaramakrishna/Library/Python/3.9/lib/python/site-packages/scvi/module/_vae.py:458: UserWarning: The value argument must be within the support of the distribution\n",
      "  reconst_loss = -generative_outputs[\"px\"].log_prob(x).sum(-1)\n",
      "/Users/shivaramakrishna/Library/Python/3.9/lib/python/site-packages/scvi/module/_vae.py:458: UserWarning: The value argument must be within the support of the distribution\n",
      "  reconst_loss = -generative_outputs[\"px\"].log_prob(x).sum(-1)\n"
     ]
    },
    {
     "name": "stdout",
     "output_type": "stream",
     "text": [
      "Epoch 95/388:  24%|██▍       | 94/388 [04:44<14:56,  3.05s/it, v_num=1, train_loss_step=247, train_loss_epoch=245]"
     ]
    },
    {
     "name": "stderr",
     "output_type": "stream",
     "text": [
      "/Users/shivaramakrishna/Library/Python/3.9/lib/python/site-packages/scvi/module/_vae.py:458: UserWarning: The value argument must be within the support of the distribution\n",
      "  reconst_loss = -generative_outputs[\"px\"].log_prob(x).sum(-1)\n",
      "/Users/shivaramakrishna/Library/Python/3.9/lib/python/site-packages/scvi/module/_vae.py:458: UserWarning: The value argument must be within the support of the distribution\n",
      "  reconst_loss = -generative_outputs[\"px\"].log_prob(x).sum(-1)\n"
     ]
    },
    {
     "name": "stdout",
     "output_type": "stream",
     "text": [
      "Epoch 96/388:  24%|██▍       | 95/388 [04:47<15:02,  3.08s/it, v_num=1, train_loss_step=276, train_loss_epoch=245]"
     ]
    },
    {
     "name": "stderr",
     "output_type": "stream",
     "text": [
      "/Users/shivaramakrishna/Library/Python/3.9/lib/python/site-packages/scvi/module/_vae.py:458: UserWarning: The value argument must be within the support of the distribution\n",
      "  reconst_loss = -generative_outputs[\"px\"].log_prob(x).sum(-1)\n",
      "/Users/shivaramakrishna/Library/Python/3.9/lib/python/site-packages/scvi/module/_vae.py:458: UserWarning: The value argument must be within the support of the distribution\n",
      "  reconst_loss = -generative_outputs[\"px\"].log_prob(x).sum(-1)\n"
     ]
    },
    {
     "name": "stdout",
     "output_type": "stream",
     "text": [
      "Epoch 97/388:  25%|██▍       | 96/388 [04:50<15:03,  3.10s/it, v_num=1, train_loss_step=299, train_loss_epoch=245]"
     ]
    },
    {
     "name": "stderr",
     "output_type": "stream",
     "text": [
      "/Users/shivaramakrishna/Library/Python/3.9/lib/python/site-packages/scvi/module/_vae.py:458: UserWarning: The value argument must be within the support of the distribution\n",
      "  reconst_loss = -generative_outputs[\"px\"].log_prob(x).sum(-1)\n",
      "/Users/shivaramakrishna/Library/Python/3.9/lib/python/site-packages/scvi/module/_vae.py:458: UserWarning: The value argument must be within the support of the distribution\n",
      "  reconst_loss = -generative_outputs[\"px\"].log_prob(x).sum(-1)\n"
     ]
    },
    {
     "name": "stdout",
     "output_type": "stream",
     "text": [
      "Epoch 98/388:  25%|██▌       | 97/388 [04:53<14:50,  3.06s/it, v_num=1, train_loss_step=247, train_loss_epoch=245]"
     ]
    },
    {
     "name": "stderr",
     "output_type": "stream",
     "text": [
      "/Users/shivaramakrishna/Library/Python/3.9/lib/python/site-packages/scvi/module/_vae.py:458: UserWarning: The value argument must be within the support of the distribution\n",
      "  reconst_loss = -generative_outputs[\"px\"].log_prob(x).sum(-1)\n",
      "/Users/shivaramakrishna/Library/Python/3.9/lib/python/site-packages/scvi/module/_vae.py:458: UserWarning: The value argument must be within the support of the distribution\n",
      "  reconst_loss = -generative_outputs[\"px\"].log_prob(x).sum(-1)\n"
     ]
    },
    {
     "name": "stdout",
     "output_type": "stream",
     "text": [
      "Epoch 99/388:  25%|██▌       | 98/388 [04:56<14:43,  3.05s/it, v_num=1, train_loss_step=263, train_loss_epoch=245]"
     ]
    },
    {
     "name": "stderr",
     "output_type": "stream",
     "text": [
      "/Users/shivaramakrishna/Library/Python/3.9/lib/python/site-packages/scvi/module/_vae.py:458: UserWarning: The value argument must be within the support of the distribution\n",
      "  reconst_loss = -generative_outputs[\"px\"].log_prob(x).sum(-1)\n",
      "/Users/shivaramakrishna/Library/Python/3.9/lib/python/site-packages/scvi/module/_vae.py:458: UserWarning: The value argument must be within the support of the distribution\n",
      "  reconst_loss = -generative_outputs[\"px\"].log_prob(x).sum(-1)\n"
     ]
    },
    {
     "name": "stdout",
     "output_type": "stream",
     "text": [
      "Epoch 100/388:  26%|██▌       | 99/388 [04:59<14:40,  3.05s/it, v_num=1, train_loss_step=243, train_loss_epoch=245]"
     ]
    },
    {
     "name": "stderr",
     "output_type": "stream",
     "text": [
      "/Users/shivaramakrishna/Library/Python/3.9/lib/python/site-packages/scvi/module/_vae.py:458: UserWarning: The value argument must be within the support of the distribution\n",
      "  reconst_loss = -generative_outputs[\"px\"].log_prob(x).sum(-1)\n",
      "/Users/shivaramakrishna/Library/Python/3.9/lib/python/site-packages/scvi/module/_vae.py:458: UserWarning: The value argument must be within the support of the distribution\n",
      "  reconst_loss = -generative_outputs[\"px\"].log_prob(x).sum(-1)\n"
     ]
    },
    {
     "name": "stdout",
     "output_type": "stream",
     "text": [
      "Epoch 101/388:  26%|██▌       | 100/388 [05:02<14:56,  3.11s/it, v_num=1, train_loss_step=255, train_loss_epoch=245]"
     ]
    },
    {
     "name": "stderr",
     "output_type": "stream",
     "text": [
      "/Users/shivaramakrishna/Library/Python/3.9/lib/python/site-packages/scvi/module/_vae.py:458: UserWarning: The value argument must be within the support of the distribution\n",
      "  reconst_loss = -generative_outputs[\"px\"].log_prob(x).sum(-1)\n",
      "/Users/shivaramakrishna/Library/Python/3.9/lib/python/site-packages/scvi/module/_vae.py:458: UserWarning: The value argument must be within the support of the distribution\n",
      "  reconst_loss = -generative_outputs[\"px\"].log_prob(x).sum(-1)\n"
     ]
    },
    {
     "name": "stdout",
     "output_type": "stream",
     "text": [
      "Epoch 102/388:  26%|██▌       | 101/388 [05:05<14:50,  3.10s/it, v_num=1, train_loss_step=266, train_loss_epoch=245]"
     ]
    },
    {
     "name": "stderr",
     "output_type": "stream",
     "text": [
      "/Users/shivaramakrishna/Library/Python/3.9/lib/python/site-packages/scvi/module/_vae.py:458: UserWarning: The value argument must be within the support of the distribution\n",
      "  reconst_loss = -generative_outputs[\"px\"].log_prob(x).sum(-1)\n",
      "/Users/shivaramakrishna/Library/Python/3.9/lib/python/site-packages/scvi/module/_vae.py:458: UserWarning: The value argument must be within the support of the distribution\n",
      "  reconst_loss = -generative_outputs[\"px\"].log_prob(x).sum(-1)\n"
     ]
    },
    {
     "name": "stdout",
     "output_type": "stream",
     "text": [
      "Epoch 103/388:  26%|██▋       | 102/388 [05:09<14:56,  3.14s/it, v_num=1, train_loss_step=286, train_loss_epoch=245]"
     ]
    },
    {
     "name": "stderr",
     "output_type": "stream",
     "text": [
      "/Users/shivaramakrishna/Library/Python/3.9/lib/python/site-packages/scvi/module/_vae.py:458: UserWarning: The value argument must be within the support of the distribution\n",
      "  reconst_loss = -generative_outputs[\"px\"].log_prob(x).sum(-1)\n",
      "/Users/shivaramakrishna/Library/Python/3.9/lib/python/site-packages/scvi/module/_vae.py:458: UserWarning: The value argument must be within the support of the distribution\n",
      "  reconst_loss = -generative_outputs[\"px\"].log_prob(x).sum(-1)\n"
     ]
    },
    {
     "name": "stdout",
     "output_type": "stream",
     "text": [
      "Epoch 104/388:  27%|██▋       | 103/388 [05:12<15:06,  3.18s/it, v_num=1, train_loss_step=274, train_loss_epoch=245]"
     ]
    },
    {
     "name": "stderr",
     "output_type": "stream",
     "text": [
      "/Users/shivaramakrishna/Library/Python/3.9/lib/python/site-packages/scvi/module/_vae.py:458: UserWarning: The value argument must be within the support of the distribution\n",
      "  reconst_loss = -generative_outputs[\"px\"].log_prob(x).sum(-1)\n",
      "/Users/shivaramakrishna/Library/Python/3.9/lib/python/site-packages/scvi/module/_vae.py:458: UserWarning: The value argument must be within the support of the distribution\n",
      "  reconst_loss = -generative_outputs[\"px\"].log_prob(x).sum(-1)\n"
     ]
    },
    {
     "name": "stdout",
     "output_type": "stream",
     "text": [
      "Epoch 105/388:  27%|██▋       | 104/388 [05:15<15:02,  3.18s/it, v_num=1, train_loss_step=294, train_loss_epoch=245]"
     ]
    },
    {
     "name": "stderr",
     "output_type": "stream",
     "text": [
      "/Users/shivaramakrishna/Library/Python/3.9/lib/python/site-packages/scvi/module/_vae.py:458: UserWarning: The value argument must be within the support of the distribution\n",
      "  reconst_loss = -generative_outputs[\"px\"].log_prob(x).sum(-1)\n",
      "/Users/shivaramakrishna/Library/Python/3.9/lib/python/site-packages/scvi/module/_vae.py:458: UserWarning: The value argument must be within the support of the distribution\n",
      "  reconst_loss = -generative_outputs[\"px\"].log_prob(x).sum(-1)\n"
     ]
    },
    {
     "name": "stdout",
     "output_type": "stream",
     "text": [
      "Epoch 106/388:  27%|██▋       | 105/388 [05:18<15:06,  3.20s/it, v_num=1, train_loss_step=244, train_loss_epoch=245]"
     ]
    },
    {
     "name": "stderr",
     "output_type": "stream",
     "text": [
      "/Users/shivaramakrishna/Library/Python/3.9/lib/python/site-packages/scvi/module/_vae.py:458: UserWarning: The value argument must be within the support of the distribution\n",
      "  reconst_loss = -generative_outputs[\"px\"].log_prob(x).sum(-1)\n",
      "/Users/shivaramakrishna/Library/Python/3.9/lib/python/site-packages/scvi/module/_vae.py:458: UserWarning: The value argument must be within the support of the distribution\n",
      "  reconst_loss = -generative_outputs[\"px\"].log_prob(x).sum(-1)\n"
     ]
    },
    {
     "name": "stdout",
     "output_type": "stream",
     "text": [
      "Epoch 107/388:  27%|██▋       | 106/388 [05:22<15:13,  3.24s/it, v_num=1, train_loss_step=239, train_loss_epoch=245]"
     ]
    },
    {
     "name": "stderr",
     "output_type": "stream",
     "text": [
      "/Users/shivaramakrishna/Library/Python/3.9/lib/python/site-packages/scvi/module/_vae.py:458: UserWarning: The value argument must be within the support of the distribution\n",
      "  reconst_loss = -generative_outputs[\"px\"].log_prob(x).sum(-1)\n",
      "/Users/shivaramakrishna/Library/Python/3.9/lib/python/site-packages/scvi/module/_vae.py:458: UserWarning: The value argument must be within the support of the distribution\n",
      "  reconst_loss = -generative_outputs[\"px\"].log_prob(x).sum(-1)\n"
     ]
    },
    {
     "name": "stdout",
     "output_type": "stream",
     "text": [
      "Epoch 108/388:  28%|██▊       | 107/388 [05:25<15:09,  3.24s/it, v_num=1, train_loss_step=237, train_loss_epoch=245]"
     ]
    },
    {
     "name": "stderr",
     "output_type": "stream",
     "text": [
      "/Users/shivaramakrishna/Library/Python/3.9/lib/python/site-packages/scvi/module/_vae.py:458: UserWarning: The value argument must be within the support of the distribution\n",
      "  reconst_loss = -generative_outputs[\"px\"].log_prob(x).sum(-1)\n",
      "/Users/shivaramakrishna/Library/Python/3.9/lib/python/site-packages/scvi/module/_vae.py:458: UserWarning: The value argument must be within the support of the distribution\n",
      "  reconst_loss = -generative_outputs[\"px\"].log_prob(x).sum(-1)\n"
     ]
    },
    {
     "name": "stdout",
     "output_type": "stream",
     "text": [
      "Epoch 109/388:  28%|██▊       | 108/388 [05:28<15:07,  3.24s/it, v_num=1, train_loss_step=270, train_loss_epoch=245]"
     ]
    },
    {
     "name": "stderr",
     "output_type": "stream",
     "text": [
      "/Users/shivaramakrishna/Library/Python/3.9/lib/python/site-packages/scvi/module/_vae.py:458: UserWarning: The value argument must be within the support of the distribution\n",
      "  reconst_loss = -generative_outputs[\"px\"].log_prob(x).sum(-1)\n",
      "/Users/shivaramakrishna/Library/Python/3.9/lib/python/site-packages/scvi/module/_vae.py:458: UserWarning: The value argument must be within the support of the distribution\n",
      "  reconst_loss = -generative_outputs[\"px\"].log_prob(x).sum(-1)\n"
     ]
    },
    {
     "name": "stdout",
     "output_type": "stream",
     "text": [
      "Epoch 110/388:  28%|██▊       | 109/388 [05:31<14:41,  3.16s/it, v_num=1, train_loss_step=220, train_loss_epoch=245]"
     ]
    },
    {
     "name": "stderr",
     "output_type": "stream",
     "text": [
      "/Users/shivaramakrishna/Library/Python/3.9/lib/python/site-packages/scvi/module/_vae.py:458: UserWarning: The value argument must be within the support of the distribution\n",
      "  reconst_loss = -generative_outputs[\"px\"].log_prob(x).sum(-1)\n",
      "/Users/shivaramakrishna/Library/Python/3.9/lib/python/site-packages/scvi/module/_vae.py:458: UserWarning: The value argument must be within the support of the distribution\n",
      "  reconst_loss = -generative_outputs[\"px\"].log_prob(x).sum(-1)\n"
     ]
    },
    {
     "name": "stdout",
     "output_type": "stream",
     "text": [
      "Epoch 111/388:  28%|██▊       | 110/388 [05:34<14:48,  3.19s/it, v_num=1, train_loss_step=246, train_loss_epoch=245]"
     ]
    },
    {
     "name": "stderr",
     "output_type": "stream",
     "text": [
      "/Users/shivaramakrishna/Library/Python/3.9/lib/python/site-packages/scvi/module/_vae.py:458: UserWarning: The value argument must be within the support of the distribution\n",
      "  reconst_loss = -generative_outputs[\"px\"].log_prob(x).sum(-1)\n",
      "/Users/shivaramakrishna/Library/Python/3.9/lib/python/site-packages/scvi/module/_vae.py:458: UserWarning: The value argument must be within the support of the distribution\n",
      "  reconst_loss = -generative_outputs[\"px\"].log_prob(x).sum(-1)\n"
     ]
    },
    {
     "name": "stdout",
     "output_type": "stream",
     "text": [
      "Epoch 112/388:  29%|██▊       | 111/388 [05:38<14:55,  3.23s/it, v_num=1, train_loss_step=291, train_loss_epoch=245]"
     ]
    },
    {
     "name": "stderr",
     "output_type": "stream",
     "text": [
      "/Users/shivaramakrishna/Library/Python/3.9/lib/python/site-packages/scvi/module/_vae.py:458: UserWarning: The value argument must be within the support of the distribution\n",
      "  reconst_loss = -generative_outputs[\"px\"].log_prob(x).sum(-1)\n",
      "/Users/shivaramakrishna/Library/Python/3.9/lib/python/site-packages/scvi/module/_vae.py:458: UserWarning: The value argument must be within the support of the distribution\n",
      "  reconst_loss = -generative_outputs[\"px\"].log_prob(x).sum(-1)\n"
     ]
    },
    {
     "name": "stdout",
     "output_type": "stream",
     "text": [
      "Epoch 113/388:  29%|██▉       | 112/388 [05:41<14:46,  3.21s/it, v_num=1, train_loss_step=228, train_loss_epoch=245]"
     ]
    },
    {
     "name": "stderr",
     "output_type": "stream",
     "text": [
      "/Users/shivaramakrishna/Library/Python/3.9/lib/python/site-packages/scvi/module/_vae.py:458: UserWarning: The value argument must be within the support of the distribution\n",
      "  reconst_loss = -generative_outputs[\"px\"].log_prob(x).sum(-1)\n",
      "/Users/shivaramakrishna/Library/Python/3.9/lib/python/site-packages/scvi/module/_vae.py:458: UserWarning: The value argument must be within the support of the distribution\n",
      "  reconst_loss = -generative_outputs[\"px\"].log_prob(x).sum(-1)\n"
     ]
    },
    {
     "name": "stdout",
     "output_type": "stream",
     "text": [
      "Epoch 114/388:  29%|██▉       | 113/388 [05:44<14:45,  3.22s/it, v_num=1, train_loss_step=242, train_loss_epoch=245]"
     ]
    },
    {
     "name": "stderr",
     "output_type": "stream",
     "text": [
      "/Users/shivaramakrishna/Library/Python/3.9/lib/python/site-packages/scvi/module/_vae.py:458: UserWarning: The value argument must be within the support of the distribution\n",
      "  reconst_loss = -generative_outputs[\"px\"].log_prob(x).sum(-1)\n",
      "/Users/shivaramakrishna/Library/Python/3.9/lib/python/site-packages/scvi/module/_vae.py:458: UserWarning: The value argument must be within the support of the distribution\n",
      "  reconst_loss = -generative_outputs[\"px\"].log_prob(x).sum(-1)\n"
     ]
    },
    {
     "name": "stdout",
     "output_type": "stream",
     "text": [
      "Epoch 115/388:  29%|██▉       | 114/388 [05:47<14:54,  3.26s/it, v_num=1, train_loss_step=246, train_loss_epoch=245]"
     ]
    },
    {
     "name": "stderr",
     "output_type": "stream",
     "text": [
      "/Users/shivaramakrishna/Library/Python/3.9/lib/python/site-packages/scvi/module/_vae.py:458: UserWarning: The value argument must be within the support of the distribution\n",
      "  reconst_loss = -generative_outputs[\"px\"].log_prob(x).sum(-1)\n",
      "/Users/shivaramakrishna/Library/Python/3.9/lib/python/site-packages/scvi/module/_vae.py:458: UserWarning: The value argument must be within the support of the distribution\n",
      "  reconst_loss = -generative_outputs[\"px\"].log_prob(x).sum(-1)\n"
     ]
    },
    {
     "name": "stdout",
     "output_type": "stream",
     "text": [
      "Epoch 116/388:  30%|██▉       | 115/388 [05:51<15:00,  3.30s/it, v_num=1, train_loss_step=260, train_loss_epoch=245]"
     ]
    },
    {
     "name": "stderr",
     "output_type": "stream",
     "text": [
      "/Users/shivaramakrishna/Library/Python/3.9/lib/python/site-packages/scvi/module/_vae.py:458: UserWarning: The value argument must be within the support of the distribution\n",
      "  reconst_loss = -generative_outputs[\"px\"].log_prob(x).sum(-1)\n",
      "/Users/shivaramakrishna/Library/Python/3.9/lib/python/site-packages/scvi/module/_vae.py:458: UserWarning: The value argument must be within the support of the distribution\n",
      "  reconst_loss = -generative_outputs[\"px\"].log_prob(x).sum(-1)\n"
     ]
    },
    {
     "name": "stdout",
     "output_type": "stream",
     "text": [
      "Epoch 117/388:  30%|██▉       | 116/388 [05:54<15:00,  3.31s/it, v_num=1, train_loss_step=265, train_loss_epoch=245]"
     ]
    },
    {
     "name": "stderr",
     "output_type": "stream",
     "text": [
      "/Users/shivaramakrishna/Library/Python/3.9/lib/python/site-packages/scvi/module/_vae.py:458: UserWarning: The value argument must be within the support of the distribution\n",
      "  reconst_loss = -generative_outputs[\"px\"].log_prob(x).sum(-1)\n",
      "/Users/shivaramakrishna/Library/Python/3.9/lib/python/site-packages/scvi/module/_vae.py:458: UserWarning: The value argument must be within the support of the distribution\n",
      "  reconst_loss = -generative_outputs[\"px\"].log_prob(x).sum(-1)\n"
     ]
    },
    {
     "name": "stdout",
     "output_type": "stream",
     "text": [
      "Epoch 118/388:  30%|███       | 117/388 [05:57<14:58,  3.32s/it, v_num=1, train_loss_step=285, train_loss_epoch=245]"
     ]
    },
    {
     "name": "stderr",
     "output_type": "stream",
     "text": [
      "/Users/shivaramakrishna/Library/Python/3.9/lib/python/site-packages/scvi/module/_vae.py:458: UserWarning: The value argument must be within the support of the distribution\n",
      "  reconst_loss = -generative_outputs[\"px\"].log_prob(x).sum(-1)\n",
      "/Users/shivaramakrishna/Library/Python/3.9/lib/python/site-packages/scvi/module/_vae.py:458: UserWarning: The value argument must be within the support of the distribution\n",
      "  reconst_loss = -generative_outputs[\"px\"].log_prob(x).sum(-1)\n"
     ]
    },
    {
     "name": "stdout",
     "output_type": "stream",
     "text": [
      "Epoch 119/388:  30%|███       | 118/388 [06:01<15:01,  3.34s/it, v_num=1, train_loss_step=234, train_loss_epoch=245]"
     ]
    },
    {
     "name": "stderr",
     "output_type": "stream",
     "text": [
      "/Users/shivaramakrishna/Library/Python/3.9/lib/python/site-packages/scvi/module/_vae.py:458: UserWarning: The value argument must be within the support of the distribution\n",
      "  reconst_loss = -generative_outputs[\"px\"].log_prob(x).sum(-1)\n",
      "/Users/shivaramakrishna/Library/Python/3.9/lib/python/site-packages/scvi/module/_vae.py:458: UserWarning: The value argument must be within the support of the distribution\n",
      "  reconst_loss = -generative_outputs[\"px\"].log_prob(x).sum(-1)\n"
     ]
    },
    {
     "name": "stdout",
     "output_type": "stream",
     "text": [
      "Epoch 120/388:  31%|███       | 119/388 [06:04<14:56,  3.33s/it, v_num=1, train_loss_step=294, train_loss_epoch=245]"
     ]
    },
    {
     "name": "stderr",
     "output_type": "stream",
     "text": [
      "/Users/shivaramakrishna/Library/Python/3.9/lib/python/site-packages/scvi/module/_vae.py:458: UserWarning: The value argument must be within the support of the distribution\n",
      "  reconst_loss = -generative_outputs[\"px\"].log_prob(x).sum(-1)\n",
      "/Users/shivaramakrishna/Library/Python/3.9/lib/python/site-packages/scvi/module/_vae.py:458: UserWarning: The value argument must be within the support of the distribution\n",
      "  reconst_loss = -generative_outputs[\"px\"].log_prob(x).sum(-1)\n"
     ]
    },
    {
     "name": "stdout",
     "output_type": "stream",
     "text": [
      "Epoch 121/388:  31%|███       | 120/388 [06:07<14:48,  3.32s/it, v_num=1, train_loss_step=283, train_loss_epoch=245]"
     ]
    },
    {
     "name": "stderr",
     "output_type": "stream",
     "text": [
      "/Users/shivaramakrishna/Library/Python/3.9/lib/python/site-packages/scvi/module/_vae.py:458: UserWarning: The value argument must be within the support of the distribution\n",
      "  reconst_loss = -generative_outputs[\"px\"].log_prob(x).sum(-1)\n",
      "/Users/shivaramakrishna/Library/Python/3.9/lib/python/site-packages/scvi/module/_vae.py:458: UserWarning: The value argument must be within the support of the distribution\n",
      "  reconst_loss = -generative_outputs[\"px\"].log_prob(x).sum(-1)\n"
     ]
    },
    {
     "name": "stdout",
     "output_type": "stream",
     "text": [
      "Epoch 122/388:  31%|███       | 121/388 [06:11<14:31,  3.27s/it, v_num=1, train_loss_step=260, train_loss_epoch=245]"
     ]
    },
    {
     "name": "stderr",
     "output_type": "stream",
     "text": [
      "/Users/shivaramakrishna/Library/Python/3.9/lib/python/site-packages/scvi/module/_vae.py:458: UserWarning: The value argument must be within the support of the distribution\n",
      "  reconst_loss = -generative_outputs[\"px\"].log_prob(x).sum(-1)\n",
      "/Users/shivaramakrishna/Library/Python/3.9/lib/python/site-packages/scvi/module/_vae.py:458: UserWarning: The value argument must be within the support of the distribution\n",
      "  reconst_loss = -generative_outputs[\"px\"].log_prob(x).sum(-1)\n"
     ]
    },
    {
     "name": "stdout",
     "output_type": "stream",
     "text": [
      "Epoch 123/388:  31%|███▏      | 122/388 [06:14<14:31,  3.27s/it, v_num=1, train_loss_step=237, train_loss_epoch=245]"
     ]
    },
    {
     "name": "stderr",
     "output_type": "stream",
     "text": [
      "/Users/shivaramakrishna/Library/Python/3.9/lib/python/site-packages/scvi/module/_vae.py:458: UserWarning: The value argument must be within the support of the distribution\n",
      "  reconst_loss = -generative_outputs[\"px\"].log_prob(x).sum(-1)\n",
      "/Users/shivaramakrishna/Library/Python/3.9/lib/python/site-packages/scvi/module/_vae.py:458: UserWarning: The value argument must be within the support of the distribution\n",
      "  reconst_loss = -generative_outputs[\"px\"].log_prob(x).sum(-1)\n"
     ]
    },
    {
     "name": "stdout",
     "output_type": "stream",
     "text": [
      "Epoch 124/388:  32%|███▏      | 123/388 [06:17<14:25,  3.27s/it, v_num=1, train_loss_step=266, train_loss_epoch=245]"
     ]
    },
    {
     "name": "stderr",
     "output_type": "stream",
     "text": [
      "/Users/shivaramakrishna/Library/Python/3.9/lib/python/site-packages/scvi/module/_vae.py:458: UserWarning: The value argument must be within the support of the distribution\n",
      "  reconst_loss = -generative_outputs[\"px\"].log_prob(x).sum(-1)\n",
      "/Users/shivaramakrishna/Library/Python/3.9/lib/python/site-packages/scvi/module/_vae.py:458: UserWarning: The value argument must be within the support of the distribution\n",
      "  reconst_loss = -generative_outputs[\"px\"].log_prob(x).sum(-1)\n"
     ]
    },
    {
     "name": "stdout",
     "output_type": "stream",
     "text": [
      "Epoch 125/388:  32%|███▏      | 124/388 [06:20<14:17,  3.25s/it, v_num=1, train_loss_step=253, train_loss_epoch=245]"
     ]
    },
    {
     "name": "stderr",
     "output_type": "stream",
     "text": [
      "/Users/shivaramakrishna/Library/Python/3.9/lib/python/site-packages/scvi/module/_vae.py:458: UserWarning: The value argument must be within the support of the distribution\n",
      "  reconst_loss = -generative_outputs[\"px\"].log_prob(x).sum(-1)\n",
      "/Users/shivaramakrishna/Library/Python/3.9/lib/python/site-packages/scvi/module/_vae.py:458: UserWarning: The value argument must be within the support of the distribution\n",
      "  reconst_loss = -generative_outputs[\"px\"].log_prob(x).sum(-1)\n"
     ]
    },
    {
     "name": "stdout",
     "output_type": "stream",
     "text": [
      "Epoch 126/388:  32%|███▏      | 125/388 [06:23<14:02,  3.20s/it, v_num=1, train_loss_step=243, train_loss_epoch=245]"
     ]
    },
    {
     "name": "stderr",
     "output_type": "stream",
     "text": [
      "/Users/shivaramakrishna/Library/Python/3.9/lib/python/site-packages/scvi/module/_vae.py:458: UserWarning: The value argument must be within the support of the distribution\n",
      "  reconst_loss = -generative_outputs[\"px\"].log_prob(x).sum(-1)\n",
      "/Users/shivaramakrishna/Library/Python/3.9/lib/python/site-packages/scvi/module/_vae.py:458: UserWarning: The value argument must be within the support of the distribution\n",
      "  reconst_loss = -generative_outputs[\"px\"].log_prob(x).sum(-1)\n"
     ]
    },
    {
     "name": "stdout",
     "output_type": "stream",
     "text": [
      "Epoch 127/388:  32%|███▏      | 126/388 [06:27<14:07,  3.23s/it, v_num=1, train_loss_step=280, train_loss_epoch=245]"
     ]
    },
    {
     "name": "stderr",
     "output_type": "stream",
     "text": [
      "/Users/shivaramakrishna/Library/Python/3.9/lib/python/site-packages/scvi/module/_vae.py:458: UserWarning: The value argument must be within the support of the distribution\n",
      "  reconst_loss = -generative_outputs[\"px\"].log_prob(x).sum(-1)\n",
      "/Users/shivaramakrishna/Library/Python/3.9/lib/python/site-packages/scvi/module/_vae.py:458: UserWarning: The value argument must be within the support of the distribution\n",
      "  reconst_loss = -generative_outputs[\"px\"].log_prob(x).sum(-1)\n"
     ]
    },
    {
     "name": "stdout",
     "output_type": "stream",
     "text": [
      "Epoch 128/388:  33%|███▎      | 127/388 [06:30<13:57,  3.21s/it, v_num=1, train_loss_step=258, train_loss_epoch=245]"
     ]
    },
    {
     "name": "stderr",
     "output_type": "stream",
     "text": [
      "/Users/shivaramakrishna/Library/Python/3.9/lib/python/site-packages/scvi/module/_vae.py:458: UserWarning: The value argument must be within the support of the distribution\n",
      "  reconst_loss = -generative_outputs[\"px\"].log_prob(x).sum(-1)\n",
      "/Users/shivaramakrishna/Library/Python/3.9/lib/python/site-packages/scvi/module/_vae.py:458: UserWarning: The value argument must be within the support of the distribution\n",
      "  reconst_loss = -generative_outputs[\"px\"].log_prob(x).sum(-1)\n"
     ]
    },
    {
     "name": "stdout",
     "output_type": "stream",
     "text": [
      "Epoch 129/388:  33%|███▎      | 128/388 [06:33<13:54,  3.21s/it, v_num=1, train_loss_step=250, train_loss_epoch=245]"
     ]
    },
    {
     "name": "stderr",
     "output_type": "stream",
     "text": [
      "/Users/shivaramakrishna/Library/Python/3.9/lib/python/site-packages/scvi/module/_vae.py:458: UserWarning: The value argument must be within the support of the distribution\n",
      "  reconst_loss = -generative_outputs[\"px\"].log_prob(x).sum(-1)\n",
      "/Users/shivaramakrishna/Library/Python/3.9/lib/python/site-packages/scvi/module/_vae.py:458: UserWarning: The value argument must be within the support of the distribution\n",
      "  reconst_loss = -generative_outputs[\"px\"].log_prob(x).sum(-1)\n"
     ]
    },
    {
     "name": "stdout",
     "output_type": "stream",
     "text": [
      "Epoch 130/388:  33%|███▎      | 129/388 [06:36<14:02,  3.25s/it, v_num=1, train_loss_step=225, train_loss_epoch=245]"
     ]
    },
    {
     "name": "stderr",
     "output_type": "stream",
     "text": [
      "/Users/shivaramakrishna/Library/Python/3.9/lib/python/site-packages/scvi/module/_vae.py:458: UserWarning: The value argument must be within the support of the distribution\n",
      "  reconst_loss = -generative_outputs[\"px\"].log_prob(x).sum(-1)\n",
      "/Users/shivaramakrishna/Library/Python/3.9/lib/python/site-packages/scvi/module/_vae.py:458: UserWarning: The value argument must be within the support of the distribution\n",
      "  reconst_loss = -generative_outputs[\"px\"].log_prob(x).sum(-1)\n"
     ]
    },
    {
     "name": "stdout",
     "output_type": "stream",
     "text": [
      "Epoch 131/388:  34%|███▎      | 130/388 [06:40<13:49,  3.22s/it, v_num=1, train_loss_step=246, train_loss_epoch=245]"
     ]
    },
    {
     "name": "stderr",
     "output_type": "stream",
     "text": [
      "/Users/shivaramakrishna/Library/Python/3.9/lib/python/site-packages/scvi/module/_vae.py:458: UserWarning: The value argument must be within the support of the distribution\n",
      "  reconst_loss = -generative_outputs[\"px\"].log_prob(x).sum(-1)\n",
      "/Users/shivaramakrishna/Library/Python/3.9/lib/python/site-packages/scvi/module/_vae.py:458: UserWarning: The value argument must be within the support of the distribution\n",
      "  reconst_loss = -generative_outputs[\"px\"].log_prob(x).sum(-1)\n"
     ]
    },
    {
     "name": "stdout",
     "output_type": "stream",
     "text": [
      "Epoch 132/388:  34%|███▍      | 131/388 [06:43<13:40,  3.19s/it, v_num=1, train_loss_step=235, train_loss_epoch=245]"
     ]
    },
    {
     "name": "stderr",
     "output_type": "stream",
     "text": [
      "/Users/shivaramakrishna/Library/Python/3.9/lib/python/site-packages/scvi/module/_vae.py:458: UserWarning: The value argument must be within the support of the distribution\n",
      "  reconst_loss = -generative_outputs[\"px\"].log_prob(x).sum(-1)\n",
      "/Users/shivaramakrishna/Library/Python/3.9/lib/python/site-packages/scvi/module/_vae.py:458: UserWarning: The value argument must be within the support of the distribution\n",
      "  reconst_loss = -generative_outputs[\"px\"].log_prob(x).sum(-1)\n"
     ]
    },
    {
     "name": "stdout",
     "output_type": "stream",
     "text": [
      "Epoch 133/388:  34%|███▍      | 132/388 [06:46<13:33,  3.18s/it, v_num=1, train_loss_step=288, train_loss_epoch=245]"
     ]
    },
    {
     "name": "stderr",
     "output_type": "stream",
     "text": [
      "/Users/shivaramakrishna/Library/Python/3.9/lib/python/site-packages/scvi/module/_vae.py:458: UserWarning: The value argument must be within the support of the distribution\n",
      "  reconst_loss = -generative_outputs[\"px\"].log_prob(x).sum(-1)\n",
      "/Users/shivaramakrishna/Library/Python/3.9/lib/python/site-packages/scvi/module/_vae.py:458: UserWarning: The value argument must be within the support of the distribution\n",
      "  reconst_loss = -generative_outputs[\"px\"].log_prob(x).sum(-1)\n"
     ]
    },
    {
     "name": "stdout",
     "output_type": "stream",
     "text": [
      "Epoch 134/388:  34%|███▍      | 133/388 [06:49<13:24,  3.15s/it, v_num=1, train_loss_step=272, train_loss_epoch=245]"
     ]
    },
    {
     "name": "stderr",
     "output_type": "stream",
     "text": [
      "/Users/shivaramakrishna/Library/Python/3.9/lib/python/site-packages/scvi/module/_vae.py:458: UserWarning: The value argument must be within the support of the distribution\n",
      "  reconst_loss = -generative_outputs[\"px\"].log_prob(x).sum(-1)\n",
      "/Users/shivaramakrishna/Library/Python/3.9/lib/python/site-packages/scvi/module/_vae.py:458: UserWarning: The value argument must be within the support of the distribution\n",
      "  reconst_loss = -generative_outputs[\"px\"].log_prob(x).sum(-1)\n"
     ]
    },
    {
     "name": "stdout",
     "output_type": "stream",
     "text": [
      "Epoch 135/388:  35%|███▍      | 134/388 [06:52<13:28,  3.18s/it, v_num=1, train_loss_step=268, train_loss_epoch=245]"
     ]
    },
    {
     "name": "stderr",
     "output_type": "stream",
     "text": [
      "/Users/shivaramakrishna/Library/Python/3.9/lib/python/site-packages/scvi/module/_vae.py:458: UserWarning: The value argument must be within the support of the distribution\n",
      "  reconst_loss = -generative_outputs[\"px\"].log_prob(x).sum(-1)\n",
      "/Users/shivaramakrishna/Library/Python/3.9/lib/python/site-packages/scvi/module/_vae.py:458: UserWarning: The value argument must be within the support of the distribution\n",
      "  reconst_loss = -generative_outputs[\"px\"].log_prob(x).sum(-1)\n"
     ]
    },
    {
     "name": "stdout",
     "output_type": "stream",
     "text": [
      "Epoch 136/388:  35%|███▍      | 135/388 [06:55<13:21,  3.17s/it, v_num=1, train_loss_step=284, train_loss_epoch=245]"
     ]
    },
    {
     "name": "stderr",
     "output_type": "stream",
     "text": [
      "/Users/shivaramakrishna/Library/Python/3.9/lib/python/site-packages/scvi/module/_vae.py:458: UserWarning: The value argument must be within the support of the distribution\n",
      "  reconst_loss = -generative_outputs[\"px\"].log_prob(x).sum(-1)\n",
      "/Users/shivaramakrishna/Library/Python/3.9/lib/python/site-packages/scvi/module/_vae.py:458: UserWarning: The value argument must be within the support of the distribution\n",
      "  reconst_loss = -generative_outputs[\"px\"].log_prob(x).sum(-1)\n"
     ]
    },
    {
     "name": "stdout",
     "output_type": "stream",
     "text": [
      "Epoch 137/388:  35%|███▌      | 136/388 [06:59<13:20,  3.18s/it, v_num=1, train_loss_step=249, train_loss_epoch=245]"
     ]
    },
    {
     "name": "stderr",
     "output_type": "stream",
     "text": [
      "/Users/shivaramakrishna/Library/Python/3.9/lib/python/site-packages/scvi/module/_vae.py:458: UserWarning: The value argument must be within the support of the distribution\n",
      "  reconst_loss = -generative_outputs[\"px\"].log_prob(x).sum(-1)\n",
      "/Users/shivaramakrishna/Library/Python/3.9/lib/python/site-packages/scvi/module/_vae.py:458: UserWarning: The value argument must be within the support of the distribution\n",
      "  reconst_loss = -generative_outputs[\"px\"].log_prob(x).sum(-1)\n"
     ]
    },
    {
     "name": "stdout",
     "output_type": "stream",
     "text": [
      "Epoch 138/388:  35%|███▌      | 137/388 [07:02<13:12,  3.16s/it, v_num=1, train_loss_step=262, train_loss_epoch=245]"
     ]
    },
    {
     "name": "stderr",
     "output_type": "stream",
     "text": [
      "/Users/shivaramakrishna/Library/Python/3.9/lib/python/site-packages/scvi/module/_vae.py:458: UserWarning: The value argument must be within the support of the distribution\n",
      "  reconst_loss = -generative_outputs[\"px\"].log_prob(x).sum(-1)\n",
      "/Users/shivaramakrishna/Library/Python/3.9/lib/python/site-packages/scvi/module/_vae.py:458: UserWarning: The value argument must be within the support of the distribution\n",
      "  reconst_loss = -generative_outputs[\"px\"].log_prob(x).sum(-1)\n"
     ]
    },
    {
     "name": "stdout",
     "output_type": "stream",
     "text": [
      "Epoch 139/388:  36%|███▌      | 138/388 [07:05<13:22,  3.21s/it, v_num=1, train_loss_step=287, train_loss_epoch=245]"
     ]
    },
    {
     "name": "stderr",
     "output_type": "stream",
     "text": [
      "/Users/shivaramakrishna/Library/Python/3.9/lib/python/site-packages/scvi/module/_vae.py:458: UserWarning: The value argument must be within the support of the distribution\n",
      "  reconst_loss = -generative_outputs[\"px\"].log_prob(x).sum(-1)\n",
      "/Users/shivaramakrishna/Library/Python/3.9/lib/python/site-packages/scvi/module/_vae.py:458: UserWarning: The value argument must be within the support of the distribution\n",
      "  reconst_loss = -generative_outputs[\"px\"].log_prob(x).sum(-1)\n"
     ]
    },
    {
     "name": "stdout",
     "output_type": "stream",
     "text": [
      "Epoch 140/388:  36%|███▌      | 139/388 [07:08<13:22,  3.22s/it, v_num=1, train_loss_step=271, train_loss_epoch=245]"
     ]
    },
    {
     "name": "stderr",
     "output_type": "stream",
     "text": [
      "/Users/shivaramakrishna/Library/Python/3.9/lib/python/site-packages/scvi/module/_vae.py:458: UserWarning: The value argument must be within the support of the distribution\n",
      "  reconst_loss = -generative_outputs[\"px\"].log_prob(x).sum(-1)\n",
      "/Users/shivaramakrishna/Library/Python/3.9/lib/python/site-packages/scvi/module/_vae.py:458: UserWarning: The value argument must be within the support of the distribution\n",
      "  reconst_loss = -generative_outputs[\"px\"].log_prob(x).sum(-1)\n"
     ]
    },
    {
     "name": "stdout",
     "output_type": "stream",
     "text": [
      "Epoch 141/388:  36%|███▌      | 140/388 [07:12<13:24,  3.25s/it, v_num=1, train_loss_step=286, train_loss_epoch=245]"
     ]
    },
    {
     "name": "stderr",
     "output_type": "stream",
     "text": [
      "/Users/shivaramakrishna/Library/Python/3.9/lib/python/site-packages/scvi/module/_vae.py:458: UserWarning: The value argument must be within the support of the distribution\n",
      "  reconst_loss = -generative_outputs[\"px\"].log_prob(x).sum(-1)\n",
      "/Users/shivaramakrishna/Library/Python/3.9/lib/python/site-packages/scvi/module/_vae.py:458: UserWarning: The value argument must be within the support of the distribution\n",
      "  reconst_loss = -generative_outputs[\"px\"].log_prob(x).sum(-1)\n"
     ]
    },
    {
     "name": "stdout",
     "output_type": "stream",
     "text": [
      "Epoch 142/388:  36%|███▋      | 141/388 [07:15<13:25,  3.26s/it, v_num=1, train_loss_step=326, train_loss_epoch=245]"
     ]
    },
    {
     "name": "stderr",
     "output_type": "stream",
     "text": [
      "/Users/shivaramakrishna/Library/Python/3.9/lib/python/site-packages/scvi/module/_vae.py:458: UserWarning: The value argument must be within the support of the distribution\n",
      "  reconst_loss = -generative_outputs[\"px\"].log_prob(x).sum(-1)\n",
      "/Users/shivaramakrishna/Library/Python/3.9/lib/python/site-packages/scvi/module/_vae.py:458: UserWarning: The value argument must be within the support of the distribution\n",
      "  reconst_loss = -generative_outputs[\"px\"].log_prob(x).sum(-1)\n"
     ]
    },
    {
     "name": "stdout",
     "output_type": "stream",
     "text": [
      "Epoch 143/388:  37%|███▋      | 142/388 [07:18<13:26,  3.28s/it, v_num=1, train_loss_step=240, train_loss_epoch=245]"
     ]
    },
    {
     "name": "stderr",
     "output_type": "stream",
     "text": [
      "/Users/shivaramakrishna/Library/Python/3.9/lib/python/site-packages/scvi/module/_vae.py:458: UserWarning: The value argument must be within the support of the distribution\n",
      "  reconst_loss = -generative_outputs[\"px\"].log_prob(x).sum(-1)\n",
      "/Users/shivaramakrishna/Library/Python/3.9/lib/python/site-packages/scvi/module/_vae.py:458: UserWarning: The value argument must be within the support of the distribution\n",
      "  reconst_loss = -generative_outputs[\"px\"].log_prob(x).sum(-1)\n"
     ]
    },
    {
     "name": "stdout",
     "output_type": "stream",
     "text": [
      "Epoch 144/388:  37%|███▋      | 143/388 [07:21<13:24,  3.28s/it, v_num=1, train_loss_step=300, train_loss_epoch=245]"
     ]
    },
    {
     "name": "stderr",
     "output_type": "stream",
     "text": [
      "/Users/shivaramakrishna/Library/Python/3.9/lib/python/site-packages/scvi/module/_vae.py:458: UserWarning: The value argument must be within the support of the distribution\n",
      "  reconst_loss = -generative_outputs[\"px\"].log_prob(x).sum(-1)\n",
      "/Users/shivaramakrishna/Library/Python/3.9/lib/python/site-packages/scvi/module/_vae.py:458: UserWarning: The value argument must be within the support of the distribution\n",
      "  reconst_loss = -generative_outputs[\"px\"].log_prob(x).sum(-1)\n"
     ]
    },
    {
     "name": "stdout",
     "output_type": "stream",
     "text": [
      "Epoch 145/388:  37%|███▋      | 144/388 [07:25<13:33,  3.33s/it, v_num=1, train_loss_step=249, train_loss_epoch=245]"
     ]
    },
    {
     "name": "stderr",
     "output_type": "stream",
     "text": [
      "/Users/shivaramakrishna/Library/Python/3.9/lib/python/site-packages/scvi/module/_vae.py:458: UserWarning: The value argument must be within the support of the distribution\n",
      "  reconst_loss = -generative_outputs[\"px\"].log_prob(x).sum(-1)\n",
      "/Users/shivaramakrishna/Library/Python/3.9/lib/python/site-packages/scvi/module/_vae.py:458: UserWarning: The value argument must be within the support of the distribution\n",
      "  reconst_loss = -generative_outputs[\"px\"].log_prob(x).sum(-1)\n"
     ]
    },
    {
     "name": "stdout",
     "output_type": "stream",
     "text": [
      "Epoch 146/388:  37%|███▋      | 145/388 [07:28<13:31,  3.34s/it, v_num=1, train_loss_step=234, train_loss_epoch=245]"
     ]
    },
    {
     "name": "stderr",
     "output_type": "stream",
     "text": [
      "/Users/shivaramakrishna/Library/Python/3.9/lib/python/site-packages/scvi/module/_vae.py:458: UserWarning: The value argument must be within the support of the distribution\n",
      "  reconst_loss = -generative_outputs[\"px\"].log_prob(x).sum(-1)\n",
      "/Users/shivaramakrishna/Library/Python/3.9/lib/python/site-packages/scvi/module/_vae.py:458: UserWarning: The value argument must be within the support of the distribution\n",
      "  reconst_loss = -generative_outputs[\"px\"].log_prob(x).sum(-1)\n"
     ]
    },
    {
     "name": "stdout",
     "output_type": "stream",
     "text": [
      "Epoch 147/388:  38%|███▊      | 146/388 [07:32<13:31,  3.36s/it, v_num=1, train_loss_step=236, train_loss_epoch=245]"
     ]
    },
    {
     "name": "stderr",
     "output_type": "stream",
     "text": [
      "/Users/shivaramakrishna/Library/Python/3.9/lib/python/site-packages/scvi/module/_vae.py:458: UserWarning: The value argument must be within the support of the distribution\n",
      "  reconst_loss = -generative_outputs[\"px\"].log_prob(x).sum(-1)\n",
      "/Users/shivaramakrishna/Library/Python/3.9/lib/python/site-packages/scvi/module/_vae.py:458: UserWarning: The value argument must be within the support of the distribution\n",
      "  reconst_loss = -generative_outputs[\"px\"].log_prob(x).sum(-1)\n"
     ]
    },
    {
     "name": "stdout",
     "output_type": "stream",
     "text": [
      "Epoch 148/388:  38%|███▊      | 147/388 [07:35<13:27,  3.35s/it, v_num=1, train_loss_step=264, train_loss_epoch=245]"
     ]
    },
    {
     "name": "stderr",
     "output_type": "stream",
     "text": [
      "/Users/shivaramakrishna/Library/Python/3.9/lib/python/site-packages/scvi/module/_vae.py:458: UserWarning: The value argument must be within the support of the distribution\n",
      "  reconst_loss = -generative_outputs[\"px\"].log_prob(x).sum(-1)\n",
      "/Users/shivaramakrishna/Library/Python/3.9/lib/python/site-packages/scvi/module/_vae.py:458: UserWarning: The value argument must be within the support of the distribution\n",
      "  reconst_loss = -generative_outputs[\"px\"].log_prob(x).sum(-1)\n"
     ]
    },
    {
     "name": "stdout",
     "output_type": "stream",
     "text": [
      "Epoch 149/388:  38%|███▊      | 148/388 [07:38<13:17,  3.32s/it, v_num=1, train_loss_step=229, train_loss_epoch=245]"
     ]
    },
    {
     "name": "stderr",
     "output_type": "stream",
     "text": [
      "/Users/shivaramakrishna/Library/Python/3.9/lib/python/site-packages/scvi/module/_vae.py:458: UserWarning: The value argument must be within the support of the distribution\n",
      "  reconst_loss = -generative_outputs[\"px\"].log_prob(x).sum(-1)\n",
      "/Users/shivaramakrishna/Library/Python/3.9/lib/python/site-packages/scvi/module/_vae.py:458: UserWarning: The value argument must be within the support of the distribution\n",
      "  reconst_loss = -generative_outputs[\"px\"].log_prob(x).sum(-1)\n"
     ]
    },
    {
     "name": "stdout",
     "output_type": "stream",
     "text": [
      "Epoch 150/388:  38%|███▊      | 149/388 [07:42<13:22,  3.36s/it, v_num=1, train_loss_step=281, train_loss_epoch=245]"
     ]
    },
    {
     "name": "stderr",
     "output_type": "stream",
     "text": [
      "/Users/shivaramakrishna/Library/Python/3.9/lib/python/site-packages/scvi/module/_vae.py:458: UserWarning: The value argument must be within the support of the distribution\n",
      "  reconst_loss = -generative_outputs[\"px\"].log_prob(x).sum(-1)\n",
      "/Users/shivaramakrishna/Library/Python/3.9/lib/python/site-packages/scvi/module/_vae.py:458: UserWarning: The value argument must be within the support of the distribution\n",
      "  reconst_loss = -generative_outputs[\"px\"].log_prob(x).sum(-1)\n"
     ]
    },
    {
     "name": "stdout",
     "output_type": "stream",
     "text": [
      "Epoch 151/388:  39%|███▊      | 150/388 [07:45<12:52,  3.25s/it, v_num=1, train_loss_step=283, train_loss_epoch=245]"
     ]
    },
    {
     "name": "stderr",
     "output_type": "stream",
     "text": [
      "/Users/shivaramakrishna/Library/Python/3.9/lib/python/site-packages/scvi/module/_vae.py:458: UserWarning: The value argument must be within the support of the distribution\n",
      "  reconst_loss = -generative_outputs[\"px\"].log_prob(x).sum(-1)\n",
      "/Users/shivaramakrishna/Library/Python/3.9/lib/python/site-packages/scvi/module/_vae.py:458: UserWarning: The value argument must be within the support of the distribution\n",
      "  reconst_loss = -generative_outputs[\"px\"].log_prob(x).sum(-1)\n"
     ]
    },
    {
     "name": "stdout",
     "output_type": "stream",
     "text": [
      "Epoch 152/388:  39%|███▉      | 151/388 [07:48<12:48,  3.24s/it, v_num=1, train_loss_step=246, train_loss_epoch=245]"
     ]
    },
    {
     "name": "stderr",
     "output_type": "stream",
     "text": [
      "/Users/shivaramakrishna/Library/Python/3.9/lib/python/site-packages/scvi/module/_vae.py:458: UserWarning: The value argument must be within the support of the distribution\n",
      "  reconst_loss = -generative_outputs[\"px\"].log_prob(x).sum(-1)\n",
      "/Users/shivaramakrishna/Library/Python/3.9/lib/python/site-packages/scvi/module/_vae.py:458: UserWarning: The value argument must be within the support of the distribution\n",
      "  reconst_loss = -generative_outputs[\"px\"].log_prob(x).sum(-1)\n"
     ]
    },
    {
     "name": "stdout",
     "output_type": "stream",
     "text": [
      "Epoch 153/388:  39%|███▉      | 152/388 [07:51<12:49,  3.26s/it, v_num=1, train_loss_step=267, train_loss_epoch=245]"
     ]
    },
    {
     "name": "stderr",
     "output_type": "stream",
     "text": [
      "/Users/shivaramakrishna/Library/Python/3.9/lib/python/site-packages/scvi/module/_vae.py:458: UserWarning: The value argument must be within the support of the distribution\n",
      "  reconst_loss = -generative_outputs[\"px\"].log_prob(x).sum(-1)\n",
      "/Users/shivaramakrishna/Library/Python/3.9/lib/python/site-packages/scvi/module/_vae.py:458: UserWarning: The value argument must be within the support of the distribution\n",
      "  reconst_loss = -generative_outputs[\"px\"].log_prob(x).sum(-1)\n"
     ]
    },
    {
     "name": "stdout",
     "output_type": "stream",
     "text": [
      "Epoch 154/388:  39%|███▉      | 153/388 [07:55<12:55,  3.30s/it, v_num=1, train_loss_step=279, train_loss_epoch=245]"
     ]
    },
    {
     "name": "stderr",
     "output_type": "stream",
     "text": [
      "/Users/shivaramakrishna/Library/Python/3.9/lib/python/site-packages/scvi/module/_vae.py:458: UserWarning: The value argument must be within the support of the distribution\n",
      "  reconst_loss = -generative_outputs[\"px\"].log_prob(x).sum(-1)\n",
      "/Users/shivaramakrishna/Library/Python/3.9/lib/python/site-packages/scvi/module/_vae.py:458: UserWarning: The value argument must be within the support of the distribution\n",
      "  reconst_loss = -generative_outputs[\"px\"].log_prob(x).sum(-1)\n"
     ]
    },
    {
     "name": "stdout",
     "output_type": "stream",
     "text": [
      "Epoch 155/388:  40%|███▉      | 154/388 [07:58<12:48,  3.28s/it, v_num=1, train_loss_step=230, train_loss_epoch=245]"
     ]
    },
    {
     "name": "stderr",
     "output_type": "stream",
     "text": [
      "/Users/shivaramakrishna/Library/Python/3.9/lib/python/site-packages/scvi/module/_vae.py:458: UserWarning: The value argument must be within the support of the distribution\n",
      "  reconst_loss = -generative_outputs[\"px\"].log_prob(x).sum(-1)\n",
      "/Users/shivaramakrishna/Library/Python/3.9/lib/python/site-packages/scvi/module/_vae.py:458: UserWarning: The value argument must be within the support of the distribution\n",
      "  reconst_loss = -generative_outputs[\"px\"].log_prob(x).sum(-1)\n"
     ]
    },
    {
     "name": "stdout",
     "output_type": "stream",
     "text": [
      "Epoch 156/388:  40%|███▉      | 155/388 [08:01<12:42,  3.27s/it, v_num=1, train_loss_step=348, train_loss_epoch=246]"
     ]
    },
    {
     "name": "stderr",
     "output_type": "stream",
     "text": [
      "/Users/shivaramakrishna/Library/Python/3.9/lib/python/site-packages/scvi/module/_vae.py:458: UserWarning: The value argument must be within the support of the distribution\n",
      "  reconst_loss = -generative_outputs[\"px\"].log_prob(x).sum(-1)\n",
      "/Users/shivaramakrishna/Library/Python/3.9/lib/python/site-packages/scvi/module/_vae.py:458: UserWarning: The value argument must be within the support of the distribution\n",
      "  reconst_loss = -generative_outputs[\"px\"].log_prob(x).sum(-1)\n"
     ]
    },
    {
     "name": "stdout",
     "output_type": "stream",
     "text": [
      "Epoch 157/388:  40%|████      | 156/388 [08:04<12:38,  3.27s/it, v_num=1, train_loss_step=250, train_loss_epoch=246]"
     ]
    },
    {
     "name": "stderr",
     "output_type": "stream",
     "text": [
      "/Users/shivaramakrishna/Library/Python/3.9/lib/python/site-packages/scvi/module/_vae.py:458: UserWarning: The value argument must be within the support of the distribution\n",
      "  reconst_loss = -generative_outputs[\"px\"].log_prob(x).sum(-1)\n",
      "/Users/shivaramakrishna/Library/Python/3.9/lib/python/site-packages/scvi/module/_vae.py:458: UserWarning: The value argument must be within the support of the distribution\n",
      "  reconst_loss = -generative_outputs[\"px\"].log_prob(x).sum(-1)\n"
     ]
    },
    {
     "name": "stdout",
     "output_type": "stream",
     "text": [
      "Epoch 158/388:  40%|████      | 157/388 [08:08<12:32,  3.26s/it, v_num=1, train_loss_step=231, train_loss_epoch=246]"
     ]
    },
    {
     "name": "stderr",
     "output_type": "stream",
     "text": [
      "/Users/shivaramakrishna/Library/Python/3.9/lib/python/site-packages/scvi/module/_vae.py:458: UserWarning: The value argument must be within the support of the distribution\n",
      "  reconst_loss = -generative_outputs[\"px\"].log_prob(x).sum(-1)\n",
      "/Users/shivaramakrishna/Library/Python/3.9/lib/python/site-packages/scvi/module/_vae.py:458: UserWarning: The value argument must be within the support of the distribution\n",
      "  reconst_loss = -generative_outputs[\"px\"].log_prob(x).sum(-1)\n"
     ]
    },
    {
     "name": "stdout",
     "output_type": "stream",
     "text": [
      "Epoch 159/388:  41%|████      | 158/388 [08:11<12:34,  3.28s/it, v_num=1, train_loss_step=229, train_loss_epoch=246]"
     ]
    },
    {
     "name": "stderr",
     "output_type": "stream",
     "text": [
      "/Users/shivaramakrishna/Library/Python/3.9/lib/python/site-packages/scvi/module/_vae.py:458: UserWarning: The value argument must be within the support of the distribution\n",
      "  reconst_loss = -generative_outputs[\"px\"].log_prob(x).sum(-1)\n",
      "/Users/shivaramakrishna/Library/Python/3.9/lib/python/site-packages/scvi/module/_vae.py:458: UserWarning: The value argument must be within the support of the distribution\n",
      "  reconst_loss = -generative_outputs[\"px\"].log_prob(x).sum(-1)\n"
     ]
    },
    {
     "name": "stdout",
     "output_type": "stream",
     "text": [
      "Epoch 160/388:  41%|████      | 159/388 [08:14<12:29,  3.27s/it, v_num=1, train_loss_step=267, train_loss_epoch=246]"
     ]
    },
    {
     "name": "stderr",
     "output_type": "stream",
     "text": [
      "/Users/shivaramakrishna/Library/Python/3.9/lib/python/site-packages/scvi/module/_vae.py:458: UserWarning: The value argument must be within the support of the distribution\n",
      "  reconst_loss = -generative_outputs[\"px\"].log_prob(x).sum(-1)\n",
      "/Users/shivaramakrishna/Library/Python/3.9/lib/python/site-packages/scvi/module/_vae.py:458: UserWarning: The value argument must be within the support of the distribution\n",
      "  reconst_loss = -generative_outputs[\"px\"].log_prob(x).sum(-1)\n"
     ]
    },
    {
     "name": "stdout",
     "output_type": "stream",
     "text": [
      "Epoch 161/388:  41%|████      | 160/388 [08:17<12:26,  3.28s/it, v_num=1, train_loss_step=232, train_loss_epoch=246]"
     ]
    },
    {
     "name": "stderr",
     "output_type": "stream",
     "text": [
      "/Users/shivaramakrishna/Library/Python/3.9/lib/python/site-packages/scvi/module/_vae.py:458: UserWarning: The value argument must be within the support of the distribution\n",
      "  reconst_loss = -generative_outputs[\"px\"].log_prob(x).sum(-1)\n",
      "/Users/shivaramakrishna/Library/Python/3.9/lib/python/site-packages/scvi/module/_vae.py:458: UserWarning: The value argument must be within the support of the distribution\n",
      "  reconst_loss = -generative_outputs[\"px\"].log_prob(x).sum(-1)\n"
     ]
    },
    {
     "name": "stdout",
     "output_type": "stream",
     "text": [
      "Epoch 162/388:  41%|████▏     | 161/388 [08:21<12:21,  3.27s/it, v_num=1, train_loss_step=293, train_loss_epoch=246]"
     ]
    },
    {
     "name": "stderr",
     "output_type": "stream",
     "text": [
      "/Users/shivaramakrishna/Library/Python/3.9/lib/python/site-packages/scvi/module/_vae.py:458: UserWarning: The value argument must be within the support of the distribution\n",
      "  reconst_loss = -generative_outputs[\"px\"].log_prob(x).sum(-1)\n",
      "/Users/shivaramakrishna/Library/Python/3.9/lib/python/site-packages/scvi/module/_vae.py:458: UserWarning: The value argument must be within the support of the distribution\n",
      "  reconst_loss = -generative_outputs[\"px\"].log_prob(x).sum(-1)\n"
     ]
    },
    {
     "name": "stdout",
     "output_type": "stream",
     "text": [
      "Epoch 163/388:  42%|████▏     | 162/388 [08:24<12:28,  3.31s/it, v_num=1, train_loss_step=235, train_loss_epoch=246]"
     ]
    },
    {
     "name": "stderr",
     "output_type": "stream",
     "text": [
      "/Users/shivaramakrishna/Library/Python/3.9/lib/python/site-packages/scvi/module/_vae.py:458: UserWarning: The value argument must be within the support of the distribution\n",
      "  reconst_loss = -generative_outputs[\"px\"].log_prob(x).sum(-1)\n",
      "/Users/shivaramakrishna/Library/Python/3.9/lib/python/site-packages/scvi/module/_vae.py:458: UserWarning: The value argument must be within the support of the distribution\n",
      "  reconst_loss = -generative_outputs[\"px\"].log_prob(x).sum(-1)\n"
     ]
    },
    {
     "name": "stdout",
     "output_type": "stream",
     "text": [
      "Epoch 164/388:  42%|████▏     | 163/388 [08:27<12:23,  3.31s/it, v_num=1, train_loss_step=278, train_loss_epoch=246]"
     ]
    },
    {
     "name": "stderr",
     "output_type": "stream",
     "text": [
      "/Users/shivaramakrishna/Library/Python/3.9/lib/python/site-packages/scvi/module/_vae.py:458: UserWarning: The value argument must be within the support of the distribution\n",
      "  reconst_loss = -generative_outputs[\"px\"].log_prob(x).sum(-1)\n",
      "/Users/shivaramakrishna/Library/Python/3.9/lib/python/site-packages/scvi/module/_vae.py:458: UserWarning: The value argument must be within the support of the distribution\n",
      "  reconst_loss = -generative_outputs[\"px\"].log_prob(x).sum(-1)\n"
     ]
    },
    {
     "name": "stdout",
     "output_type": "stream",
     "text": [
      "Epoch 165/388:  42%|████▏     | 164/388 [08:31<12:25,  3.33s/it, v_num=1, train_loss_step=249, train_loss_epoch=246]"
     ]
    },
    {
     "name": "stderr",
     "output_type": "stream",
     "text": [
      "/Users/shivaramakrishna/Library/Python/3.9/lib/python/site-packages/scvi/module/_vae.py:458: UserWarning: The value argument must be within the support of the distribution\n",
      "  reconst_loss = -generative_outputs[\"px\"].log_prob(x).sum(-1)\n",
      "/Users/shivaramakrishna/Library/Python/3.9/lib/python/site-packages/scvi/module/_vae.py:458: UserWarning: The value argument must be within the support of the distribution\n",
      "  reconst_loss = -generative_outputs[\"px\"].log_prob(x).sum(-1)\n"
     ]
    },
    {
     "name": "stdout",
     "output_type": "stream",
     "text": [
      "Epoch 166/388:  43%|████▎     | 165/388 [08:34<12:16,  3.30s/it, v_num=1, train_loss_step=240, train_loss_epoch=246]"
     ]
    },
    {
     "name": "stderr",
     "output_type": "stream",
     "text": [
      "/Users/shivaramakrishna/Library/Python/3.9/lib/python/site-packages/scvi/module/_vae.py:458: UserWarning: The value argument must be within the support of the distribution\n",
      "  reconst_loss = -generative_outputs[\"px\"].log_prob(x).sum(-1)\n",
      "/Users/shivaramakrishna/Library/Python/3.9/lib/python/site-packages/scvi/module/_vae.py:458: UserWarning: The value argument must be within the support of the distribution\n",
      "  reconst_loss = -generative_outputs[\"px\"].log_prob(x).sum(-1)\n"
     ]
    },
    {
     "name": "stdout",
     "output_type": "stream",
     "text": [
      "Epoch 167/388:  43%|████▎     | 166/388 [08:37<12:18,  3.33s/it, v_num=1, train_loss_step=275, train_loss_epoch=246]"
     ]
    },
    {
     "name": "stderr",
     "output_type": "stream",
     "text": [
      "/Users/shivaramakrishna/Library/Python/3.9/lib/python/site-packages/scvi/module/_vae.py:458: UserWarning: The value argument must be within the support of the distribution\n",
      "  reconst_loss = -generative_outputs[\"px\"].log_prob(x).sum(-1)\n",
      "/Users/shivaramakrishna/Library/Python/3.9/lib/python/site-packages/scvi/module/_vae.py:458: UserWarning: The value argument must be within the support of the distribution\n",
      "  reconst_loss = -generative_outputs[\"px\"].log_prob(x).sum(-1)\n"
     ]
    },
    {
     "name": "stdout",
     "output_type": "stream",
     "text": [
      "Epoch 168/388:  43%|████▎     | 167/388 [08:41<12:10,  3.30s/it, v_num=1, train_loss_step=264, train_loss_epoch=246]"
     ]
    },
    {
     "name": "stderr",
     "output_type": "stream",
     "text": [
      "/Users/shivaramakrishna/Library/Python/3.9/lib/python/site-packages/scvi/module/_vae.py:458: UserWarning: The value argument must be within the support of the distribution\n",
      "  reconst_loss = -generative_outputs[\"px\"].log_prob(x).sum(-1)\n",
      "/Users/shivaramakrishna/Library/Python/3.9/lib/python/site-packages/scvi/module/_vae.py:458: UserWarning: The value argument must be within the support of the distribution\n",
      "  reconst_loss = -generative_outputs[\"px\"].log_prob(x).sum(-1)\n"
     ]
    },
    {
     "name": "stdout",
     "output_type": "stream",
     "text": [
      "Epoch 169/388:  43%|████▎     | 168/388 [08:44<12:04,  3.29s/it, v_num=1, train_loss_step=264, train_loss_epoch=246]"
     ]
    },
    {
     "name": "stderr",
     "output_type": "stream",
     "text": [
      "/Users/shivaramakrishna/Library/Python/3.9/lib/python/site-packages/scvi/module/_vae.py:458: UserWarning: The value argument must be within the support of the distribution\n",
      "  reconst_loss = -generative_outputs[\"px\"].log_prob(x).sum(-1)\n",
      "/Users/shivaramakrishna/Library/Python/3.9/lib/python/site-packages/scvi/module/_vae.py:458: UserWarning: The value argument must be within the support of the distribution\n",
      "  reconst_loss = -generative_outputs[\"px\"].log_prob(x).sum(-1)\n"
     ]
    },
    {
     "name": "stdout",
     "output_type": "stream",
     "text": [
      "Epoch 170/388:  44%|████▎     | 169/388 [08:47<11:55,  3.27s/it, v_num=1, train_loss_step=274, train_loss_epoch=246]"
     ]
    },
    {
     "name": "stderr",
     "output_type": "stream",
     "text": [
      "/Users/shivaramakrishna/Library/Python/3.9/lib/python/site-packages/scvi/module/_vae.py:458: UserWarning: The value argument must be within the support of the distribution\n",
      "  reconst_loss = -generative_outputs[\"px\"].log_prob(x).sum(-1)\n",
      "/Users/shivaramakrishna/Library/Python/3.9/lib/python/site-packages/scvi/module/_vae.py:458: UserWarning: The value argument must be within the support of the distribution\n",
      "  reconst_loss = -generative_outputs[\"px\"].log_prob(x).sum(-1)\n"
     ]
    },
    {
     "name": "stdout",
     "output_type": "stream",
     "text": [
      "Epoch 171/388:  44%|████▍     | 170/388 [08:50<11:52,  3.27s/it, v_num=1, train_loss_step=233, train_loss_epoch=246]"
     ]
    },
    {
     "name": "stderr",
     "output_type": "stream",
     "text": [
      "/Users/shivaramakrishna/Library/Python/3.9/lib/python/site-packages/scvi/module/_vae.py:458: UserWarning: The value argument must be within the support of the distribution\n",
      "  reconst_loss = -generative_outputs[\"px\"].log_prob(x).sum(-1)\n",
      "/Users/shivaramakrishna/Library/Python/3.9/lib/python/site-packages/scvi/module/_vae.py:458: UserWarning: The value argument must be within the support of the distribution\n",
      "  reconst_loss = -generative_outputs[\"px\"].log_prob(x).sum(-1)\n"
     ]
    },
    {
     "name": "stdout",
     "output_type": "stream",
     "text": [
      "Epoch 172/388:  44%|████▍     | 171/388 [08:54<11:50,  3.27s/it, v_num=1, train_loss_step=278, train_loss_epoch=246]"
     ]
    },
    {
     "name": "stderr",
     "output_type": "stream",
     "text": [
      "/Users/shivaramakrishna/Library/Python/3.9/lib/python/site-packages/scvi/module/_vae.py:458: UserWarning: The value argument must be within the support of the distribution\n",
      "  reconst_loss = -generative_outputs[\"px\"].log_prob(x).sum(-1)\n",
      "/Users/shivaramakrishna/Library/Python/3.9/lib/python/site-packages/scvi/module/_vae.py:458: UserWarning: The value argument must be within the support of the distribution\n",
      "  reconst_loss = -generative_outputs[\"px\"].log_prob(x).sum(-1)\n"
     ]
    },
    {
     "name": "stdout",
     "output_type": "stream",
     "text": [
      "Epoch 173/388:  44%|████▍     | 172/388 [08:57<11:56,  3.32s/it, v_num=1, train_loss_step=270, train_loss_epoch=246]"
     ]
    },
    {
     "name": "stderr",
     "output_type": "stream",
     "text": [
      "/Users/shivaramakrishna/Library/Python/3.9/lib/python/site-packages/scvi/module/_vae.py:458: UserWarning: The value argument must be within the support of the distribution\n",
      "  reconst_loss = -generative_outputs[\"px\"].log_prob(x).sum(-1)\n",
      "/Users/shivaramakrishna/Library/Python/3.9/lib/python/site-packages/scvi/module/_vae.py:458: UserWarning: The value argument must be within the support of the distribution\n",
      "  reconst_loss = -generative_outputs[\"px\"].log_prob(x).sum(-1)\n"
     ]
    },
    {
     "name": "stdout",
     "output_type": "stream",
     "text": [
      "Epoch 174/388:  45%|████▍     | 173/388 [09:00<11:39,  3.25s/it, v_num=1, train_loss_step=278, train_loss_epoch=246]"
     ]
    },
    {
     "name": "stderr",
     "output_type": "stream",
     "text": [
      "/Users/shivaramakrishna/Library/Python/3.9/lib/python/site-packages/scvi/module/_vae.py:458: UserWarning: The value argument must be within the support of the distribution\n",
      "  reconst_loss = -generative_outputs[\"px\"].log_prob(x).sum(-1)\n",
      "/Users/shivaramakrishna/Library/Python/3.9/lib/python/site-packages/scvi/module/_vae.py:458: UserWarning: The value argument must be within the support of the distribution\n",
      "  reconst_loss = -generative_outputs[\"px\"].log_prob(x).sum(-1)\n"
     ]
    },
    {
     "name": "stdout",
     "output_type": "stream",
     "text": [
      "Epoch 175/388:  45%|████▍     | 174/388 [09:03<11:31,  3.23s/it, v_num=1, train_loss_step=250, train_loss_epoch=246]"
     ]
    },
    {
     "name": "stderr",
     "output_type": "stream",
     "text": [
      "/Users/shivaramakrishna/Library/Python/3.9/lib/python/site-packages/scvi/module/_vae.py:458: UserWarning: The value argument must be within the support of the distribution\n",
      "  reconst_loss = -generative_outputs[\"px\"].log_prob(x).sum(-1)\n",
      "/Users/shivaramakrishna/Library/Python/3.9/lib/python/site-packages/scvi/module/_vae.py:458: UserWarning: The value argument must be within the support of the distribution\n",
      "  reconst_loss = -generative_outputs[\"px\"].log_prob(x).sum(-1)\n"
     ]
    },
    {
     "name": "stdout",
     "output_type": "stream",
     "text": [
      "Epoch 176/388:  45%|████▌     | 175/388 [09:07<11:27,  3.23s/it, v_num=1, train_loss_step=241, train_loss_epoch=246]"
     ]
    },
    {
     "name": "stderr",
     "output_type": "stream",
     "text": [
      "/Users/shivaramakrishna/Library/Python/3.9/lib/python/site-packages/scvi/module/_vae.py:458: UserWarning: The value argument must be within the support of the distribution\n",
      "  reconst_loss = -generative_outputs[\"px\"].log_prob(x).sum(-1)\n",
      "/Users/shivaramakrishna/Library/Python/3.9/lib/python/site-packages/scvi/module/_vae.py:458: UserWarning: The value argument must be within the support of the distribution\n",
      "  reconst_loss = -generative_outputs[\"px\"].log_prob(x).sum(-1)\n"
     ]
    },
    {
     "name": "stdout",
     "output_type": "stream",
     "text": [
      "Epoch 177/388:  45%|████▌     | 176/388 [09:10<11:22,  3.22s/it, v_num=1, train_loss_step=245, train_loss_epoch=246]"
     ]
    },
    {
     "name": "stderr",
     "output_type": "stream",
     "text": [
      "/Users/shivaramakrishna/Library/Python/3.9/lib/python/site-packages/scvi/module/_vae.py:458: UserWarning: The value argument must be within the support of the distribution\n",
      "  reconst_loss = -generative_outputs[\"px\"].log_prob(x).sum(-1)\n",
      "/Users/shivaramakrishna/Library/Python/3.9/lib/python/site-packages/scvi/module/_vae.py:458: UserWarning: The value argument must be within the support of the distribution\n",
      "  reconst_loss = -generative_outputs[\"px\"].log_prob(x).sum(-1)\n"
     ]
    },
    {
     "name": "stdout",
     "output_type": "stream",
     "text": [
      "Epoch 178/388:  46%|████▌     | 177/388 [09:13<11:08,  3.17s/it, v_num=1, train_loss_step=251, train_loss_epoch=246]"
     ]
    },
    {
     "name": "stderr",
     "output_type": "stream",
     "text": [
      "/Users/shivaramakrishna/Library/Python/3.9/lib/python/site-packages/scvi/module/_vae.py:458: UserWarning: The value argument must be within the support of the distribution\n",
      "  reconst_loss = -generative_outputs[\"px\"].log_prob(x).sum(-1)\n",
      "/Users/shivaramakrishna/Library/Python/3.9/lib/python/site-packages/scvi/module/_vae.py:458: UserWarning: The value argument must be within the support of the distribution\n",
      "  reconst_loss = -generative_outputs[\"px\"].log_prob(x).sum(-1)\n"
     ]
    },
    {
     "name": "stdout",
     "output_type": "stream",
     "text": [
      "Epoch 179/388:  46%|████▌     | 178/388 [09:16<11:11,  3.20s/it, v_num=1, train_loss_step=286, train_loss_epoch=246]"
     ]
    },
    {
     "name": "stderr",
     "output_type": "stream",
     "text": [
      "/Users/shivaramakrishna/Library/Python/3.9/lib/python/site-packages/scvi/module/_vae.py:458: UserWarning: The value argument must be within the support of the distribution\n",
      "  reconst_loss = -generative_outputs[\"px\"].log_prob(x).sum(-1)\n",
      "/Users/shivaramakrishna/Library/Python/3.9/lib/python/site-packages/scvi/module/_vae.py:458: UserWarning: The value argument must be within the support of the distribution\n",
      "  reconst_loss = -generative_outputs[\"px\"].log_prob(x).sum(-1)\n"
     ]
    },
    {
     "name": "stdout",
     "output_type": "stream",
     "text": [
      "Epoch 180/388:  46%|████▌     | 179/388 [09:19<11:11,  3.21s/it, v_num=1, train_loss_step=224, train_loss_epoch=246]"
     ]
    },
    {
     "name": "stderr",
     "output_type": "stream",
     "text": [
      "/Users/shivaramakrishna/Library/Python/3.9/lib/python/site-packages/scvi/module/_vae.py:458: UserWarning: The value argument must be within the support of the distribution\n",
      "  reconst_loss = -generative_outputs[\"px\"].log_prob(x).sum(-1)\n",
      "/Users/shivaramakrishna/Library/Python/3.9/lib/python/site-packages/scvi/module/_vae.py:458: UserWarning: The value argument must be within the support of the distribution\n",
      "  reconst_loss = -generative_outputs[\"px\"].log_prob(x).sum(-1)\n"
     ]
    },
    {
     "name": "stdout",
     "output_type": "stream",
     "text": [
      "Epoch 181/388:  46%|████▋     | 180/388 [09:22<11:02,  3.19s/it, v_num=1, train_loss_step=249, train_loss_epoch=246]"
     ]
    },
    {
     "name": "stderr",
     "output_type": "stream",
     "text": [
      "/Users/shivaramakrishna/Library/Python/3.9/lib/python/site-packages/scvi/module/_vae.py:458: UserWarning: The value argument must be within the support of the distribution\n",
      "  reconst_loss = -generative_outputs[\"px\"].log_prob(x).sum(-1)\n",
      "/Users/shivaramakrishna/Library/Python/3.9/lib/python/site-packages/scvi/module/_vae.py:458: UserWarning: The value argument must be within the support of the distribution\n",
      "  reconst_loss = -generative_outputs[\"px\"].log_prob(x).sum(-1)\n"
     ]
    },
    {
     "name": "stdout",
     "output_type": "stream",
     "text": [
      "Epoch 182/388:  47%|████▋     | 181/388 [09:26<11:17,  3.28s/it, v_num=1, train_loss_step=263, train_loss_epoch=246]"
     ]
    },
    {
     "name": "stderr",
     "output_type": "stream",
     "text": [
      "/Users/shivaramakrishna/Library/Python/3.9/lib/python/site-packages/scvi/module/_vae.py:458: UserWarning: The value argument must be within the support of the distribution\n",
      "  reconst_loss = -generative_outputs[\"px\"].log_prob(x).sum(-1)\n",
      "/Users/shivaramakrishna/Library/Python/3.9/lib/python/site-packages/scvi/module/_vae.py:458: UserWarning: The value argument must be within the support of the distribution\n",
      "  reconst_loss = -generative_outputs[\"px\"].log_prob(x).sum(-1)\n"
     ]
    },
    {
     "name": "stdout",
     "output_type": "stream",
     "text": [
      "Epoch 183/388:  47%|████▋     | 182/388 [09:29<11:19,  3.30s/it, v_num=1, train_loss_step=265, train_loss_epoch=246]"
     ]
    },
    {
     "name": "stderr",
     "output_type": "stream",
     "text": [
      "/Users/shivaramakrishna/Library/Python/3.9/lib/python/site-packages/scvi/module/_vae.py:458: UserWarning: The value argument must be within the support of the distribution\n",
      "  reconst_loss = -generative_outputs[\"px\"].log_prob(x).sum(-1)\n",
      "/Users/shivaramakrishna/Library/Python/3.9/lib/python/site-packages/scvi/module/_vae.py:458: UserWarning: The value argument must be within the support of the distribution\n",
      "  reconst_loss = -generative_outputs[\"px\"].log_prob(x).sum(-1)\n"
     ]
    },
    {
     "name": "stdout",
     "output_type": "stream",
     "text": [
      "Epoch 184/388:  47%|████▋     | 183/388 [09:33<11:20,  3.32s/it, v_num=1, train_loss_step=249, train_loss_epoch=246]"
     ]
    },
    {
     "name": "stderr",
     "output_type": "stream",
     "text": [
      "/Users/shivaramakrishna/Library/Python/3.9/lib/python/site-packages/scvi/module/_vae.py:458: UserWarning: The value argument must be within the support of the distribution\n",
      "  reconst_loss = -generative_outputs[\"px\"].log_prob(x).sum(-1)\n",
      "/Users/shivaramakrishna/Library/Python/3.9/lib/python/site-packages/scvi/module/_vae.py:458: UserWarning: The value argument must be within the support of the distribution\n",
      "  reconst_loss = -generative_outputs[\"px\"].log_prob(x).sum(-1)\n"
     ]
    },
    {
     "name": "stdout",
     "output_type": "stream",
     "text": [
      "Epoch 185/388:  47%|████▋     | 184/388 [09:36<11:14,  3.31s/it, v_num=1, train_loss_step=259, train_loss_epoch=246]"
     ]
    },
    {
     "name": "stderr",
     "output_type": "stream",
     "text": [
      "/Users/shivaramakrishna/Library/Python/3.9/lib/python/site-packages/scvi/module/_vae.py:458: UserWarning: The value argument must be within the support of the distribution\n",
      "  reconst_loss = -generative_outputs[\"px\"].log_prob(x).sum(-1)\n",
      "/Users/shivaramakrishna/Library/Python/3.9/lib/python/site-packages/scvi/module/_vae.py:458: UserWarning: The value argument must be within the support of the distribution\n",
      "  reconst_loss = -generative_outputs[\"px\"].log_prob(x).sum(-1)\n"
     ]
    },
    {
     "name": "stdout",
     "output_type": "stream",
     "text": [
      "Epoch 186/388:  48%|████▊     | 185/388 [09:39<11:00,  3.25s/it, v_num=1, train_loss_step=264, train_loss_epoch=246]"
     ]
    },
    {
     "name": "stderr",
     "output_type": "stream",
     "text": [
      "/Users/shivaramakrishna/Library/Python/3.9/lib/python/site-packages/scvi/module/_vae.py:458: UserWarning: The value argument must be within the support of the distribution\n",
      "  reconst_loss = -generative_outputs[\"px\"].log_prob(x).sum(-1)\n",
      "/Users/shivaramakrishna/Library/Python/3.9/lib/python/site-packages/scvi/module/_vae.py:458: UserWarning: The value argument must be within the support of the distribution\n",
      "  reconst_loss = -generative_outputs[\"px\"].log_prob(x).sum(-1)\n"
     ]
    },
    {
     "name": "stdout",
     "output_type": "stream",
     "text": [
      "Epoch 187/388:  48%|████▊     | 186/388 [09:42<10:50,  3.22s/it, v_num=1, train_loss_step=329, train_loss_epoch=246]"
     ]
    },
    {
     "name": "stderr",
     "output_type": "stream",
     "text": [
      "/Users/shivaramakrishna/Library/Python/3.9/lib/python/site-packages/scvi/module/_vae.py:458: UserWarning: The value argument must be within the support of the distribution\n",
      "  reconst_loss = -generative_outputs[\"px\"].log_prob(x).sum(-1)\n",
      "/Users/shivaramakrishna/Library/Python/3.9/lib/python/site-packages/scvi/module/_vae.py:458: UserWarning: The value argument must be within the support of the distribution\n",
      "  reconst_loss = -generative_outputs[\"px\"].log_prob(x).sum(-1)\n"
     ]
    },
    {
     "name": "stdout",
     "output_type": "stream",
     "text": [
      "Epoch 188/388:  48%|████▊     | 187/388 [09:46<10:52,  3.24s/it, v_num=1, train_loss_step=249, train_loss_epoch=246]"
     ]
    },
    {
     "name": "stderr",
     "output_type": "stream",
     "text": [
      "/Users/shivaramakrishna/Library/Python/3.9/lib/python/site-packages/scvi/module/_vae.py:458: UserWarning: The value argument must be within the support of the distribution\n",
      "  reconst_loss = -generative_outputs[\"px\"].log_prob(x).sum(-1)\n",
      "/Users/shivaramakrishna/Library/Python/3.9/lib/python/site-packages/scvi/module/_vae.py:458: UserWarning: The value argument must be within the support of the distribution\n",
      "  reconst_loss = -generative_outputs[\"px\"].log_prob(x).sum(-1)\n"
     ]
    },
    {
     "name": "stdout",
     "output_type": "stream",
     "text": [
      "Epoch 189/388:  48%|████▊     | 188/388 [09:49<10:50,  3.25s/it, v_num=1, train_loss_step=280, train_loss_epoch=246]"
     ]
    },
    {
     "name": "stderr",
     "output_type": "stream",
     "text": [
      "/Users/shivaramakrishna/Library/Python/3.9/lib/python/site-packages/scvi/module/_vae.py:458: UserWarning: The value argument must be within the support of the distribution\n",
      "  reconst_loss = -generative_outputs[\"px\"].log_prob(x).sum(-1)\n",
      "/Users/shivaramakrishna/Library/Python/3.9/lib/python/site-packages/scvi/module/_vae.py:458: UserWarning: The value argument must be within the support of the distribution\n",
      "  reconst_loss = -generative_outputs[\"px\"].log_prob(x).sum(-1)\n"
     ]
    },
    {
     "name": "stdout",
     "output_type": "stream",
     "text": [
      "Epoch 190/388:  49%|████▊     | 189/388 [09:52<10:58,  3.31s/it, v_num=1, train_loss_step=263, train_loss_epoch=246]"
     ]
    },
    {
     "name": "stderr",
     "output_type": "stream",
     "text": [
      "/Users/shivaramakrishna/Library/Python/3.9/lib/python/site-packages/scvi/module/_vae.py:458: UserWarning: The value argument must be within the support of the distribution\n",
      "  reconst_loss = -generative_outputs[\"px\"].log_prob(x).sum(-1)\n",
      "/Users/shivaramakrishna/Library/Python/3.9/lib/python/site-packages/scvi/module/_vae.py:458: UserWarning: The value argument must be within the support of the distribution\n",
      "  reconst_loss = -generative_outputs[\"px\"].log_prob(x).sum(-1)\n"
     ]
    },
    {
     "name": "stdout",
     "output_type": "stream",
     "text": [
      "Epoch 191/388:  49%|████▉     | 190/388 [09:56<10:57,  3.32s/it, v_num=1, train_loss_step=292, train_loss_epoch=246]"
     ]
    },
    {
     "name": "stderr",
     "output_type": "stream",
     "text": [
      "/Users/shivaramakrishna/Library/Python/3.9/lib/python/site-packages/scvi/module/_vae.py:458: UserWarning: The value argument must be within the support of the distribution\n",
      "  reconst_loss = -generative_outputs[\"px\"].log_prob(x).sum(-1)\n",
      "/Users/shivaramakrishna/Library/Python/3.9/lib/python/site-packages/scvi/module/_vae.py:458: UserWarning: The value argument must be within the support of the distribution\n",
      "  reconst_loss = -generative_outputs[\"px\"].log_prob(x).sum(-1)\n"
     ]
    },
    {
     "name": "stdout",
     "output_type": "stream",
     "text": [
      "Epoch 192/388:  49%|████▉     | 191/388 [09:59<10:42,  3.26s/it, v_num=1, train_loss_step=259, train_loss_epoch=247]"
     ]
    },
    {
     "name": "stderr",
     "output_type": "stream",
     "text": [
      "/Users/shivaramakrishna/Library/Python/3.9/lib/python/site-packages/scvi/module/_vae.py:458: UserWarning: The value argument must be within the support of the distribution\n",
      "  reconst_loss = -generative_outputs[\"px\"].log_prob(x).sum(-1)\n",
      "/Users/shivaramakrishna/Library/Python/3.9/lib/python/site-packages/scvi/module/_vae.py:458: UserWarning: The value argument must be within the support of the distribution\n",
      "  reconst_loss = -generative_outputs[\"px\"].log_prob(x).sum(-1)\n"
     ]
    },
    {
     "name": "stdout",
     "output_type": "stream",
     "text": [
      "Epoch 193/388:  49%|████▉     | 192/388 [10:02<10:44,  3.29s/it, v_num=1, train_loss_step=276, train_loss_epoch=246]"
     ]
    },
    {
     "name": "stderr",
     "output_type": "stream",
     "text": [
      "/Users/shivaramakrishna/Library/Python/3.9/lib/python/site-packages/scvi/module/_vae.py:458: UserWarning: The value argument must be within the support of the distribution\n",
      "  reconst_loss = -generative_outputs[\"px\"].log_prob(x).sum(-1)\n",
      "/Users/shivaramakrishna/Library/Python/3.9/lib/python/site-packages/scvi/module/_vae.py:458: UserWarning: The value argument must be within the support of the distribution\n",
      "  reconst_loss = -generative_outputs[\"px\"].log_prob(x).sum(-1)\n"
     ]
    },
    {
     "name": "stdout",
     "output_type": "stream",
     "text": [
      "Epoch 194/388:  50%|████▉     | 193/388 [10:05<10:04,  3.10s/it, v_num=1, train_loss_step=228, train_loss_epoch=246]"
     ]
    },
    {
     "name": "stderr",
     "output_type": "stream",
     "text": [
      "/Users/shivaramakrishna/Library/Python/3.9/lib/python/site-packages/scvi/module/_vae.py:458: UserWarning: The value argument must be within the support of the distribution\n",
      "  reconst_loss = -generative_outputs[\"px\"].log_prob(x).sum(-1)\n",
      "/Users/shivaramakrishna/Library/Python/3.9/lib/python/site-packages/scvi/module/_vae.py:458: UserWarning: The value argument must be within the support of the distribution\n",
      "  reconst_loss = -generative_outputs[\"px\"].log_prob(x).sum(-1)\n"
     ]
    },
    {
     "name": "stdout",
     "output_type": "stream",
     "text": [
      "Epoch 195/388:  50%|█████     | 194/388 [10:08<09:45,  3.02s/it, v_num=1, train_loss_step=268, train_loss_epoch=246]"
     ]
    },
    {
     "name": "stderr",
     "output_type": "stream",
     "text": [
      "/Users/shivaramakrishna/Library/Python/3.9/lib/python/site-packages/scvi/module/_vae.py:458: UserWarning: The value argument must be within the support of the distribution\n",
      "  reconst_loss = -generative_outputs[\"px\"].log_prob(x).sum(-1)\n",
      "/Users/shivaramakrishna/Library/Python/3.9/lib/python/site-packages/scvi/module/_vae.py:458: UserWarning: The value argument must be within the support of the distribution\n",
      "  reconst_loss = -generative_outputs[\"px\"].log_prob(x).sum(-1)\n"
     ]
    },
    {
     "name": "stdout",
     "output_type": "stream",
     "text": [
      "Epoch 196/388:  50%|█████     | 195/388 [10:11<09:57,  3.10s/it, v_num=1, train_loss_step=263, train_loss_epoch=246]"
     ]
    },
    {
     "name": "stderr",
     "output_type": "stream",
     "text": [
      "/Users/shivaramakrishna/Library/Python/3.9/lib/python/site-packages/scvi/module/_vae.py:458: UserWarning: The value argument must be within the support of the distribution\n",
      "  reconst_loss = -generative_outputs[\"px\"].log_prob(x).sum(-1)\n",
      "/Users/shivaramakrishna/Library/Python/3.9/lib/python/site-packages/scvi/module/_vae.py:458: UserWarning: The value argument must be within the support of the distribution\n",
      "  reconst_loss = -generative_outputs[\"px\"].log_prob(x).sum(-1)\n"
     ]
    },
    {
     "name": "stdout",
     "output_type": "stream",
     "text": [
      "Epoch 197/388:  51%|█████     | 196/388 [10:14<10:11,  3.18s/it, v_num=1, train_loss_step=267, train_loss_epoch=246]"
     ]
    },
    {
     "name": "stderr",
     "output_type": "stream",
     "text": [
      "/Users/shivaramakrishna/Library/Python/3.9/lib/python/site-packages/scvi/module/_vae.py:458: UserWarning: The value argument must be within the support of the distribution\n",
      "  reconst_loss = -generative_outputs[\"px\"].log_prob(x).sum(-1)\n",
      "/Users/shivaramakrishna/Library/Python/3.9/lib/python/site-packages/scvi/module/_vae.py:458: UserWarning: The value argument must be within the support of the distribution\n",
      "  reconst_loss = -generative_outputs[\"px\"].log_prob(x).sum(-1)\n"
     ]
    },
    {
     "name": "stdout",
     "output_type": "stream",
     "text": [
      "Epoch 198/388:  51%|█████     | 197/388 [10:18<10:17,  3.23s/it, v_num=1, train_loss_step=271, train_loss_epoch=247]"
     ]
    },
    {
     "name": "stderr",
     "output_type": "stream",
     "text": [
      "/Users/shivaramakrishna/Library/Python/3.9/lib/python/site-packages/scvi/module/_vae.py:458: UserWarning: The value argument must be within the support of the distribution\n",
      "  reconst_loss = -generative_outputs[\"px\"].log_prob(x).sum(-1)\n",
      "/Users/shivaramakrishna/Library/Python/3.9/lib/python/site-packages/scvi/module/_vae.py:458: UserWarning: The value argument must be within the support of the distribution\n",
      "  reconst_loss = -generative_outputs[\"px\"].log_prob(x).sum(-1)\n"
     ]
    },
    {
     "name": "stdout",
     "output_type": "stream",
     "text": [
      "Epoch 199/388:  51%|█████     | 198/388 [10:21<10:20,  3.27s/it, v_num=1, train_loss_step=263, train_loss_epoch=246]"
     ]
    },
    {
     "name": "stderr",
     "output_type": "stream",
     "text": [
      "/Users/shivaramakrishna/Library/Python/3.9/lib/python/site-packages/scvi/module/_vae.py:458: UserWarning: The value argument must be within the support of the distribution\n",
      "  reconst_loss = -generative_outputs[\"px\"].log_prob(x).sum(-1)\n",
      "/Users/shivaramakrishna/Library/Python/3.9/lib/python/site-packages/scvi/module/_vae.py:458: UserWarning: The value argument must be within the support of the distribution\n",
      "  reconst_loss = -generative_outputs[\"px\"].log_prob(x).sum(-1)\n"
     ]
    },
    {
     "name": "stdout",
     "output_type": "stream",
     "text": [
      "Epoch 200/388:  51%|█████▏    | 199/388 [10:24<10:22,  3.29s/it, v_num=1, train_loss_step=300, train_loss_epoch=246]"
     ]
    },
    {
     "name": "stderr",
     "output_type": "stream",
     "text": [
      "/Users/shivaramakrishna/Library/Python/3.9/lib/python/site-packages/scvi/module/_vae.py:458: UserWarning: The value argument must be within the support of the distribution\n",
      "  reconst_loss = -generative_outputs[\"px\"].log_prob(x).sum(-1)\n",
      "/Users/shivaramakrishna/Library/Python/3.9/lib/python/site-packages/scvi/module/_vae.py:458: UserWarning: The value argument must be within the support of the distribution\n",
      "  reconst_loss = -generative_outputs[\"px\"].log_prob(x).sum(-1)\n"
     ]
    },
    {
     "name": "stdout",
     "output_type": "stream",
     "text": [
      "Epoch 201/388:  52%|█████▏    | 200/388 [10:28<10:31,  3.36s/it, v_num=1, train_loss_step=264, train_loss_epoch=247]"
     ]
    },
    {
     "name": "stderr",
     "output_type": "stream",
     "text": [
      "/Users/shivaramakrishna/Library/Python/3.9/lib/python/site-packages/scvi/module/_vae.py:458: UserWarning: The value argument must be within the support of the distribution\n",
      "  reconst_loss = -generative_outputs[\"px\"].log_prob(x).sum(-1)\n",
      "/Users/shivaramakrishna/Library/Python/3.9/lib/python/site-packages/scvi/module/_vae.py:458: UserWarning: The value argument must be within the support of the distribution\n",
      "  reconst_loss = -generative_outputs[\"px\"].log_prob(x).sum(-1)\n"
     ]
    },
    {
     "name": "stdout",
     "output_type": "stream",
     "text": [
      "Epoch 202/388:  52%|█████▏    | 201/388 [10:31<10:15,  3.29s/it, v_num=1, train_loss_step=260, train_loss_epoch=247]"
     ]
    },
    {
     "name": "stderr",
     "output_type": "stream",
     "text": [
      "/Users/shivaramakrishna/Library/Python/3.9/lib/python/site-packages/scvi/module/_vae.py:458: UserWarning: The value argument must be within the support of the distribution\n",
      "  reconst_loss = -generative_outputs[\"px\"].log_prob(x).sum(-1)\n",
      "/Users/shivaramakrishna/Library/Python/3.9/lib/python/site-packages/scvi/module/_vae.py:458: UserWarning: The value argument must be within the support of the distribution\n",
      "  reconst_loss = -generative_outputs[\"px\"].log_prob(x).sum(-1)\n"
     ]
    },
    {
     "name": "stdout",
     "output_type": "stream",
     "text": [
      "Epoch 203/388:  52%|█████▏    | 202/388 [10:34<10:09,  3.28s/it, v_num=1, train_loss_step=266, train_loss_epoch=247]"
     ]
    },
    {
     "name": "stderr",
     "output_type": "stream",
     "text": [
      "/Users/shivaramakrishna/Library/Python/3.9/lib/python/site-packages/scvi/module/_vae.py:458: UserWarning: The value argument must be within the support of the distribution\n",
      "  reconst_loss = -generative_outputs[\"px\"].log_prob(x).sum(-1)\n",
      "/Users/shivaramakrishna/Library/Python/3.9/lib/python/site-packages/scvi/module/_vae.py:458: UserWarning: The value argument must be within the support of the distribution\n",
      "  reconst_loss = -generative_outputs[\"px\"].log_prob(x).sum(-1)\n"
     ]
    },
    {
     "name": "stdout",
     "output_type": "stream",
     "text": [
      "Epoch 204/388:  52%|█████▏    | 203/388 [10:37<09:59,  3.24s/it, v_num=1, train_loss_step=257, train_loss_epoch=247]"
     ]
    },
    {
     "name": "stderr",
     "output_type": "stream",
     "text": [
      "/Users/shivaramakrishna/Library/Python/3.9/lib/python/site-packages/scvi/module/_vae.py:458: UserWarning: The value argument must be within the support of the distribution\n",
      "  reconst_loss = -generative_outputs[\"px\"].log_prob(x).sum(-1)\n",
      "/Users/shivaramakrishna/Library/Python/3.9/lib/python/site-packages/scvi/module/_vae.py:458: UserWarning: The value argument must be within the support of the distribution\n",
      "  reconst_loss = -generative_outputs[\"px\"].log_prob(x).sum(-1)\n"
     ]
    },
    {
     "name": "stdout",
     "output_type": "stream",
     "text": [
      "Epoch 205/388:  53%|█████▎    | 204/388 [10:40<09:47,  3.19s/it, v_num=1, train_loss_step=224, train_loss_epoch=247]"
     ]
    },
    {
     "name": "stderr",
     "output_type": "stream",
     "text": [
      "/Users/shivaramakrishna/Library/Python/3.9/lib/python/site-packages/scvi/module/_vae.py:458: UserWarning: The value argument must be within the support of the distribution\n",
      "  reconst_loss = -generative_outputs[\"px\"].log_prob(x).sum(-1)\n",
      "/Users/shivaramakrishna/Library/Python/3.9/lib/python/site-packages/scvi/module/_vae.py:458: UserWarning: The value argument must be within the support of the distribution\n",
      "  reconst_loss = -generative_outputs[\"px\"].log_prob(x).sum(-1)\n"
     ]
    },
    {
     "name": "stdout",
     "output_type": "stream",
     "text": [
      "Epoch 206/388:  53%|█████▎    | 205/388 [10:43<09:33,  3.14s/it, v_num=1, train_loss_step=266, train_loss_epoch=247]"
     ]
    },
    {
     "name": "stderr",
     "output_type": "stream",
     "text": [
      "/Users/shivaramakrishna/Library/Python/3.9/lib/python/site-packages/scvi/module/_vae.py:458: UserWarning: The value argument must be within the support of the distribution\n",
      "  reconst_loss = -generative_outputs[\"px\"].log_prob(x).sum(-1)\n",
      "/Users/shivaramakrishna/Library/Python/3.9/lib/python/site-packages/scvi/module/_vae.py:458: UserWarning: The value argument must be within the support of the distribution\n",
      "  reconst_loss = -generative_outputs[\"px\"].log_prob(x).sum(-1)\n"
     ]
    },
    {
     "name": "stdout",
     "output_type": "stream",
     "text": [
      "Epoch 207/388:  53%|█████▎    | 206/388 [10:47<09:39,  3.18s/it, v_num=1, train_loss_step=247, train_loss_epoch=247]"
     ]
    },
    {
     "name": "stderr",
     "output_type": "stream",
     "text": [
      "/Users/shivaramakrishna/Library/Python/3.9/lib/python/site-packages/scvi/module/_vae.py:458: UserWarning: The value argument must be within the support of the distribution\n",
      "  reconst_loss = -generative_outputs[\"px\"].log_prob(x).sum(-1)\n",
      "/Users/shivaramakrishna/Library/Python/3.9/lib/python/site-packages/scvi/module/_vae.py:458: UserWarning: The value argument must be within the support of the distribution\n",
      "  reconst_loss = -generative_outputs[\"px\"].log_prob(x).sum(-1)\n"
     ]
    },
    {
     "name": "stdout",
     "output_type": "stream",
     "text": [
      "Epoch 208/388:  53%|█████▎    | 207/388 [10:50<09:47,  3.25s/it, v_num=1, train_loss_step=294, train_loss_epoch=247]"
     ]
    },
    {
     "name": "stderr",
     "output_type": "stream",
     "text": [
      "/Users/shivaramakrishna/Library/Python/3.9/lib/python/site-packages/scvi/module/_vae.py:458: UserWarning: The value argument must be within the support of the distribution\n",
      "  reconst_loss = -generative_outputs[\"px\"].log_prob(x).sum(-1)\n",
      "/Users/shivaramakrishna/Library/Python/3.9/lib/python/site-packages/scvi/module/_vae.py:458: UserWarning: The value argument must be within the support of the distribution\n",
      "  reconst_loss = -generative_outputs[\"px\"].log_prob(x).sum(-1)\n"
     ]
    },
    {
     "name": "stdout",
     "output_type": "stream",
     "text": [
      "Epoch 209/388:  54%|█████▎    | 208/388 [10:54<09:53,  3.30s/it, v_num=1, train_loss_step=266, train_loss_epoch=247]"
     ]
    },
    {
     "name": "stderr",
     "output_type": "stream",
     "text": [
      "/Users/shivaramakrishna/Library/Python/3.9/lib/python/site-packages/scvi/module/_vae.py:458: UserWarning: The value argument must be within the support of the distribution\n",
      "  reconst_loss = -generative_outputs[\"px\"].log_prob(x).sum(-1)\n",
      "/Users/shivaramakrishna/Library/Python/3.9/lib/python/site-packages/scvi/module/_vae.py:458: UserWarning: The value argument must be within the support of the distribution\n",
      "  reconst_loss = -generative_outputs[\"px\"].log_prob(x).sum(-1)\n"
     ]
    },
    {
     "name": "stdout",
     "output_type": "stream",
     "text": [
      "Epoch 210/388:  54%|█████▍    | 209/388 [10:57<09:55,  3.33s/it, v_num=1, train_loss_step=225, train_loss_epoch=247]"
     ]
    },
    {
     "name": "stderr",
     "output_type": "stream",
     "text": [
      "/Users/shivaramakrishna/Library/Python/3.9/lib/python/site-packages/scvi/module/_vae.py:458: UserWarning: The value argument must be within the support of the distribution\n",
      "  reconst_loss = -generative_outputs[\"px\"].log_prob(x).sum(-1)\n",
      "/Users/shivaramakrishna/Library/Python/3.9/lib/python/site-packages/scvi/module/_vae.py:458: UserWarning: The value argument must be within the support of the distribution\n",
      "  reconst_loss = -generative_outputs[\"px\"].log_prob(x).sum(-1)\n"
     ]
    },
    {
     "name": "stdout",
     "output_type": "stream",
     "text": [
      "Epoch 211/388:  54%|█████▍    | 210/388 [11:00<09:52,  3.33s/it, v_num=1, train_loss_step=233, train_loss_epoch=247]"
     ]
    },
    {
     "name": "stderr",
     "output_type": "stream",
     "text": [
      "/Users/shivaramakrishna/Library/Python/3.9/lib/python/site-packages/scvi/module/_vae.py:458: UserWarning: The value argument must be within the support of the distribution\n",
      "  reconst_loss = -generative_outputs[\"px\"].log_prob(x).sum(-1)\n",
      "/Users/shivaramakrishna/Library/Python/3.9/lib/python/site-packages/scvi/module/_vae.py:458: UserWarning: The value argument must be within the support of the distribution\n",
      "  reconst_loss = -generative_outputs[\"px\"].log_prob(x).sum(-1)\n"
     ]
    },
    {
     "name": "stdout",
     "output_type": "stream",
     "text": [
      "Epoch 212/388:  54%|█████▍    | 211/388 [11:04<09:48,  3.33s/it, v_num=1, train_loss_step=243, train_loss_epoch=247]"
     ]
    },
    {
     "name": "stderr",
     "output_type": "stream",
     "text": [
      "/Users/shivaramakrishna/Library/Python/3.9/lib/python/site-packages/scvi/module/_vae.py:458: UserWarning: The value argument must be within the support of the distribution\n",
      "  reconst_loss = -generative_outputs[\"px\"].log_prob(x).sum(-1)\n",
      "/Users/shivaramakrishna/Library/Python/3.9/lib/python/site-packages/scvi/module/_vae.py:458: UserWarning: The value argument must be within the support of the distribution\n",
      "  reconst_loss = -generative_outputs[\"px\"].log_prob(x).sum(-1)\n"
     ]
    },
    {
     "name": "stdout",
     "output_type": "stream",
     "text": [
      "Epoch 213/388:  55%|█████▍    | 212/388 [11:07<09:44,  3.32s/it, v_num=1, train_loss_step=262, train_loss_epoch=247]"
     ]
    },
    {
     "name": "stderr",
     "output_type": "stream",
     "text": [
      "/Users/shivaramakrishna/Library/Python/3.9/lib/python/site-packages/scvi/module/_vae.py:458: UserWarning: The value argument must be within the support of the distribution\n",
      "  reconst_loss = -generative_outputs[\"px\"].log_prob(x).sum(-1)\n",
      "/Users/shivaramakrishna/Library/Python/3.9/lib/python/site-packages/scvi/module/_vae.py:458: UserWarning: The value argument must be within the support of the distribution\n",
      "  reconst_loss = -generative_outputs[\"px\"].log_prob(x).sum(-1)\n"
     ]
    },
    {
     "name": "stdout",
     "output_type": "stream",
     "text": [
      "Epoch 214/388:  55%|█████▍    | 213/388 [11:10<09:46,  3.35s/it, v_num=1, train_loss_step=239, train_loss_epoch=247]"
     ]
    },
    {
     "name": "stderr",
     "output_type": "stream",
     "text": [
      "/Users/shivaramakrishna/Library/Python/3.9/lib/python/site-packages/scvi/module/_vae.py:458: UserWarning: The value argument must be within the support of the distribution\n",
      "  reconst_loss = -generative_outputs[\"px\"].log_prob(x).sum(-1)\n",
      "/Users/shivaramakrishna/Library/Python/3.9/lib/python/site-packages/scvi/module/_vae.py:458: UserWarning: The value argument must be within the support of the distribution\n",
      "  reconst_loss = -generative_outputs[\"px\"].log_prob(x).sum(-1)\n"
     ]
    },
    {
     "name": "stdout",
     "output_type": "stream",
     "text": [
      "Epoch 215/388:  55%|█████▌    | 214/388 [11:14<09:42,  3.35s/it, v_num=1, train_loss_step=302, train_loss_epoch=247]"
     ]
    },
    {
     "name": "stderr",
     "output_type": "stream",
     "text": [
      "/Users/shivaramakrishna/Library/Python/3.9/lib/python/site-packages/scvi/module/_vae.py:458: UserWarning: The value argument must be within the support of the distribution\n",
      "  reconst_loss = -generative_outputs[\"px\"].log_prob(x).sum(-1)\n",
      "/Users/shivaramakrishna/Library/Python/3.9/lib/python/site-packages/scvi/module/_vae.py:458: UserWarning: The value argument must be within the support of the distribution\n",
      "  reconst_loss = -generative_outputs[\"px\"].log_prob(x).sum(-1)\n"
     ]
    },
    {
     "name": "stdout",
     "output_type": "stream",
     "text": [
      "Epoch 216/388:  55%|█████▌    | 215/388 [11:16<08:45,  3.04s/it, v_num=1, train_loss_step=312, train_loss_epoch=247]"
     ]
    },
    {
     "name": "stderr",
     "output_type": "stream",
     "text": [
      "/Users/shivaramakrishna/Library/Python/3.9/lib/python/site-packages/scvi/module/_vae.py:458: UserWarning: The value argument must be within the support of the distribution\n",
      "  reconst_loss = -generative_outputs[\"px\"].log_prob(x).sum(-1)\n",
      "/Users/shivaramakrishna/Library/Python/3.9/lib/python/site-packages/scvi/module/_vae.py:458: UserWarning: The value argument must be within the support of the distribution\n",
      "  reconst_loss = -generative_outputs[\"px\"].log_prob(x).sum(-1)\n"
     ]
    },
    {
     "name": "stdout",
     "output_type": "stream",
     "text": [
      "Epoch 217/388:  56%|█████▌    | 216/388 [11:18<08:06,  2.83s/it, v_num=1, train_loss_step=247, train_loss_epoch=247]"
     ]
    },
    {
     "name": "stderr",
     "output_type": "stream",
     "text": [
      "/Users/shivaramakrishna/Library/Python/3.9/lib/python/site-packages/scvi/module/_vae.py:458: UserWarning: The value argument must be within the support of the distribution\n",
      "  reconst_loss = -generative_outputs[\"px\"].log_prob(x).sum(-1)\n",
      "/Users/shivaramakrishna/Library/Python/3.9/lib/python/site-packages/scvi/module/_vae.py:458: UserWarning: The value argument must be within the support of the distribution\n",
      "  reconst_loss = -generative_outputs[\"px\"].log_prob(x).sum(-1)\n"
     ]
    },
    {
     "name": "stdout",
     "output_type": "stream",
     "text": [
      "Epoch 218/388:  56%|█████▌    | 217/388 [11:21<07:39,  2.68s/it, v_num=1, train_loss_step=285, train_loss_epoch=247]"
     ]
    },
    {
     "name": "stderr",
     "output_type": "stream",
     "text": [
      "/Users/shivaramakrishna/Library/Python/3.9/lib/python/site-packages/scvi/module/_vae.py:458: UserWarning: The value argument must be within the support of the distribution\n",
      "  reconst_loss = -generative_outputs[\"px\"].log_prob(x).sum(-1)\n",
      "/Users/shivaramakrishna/Library/Python/3.9/lib/python/site-packages/scvi/module/_vae.py:458: UserWarning: The value argument must be within the support of the distribution\n",
      "  reconst_loss = -generative_outputs[\"px\"].log_prob(x).sum(-1)\n"
     ]
    },
    {
     "name": "stdout",
     "output_type": "stream",
     "text": [
      "Epoch 219/388:  56%|█████▌    | 218/388 [11:23<07:16,  2.57s/it, v_num=1, train_loss_step=255, train_loss_epoch=247]"
     ]
    },
    {
     "name": "stderr",
     "output_type": "stream",
     "text": [
      "/Users/shivaramakrishna/Library/Python/3.9/lib/python/site-packages/scvi/module/_vae.py:458: UserWarning: The value argument must be within the support of the distribution\n",
      "  reconst_loss = -generative_outputs[\"px\"].log_prob(x).sum(-1)\n",
      "/Users/shivaramakrishna/Library/Python/3.9/lib/python/site-packages/scvi/module/_vae.py:458: UserWarning: The value argument must be within the support of the distribution\n",
      "  reconst_loss = -generative_outputs[\"px\"].log_prob(x).sum(-1)\n"
     ]
    },
    {
     "name": "stdout",
     "output_type": "stream",
     "text": [
      "Epoch 220/388:  56%|█████▋    | 219/388 [11:25<07:01,  2.49s/it, v_num=1, train_loss_step=230, train_loss_epoch=247]"
     ]
    },
    {
     "name": "stderr",
     "output_type": "stream",
     "text": [
      "/Users/shivaramakrishna/Library/Python/3.9/lib/python/site-packages/scvi/module/_vae.py:458: UserWarning: The value argument must be within the support of the distribution\n",
      "  reconst_loss = -generative_outputs[\"px\"].log_prob(x).sum(-1)\n",
      "/Users/shivaramakrishna/Library/Python/3.9/lib/python/site-packages/scvi/module/_vae.py:458: UserWarning: The value argument must be within the support of the distribution\n",
      "  reconst_loss = -generative_outputs[\"px\"].log_prob(x).sum(-1)\n"
     ]
    },
    {
     "name": "stdout",
     "output_type": "stream",
     "text": [
      "Epoch 221/388:  57%|█████▋    | 220/388 [11:29<07:41,  2.74s/it, v_num=1, train_loss_step=239, train_loss_epoch=247]"
     ]
    },
    {
     "name": "stderr",
     "output_type": "stream",
     "text": [
      "/Users/shivaramakrishna/Library/Python/3.9/lib/python/site-packages/scvi/module/_vae.py:458: UserWarning: The value argument must be within the support of the distribution\n",
      "  reconst_loss = -generative_outputs[\"px\"].log_prob(x).sum(-1)\n",
      "/Users/shivaramakrishna/Library/Python/3.9/lib/python/site-packages/scvi/module/_vae.py:458: UserWarning: The value argument must be within the support of the distribution\n",
      "  reconst_loss = -generative_outputs[\"px\"].log_prob(x).sum(-1)\n"
     ]
    },
    {
     "name": "stdout",
     "output_type": "stream",
     "text": [
      "Epoch 222/388:  57%|█████▋    | 221/388 [11:32<08:08,  2.93s/it, v_num=1, train_loss_step=339, train_loss_epoch=247]"
     ]
    },
    {
     "name": "stderr",
     "output_type": "stream",
     "text": [
      "/Users/shivaramakrishna/Library/Python/3.9/lib/python/site-packages/scvi/module/_vae.py:458: UserWarning: The value argument must be within the support of the distribution\n",
      "  reconst_loss = -generative_outputs[\"px\"].log_prob(x).sum(-1)\n",
      "/Users/shivaramakrishna/Library/Python/3.9/lib/python/site-packages/scvi/module/_vae.py:458: UserWarning: The value argument must be within the support of the distribution\n",
      "  reconst_loss = -generative_outputs[\"px\"].log_prob(x).sum(-1)\n"
     ]
    },
    {
     "name": "stdout",
     "output_type": "stream",
     "text": [
      "Epoch 223/388:  57%|█████▋    | 222/388 [11:35<08:27,  3.06s/it, v_num=1, train_loss_step=264, train_loss_epoch=247]"
     ]
    },
    {
     "name": "stderr",
     "output_type": "stream",
     "text": [
      "/Users/shivaramakrishna/Library/Python/3.9/lib/python/site-packages/scvi/module/_vae.py:458: UserWarning: The value argument must be within the support of the distribution\n",
      "  reconst_loss = -generative_outputs[\"px\"].log_prob(x).sum(-1)\n",
      "/Users/shivaramakrishna/Library/Python/3.9/lib/python/site-packages/scvi/module/_vae.py:458: UserWarning: The value argument must be within the support of the distribution\n",
      "  reconst_loss = -generative_outputs[\"px\"].log_prob(x).sum(-1)\n"
     ]
    },
    {
     "name": "stdout",
     "output_type": "stream",
     "text": [
      "Epoch 224/388:  57%|█████▋    | 223/388 [11:39<08:40,  3.15s/it, v_num=1, train_loss_step=318, train_loss_epoch=247]"
     ]
    },
    {
     "name": "stderr",
     "output_type": "stream",
     "text": [
      "/Users/shivaramakrishna/Library/Python/3.9/lib/python/site-packages/scvi/module/_vae.py:458: UserWarning: The value argument must be within the support of the distribution\n",
      "  reconst_loss = -generative_outputs[\"px\"].log_prob(x).sum(-1)\n",
      "/Users/shivaramakrishna/Library/Python/3.9/lib/python/site-packages/scvi/module/_vae.py:458: UserWarning: The value argument must be within the support of the distribution\n",
      "  reconst_loss = -generative_outputs[\"px\"].log_prob(x).sum(-1)\n"
     ]
    },
    {
     "name": "stdout",
     "output_type": "stream",
     "text": [
      "Epoch 225/388:  58%|█████▊    | 224/388 [11:42<08:45,  3.20s/it, v_num=1, train_loss_step=238, train_loss_epoch=247]"
     ]
    },
    {
     "name": "stderr",
     "output_type": "stream",
     "text": [
      "/Users/shivaramakrishna/Library/Python/3.9/lib/python/site-packages/scvi/module/_vae.py:458: UserWarning: The value argument must be within the support of the distribution\n",
      "  reconst_loss = -generative_outputs[\"px\"].log_prob(x).sum(-1)\n",
      "/Users/shivaramakrishna/Library/Python/3.9/lib/python/site-packages/scvi/module/_vae.py:458: UserWarning: The value argument must be within the support of the distribution\n",
      "  reconst_loss = -generative_outputs[\"px\"].log_prob(x).sum(-1)\n"
     ]
    },
    {
     "name": "stdout",
     "output_type": "stream",
     "text": [
      "Epoch 226/388:  58%|█████▊    | 225/388 [11:45<08:33,  3.15s/it, v_num=1, train_loss_step=255, train_loss_epoch=247]"
     ]
    },
    {
     "name": "stderr",
     "output_type": "stream",
     "text": [
      "/Users/shivaramakrishna/Library/Python/3.9/lib/python/site-packages/scvi/module/_vae.py:458: UserWarning: The value argument must be within the support of the distribution\n",
      "  reconst_loss = -generative_outputs[\"px\"].log_prob(x).sum(-1)\n",
      "/Users/shivaramakrishna/Library/Python/3.9/lib/python/site-packages/scvi/module/_vae.py:458: UserWarning: The value argument must be within the support of the distribution\n",
      "  reconst_loss = -generative_outputs[\"px\"].log_prob(x).sum(-1)\n"
     ]
    },
    {
     "name": "stdout",
     "output_type": "stream",
     "text": [
      "Epoch 227/388:  58%|█████▊    | 226/388 [11:49<08:47,  3.26s/it, v_num=1, train_loss_step=289, train_loss_epoch=247]"
     ]
    },
    {
     "name": "stderr",
     "output_type": "stream",
     "text": [
      "/Users/shivaramakrishna/Library/Python/3.9/lib/python/site-packages/scvi/module/_vae.py:458: UserWarning: The value argument must be within the support of the distribution\n",
      "  reconst_loss = -generative_outputs[\"px\"].log_prob(x).sum(-1)\n",
      "/Users/shivaramakrishna/Library/Python/3.9/lib/python/site-packages/scvi/module/_vae.py:458: UserWarning: The value argument must be within the support of the distribution\n",
      "  reconst_loss = -generative_outputs[\"px\"].log_prob(x).sum(-1)\n"
     ]
    },
    {
     "name": "stdout",
     "output_type": "stream",
     "text": [
      "Epoch 228/388:  59%|█████▊    | 227/388 [11:52<08:49,  3.29s/it, v_num=1, train_loss_step=269, train_loss_epoch=247]"
     ]
    },
    {
     "name": "stderr",
     "output_type": "stream",
     "text": [
      "/Users/shivaramakrishna/Library/Python/3.9/lib/python/site-packages/scvi/module/_vae.py:458: UserWarning: The value argument must be within the support of the distribution\n",
      "  reconst_loss = -generative_outputs[\"px\"].log_prob(x).sum(-1)\n",
      "/Users/shivaramakrishna/Library/Python/3.9/lib/python/site-packages/scvi/module/_vae.py:458: UserWarning: The value argument must be within the support of the distribution\n",
      "  reconst_loss = -generative_outputs[\"px\"].log_prob(x).sum(-1)\n"
     ]
    },
    {
     "name": "stdout",
     "output_type": "stream",
     "text": [
      "Epoch 229/388:  59%|█████▉    | 228/388 [11:55<08:46,  3.29s/it, v_num=1, train_loss_step=243, train_loss_epoch=247]"
     ]
    },
    {
     "name": "stderr",
     "output_type": "stream",
     "text": [
      "/Users/shivaramakrishna/Library/Python/3.9/lib/python/site-packages/scvi/module/_vae.py:458: UserWarning: The value argument must be within the support of the distribution\n",
      "  reconst_loss = -generative_outputs[\"px\"].log_prob(x).sum(-1)\n",
      "/Users/shivaramakrishna/Library/Python/3.9/lib/python/site-packages/scvi/module/_vae.py:458: UserWarning: The value argument must be within the support of the distribution\n",
      "  reconst_loss = -generative_outputs[\"px\"].log_prob(x).sum(-1)\n"
     ]
    },
    {
     "name": "stdout",
     "output_type": "stream",
     "text": [
      "Epoch 230/388:  59%|█████▉    | 229/388 [11:58<08:38,  3.26s/it, v_num=1, train_loss_step=217, train_loss_epoch=247]"
     ]
    },
    {
     "name": "stderr",
     "output_type": "stream",
     "text": [
      "/Users/shivaramakrishna/Library/Python/3.9/lib/python/site-packages/scvi/module/_vae.py:458: UserWarning: The value argument must be within the support of the distribution\n",
      "  reconst_loss = -generative_outputs[\"px\"].log_prob(x).sum(-1)\n",
      "/Users/shivaramakrishna/Library/Python/3.9/lib/python/site-packages/scvi/module/_vae.py:458: UserWarning: The value argument must be within the support of the distribution\n",
      "  reconst_loss = -generative_outputs[\"px\"].log_prob(x).sum(-1)\n"
     ]
    },
    {
     "name": "stdout",
     "output_type": "stream",
     "text": [
      "Epoch 231/388:  59%|█████▉    | 230/388 [12:02<08:41,  3.30s/it, v_num=1, train_loss_step=269, train_loss_epoch=247]"
     ]
    },
    {
     "name": "stderr",
     "output_type": "stream",
     "text": [
      "/Users/shivaramakrishna/Library/Python/3.9/lib/python/site-packages/scvi/module/_vae.py:458: UserWarning: The value argument must be within the support of the distribution\n",
      "  reconst_loss = -generative_outputs[\"px\"].log_prob(x).sum(-1)\n",
      "/Users/shivaramakrishna/Library/Python/3.9/lib/python/site-packages/scvi/module/_vae.py:458: UserWarning: The value argument must be within the support of the distribution\n",
      "  reconst_loss = -generative_outputs[\"px\"].log_prob(x).sum(-1)\n"
     ]
    },
    {
     "name": "stdout",
     "output_type": "stream",
     "text": [
      "Epoch 232/388:  60%|█████▉    | 231/388 [12:05<08:42,  3.33s/it, v_num=1, train_loss_step=276, train_loss_epoch=247]"
     ]
    },
    {
     "name": "stderr",
     "output_type": "stream",
     "text": [
      "/Users/shivaramakrishna/Library/Python/3.9/lib/python/site-packages/scvi/module/_vae.py:458: UserWarning: The value argument must be within the support of the distribution\n",
      "  reconst_loss = -generative_outputs[\"px\"].log_prob(x).sum(-1)\n",
      "/Users/shivaramakrishna/Library/Python/3.9/lib/python/site-packages/scvi/module/_vae.py:458: UserWarning: The value argument must be within the support of the distribution\n",
      "  reconst_loss = -generative_outputs[\"px\"].log_prob(x).sum(-1)\n"
     ]
    },
    {
     "name": "stdout",
     "output_type": "stream",
     "text": [
      "Epoch 233/388:  60%|█████▉    | 232/388 [12:09<08:42,  3.35s/it, v_num=1, train_loss_step=230, train_loss_epoch=247]"
     ]
    },
    {
     "name": "stderr",
     "output_type": "stream",
     "text": [
      "/Users/shivaramakrishna/Library/Python/3.9/lib/python/site-packages/scvi/module/_vae.py:458: UserWarning: The value argument must be within the support of the distribution\n",
      "  reconst_loss = -generative_outputs[\"px\"].log_prob(x).sum(-1)\n",
      "/Users/shivaramakrishna/Library/Python/3.9/lib/python/site-packages/scvi/module/_vae.py:458: UserWarning: The value argument must be within the support of the distribution\n",
      "  reconst_loss = -generative_outputs[\"px\"].log_prob(x).sum(-1)\n"
     ]
    },
    {
     "name": "stdout",
     "output_type": "stream",
     "text": [
      "Epoch 234/388:  60%|██████    | 233/388 [12:12<08:37,  3.34s/it, v_num=1, train_loss_step=291, train_loss_epoch=247]"
     ]
    },
    {
     "name": "stderr",
     "output_type": "stream",
     "text": [
      "/Users/shivaramakrishna/Library/Python/3.9/lib/python/site-packages/scvi/module/_vae.py:458: UserWarning: The value argument must be within the support of the distribution\n",
      "  reconst_loss = -generative_outputs[\"px\"].log_prob(x).sum(-1)\n",
      "/Users/shivaramakrishna/Library/Python/3.9/lib/python/site-packages/scvi/module/_vae.py:458: UserWarning: The value argument must be within the support of the distribution\n",
      "  reconst_loss = -generative_outputs[\"px\"].log_prob(x).sum(-1)\n"
     ]
    },
    {
     "name": "stdout",
     "output_type": "stream",
     "text": [
      "Epoch 235/388:  60%|██████    | 234/388 [12:15<08:34,  3.34s/it, v_num=1, train_loss_step=258, train_loss_epoch=248]"
     ]
    },
    {
     "name": "stderr",
     "output_type": "stream",
     "text": [
      "/Users/shivaramakrishna/Library/Python/3.9/lib/python/site-packages/scvi/module/_vae.py:458: UserWarning: The value argument must be within the support of the distribution\n",
      "  reconst_loss = -generative_outputs[\"px\"].log_prob(x).sum(-1)\n",
      "/Users/shivaramakrishna/Library/Python/3.9/lib/python/site-packages/scvi/module/_vae.py:458: UserWarning: The value argument must be within the support of the distribution\n",
      "  reconst_loss = -generative_outputs[\"px\"].log_prob(x).sum(-1)\n"
     ]
    },
    {
     "name": "stdout",
     "output_type": "stream",
     "text": [
      "Epoch 236/388:  61%|██████    | 235/388 [12:19<08:29,  3.33s/it, v_num=1, train_loss_step=247, train_loss_epoch=248]"
     ]
    },
    {
     "name": "stderr",
     "output_type": "stream",
     "text": [
      "/Users/shivaramakrishna/Library/Python/3.9/lib/python/site-packages/scvi/module/_vae.py:458: UserWarning: The value argument must be within the support of the distribution\n",
      "  reconst_loss = -generative_outputs[\"px\"].log_prob(x).sum(-1)\n",
      "/Users/shivaramakrishna/Library/Python/3.9/lib/python/site-packages/scvi/module/_vae.py:458: UserWarning: The value argument must be within the support of the distribution\n",
      "  reconst_loss = -generative_outputs[\"px\"].log_prob(x).sum(-1)\n"
     ]
    },
    {
     "name": "stdout",
     "output_type": "stream",
     "text": [
      "Epoch 237/388:  61%|██████    | 236/388 [12:22<08:24,  3.32s/it, v_num=1, train_loss_step=297, train_loss_epoch=248]"
     ]
    },
    {
     "name": "stderr",
     "output_type": "stream",
     "text": [
      "/Users/shivaramakrishna/Library/Python/3.9/lib/python/site-packages/scvi/module/_vae.py:458: UserWarning: The value argument must be within the support of the distribution\n",
      "  reconst_loss = -generative_outputs[\"px\"].log_prob(x).sum(-1)\n",
      "/Users/shivaramakrishna/Library/Python/3.9/lib/python/site-packages/scvi/module/_vae.py:458: UserWarning: The value argument must be within the support of the distribution\n",
      "  reconst_loss = -generative_outputs[\"px\"].log_prob(x).sum(-1)\n"
     ]
    },
    {
     "name": "stdout",
     "output_type": "stream",
     "text": [
      "Epoch 238/388:  61%|██████    | 237/388 [12:25<08:24,  3.34s/it, v_num=1, train_loss_step=281, train_loss_epoch=248]"
     ]
    },
    {
     "name": "stderr",
     "output_type": "stream",
     "text": [
      "/Users/shivaramakrishna/Library/Python/3.9/lib/python/site-packages/scvi/module/_vae.py:458: UserWarning: The value argument must be within the support of the distribution\n",
      "  reconst_loss = -generative_outputs[\"px\"].log_prob(x).sum(-1)\n",
      "/Users/shivaramakrishna/Library/Python/3.9/lib/python/site-packages/scvi/module/_vae.py:458: UserWarning: The value argument must be within the support of the distribution\n",
      "  reconst_loss = -generative_outputs[\"px\"].log_prob(x).sum(-1)\n"
     ]
    },
    {
     "name": "stdout",
     "output_type": "stream",
     "text": [
      "Epoch 239/388:  61%|██████▏   | 238/388 [12:29<08:20,  3.34s/it, v_num=1, train_loss_step=291, train_loss_epoch=248]"
     ]
    },
    {
     "name": "stderr",
     "output_type": "stream",
     "text": [
      "/Users/shivaramakrishna/Library/Python/3.9/lib/python/site-packages/scvi/module/_vae.py:458: UserWarning: The value argument must be within the support of the distribution\n",
      "  reconst_loss = -generative_outputs[\"px\"].log_prob(x).sum(-1)\n",
      "/Users/shivaramakrishna/Library/Python/3.9/lib/python/site-packages/scvi/module/_vae.py:458: UserWarning: The value argument must be within the support of the distribution\n",
      "  reconst_loss = -generative_outputs[\"px\"].log_prob(x).sum(-1)\n"
     ]
    },
    {
     "name": "stdout",
     "output_type": "stream",
     "text": [
      "Epoch 240/388:  62%|██████▏   | 239/388 [12:32<08:02,  3.24s/it, v_num=1, train_loss_step=312, train_loss_epoch=248]"
     ]
    },
    {
     "name": "stderr",
     "output_type": "stream",
     "text": [
      "/Users/shivaramakrishna/Library/Python/3.9/lib/python/site-packages/scvi/module/_vae.py:458: UserWarning: The value argument must be within the support of the distribution\n",
      "  reconst_loss = -generative_outputs[\"px\"].log_prob(x).sum(-1)\n",
      "/Users/shivaramakrishna/Library/Python/3.9/lib/python/site-packages/scvi/module/_vae.py:458: UserWarning: The value argument must be within the support of the distribution\n",
      "  reconst_loss = -generative_outputs[\"px\"].log_prob(x).sum(-1)\n"
     ]
    },
    {
     "name": "stdout",
     "output_type": "stream",
     "text": [
      "Epoch 241/388:  62%|██████▏   | 240/388 [12:35<08:01,  3.25s/it, v_num=1, train_loss_step=299, train_loss_epoch=248]"
     ]
    },
    {
     "name": "stderr",
     "output_type": "stream",
     "text": [
      "/Users/shivaramakrishna/Library/Python/3.9/lib/python/site-packages/scvi/module/_vae.py:458: UserWarning: The value argument must be within the support of the distribution\n",
      "  reconst_loss = -generative_outputs[\"px\"].log_prob(x).sum(-1)\n",
      "/Users/shivaramakrishna/Library/Python/3.9/lib/python/site-packages/scvi/module/_vae.py:458: UserWarning: The value argument must be within the support of the distribution\n",
      "  reconst_loss = -generative_outputs[\"px\"].log_prob(x).sum(-1)\n"
     ]
    },
    {
     "name": "stdout",
     "output_type": "stream",
     "text": [
      "Epoch 242/388:  62%|██████▏   | 241/388 [12:38<08:01,  3.27s/it, v_num=1, train_loss_step=269, train_loss_epoch=248]"
     ]
    },
    {
     "name": "stderr",
     "output_type": "stream",
     "text": [
      "/Users/shivaramakrishna/Library/Python/3.9/lib/python/site-packages/scvi/module/_vae.py:458: UserWarning: The value argument must be within the support of the distribution\n",
      "  reconst_loss = -generative_outputs[\"px\"].log_prob(x).sum(-1)\n",
      "/Users/shivaramakrishna/Library/Python/3.9/lib/python/site-packages/scvi/module/_vae.py:458: UserWarning: The value argument must be within the support of the distribution\n",
      "  reconst_loss = -generative_outputs[\"px\"].log_prob(x).sum(-1)\n"
     ]
    },
    {
     "name": "stdout",
     "output_type": "stream",
     "text": [
      "Epoch 243/388:  62%|██████▏   | 242/388 [12:41<08:01,  3.29s/it, v_num=1, train_loss_step=240, train_loss_epoch=248]"
     ]
    },
    {
     "name": "stderr",
     "output_type": "stream",
     "text": [
      "/Users/shivaramakrishna/Library/Python/3.9/lib/python/site-packages/scvi/module/_vae.py:458: UserWarning: The value argument must be within the support of the distribution\n",
      "  reconst_loss = -generative_outputs[\"px\"].log_prob(x).sum(-1)\n",
      "/Users/shivaramakrishna/Library/Python/3.9/lib/python/site-packages/scvi/module/_vae.py:458: UserWarning: The value argument must be within the support of the distribution\n",
      "  reconst_loss = -generative_outputs[\"px\"].log_prob(x).sum(-1)\n"
     ]
    },
    {
     "name": "stdout",
     "output_type": "stream",
     "text": [
      "Epoch 244/388:  63%|██████▎   | 243/388 [12:45<08:00,  3.32s/it, v_num=1, train_loss_step=257, train_loss_epoch=248]"
     ]
    },
    {
     "name": "stderr",
     "output_type": "stream",
     "text": [
      "/Users/shivaramakrishna/Library/Python/3.9/lib/python/site-packages/scvi/module/_vae.py:458: UserWarning: The value argument must be within the support of the distribution\n",
      "  reconst_loss = -generative_outputs[\"px\"].log_prob(x).sum(-1)\n",
      "/Users/shivaramakrishna/Library/Python/3.9/lib/python/site-packages/scvi/module/_vae.py:458: UserWarning: The value argument must be within the support of the distribution\n",
      "  reconst_loss = -generative_outputs[\"px\"].log_prob(x).sum(-1)\n"
     ]
    },
    {
     "name": "stdout",
     "output_type": "stream",
     "text": [
      "Epoch 245/388:  63%|██████▎   | 244/388 [12:48<07:59,  3.33s/it, v_num=1, train_loss_step=259, train_loss_epoch=248]"
     ]
    },
    {
     "name": "stderr",
     "output_type": "stream",
     "text": [
      "/Users/shivaramakrishna/Library/Python/3.9/lib/python/site-packages/scvi/module/_vae.py:458: UserWarning: The value argument must be within the support of the distribution\n",
      "  reconst_loss = -generative_outputs[\"px\"].log_prob(x).sum(-1)\n",
      "/Users/shivaramakrishna/Library/Python/3.9/lib/python/site-packages/scvi/module/_vae.py:458: UserWarning: The value argument must be within the support of the distribution\n",
      "  reconst_loss = -generative_outputs[\"px\"].log_prob(x).sum(-1)\n"
     ]
    },
    {
     "name": "stdout",
     "output_type": "stream",
     "text": [
      "Epoch 246/388:  63%|██████▎   | 245/388 [12:52<07:53,  3.31s/it, v_num=1, train_loss_step=309, train_loss_epoch=248]"
     ]
    },
    {
     "name": "stderr",
     "output_type": "stream",
     "text": [
      "/Users/shivaramakrishna/Library/Python/3.9/lib/python/site-packages/scvi/module/_vae.py:458: UserWarning: The value argument must be within the support of the distribution\n",
      "  reconst_loss = -generative_outputs[\"px\"].log_prob(x).sum(-1)\n",
      "/Users/shivaramakrishna/Library/Python/3.9/lib/python/site-packages/scvi/module/_vae.py:458: UserWarning: The value argument must be within the support of the distribution\n",
      "  reconst_loss = -generative_outputs[\"px\"].log_prob(x).sum(-1)\n"
     ]
    },
    {
     "name": "stdout",
     "output_type": "stream",
     "text": [
      "Epoch 247/388:  63%|██████▎   | 246/388 [12:55<07:58,  3.37s/it, v_num=1, train_loss_step=294, train_loss_epoch=248]"
     ]
    },
    {
     "name": "stderr",
     "output_type": "stream",
     "text": [
      "/Users/shivaramakrishna/Library/Python/3.9/lib/python/site-packages/scvi/module/_vae.py:458: UserWarning: The value argument must be within the support of the distribution\n",
      "  reconst_loss = -generative_outputs[\"px\"].log_prob(x).sum(-1)\n",
      "/Users/shivaramakrishna/Library/Python/3.9/lib/python/site-packages/scvi/module/_vae.py:458: UserWarning: The value argument must be within the support of the distribution\n",
      "  reconst_loss = -generative_outputs[\"px\"].log_prob(x).sum(-1)\n"
     ]
    },
    {
     "name": "stdout",
     "output_type": "stream",
     "text": [
      "Epoch 248/388:  64%|██████▎   | 247/388 [12:58<07:50,  3.34s/it, v_num=1, train_loss_step=223, train_loss_epoch=248]"
     ]
    },
    {
     "name": "stderr",
     "output_type": "stream",
     "text": [
      "/Users/shivaramakrishna/Library/Python/3.9/lib/python/site-packages/scvi/module/_vae.py:458: UserWarning: The value argument must be within the support of the distribution\n",
      "  reconst_loss = -generative_outputs[\"px\"].log_prob(x).sum(-1)\n",
      "/Users/shivaramakrishna/Library/Python/3.9/lib/python/site-packages/scvi/module/_vae.py:458: UserWarning: The value argument must be within the support of the distribution\n",
      "  reconst_loss = -generative_outputs[\"px\"].log_prob(x).sum(-1)\n"
     ]
    },
    {
     "name": "stdout",
     "output_type": "stream",
     "text": [
      "Epoch 249/388:  64%|██████▍   | 248/388 [13:02<07:48,  3.35s/it, v_num=1, train_loss_step=253, train_loss_epoch=248]"
     ]
    },
    {
     "name": "stderr",
     "output_type": "stream",
     "text": [
      "/Users/shivaramakrishna/Library/Python/3.9/lib/python/site-packages/scvi/module/_vae.py:458: UserWarning: The value argument must be within the support of the distribution\n",
      "  reconst_loss = -generative_outputs[\"px\"].log_prob(x).sum(-1)\n",
      "/Users/shivaramakrishna/Library/Python/3.9/lib/python/site-packages/scvi/module/_vae.py:458: UserWarning: The value argument must be within the support of the distribution\n",
      "  reconst_loss = -generative_outputs[\"px\"].log_prob(x).sum(-1)\n"
     ]
    },
    {
     "name": "stdout",
     "output_type": "stream",
     "text": [
      "Epoch 250/388:  64%|██████▍   | 249/388 [13:05<07:47,  3.36s/it, v_num=1, train_loss_step=255, train_loss_epoch=248]"
     ]
    },
    {
     "name": "stderr",
     "output_type": "stream",
     "text": [
      "/Users/shivaramakrishna/Library/Python/3.9/lib/python/site-packages/scvi/module/_vae.py:458: UserWarning: The value argument must be within the support of the distribution\n",
      "  reconst_loss = -generative_outputs[\"px\"].log_prob(x).sum(-1)\n",
      "/Users/shivaramakrishna/Library/Python/3.9/lib/python/site-packages/scvi/module/_vae.py:458: UserWarning: The value argument must be within the support of the distribution\n",
      "  reconst_loss = -generative_outputs[\"px\"].log_prob(x).sum(-1)\n"
     ]
    },
    {
     "name": "stdout",
     "output_type": "stream",
     "text": [
      "Epoch 251/388:  64%|██████▍   | 250/388 [13:08<07:39,  3.33s/it, v_num=1, train_loss_step=214, train_loss_epoch=248]"
     ]
    },
    {
     "name": "stderr",
     "output_type": "stream",
     "text": [
      "/Users/shivaramakrishna/Library/Python/3.9/lib/python/site-packages/scvi/module/_vae.py:458: UserWarning: The value argument must be within the support of the distribution\n",
      "  reconst_loss = -generative_outputs[\"px\"].log_prob(x).sum(-1)\n",
      "/Users/shivaramakrishna/Library/Python/3.9/lib/python/site-packages/scvi/module/_vae.py:458: UserWarning: The value argument must be within the support of the distribution\n",
      "  reconst_loss = -generative_outputs[\"px\"].log_prob(x).sum(-1)\n"
     ]
    },
    {
     "name": "stdout",
     "output_type": "stream",
     "text": [
      "Epoch 252/388:  65%|██████▍   | 251/388 [13:12<07:34,  3.32s/it, v_num=1, train_loss_step=235, train_loss_epoch=248]"
     ]
    },
    {
     "name": "stderr",
     "output_type": "stream",
     "text": [
      "/Users/shivaramakrishna/Library/Python/3.9/lib/python/site-packages/scvi/module/_vae.py:458: UserWarning: The value argument must be within the support of the distribution\n",
      "  reconst_loss = -generative_outputs[\"px\"].log_prob(x).sum(-1)\n",
      "/Users/shivaramakrishna/Library/Python/3.9/lib/python/site-packages/scvi/module/_vae.py:458: UserWarning: The value argument must be within the support of the distribution\n",
      "  reconst_loss = -generative_outputs[\"px\"].log_prob(x).sum(-1)\n"
     ]
    },
    {
     "name": "stdout",
     "output_type": "stream",
     "text": [
      "Epoch 253/388:  65%|██████▍   | 252/388 [13:15<07:30,  3.31s/it, v_num=1, train_loss_step=292, train_loss_epoch=248]"
     ]
    },
    {
     "name": "stderr",
     "output_type": "stream",
     "text": [
      "/Users/shivaramakrishna/Library/Python/3.9/lib/python/site-packages/scvi/module/_vae.py:458: UserWarning: The value argument must be within the support of the distribution\n",
      "  reconst_loss = -generative_outputs[\"px\"].log_prob(x).sum(-1)\n",
      "/Users/shivaramakrishna/Library/Python/3.9/lib/python/site-packages/scvi/module/_vae.py:458: UserWarning: The value argument must be within the support of the distribution\n",
      "  reconst_loss = -generative_outputs[\"px\"].log_prob(x).sum(-1)\n"
     ]
    },
    {
     "name": "stdout",
     "output_type": "stream",
     "text": [
      "Epoch 254/388:  65%|██████▌   | 253/388 [13:18<07:16,  3.23s/it, v_num=1, train_loss_step=265, train_loss_epoch=248]"
     ]
    },
    {
     "name": "stderr",
     "output_type": "stream",
     "text": [
      "/Users/shivaramakrishna/Library/Python/3.9/lib/python/site-packages/scvi/module/_vae.py:458: UserWarning: The value argument must be within the support of the distribution\n",
      "  reconst_loss = -generative_outputs[\"px\"].log_prob(x).sum(-1)\n",
      "/Users/shivaramakrishna/Library/Python/3.9/lib/python/site-packages/scvi/module/_vae.py:458: UserWarning: The value argument must be within the support of the distribution\n",
      "  reconst_loss = -generative_outputs[\"px\"].log_prob(x).sum(-1)\n"
     ]
    },
    {
     "name": "stdout",
     "output_type": "stream",
     "text": [
      "Epoch 255/388:  65%|██████▌   | 254/388 [13:21<06:59,  3.13s/it, v_num=1, train_loss_step=228, train_loss_epoch=248]"
     ]
    },
    {
     "name": "stderr",
     "output_type": "stream",
     "text": [
      "/Users/shivaramakrishna/Library/Python/3.9/lib/python/site-packages/scvi/module/_vae.py:458: UserWarning: The value argument must be within the support of the distribution\n",
      "  reconst_loss = -generative_outputs[\"px\"].log_prob(x).sum(-1)\n",
      "/Users/shivaramakrishna/Library/Python/3.9/lib/python/site-packages/scvi/module/_vae.py:458: UserWarning: The value argument must be within the support of the distribution\n",
      "  reconst_loss = -generative_outputs[\"px\"].log_prob(x).sum(-1)\n"
     ]
    },
    {
     "name": "stdout",
     "output_type": "stream",
     "text": [
      "Epoch 256/388:  66%|██████▌   | 255/388 [13:24<06:50,  3.08s/it, v_num=1, train_loss_step=230, train_loss_epoch=248]"
     ]
    },
    {
     "name": "stderr",
     "output_type": "stream",
     "text": [
      "/Users/shivaramakrishna/Library/Python/3.9/lib/python/site-packages/scvi/module/_vae.py:458: UserWarning: The value argument must be within the support of the distribution\n",
      "  reconst_loss = -generative_outputs[\"px\"].log_prob(x).sum(-1)\n",
      "/Users/shivaramakrishna/Library/Python/3.9/lib/python/site-packages/scvi/module/_vae.py:458: UserWarning: The value argument must be within the support of the distribution\n",
      "  reconst_loss = -generative_outputs[\"px\"].log_prob(x).sum(-1)\n"
     ]
    },
    {
     "name": "stdout",
     "output_type": "stream",
     "text": [
      "Epoch 257/388:  66%|██████▌   | 256/388 [13:27<06:40,  3.04s/it, v_num=1, train_loss_step=257, train_loss_epoch=248]"
     ]
    },
    {
     "name": "stderr",
     "output_type": "stream",
     "text": [
      "/Users/shivaramakrishna/Library/Python/3.9/lib/python/site-packages/scvi/module/_vae.py:458: UserWarning: The value argument must be within the support of the distribution\n",
      "  reconst_loss = -generative_outputs[\"px\"].log_prob(x).sum(-1)\n",
      "/Users/shivaramakrishna/Library/Python/3.9/lib/python/site-packages/scvi/module/_vae.py:458: UserWarning: The value argument must be within the support of the distribution\n",
      "  reconst_loss = -generative_outputs[\"px\"].log_prob(x).sum(-1)\n"
     ]
    },
    {
     "name": "stdout",
     "output_type": "stream",
     "text": [
      "Epoch 258/388:  66%|██████▌   | 257/388 [13:30<06:36,  3.03s/it, v_num=1, train_loss_step=226, train_loss_epoch=248]"
     ]
    },
    {
     "name": "stderr",
     "output_type": "stream",
     "text": [
      "/Users/shivaramakrishna/Library/Python/3.9/lib/python/site-packages/scvi/module/_vae.py:458: UserWarning: The value argument must be within the support of the distribution\n",
      "  reconst_loss = -generative_outputs[\"px\"].log_prob(x).sum(-1)\n",
      "/Users/shivaramakrishna/Library/Python/3.9/lib/python/site-packages/scvi/module/_vae.py:458: UserWarning: The value argument must be within the support of the distribution\n",
      "  reconst_loss = -generative_outputs[\"px\"].log_prob(x).sum(-1)\n"
     ]
    },
    {
     "name": "stdout",
     "output_type": "stream",
     "text": [
      "Epoch 259/388:  66%|██████▋   | 258/388 [13:33<06:28,  2.99s/it, v_num=1, train_loss_step=238, train_loss_epoch=248]"
     ]
    },
    {
     "name": "stderr",
     "output_type": "stream",
     "text": [
      "/Users/shivaramakrishna/Library/Python/3.9/lib/python/site-packages/scvi/module/_vae.py:458: UserWarning: The value argument must be within the support of the distribution\n",
      "  reconst_loss = -generative_outputs[\"px\"].log_prob(x).sum(-1)\n",
      "/Users/shivaramakrishna/Library/Python/3.9/lib/python/site-packages/scvi/module/_vae.py:458: UserWarning: The value argument must be within the support of the distribution\n",
      "  reconst_loss = -generative_outputs[\"px\"].log_prob(x).sum(-1)\n"
     ]
    },
    {
     "name": "stdout",
     "output_type": "stream",
     "text": [
      "Epoch 260/388:  67%|██████▋   | 259/388 [13:36<06:22,  2.96s/it, v_num=1, train_loss_step=258, train_loss_epoch=248]"
     ]
    },
    {
     "name": "stderr",
     "output_type": "stream",
     "text": [
      "/Users/shivaramakrishna/Library/Python/3.9/lib/python/site-packages/scvi/module/_vae.py:458: UserWarning: The value argument must be within the support of the distribution\n",
      "  reconst_loss = -generative_outputs[\"px\"].log_prob(x).sum(-1)\n",
      "/Users/shivaramakrishna/Library/Python/3.9/lib/python/site-packages/scvi/module/_vae.py:458: UserWarning: The value argument must be within the support of the distribution\n",
      "  reconst_loss = -generative_outputs[\"px\"].log_prob(x).sum(-1)\n"
     ]
    },
    {
     "name": "stdout",
     "output_type": "stream",
     "text": [
      "Epoch 261/388:  67%|██████▋   | 260/388 [13:38<06:17,  2.95s/it, v_num=1, train_loss_step=300, train_loss_epoch=248]"
     ]
    },
    {
     "name": "stderr",
     "output_type": "stream",
     "text": [
      "/Users/shivaramakrishna/Library/Python/3.9/lib/python/site-packages/scvi/module/_vae.py:458: UserWarning: The value argument must be within the support of the distribution\n",
      "  reconst_loss = -generative_outputs[\"px\"].log_prob(x).sum(-1)\n",
      "/Users/shivaramakrishna/Library/Python/3.9/lib/python/site-packages/scvi/module/_vae.py:458: UserWarning: The value argument must be within the support of the distribution\n",
      "  reconst_loss = -generative_outputs[\"px\"].log_prob(x).sum(-1)\n"
     ]
    },
    {
     "name": "stdout",
     "output_type": "stream",
     "text": [
      "Epoch 262/388:  67%|██████▋   | 261/388 [13:41<06:11,  2.92s/it, v_num=1, train_loss_step=338, train_loss_epoch=248]"
     ]
    },
    {
     "name": "stderr",
     "output_type": "stream",
     "text": [
      "/Users/shivaramakrishna/Library/Python/3.9/lib/python/site-packages/scvi/module/_vae.py:458: UserWarning: The value argument must be within the support of the distribution\n",
      "  reconst_loss = -generative_outputs[\"px\"].log_prob(x).sum(-1)\n",
      "/Users/shivaramakrishna/Library/Python/3.9/lib/python/site-packages/scvi/module/_vae.py:458: UserWarning: The value argument must be within the support of the distribution\n",
      "  reconst_loss = -generative_outputs[\"px\"].log_prob(x).sum(-1)\n"
     ]
    },
    {
     "name": "stdout",
     "output_type": "stream",
     "text": [
      "Epoch 263/388:  68%|██████▊   | 262/388 [13:44<06:11,  2.95s/it, v_num=1, train_loss_step=265, train_loss_epoch=249]"
     ]
    },
    {
     "name": "stderr",
     "output_type": "stream",
     "text": [
      "/Users/shivaramakrishna/Library/Python/3.9/lib/python/site-packages/scvi/module/_vae.py:458: UserWarning: The value argument must be within the support of the distribution\n",
      "  reconst_loss = -generative_outputs[\"px\"].log_prob(x).sum(-1)\n",
      "/Users/shivaramakrishna/Library/Python/3.9/lib/python/site-packages/scvi/module/_vae.py:458: UserWarning: The value argument must be within the support of the distribution\n",
      "  reconst_loss = -generative_outputs[\"px\"].log_prob(x).sum(-1)\n"
     ]
    },
    {
     "name": "stdout",
     "output_type": "stream",
     "text": [
      "Epoch 264/388:  68%|██████▊   | 263/388 [13:47<06:07,  2.94s/it, v_num=1, train_loss_step=232, train_loss_epoch=248]"
     ]
    },
    {
     "name": "stderr",
     "output_type": "stream",
     "text": [
      "/Users/shivaramakrishna/Library/Python/3.9/lib/python/site-packages/scvi/module/_vae.py:458: UserWarning: The value argument must be within the support of the distribution\n",
      "  reconst_loss = -generative_outputs[\"px\"].log_prob(x).sum(-1)\n",
      "/Users/shivaramakrishna/Library/Python/3.9/lib/python/site-packages/scvi/module/_vae.py:458: UserWarning: The value argument must be within the support of the distribution\n",
      "  reconst_loss = -generative_outputs[\"px\"].log_prob(x).sum(-1)\n"
     ]
    },
    {
     "name": "stdout",
     "output_type": "stream",
     "text": [
      "Epoch 265/388:  68%|██████▊   | 264/388 [13:50<06:05,  2.95s/it, v_num=1, train_loss_step=255, train_loss_epoch=248]"
     ]
    },
    {
     "name": "stderr",
     "output_type": "stream",
     "text": [
      "/Users/shivaramakrishna/Library/Python/3.9/lib/python/site-packages/scvi/module/_vae.py:458: UserWarning: The value argument must be within the support of the distribution\n",
      "  reconst_loss = -generative_outputs[\"px\"].log_prob(x).sum(-1)\n",
      "/Users/shivaramakrishna/Library/Python/3.9/lib/python/site-packages/scvi/module/_vae.py:458: UserWarning: The value argument must be within the support of the distribution\n",
      "  reconst_loss = -generative_outputs[\"px\"].log_prob(x).sum(-1)\n"
     ]
    },
    {
     "name": "stdout",
     "output_type": "stream",
     "text": [
      "Epoch 266/388:  68%|██████▊   | 265/388 [13:53<06:05,  2.97s/it, v_num=1, train_loss_step=235, train_loss_epoch=248]"
     ]
    },
    {
     "name": "stderr",
     "output_type": "stream",
     "text": [
      "/Users/shivaramakrishna/Library/Python/3.9/lib/python/site-packages/scvi/module/_vae.py:458: UserWarning: The value argument must be within the support of the distribution\n",
      "  reconst_loss = -generative_outputs[\"px\"].log_prob(x).sum(-1)\n",
      "/Users/shivaramakrishna/Library/Python/3.9/lib/python/site-packages/scvi/module/_vae.py:458: UserWarning: The value argument must be within the support of the distribution\n",
      "  reconst_loss = -generative_outputs[\"px\"].log_prob(x).sum(-1)\n"
     ]
    },
    {
     "name": "stdout",
     "output_type": "stream",
     "text": [
      "Epoch 267/388:  69%|██████▊   | 266/388 [13:56<06:01,  2.96s/it, v_num=1, train_loss_step=243, train_loss_epoch=248]"
     ]
    },
    {
     "name": "stderr",
     "output_type": "stream",
     "text": [
      "/Users/shivaramakrishna/Library/Python/3.9/lib/python/site-packages/scvi/module/_vae.py:458: UserWarning: The value argument must be within the support of the distribution\n",
      "  reconst_loss = -generative_outputs[\"px\"].log_prob(x).sum(-1)\n",
      "/Users/shivaramakrishna/Library/Python/3.9/lib/python/site-packages/scvi/module/_vae.py:458: UserWarning: The value argument must be within the support of the distribution\n",
      "  reconst_loss = -generative_outputs[\"px\"].log_prob(x).sum(-1)\n"
     ]
    },
    {
     "name": "stdout",
     "output_type": "stream",
     "text": [
      "Epoch 268/388:  69%|██████▉   | 267/388 [13:59<05:56,  2.95s/it, v_num=1, train_loss_step=298, train_loss_epoch=249]"
     ]
    },
    {
     "name": "stderr",
     "output_type": "stream",
     "text": [
      "/Users/shivaramakrishna/Library/Python/3.9/lib/python/site-packages/scvi/module/_vae.py:458: UserWarning: The value argument must be within the support of the distribution\n",
      "  reconst_loss = -generative_outputs[\"px\"].log_prob(x).sum(-1)\n",
      "/Users/shivaramakrishna/Library/Python/3.9/lib/python/site-packages/scvi/module/_vae.py:458: UserWarning: The value argument must be within the support of the distribution\n",
      "  reconst_loss = -generative_outputs[\"px\"].log_prob(x).sum(-1)\n"
     ]
    },
    {
     "name": "stdout",
     "output_type": "stream",
     "text": [
      "Epoch 269/388:  69%|██████▉   | 268/388 [14:02<05:53,  2.95s/it, v_num=1, train_loss_step=261, train_loss_epoch=249]"
     ]
    },
    {
     "name": "stderr",
     "output_type": "stream",
     "text": [
      "/Users/shivaramakrishna/Library/Python/3.9/lib/python/site-packages/scvi/module/_vae.py:458: UserWarning: The value argument must be within the support of the distribution\n",
      "  reconst_loss = -generative_outputs[\"px\"].log_prob(x).sum(-1)\n",
      "/Users/shivaramakrishna/Library/Python/3.9/lib/python/site-packages/scvi/module/_vae.py:458: UserWarning: The value argument must be within the support of the distribution\n",
      "  reconst_loss = -generative_outputs[\"px\"].log_prob(x).sum(-1)\n"
     ]
    },
    {
     "name": "stdout",
     "output_type": "stream",
     "text": [
      "Epoch 270/388:  69%|██████▉   | 269/388 [14:05<05:48,  2.93s/it, v_num=1, train_loss_step=285, train_loss_epoch=249]"
     ]
    },
    {
     "name": "stderr",
     "output_type": "stream",
     "text": [
      "/Users/shivaramakrishna/Library/Python/3.9/lib/python/site-packages/scvi/module/_vae.py:458: UserWarning: The value argument must be within the support of the distribution\n",
      "  reconst_loss = -generative_outputs[\"px\"].log_prob(x).sum(-1)\n",
      "/Users/shivaramakrishna/Library/Python/3.9/lib/python/site-packages/scvi/module/_vae.py:458: UserWarning: The value argument must be within the support of the distribution\n",
      "  reconst_loss = -generative_outputs[\"px\"].log_prob(x).sum(-1)\n"
     ]
    },
    {
     "name": "stdout",
     "output_type": "stream",
     "text": [
      "Epoch 271/388:  70%|██████▉   | 270/388 [14:08<05:45,  2.93s/it, v_num=1, train_loss_step=266, train_loss_epoch=249]"
     ]
    },
    {
     "name": "stderr",
     "output_type": "stream",
     "text": [
      "/Users/shivaramakrishna/Library/Python/3.9/lib/python/site-packages/scvi/module/_vae.py:458: UserWarning: The value argument must be within the support of the distribution\n",
      "  reconst_loss = -generative_outputs[\"px\"].log_prob(x).sum(-1)\n",
      "/Users/shivaramakrishna/Library/Python/3.9/lib/python/site-packages/scvi/module/_vae.py:458: UserWarning: The value argument must be within the support of the distribution\n",
      "  reconst_loss = -generative_outputs[\"px\"].log_prob(x).sum(-1)\n"
     ]
    },
    {
     "name": "stdout",
     "output_type": "stream",
     "text": [
      "Epoch 272/388:  70%|██████▉   | 271/388 [14:11<05:42,  2.93s/it, v_num=1, train_loss_step=271, train_loss_epoch=249]"
     ]
    },
    {
     "name": "stderr",
     "output_type": "stream",
     "text": [
      "/Users/shivaramakrishna/Library/Python/3.9/lib/python/site-packages/scvi/module/_vae.py:458: UserWarning: The value argument must be within the support of the distribution\n",
      "  reconst_loss = -generative_outputs[\"px\"].log_prob(x).sum(-1)\n",
      "/Users/shivaramakrishna/Library/Python/3.9/lib/python/site-packages/scvi/module/_vae.py:458: UserWarning: The value argument must be within the support of the distribution\n",
      "  reconst_loss = -generative_outputs[\"px\"].log_prob(x).sum(-1)\n"
     ]
    },
    {
     "name": "stdout",
     "output_type": "stream",
     "text": [
      "Epoch 273/388:  70%|███████   | 272/388 [14:14<05:40,  2.93s/it, v_num=1, train_loss_step=255, train_loss_epoch=249]"
     ]
    },
    {
     "name": "stderr",
     "output_type": "stream",
     "text": [
      "/Users/shivaramakrishna/Library/Python/3.9/lib/python/site-packages/scvi/module/_vae.py:458: UserWarning: The value argument must be within the support of the distribution\n",
      "  reconst_loss = -generative_outputs[\"px\"].log_prob(x).sum(-1)\n",
      "/Users/shivaramakrishna/Library/Python/3.9/lib/python/site-packages/scvi/module/_vae.py:458: UserWarning: The value argument must be within the support of the distribution\n",
      "  reconst_loss = -generative_outputs[\"px\"].log_prob(x).sum(-1)\n"
     ]
    },
    {
     "name": "stdout",
     "output_type": "stream",
     "text": [
      "Epoch 274/388:  70%|███████   | 273/388 [14:17<05:36,  2.93s/it, v_num=1, train_loss_step=323, train_loss_epoch=249]"
     ]
    },
    {
     "name": "stderr",
     "output_type": "stream",
     "text": [
      "/Users/shivaramakrishna/Library/Python/3.9/lib/python/site-packages/scvi/module/_vae.py:458: UserWarning: The value argument must be within the support of the distribution\n",
      "  reconst_loss = -generative_outputs[\"px\"].log_prob(x).sum(-1)\n",
      "/Users/shivaramakrishna/Library/Python/3.9/lib/python/site-packages/scvi/module/_vae.py:458: UserWarning: The value argument must be within the support of the distribution\n",
      "  reconst_loss = -generative_outputs[\"px\"].log_prob(x).sum(-1)\n"
     ]
    },
    {
     "name": "stdout",
     "output_type": "stream",
     "text": [
      "Epoch 275/388:  71%|███████   | 274/388 [14:20<05:32,  2.92s/it, v_num=1, train_loss_step=332, train_loss_epoch=249]"
     ]
    },
    {
     "name": "stderr",
     "output_type": "stream",
     "text": [
      "/Users/shivaramakrishna/Library/Python/3.9/lib/python/site-packages/scvi/module/_vae.py:458: UserWarning: The value argument must be within the support of the distribution\n",
      "  reconst_loss = -generative_outputs[\"px\"].log_prob(x).sum(-1)\n",
      "/Users/shivaramakrishna/Library/Python/3.9/lib/python/site-packages/scvi/module/_vae.py:458: UserWarning: The value argument must be within the support of the distribution\n",
      "  reconst_loss = -generative_outputs[\"px\"].log_prob(x).sum(-1)\n"
     ]
    },
    {
     "name": "stdout",
     "output_type": "stream",
     "text": [
      "Epoch 276/388:  71%|███████   | 275/388 [14:23<05:32,  2.94s/it, v_num=1, train_loss_step=265, train_loss_epoch=249]"
     ]
    },
    {
     "name": "stderr",
     "output_type": "stream",
     "text": [
      "/Users/shivaramakrishna/Library/Python/3.9/lib/python/site-packages/scvi/module/_vae.py:458: UserWarning: The value argument must be within the support of the distribution\n",
      "  reconst_loss = -generative_outputs[\"px\"].log_prob(x).sum(-1)\n",
      "/Users/shivaramakrishna/Library/Python/3.9/lib/python/site-packages/scvi/module/_vae.py:458: UserWarning: The value argument must be within the support of the distribution\n",
      "  reconst_loss = -generative_outputs[\"px\"].log_prob(x).sum(-1)\n"
     ]
    },
    {
     "name": "stdout",
     "output_type": "stream",
     "text": [
      "Epoch 277/388:  71%|███████   | 276/388 [14:25<05:28,  2.94s/it, v_num=1, train_loss_step=285, train_loss_epoch=249]"
     ]
    },
    {
     "name": "stderr",
     "output_type": "stream",
     "text": [
      "/Users/shivaramakrishna/Library/Python/3.9/lib/python/site-packages/scvi/module/_vae.py:458: UserWarning: The value argument must be within the support of the distribution\n",
      "  reconst_loss = -generative_outputs[\"px\"].log_prob(x).sum(-1)\n",
      "/Users/shivaramakrishna/Library/Python/3.9/lib/python/site-packages/scvi/module/_vae.py:458: UserWarning: The value argument must be within the support of the distribution\n",
      "  reconst_loss = -generative_outputs[\"px\"].log_prob(x).sum(-1)\n"
     ]
    },
    {
     "name": "stdout",
     "output_type": "stream",
     "text": [
      "Epoch 278/388:  71%|███████▏  | 277/388 [14:28<05:27,  2.95s/it, v_num=1, train_loss_step=289, train_loss_epoch=249]"
     ]
    },
    {
     "name": "stderr",
     "output_type": "stream",
     "text": [
      "/Users/shivaramakrishna/Library/Python/3.9/lib/python/site-packages/scvi/module/_vae.py:458: UserWarning: The value argument must be within the support of the distribution\n",
      "  reconst_loss = -generative_outputs[\"px\"].log_prob(x).sum(-1)\n",
      "/Users/shivaramakrishna/Library/Python/3.9/lib/python/site-packages/scvi/module/_vae.py:458: UserWarning: The value argument must be within the support of the distribution\n",
      "  reconst_loss = -generative_outputs[\"px\"].log_prob(x).sum(-1)\n"
     ]
    },
    {
     "name": "stdout",
     "output_type": "stream",
     "text": [
      "Epoch 279/388:  72%|███████▏  | 278/388 [14:31<05:25,  2.96s/it, v_num=1, train_loss_step=295, train_loss_epoch=249]"
     ]
    },
    {
     "name": "stderr",
     "output_type": "stream",
     "text": [
      "/Users/shivaramakrishna/Library/Python/3.9/lib/python/site-packages/scvi/module/_vae.py:458: UserWarning: The value argument must be within the support of the distribution\n",
      "  reconst_loss = -generative_outputs[\"px\"].log_prob(x).sum(-1)\n",
      "/Users/shivaramakrishna/Library/Python/3.9/lib/python/site-packages/scvi/module/_vae.py:458: UserWarning: The value argument must be within the support of the distribution\n",
      "  reconst_loss = -generative_outputs[\"px\"].log_prob(x).sum(-1)\n"
     ]
    },
    {
     "name": "stdout",
     "output_type": "stream",
     "text": [
      "Epoch 280/388:  72%|███████▏  | 279/388 [14:34<05:21,  2.95s/it, v_num=1, train_loss_step=250, train_loss_epoch=249]"
     ]
    },
    {
     "name": "stderr",
     "output_type": "stream",
     "text": [
      "/Users/shivaramakrishna/Library/Python/3.9/lib/python/site-packages/scvi/module/_vae.py:458: UserWarning: The value argument must be within the support of the distribution\n",
      "  reconst_loss = -generative_outputs[\"px\"].log_prob(x).sum(-1)\n",
      "/Users/shivaramakrishna/Library/Python/3.9/lib/python/site-packages/scvi/module/_vae.py:458: UserWarning: The value argument must be within the support of the distribution\n",
      "  reconst_loss = -generative_outputs[\"px\"].log_prob(x).sum(-1)\n"
     ]
    },
    {
     "name": "stdout",
     "output_type": "stream",
     "text": [
      "Epoch 281/388:  72%|███████▏  | 280/388 [14:37<05:18,  2.95s/it, v_num=1, train_loss_step=259, train_loss_epoch=249]"
     ]
    },
    {
     "name": "stderr",
     "output_type": "stream",
     "text": [
      "/Users/shivaramakrishna/Library/Python/3.9/lib/python/site-packages/scvi/module/_vae.py:458: UserWarning: The value argument must be within the support of the distribution\n",
      "  reconst_loss = -generative_outputs[\"px\"].log_prob(x).sum(-1)\n",
      "/Users/shivaramakrishna/Library/Python/3.9/lib/python/site-packages/scvi/module/_vae.py:458: UserWarning: The value argument must be within the support of the distribution\n",
      "  reconst_loss = -generative_outputs[\"px\"].log_prob(x).sum(-1)\n"
     ]
    },
    {
     "name": "stdout",
     "output_type": "stream",
     "text": [
      "Epoch 282/388:  72%|███████▏  | 281/388 [14:40<05:15,  2.95s/it, v_num=1, train_loss_step=282, train_loss_epoch=249]"
     ]
    },
    {
     "name": "stderr",
     "output_type": "stream",
     "text": [
      "/Users/shivaramakrishna/Library/Python/3.9/lib/python/site-packages/scvi/module/_vae.py:458: UserWarning: The value argument must be within the support of the distribution\n",
      "  reconst_loss = -generative_outputs[\"px\"].log_prob(x).sum(-1)\n",
      "/Users/shivaramakrishna/Library/Python/3.9/lib/python/site-packages/scvi/module/_vae.py:458: UserWarning: The value argument must be within the support of the distribution\n",
      "  reconst_loss = -generative_outputs[\"px\"].log_prob(x).sum(-1)\n"
     ]
    },
    {
     "name": "stdout",
     "output_type": "stream",
     "text": [
      "Epoch 283/388:  73%|███████▎  | 282/388 [14:43<05:12,  2.95s/it, v_num=1, train_loss_step=278, train_loss_epoch=249]"
     ]
    },
    {
     "name": "stderr",
     "output_type": "stream",
     "text": [
      "/Users/shivaramakrishna/Library/Python/3.9/lib/python/site-packages/scvi/module/_vae.py:458: UserWarning: The value argument must be within the support of the distribution\n",
      "  reconst_loss = -generative_outputs[\"px\"].log_prob(x).sum(-1)\n",
      "/Users/shivaramakrishna/Library/Python/3.9/lib/python/site-packages/scvi/module/_vae.py:458: UserWarning: The value argument must be within the support of the distribution\n",
      "  reconst_loss = -generative_outputs[\"px\"].log_prob(x).sum(-1)\n"
     ]
    },
    {
     "name": "stdout",
     "output_type": "stream",
     "text": [
      "Epoch 284/388:  73%|███████▎  | 283/388 [14:46<05:07,  2.92s/it, v_num=1, train_loss_step=251, train_loss_epoch=249]"
     ]
    },
    {
     "name": "stderr",
     "output_type": "stream",
     "text": [
      "/Users/shivaramakrishna/Library/Python/3.9/lib/python/site-packages/scvi/module/_vae.py:458: UserWarning: The value argument must be within the support of the distribution\n",
      "  reconst_loss = -generative_outputs[\"px\"].log_prob(x).sum(-1)\n",
      "/Users/shivaramakrishna/Library/Python/3.9/lib/python/site-packages/scvi/module/_vae.py:458: UserWarning: The value argument must be within the support of the distribution\n",
      "  reconst_loss = -generative_outputs[\"px\"].log_prob(x).sum(-1)\n"
     ]
    },
    {
     "name": "stdout",
     "output_type": "stream",
     "text": [
      "Epoch 285/388:  73%|███████▎  | 284/388 [14:49<05:04,  2.93s/it, v_num=1, train_loss_step=321, train_loss_epoch=249]"
     ]
    },
    {
     "name": "stderr",
     "output_type": "stream",
     "text": [
      "/Users/shivaramakrishna/Library/Python/3.9/lib/python/site-packages/scvi/module/_vae.py:458: UserWarning: The value argument must be within the support of the distribution\n",
      "  reconst_loss = -generative_outputs[\"px\"].log_prob(x).sum(-1)\n",
      "/Users/shivaramakrishna/Library/Python/3.9/lib/python/site-packages/scvi/module/_vae.py:458: UserWarning: The value argument must be within the support of the distribution\n",
      "  reconst_loss = -generative_outputs[\"px\"].log_prob(x).sum(-1)\n"
     ]
    },
    {
     "name": "stdout",
     "output_type": "stream",
     "text": [
      "Epoch 286/388:  73%|███████▎  | 285/388 [14:52<05:05,  2.97s/it, v_num=1, train_loss_step=265, train_loss_epoch=249]"
     ]
    },
    {
     "name": "stderr",
     "output_type": "stream",
     "text": [
      "/Users/shivaramakrishna/Library/Python/3.9/lib/python/site-packages/scvi/module/_vae.py:458: UserWarning: The value argument must be within the support of the distribution\n",
      "  reconst_loss = -generative_outputs[\"px\"].log_prob(x).sum(-1)\n",
      "/Users/shivaramakrishna/Library/Python/3.9/lib/python/site-packages/scvi/module/_vae.py:458: UserWarning: The value argument must be within the support of the distribution\n",
      "  reconst_loss = -generative_outputs[\"px\"].log_prob(x).sum(-1)\n"
     ]
    },
    {
     "name": "stdout",
     "output_type": "stream",
     "text": [
      "Epoch 287/388:  74%|███████▎  | 286/388 [14:55<05:03,  2.98s/it, v_num=1, train_loss_step=242, train_loss_epoch=249]"
     ]
    },
    {
     "name": "stderr",
     "output_type": "stream",
     "text": [
      "/Users/shivaramakrishna/Library/Python/3.9/lib/python/site-packages/scvi/module/_vae.py:458: UserWarning: The value argument must be within the support of the distribution\n",
      "  reconst_loss = -generative_outputs[\"px\"].log_prob(x).sum(-1)\n",
      "/Users/shivaramakrishna/Library/Python/3.9/lib/python/site-packages/scvi/module/_vae.py:458: UserWarning: The value argument must be within the support of the distribution\n",
      "  reconst_loss = -generative_outputs[\"px\"].log_prob(x).sum(-1)\n"
     ]
    },
    {
     "name": "stdout",
     "output_type": "stream",
     "text": [
      "Epoch 288/388:  74%|███████▍  | 287/388 [14:58<04:59,  2.96s/it, v_num=1, train_loss_step=251, train_loss_epoch=249]"
     ]
    },
    {
     "name": "stderr",
     "output_type": "stream",
     "text": [
      "/Users/shivaramakrishna/Library/Python/3.9/lib/python/site-packages/scvi/module/_vae.py:458: UserWarning: The value argument must be within the support of the distribution\n",
      "  reconst_loss = -generative_outputs[\"px\"].log_prob(x).sum(-1)\n",
      "/Users/shivaramakrishna/Library/Python/3.9/lib/python/site-packages/scvi/module/_vae.py:458: UserWarning: The value argument must be within the support of the distribution\n",
      "  reconst_loss = -generative_outputs[\"px\"].log_prob(x).sum(-1)\n"
     ]
    },
    {
     "name": "stdout",
     "output_type": "stream",
     "text": [
      "Epoch 289/388:  74%|███████▍  | 288/388 [15:01<04:54,  2.94s/it, v_num=1, train_loss_step=294, train_loss_epoch=249]"
     ]
    },
    {
     "name": "stderr",
     "output_type": "stream",
     "text": [
      "/Users/shivaramakrishna/Library/Python/3.9/lib/python/site-packages/scvi/module/_vae.py:458: UserWarning: The value argument must be within the support of the distribution\n",
      "  reconst_loss = -generative_outputs[\"px\"].log_prob(x).sum(-1)\n",
      "/Users/shivaramakrishna/Library/Python/3.9/lib/python/site-packages/scvi/module/_vae.py:458: UserWarning: The value argument must be within the support of the distribution\n",
      "  reconst_loss = -generative_outputs[\"px\"].log_prob(x).sum(-1)\n"
     ]
    },
    {
     "name": "stdout",
     "output_type": "stream",
     "text": [
      "Epoch 290/388:  74%|███████▍  | 289/388 [15:04<04:51,  2.94s/it, v_num=1, train_loss_step=255, train_loss_epoch=249]"
     ]
    },
    {
     "name": "stderr",
     "output_type": "stream",
     "text": [
      "/Users/shivaramakrishna/Library/Python/3.9/lib/python/site-packages/scvi/module/_vae.py:458: UserWarning: The value argument must be within the support of the distribution\n",
      "  reconst_loss = -generative_outputs[\"px\"].log_prob(x).sum(-1)\n",
      "/Users/shivaramakrishna/Library/Python/3.9/lib/python/site-packages/scvi/module/_vae.py:458: UserWarning: The value argument must be within the support of the distribution\n",
      "  reconst_loss = -generative_outputs[\"px\"].log_prob(x).sum(-1)\n"
     ]
    },
    {
     "name": "stdout",
     "output_type": "stream",
     "text": [
      "Epoch 291/388:  75%|███████▍  | 290/388 [15:07<04:48,  2.94s/it, v_num=1, train_loss_step=241, train_loss_epoch=249]"
     ]
    },
    {
     "name": "stderr",
     "output_type": "stream",
     "text": [
      "/Users/shivaramakrishna/Library/Python/3.9/lib/python/site-packages/scvi/module/_vae.py:458: UserWarning: The value argument must be within the support of the distribution\n",
      "  reconst_loss = -generative_outputs[\"px\"].log_prob(x).sum(-1)\n",
      "/Users/shivaramakrishna/Library/Python/3.9/lib/python/site-packages/scvi/module/_vae.py:458: UserWarning: The value argument must be within the support of the distribution\n",
      "  reconst_loss = -generative_outputs[\"px\"].log_prob(x).sum(-1)\n"
     ]
    },
    {
     "name": "stdout",
     "output_type": "stream",
     "text": [
      "Epoch 292/388:  75%|███████▌  | 291/388 [15:10<04:43,  2.93s/it, v_num=1, train_loss_step=289, train_loss_epoch=249]"
     ]
    },
    {
     "name": "stderr",
     "output_type": "stream",
     "text": [
      "/Users/shivaramakrishna/Library/Python/3.9/lib/python/site-packages/scvi/module/_vae.py:458: UserWarning: The value argument must be within the support of the distribution\n",
      "  reconst_loss = -generative_outputs[\"px\"].log_prob(x).sum(-1)\n",
      "/Users/shivaramakrishna/Library/Python/3.9/lib/python/site-packages/scvi/module/_vae.py:458: UserWarning: The value argument must be within the support of the distribution\n",
      "  reconst_loss = -generative_outputs[\"px\"].log_prob(x).sum(-1)\n"
     ]
    },
    {
     "name": "stdout",
     "output_type": "stream",
     "text": [
      "Epoch 293/388:  75%|███████▌  | 292/388 [15:13<04:41,  2.93s/it, v_num=1, train_loss_step=258, train_loss_epoch=249]"
     ]
    },
    {
     "name": "stderr",
     "output_type": "stream",
     "text": [
      "/Users/shivaramakrishna/Library/Python/3.9/lib/python/site-packages/scvi/module/_vae.py:458: UserWarning: The value argument must be within the support of the distribution\n",
      "  reconst_loss = -generative_outputs[\"px\"].log_prob(x).sum(-1)\n",
      "/Users/shivaramakrishna/Library/Python/3.9/lib/python/site-packages/scvi/module/_vae.py:458: UserWarning: The value argument must be within the support of the distribution\n",
      "  reconst_loss = -generative_outputs[\"px\"].log_prob(x).sum(-1)\n"
     ]
    },
    {
     "name": "stdout",
     "output_type": "stream",
     "text": [
      "Epoch 294/388:  76%|███████▌  | 293/388 [15:15<04:37,  2.92s/it, v_num=1, train_loss_step=245, train_loss_epoch=249]"
     ]
    },
    {
     "name": "stderr",
     "output_type": "stream",
     "text": [
      "/Users/shivaramakrishna/Library/Python/3.9/lib/python/site-packages/scvi/module/_vae.py:458: UserWarning: The value argument must be within the support of the distribution\n",
      "  reconst_loss = -generative_outputs[\"px\"].log_prob(x).sum(-1)\n",
      "/Users/shivaramakrishna/Library/Python/3.9/lib/python/site-packages/scvi/module/_vae.py:458: UserWarning: The value argument must be within the support of the distribution\n",
      "  reconst_loss = -generative_outputs[\"px\"].log_prob(x).sum(-1)\n"
     ]
    },
    {
     "name": "stdout",
     "output_type": "stream",
     "text": [
      "Epoch 295/388:  76%|███████▌  | 294/388 [15:18<04:35,  2.93s/it, v_num=1, train_loss_step=284, train_loss_epoch=249]"
     ]
    },
    {
     "name": "stderr",
     "output_type": "stream",
     "text": [
      "/Users/shivaramakrishna/Library/Python/3.9/lib/python/site-packages/scvi/module/_vae.py:458: UserWarning: The value argument must be within the support of the distribution\n",
      "  reconst_loss = -generative_outputs[\"px\"].log_prob(x).sum(-1)\n",
      "/Users/shivaramakrishna/Library/Python/3.9/lib/python/site-packages/scvi/module/_vae.py:458: UserWarning: The value argument must be within the support of the distribution\n",
      "  reconst_loss = -generative_outputs[\"px\"].log_prob(x).sum(-1)\n"
     ]
    },
    {
     "name": "stdout",
     "output_type": "stream",
     "text": [
      "Epoch 296/388:  76%|███████▌  | 295/388 [15:21<04:31,  2.92s/it, v_num=1, train_loss_step=232, train_loss_epoch=249]"
     ]
    },
    {
     "name": "stderr",
     "output_type": "stream",
     "text": [
      "/Users/shivaramakrishna/Library/Python/3.9/lib/python/site-packages/scvi/module/_vae.py:458: UserWarning: The value argument must be within the support of the distribution\n",
      "  reconst_loss = -generative_outputs[\"px\"].log_prob(x).sum(-1)\n",
      "/Users/shivaramakrishna/Library/Python/3.9/lib/python/site-packages/scvi/module/_vae.py:458: UserWarning: The value argument must be within the support of the distribution\n",
      "  reconst_loss = -generative_outputs[\"px\"].log_prob(x).sum(-1)\n"
     ]
    },
    {
     "name": "stdout",
     "output_type": "stream",
     "text": [
      "Epoch 297/388:  76%|███████▋  | 296/388 [15:24<04:30,  2.94s/it, v_num=1, train_loss_step=323, train_loss_epoch=249]"
     ]
    },
    {
     "name": "stderr",
     "output_type": "stream",
     "text": [
      "/Users/shivaramakrishna/Library/Python/3.9/lib/python/site-packages/scvi/module/_vae.py:458: UserWarning: The value argument must be within the support of the distribution\n",
      "  reconst_loss = -generative_outputs[\"px\"].log_prob(x).sum(-1)\n",
      "/Users/shivaramakrishna/Library/Python/3.9/lib/python/site-packages/scvi/module/_vae.py:458: UserWarning: The value argument must be within the support of the distribution\n",
      "  reconst_loss = -generative_outputs[\"px\"].log_prob(x).sum(-1)\n"
     ]
    },
    {
     "name": "stdout",
     "output_type": "stream",
     "text": [
      "Epoch 298/388:  77%|███████▋  | 297/388 [15:27<04:26,  2.93s/it, v_num=1, train_loss_step=265, train_loss_epoch=249]"
     ]
    },
    {
     "name": "stderr",
     "output_type": "stream",
     "text": [
      "/Users/shivaramakrishna/Library/Python/3.9/lib/python/site-packages/scvi/module/_vae.py:458: UserWarning: The value argument must be within the support of the distribution\n",
      "  reconst_loss = -generative_outputs[\"px\"].log_prob(x).sum(-1)\n",
      "/Users/shivaramakrishna/Library/Python/3.9/lib/python/site-packages/scvi/module/_vae.py:458: UserWarning: The value argument must be within the support of the distribution\n",
      "  reconst_loss = -generative_outputs[\"px\"].log_prob(x).sum(-1)\n"
     ]
    },
    {
     "name": "stdout",
     "output_type": "stream",
     "text": [
      "Epoch 299/388:  77%|███████▋  | 298/388 [15:30<04:25,  2.95s/it, v_num=1, train_loss_step=236, train_loss_epoch=249]"
     ]
    },
    {
     "name": "stderr",
     "output_type": "stream",
     "text": [
      "/Users/shivaramakrishna/Library/Python/3.9/lib/python/site-packages/scvi/module/_vae.py:458: UserWarning: The value argument must be within the support of the distribution\n",
      "  reconst_loss = -generative_outputs[\"px\"].log_prob(x).sum(-1)\n",
      "/Users/shivaramakrishna/Library/Python/3.9/lib/python/site-packages/scvi/module/_vae.py:458: UserWarning: The value argument must be within the support of the distribution\n",
      "  reconst_loss = -generative_outputs[\"px\"].log_prob(x).sum(-1)\n"
     ]
    },
    {
     "name": "stdout",
     "output_type": "stream",
     "text": [
      "Epoch 300/388:  77%|███████▋  | 299/388 [15:33<04:23,  2.96s/it, v_num=1, train_loss_step=249, train_loss_epoch=249]"
     ]
    },
    {
     "name": "stderr",
     "output_type": "stream",
     "text": [
      "/Users/shivaramakrishna/Library/Python/3.9/lib/python/site-packages/scvi/module/_vae.py:458: UserWarning: The value argument must be within the support of the distribution\n",
      "  reconst_loss = -generative_outputs[\"px\"].log_prob(x).sum(-1)\n",
      "/Users/shivaramakrishna/Library/Python/3.9/lib/python/site-packages/scvi/module/_vae.py:458: UserWarning: The value argument must be within the support of the distribution\n",
      "  reconst_loss = -generative_outputs[\"px\"].log_prob(x).sum(-1)\n"
     ]
    },
    {
     "name": "stdout",
     "output_type": "stream",
     "text": [
      "Epoch 301/388:  77%|███████▋  | 300/388 [15:36<04:16,  2.92s/it, v_num=1, train_loss_step=298, train_loss_epoch=249]"
     ]
    },
    {
     "name": "stderr",
     "output_type": "stream",
     "text": [
      "/Users/shivaramakrishna/Library/Python/3.9/lib/python/site-packages/scvi/module/_vae.py:458: UserWarning: The value argument must be within the support of the distribution\n",
      "  reconst_loss = -generative_outputs[\"px\"].log_prob(x).sum(-1)\n",
      "/Users/shivaramakrishna/Library/Python/3.9/lib/python/site-packages/scvi/module/_vae.py:458: UserWarning: The value argument must be within the support of the distribution\n",
      "  reconst_loss = -generative_outputs[\"px\"].log_prob(x).sum(-1)\n"
     ]
    },
    {
     "name": "stdout",
     "output_type": "stream",
     "text": [
      "Epoch 302/388:  78%|███████▊  | 301/388 [15:39<04:14,  2.92s/it, v_num=1, train_loss_step=225, train_loss_epoch=249]"
     ]
    },
    {
     "name": "stderr",
     "output_type": "stream",
     "text": [
      "/Users/shivaramakrishna/Library/Python/3.9/lib/python/site-packages/scvi/module/_vae.py:458: UserWarning: The value argument must be within the support of the distribution\n",
      "  reconst_loss = -generative_outputs[\"px\"].log_prob(x).sum(-1)\n",
      "/Users/shivaramakrishna/Library/Python/3.9/lib/python/site-packages/scvi/module/_vae.py:458: UserWarning: The value argument must be within the support of the distribution\n",
      "  reconst_loss = -generative_outputs[\"px\"].log_prob(x).sum(-1)\n"
     ]
    },
    {
     "name": "stdout",
     "output_type": "stream",
     "text": [
      "Epoch 303/388:  78%|███████▊  | 302/388 [15:42<04:11,  2.93s/it, v_num=1, train_loss_step=275, train_loss_epoch=250]"
     ]
    },
    {
     "name": "stderr",
     "output_type": "stream",
     "text": [
      "/Users/shivaramakrishna/Library/Python/3.9/lib/python/site-packages/scvi/module/_vae.py:458: UserWarning: The value argument must be within the support of the distribution\n",
      "  reconst_loss = -generative_outputs[\"px\"].log_prob(x).sum(-1)\n",
      "/Users/shivaramakrishna/Library/Python/3.9/lib/python/site-packages/scvi/module/_vae.py:458: UserWarning: The value argument must be within the support of the distribution\n",
      "  reconst_loss = -generative_outputs[\"px\"].log_prob(x).sum(-1)\n"
     ]
    },
    {
     "name": "stdout",
     "output_type": "stream",
     "text": [
      "Epoch 304/388:  78%|███████▊  | 303/388 [15:45<04:08,  2.93s/it, v_num=1, train_loss_step=274, train_loss_epoch=250]"
     ]
    },
    {
     "name": "stderr",
     "output_type": "stream",
     "text": [
      "/Users/shivaramakrishna/Library/Python/3.9/lib/python/site-packages/scvi/module/_vae.py:458: UserWarning: The value argument must be within the support of the distribution\n",
      "  reconst_loss = -generative_outputs[\"px\"].log_prob(x).sum(-1)\n",
      "/Users/shivaramakrishna/Library/Python/3.9/lib/python/site-packages/scvi/module/_vae.py:458: UserWarning: The value argument must be within the support of the distribution\n",
      "  reconst_loss = -generative_outputs[\"px\"].log_prob(x).sum(-1)\n"
     ]
    },
    {
     "name": "stdout",
     "output_type": "stream",
     "text": [
      "Epoch 305/388:  78%|███████▊  | 304/388 [15:48<04:06,  2.94s/it, v_num=1, train_loss_step=334, train_loss_epoch=249]"
     ]
    },
    {
     "name": "stderr",
     "output_type": "stream",
     "text": [
      "/Users/shivaramakrishna/Library/Python/3.9/lib/python/site-packages/scvi/module/_vae.py:458: UserWarning: The value argument must be within the support of the distribution\n",
      "  reconst_loss = -generative_outputs[\"px\"].log_prob(x).sum(-1)\n",
      "/Users/shivaramakrishna/Library/Python/3.9/lib/python/site-packages/scvi/module/_vae.py:458: UserWarning: The value argument must be within the support of the distribution\n",
      "  reconst_loss = -generative_outputs[\"px\"].log_prob(x).sum(-1)\n"
     ]
    },
    {
     "name": "stdout",
     "output_type": "stream",
     "text": [
      "Epoch 306/388:  79%|███████▊  | 305/388 [15:51<04:04,  2.95s/it, v_num=1, train_loss_step=269, train_loss_epoch=250]"
     ]
    },
    {
     "name": "stderr",
     "output_type": "stream",
     "text": [
      "/Users/shivaramakrishna/Library/Python/3.9/lib/python/site-packages/scvi/module/_vae.py:458: UserWarning: The value argument must be within the support of the distribution\n",
      "  reconst_loss = -generative_outputs[\"px\"].log_prob(x).sum(-1)\n",
      "/Users/shivaramakrishna/Library/Python/3.9/lib/python/site-packages/scvi/module/_vae.py:458: UserWarning: The value argument must be within the support of the distribution\n",
      "  reconst_loss = -generative_outputs[\"px\"].log_prob(x).sum(-1)\n"
     ]
    },
    {
     "name": "stdout",
     "output_type": "stream",
     "text": [
      "Epoch 307/388:  79%|███████▉  | 306/388 [15:54<04:02,  2.95s/it, v_num=1, train_loss_step=288, train_loss_epoch=250]"
     ]
    },
    {
     "name": "stderr",
     "output_type": "stream",
     "text": [
      "/Users/shivaramakrishna/Library/Python/3.9/lib/python/site-packages/scvi/module/_vae.py:458: UserWarning: The value argument must be within the support of the distribution\n",
      "  reconst_loss = -generative_outputs[\"px\"].log_prob(x).sum(-1)\n",
      "/Users/shivaramakrishna/Library/Python/3.9/lib/python/site-packages/scvi/module/_vae.py:458: UserWarning: The value argument must be within the support of the distribution\n",
      "  reconst_loss = -generative_outputs[\"px\"].log_prob(x).sum(-1)\n"
     ]
    },
    {
     "name": "stdout",
     "output_type": "stream",
     "text": [
      "Epoch 308/388:  79%|███████▉  | 307/388 [15:57<03:57,  2.93s/it, v_num=1, train_loss_step=306, train_loss_epoch=250]"
     ]
    },
    {
     "name": "stderr",
     "output_type": "stream",
     "text": [
      "/Users/shivaramakrishna/Library/Python/3.9/lib/python/site-packages/scvi/module/_vae.py:458: UserWarning: The value argument must be within the support of the distribution\n",
      "  reconst_loss = -generative_outputs[\"px\"].log_prob(x).sum(-1)\n",
      "/Users/shivaramakrishna/Library/Python/3.9/lib/python/site-packages/scvi/module/_vae.py:458: UserWarning: The value argument must be within the support of the distribution\n",
      "  reconst_loss = -generative_outputs[\"px\"].log_prob(x).sum(-1)\n"
     ]
    },
    {
     "name": "stdout",
     "output_type": "stream",
     "text": [
      "Epoch 309/388:  79%|███████▉  | 308/388 [16:00<03:55,  2.94s/it, v_num=1, train_loss_step=267, train_loss_epoch=250]"
     ]
    },
    {
     "name": "stderr",
     "output_type": "stream",
     "text": [
      "/Users/shivaramakrishna/Library/Python/3.9/lib/python/site-packages/scvi/module/_vae.py:458: UserWarning: The value argument must be within the support of the distribution\n",
      "  reconst_loss = -generative_outputs[\"px\"].log_prob(x).sum(-1)\n",
      "/Users/shivaramakrishna/Library/Python/3.9/lib/python/site-packages/scvi/module/_vae.py:458: UserWarning: The value argument must be within the support of the distribution\n",
      "  reconst_loss = -generative_outputs[\"px\"].log_prob(x).sum(-1)\n"
     ]
    },
    {
     "name": "stdout",
     "output_type": "stream",
     "text": [
      "Epoch 310/388:  80%|███████▉  | 309/388 [16:02<03:51,  2.93s/it, v_num=1, train_loss_step=251, train_loss_epoch=250]"
     ]
    },
    {
     "name": "stderr",
     "output_type": "stream",
     "text": [
      "/Users/shivaramakrishna/Library/Python/3.9/lib/python/site-packages/scvi/module/_vae.py:458: UserWarning: The value argument must be within the support of the distribution\n",
      "  reconst_loss = -generative_outputs[\"px\"].log_prob(x).sum(-1)\n",
      "/Users/shivaramakrishna/Library/Python/3.9/lib/python/site-packages/scvi/module/_vae.py:458: UserWarning: The value argument must be within the support of the distribution\n",
      "  reconst_loss = -generative_outputs[\"px\"].log_prob(x).sum(-1)\n"
     ]
    },
    {
     "name": "stdout",
     "output_type": "stream",
     "text": [
      "Epoch 311/388:  80%|███████▉  | 310/388 [16:05<03:48,  2.93s/it, v_num=1, train_loss_step=253, train_loss_epoch=250]"
     ]
    },
    {
     "name": "stderr",
     "output_type": "stream",
     "text": [
      "/Users/shivaramakrishna/Library/Python/3.9/lib/python/site-packages/scvi/module/_vae.py:458: UserWarning: The value argument must be within the support of the distribution\n",
      "  reconst_loss = -generative_outputs[\"px\"].log_prob(x).sum(-1)\n",
      "/Users/shivaramakrishna/Library/Python/3.9/lib/python/site-packages/scvi/module/_vae.py:458: UserWarning: The value argument must be within the support of the distribution\n",
      "  reconst_loss = -generative_outputs[\"px\"].log_prob(x).sum(-1)\n"
     ]
    },
    {
     "name": "stdout",
     "output_type": "stream",
     "text": [
      "Epoch 312/388:  80%|████████  | 311/388 [16:08<03:44,  2.91s/it, v_num=1, train_loss_step=262, train_loss_epoch=250]"
     ]
    },
    {
     "name": "stderr",
     "output_type": "stream",
     "text": [
      "/Users/shivaramakrishna/Library/Python/3.9/lib/python/site-packages/scvi/module/_vae.py:458: UserWarning: The value argument must be within the support of the distribution\n",
      "  reconst_loss = -generative_outputs[\"px\"].log_prob(x).sum(-1)\n",
      "/Users/shivaramakrishna/Library/Python/3.9/lib/python/site-packages/scvi/module/_vae.py:458: UserWarning: The value argument must be within the support of the distribution\n",
      "  reconst_loss = -generative_outputs[\"px\"].log_prob(x).sum(-1)\n"
     ]
    },
    {
     "name": "stdout",
     "output_type": "stream",
     "text": [
      "Epoch 313/388:  80%|████████  | 312/388 [16:11<03:41,  2.91s/it, v_num=1, train_loss_step=288, train_loss_epoch=250]"
     ]
    },
    {
     "name": "stderr",
     "output_type": "stream",
     "text": [
      "/Users/shivaramakrishna/Library/Python/3.9/lib/python/site-packages/scvi/module/_vae.py:458: UserWarning: The value argument must be within the support of the distribution\n",
      "  reconst_loss = -generative_outputs[\"px\"].log_prob(x).sum(-1)\n",
      "/Users/shivaramakrishna/Library/Python/3.9/lib/python/site-packages/scvi/module/_vae.py:458: UserWarning: The value argument must be within the support of the distribution\n",
      "  reconst_loss = -generative_outputs[\"px\"].log_prob(x).sum(-1)\n"
     ]
    },
    {
     "name": "stdout",
     "output_type": "stream",
     "text": [
      "Epoch 314/388:  81%|████████  | 313/388 [16:14<03:38,  2.91s/it, v_num=1, train_loss_step=250, train_loss_epoch=250]"
     ]
    },
    {
     "name": "stderr",
     "output_type": "stream",
     "text": [
      "/Users/shivaramakrishna/Library/Python/3.9/lib/python/site-packages/scvi/module/_vae.py:458: UserWarning: The value argument must be within the support of the distribution\n",
      "  reconst_loss = -generative_outputs[\"px\"].log_prob(x).sum(-1)\n",
      "/Users/shivaramakrishna/Library/Python/3.9/lib/python/site-packages/scvi/module/_vae.py:458: UserWarning: The value argument must be within the support of the distribution\n",
      "  reconst_loss = -generative_outputs[\"px\"].log_prob(x).sum(-1)\n"
     ]
    },
    {
     "name": "stdout",
     "output_type": "stream",
     "text": [
      "Epoch 315/388:  81%|████████  | 314/388 [16:17<03:36,  2.92s/it, v_num=1, train_loss_step=265, train_loss_epoch=250]"
     ]
    },
    {
     "name": "stderr",
     "output_type": "stream",
     "text": [
      "/Users/shivaramakrishna/Library/Python/3.9/lib/python/site-packages/scvi/module/_vae.py:458: UserWarning: The value argument must be within the support of the distribution\n",
      "  reconst_loss = -generative_outputs[\"px\"].log_prob(x).sum(-1)\n",
      "/Users/shivaramakrishna/Library/Python/3.9/lib/python/site-packages/scvi/module/_vae.py:458: UserWarning: The value argument must be within the support of the distribution\n",
      "  reconst_loss = -generative_outputs[\"px\"].log_prob(x).sum(-1)\n"
     ]
    },
    {
     "name": "stdout",
     "output_type": "stream",
     "text": [
      "Epoch 316/388:  81%|████████  | 315/388 [16:20<03:37,  2.98s/it, v_num=1, train_loss_step=254, train_loss_epoch=250]"
     ]
    },
    {
     "name": "stderr",
     "output_type": "stream",
     "text": [
      "/Users/shivaramakrishna/Library/Python/3.9/lib/python/site-packages/scvi/module/_vae.py:458: UserWarning: The value argument must be within the support of the distribution\n",
      "  reconst_loss = -generative_outputs[\"px\"].log_prob(x).sum(-1)\n",
      "/Users/shivaramakrishna/Library/Python/3.9/lib/python/site-packages/scvi/module/_vae.py:458: UserWarning: The value argument must be within the support of the distribution\n",
      "  reconst_loss = -generative_outputs[\"px\"].log_prob(x).sum(-1)\n"
     ]
    },
    {
     "name": "stdout",
     "output_type": "stream",
     "text": [
      "Epoch 317/388:  81%|████████▏ | 316/388 [16:23<03:35,  2.99s/it, v_num=1, train_loss_step=332, train_loss_epoch=250]"
     ]
    },
    {
     "name": "stderr",
     "output_type": "stream",
     "text": [
      "/Users/shivaramakrishna/Library/Python/3.9/lib/python/site-packages/scvi/module/_vae.py:458: UserWarning: The value argument must be within the support of the distribution\n",
      "  reconst_loss = -generative_outputs[\"px\"].log_prob(x).sum(-1)\n",
      "/Users/shivaramakrishna/Library/Python/3.9/lib/python/site-packages/scvi/module/_vae.py:458: UserWarning: The value argument must be within the support of the distribution\n",
      "  reconst_loss = -generative_outputs[\"px\"].log_prob(x).sum(-1)\n"
     ]
    },
    {
     "name": "stdout",
     "output_type": "stream",
     "text": [
      "Epoch 318/388:  82%|████████▏ | 317/388 [16:26<03:30,  2.97s/it, v_num=1, train_loss_step=247, train_loss_epoch=250]"
     ]
    },
    {
     "name": "stderr",
     "output_type": "stream",
     "text": [
      "/Users/shivaramakrishna/Library/Python/3.9/lib/python/site-packages/scvi/module/_vae.py:458: UserWarning: The value argument must be within the support of the distribution\n",
      "  reconst_loss = -generative_outputs[\"px\"].log_prob(x).sum(-1)\n",
      "/Users/shivaramakrishna/Library/Python/3.9/lib/python/site-packages/scvi/module/_vae.py:458: UserWarning: The value argument must be within the support of the distribution\n",
      "  reconst_loss = -generative_outputs[\"px\"].log_prob(x).sum(-1)\n"
     ]
    },
    {
     "name": "stdout",
     "output_type": "stream",
     "text": [
      "Epoch 319/388:  82%|████████▏ | 318/388 [16:29<03:28,  2.98s/it, v_num=1, train_loss_step=303, train_loss_epoch=250]"
     ]
    },
    {
     "name": "stderr",
     "output_type": "stream",
     "text": [
      "/Users/shivaramakrishna/Library/Python/3.9/lib/python/site-packages/scvi/module/_vae.py:458: UserWarning: The value argument must be within the support of the distribution\n",
      "  reconst_loss = -generative_outputs[\"px\"].log_prob(x).sum(-1)\n",
      "/Users/shivaramakrishna/Library/Python/3.9/lib/python/site-packages/scvi/module/_vae.py:458: UserWarning: The value argument must be within the support of the distribution\n",
      "  reconst_loss = -generative_outputs[\"px\"].log_prob(x).sum(-1)\n"
     ]
    },
    {
     "name": "stdout",
     "output_type": "stream",
     "text": [
      "Epoch 320/388:  82%|████████▏ | 319/388 [16:32<03:25,  2.98s/it, v_num=1, train_loss_step=263, train_loss_epoch=250]"
     ]
    },
    {
     "name": "stderr",
     "output_type": "stream",
     "text": [
      "/Users/shivaramakrishna/Library/Python/3.9/lib/python/site-packages/scvi/module/_vae.py:458: UserWarning: The value argument must be within the support of the distribution\n",
      "  reconst_loss = -generative_outputs[\"px\"].log_prob(x).sum(-1)\n",
      "/Users/shivaramakrishna/Library/Python/3.9/lib/python/site-packages/scvi/module/_vae.py:458: UserWarning: The value argument must be within the support of the distribution\n",
      "  reconst_loss = -generative_outputs[\"px\"].log_prob(x).sum(-1)\n"
     ]
    },
    {
     "name": "stdout",
     "output_type": "stream",
     "text": [
      "Epoch 321/388:  82%|████████▏ | 320/388 [16:35<03:21,  2.96s/it, v_num=1, train_loss_step=290, train_loss_epoch=250]"
     ]
    },
    {
     "name": "stderr",
     "output_type": "stream",
     "text": [
      "/Users/shivaramakrishna/Library/Python/3.9/lib/python/site-packages/scvi/module/_vae.py:458: UserWarning: The value argument must be within the support of the distribution\n",
      "  reconst_loss = -generative_outputs[\"px\"].log_prob(x).sum(-1)\n",
      "/Users/shivaramakrishna/Library/Python/3.9/lib/python/site-packages/scvi/module/_vae.py:458: UserWarning: The value argument must be within the support of the distribution\n",
      "  reconst_loss = -generative_outputs[\"px\"].log_prob(x).sum(-1)\n"
     ]
    },
    {
     "name": "stdout",
     "output_type": "stream",
     "text": [
      "Epoch 322/388:  83%|████████▎ | 321/388 [16:38<03:17,  2.95s/it, v_num=1, train_loss_step=247, train_loss_epoch=250]"
     ]
    },
    {
     "name": "stderr",
     "output_type": "stream",
     "text": [
      "/Users/shivaramakrishna/Library/Python/3.9/lib/python/site-packages/scvi/module/_vae.py:458: UserWarning: The value argument must be within the support of the distribution\n",
      "  reconst_loss = -generative_outputs[\"px\"].log_prob(x).sum(-1)\n",
      "/Users/shivaramakrishna/Library/Python/3.9/lib/python/site-packages/scvi/module/_vae.py:458: UserWarning: The value argument must be within the support of the distribution\n",
      "  reconst_loss = -generative_outputs[\"px\"].log_prob(x).sum(-1)\n"
     ]
    },
    {
     "name": "stdout",
     "output_type": "stream",
     "text": [
      "Epoch 323/388:  83%|████████▎ | 322/388 [16:41<03:13,  2.93s/it, v_num=1, train_loss_step=250, train_loss_epoch=250]"
     ]
    },
    {
     "name": "stderr",
     "output_type": "stream",
     "text": [
      "/Users/shivaramakrishna/Library/Python/3.9/lib/python/site-packages/scvi/module/_vae.py:458: UserWarning: The value argument must be within the support of the distribution\n",
      "  reconst_loss = -generative_outputs[\"px\"].log_prob(x).sum(-1)\n",
      "/Users/shivaramakrishna/Library/Python/3.9/lib/python/site-packages/scvi/module/_vae.py:458: UserWarning: The value argument must be within the support of the distribution\n",
      "  reconst_loss = -generative_outputs[\"px\"].log_prob(x).sum(-1)\n"
     ]
    },
    {
     "name": "stdout",
     "output_type": "stream",
     "text": [
      "Epoch 324/388:  83%|████████▎ | 323/388 [16:44<03:11,  2.94s/it, v_num=1, train_loss_step=262, train_loss_epoch=250]"
     ]
    },
    {
     "name": "stderr",
     "output_type": "stream",
     "text": [
      "/Users/shivaramakrishna/Library/Python/3.9/lib/python/site-packages/scvi/module/_vae.py:458: UserWarning: The value argument must be within the support of the distribution\n",
      "  reconst_loss = -generative_outputs[\"px\"].log_prob(x).sum(-1)\n",
      "/Users/shivaramakrishna/Library/Python/3.9/lib/python/site-packages/scvi/module/_vae.py:458: UserWarning: The value argument must be within the support of the distribution\n",
      "  reconst_loss = -generative_outputs[\"px\"].log_prob(x).sum(-1)\n"
     ]
    },
    {
     "name": "stdout",
     "output_type": "stream",
     "text": [
      "Epoch 325/388:  84%|████████▎ | 324/388 [16:47<03:08,  2.94s/it, v_num=1, train_loss_step=336, train_loss_epoch=250]"
     ]
    },
    {
     "name": "stderr",
     "output_type": "stream",
     "text": [
      "/Users/shivaramakrishna/Library/Python/3.9/lib/python/site-packages/scvi/module/_vae.py:458: UserWarning: The value argument must be within the support of the distribution\n",
      "  reconst_loss = -generative_outputs[\"px\"].log_prob(x).sum(-1)\n",
      "/Users/shivaramakrishna/Library/Python/3.9/lib/python/site-packages/scvi/module/_vae.py:458: UserWarning: The value argument must be within the support of the distribution\n",
      "  reconst_loss = -generative_outputs[\"px\"].log_prob(x).sum(-1)\n"
     ]
    },
    {
     "name": "stdout",
     "output_type": "stream",
     "text": [
      "Epoch 326/388:  84%|████████▍ | 325/388 [16:50<03:04,  2.93s/it, v_num=1, train_loss_step=252, train_loss_epoch=250]"
     ]
    },
    {
     "name": "stderr",
     "output_type": "stream",
     "text": [
      "/Users/shivaramakrishna/Library/Python/3.9/lib/python/site-packages/scvi/module/_vae.py:458: UserWarning: The value argument must be within the support of the distribution\n",
      "  reconst_loss = -generative_outputs[\"px\"].log_prob(x).sum(-1)\n",
      "/Users/shivaramakrishna/Library/Python/3.9/lib/python/site-packages/scvi/module/_vae.py:458: UserWarning: The value argument must be within the support of the distribution\n",
      "  reconst_loss = -generative_outputs[\"px\"].log_prob(x).sum(-1)\n"
     ]
    },
    {
     "name": "stdout",
     "output_type": "stream",
     "text": [
      "Epoch 327/388:  84%|████████▍ | 326/388 [16:53<03:02,  2.95s/it, v_num=1, train_loss_step=260, train_loss_epoch=250]"
     ]
    },
    {
     "name": "stderr",
     "output_type": "stream",
     "text": [
      "/Users/shivaramakrishna/Library/Python/3.9/lib/python/site-packages/scvi/module/_vae.py:458: UserWarning: The value argument must be within the support of the distribution\n",
      "  reconst_loss = -generative_outputs[\"px\"].log_prob(x).sum(-1)\n",
      "/Users/shivaramakrishna/Library/Python/3.9/lib/python/site-packages/scvi/module/_vae.py:458: UserWarning: The value argument must be within the support of the distribution\n",
      "  reconst_loss = -generative_outputs[\"px\"].log_prob(x).sum(-1)\n"
     ]
    },
    {
     "name": "stdout",
     "output_type": "stream",
     "text": [
      "Epoch 328/388:  84%|████████▍ | 327/388 [16:56<02:59,  2.94s/it, v_num=1, train_loss_step=310, train_loss_epoch=250]"
     ]
    },
    {
     "name": "stderr",
     "output_type": "stream",
     "text": [
      "/Users/shivaramakrishna/Library/Python/3.9/lib/python/site-packages/scvi/module/_vae.py:458: UserWarning: The value argument must be within the support of the distribution\n",
      "  reconst_loss = -generative_outputs[\"px\"].log_prob(x).sum(-1)\n",
      "/Users/shivaramakrishna/Library/Python/3.9/lib/python/site-packages/scvi/module/_vae.py:458: UserWarning: The value argument must be within the support of the distribution\n",
      "  reconst_loss = -generative_outputs[\"px\"].log_prob(x).sum(-1)\n"
     ]
    },
    {
     "name": "stdout",
     "output_type": "stream",
     "text": [
      "Epoch 329/388:  85%|████████▍ | 328/388 [16:58<02:56,  2.95s/it, v_num=1, train_loss_step=270, train_loss_epoch=250]"
     ]
    },
    {
     "name": "stderr",
     "output_type": "stream",
     "text": [
      "/Users/shivaramakrishna/Library/Python/3.9/lib/python/site-packages/scvi/module/_vae.py:458: UserWarning: The value argument must be within the support of the distribution\n",
      "  reconst_loss = -generative_outputs[\"px\"].log_prob(x).sum(-1)\n",
      "/Users/shivaramakrishna/Library/Python/3.9/lib/python/site-packages/scvi/module/_vae.py:458: UserWarning: The value argument must be within the support of the distribution\n",
      "  reconst_loss = -generative_outputs[\"px\"].log_prob(x).sum(-1)\n"
     ]
    },
    {
     "name": "stdout",
     "output_type": "stream",
     "text": [
      "Epoch 330/388:  85%|████████▍ | 329/388 [17:01<02:53,  2.93s/it, v_num=1, train_loss_step=251, train_loss_epoch=250]"
     ]
    },
    {
     "name": "stderr",
     "output_type": "stream",
     "text": [
      "/Users/shivaramakrishna/Library/Python/3.9/lib/python/site-packages/scvi/module/_vae.py:458: UserWarning: The value argument must be within the support of the distribution\n",
      "  reconst_loss = -generative_outputs[\"px\"].log_prob(x).sum(-1)\n",
      "/Users/shivaramakrishna/Library/Python/3.9/lib/python/site-packages/scvi/module/_vae.py:458: UserWarning: The value argument must be within the support of the distribution\n",
      "  reconst_loss = -generative_outputs[\"px\"].log_prob(x).sum(-1)\n"
     ]
    },
    {
     "name": "stdout",
     "output_type": "stream",
     "text": [
      "Epoch 331/388:  85%|████████▌ | 330/388 [17:04<02:49,  2.93s/it, v_num=1, train_loss_step=226, train_loss_epoch=250]"
     ]
    },
    {
     "name": "stderr",
     "output_type": "stream",
     "text": [
      "/Users/shivaramakrishna/Library/Python/3.9/lib/python/site-packages/scvi/module/_vae.py:458: UserWarning: The value argument must be within the support of the distribution\n",
      "  reconst_loss = -generative_outputs[\"px\"].log_prob(x).sum(-1)\n",
      "/Users/shivaramakrishna/Library/Python/3.9/lib/python/site-packages/scvi/module/_vae.py:458: UserWarning: The value argument must be within the support of the distribution\n",
      "  reconst_loss = -generative_outputs[\"px\"].log_prob(x).sum(-1)\n"
     ]
    },
    {
     "name": "stdout",
     "output_type": "stream",
     "text": [
      "Epoch 332/388:  85%|████████▌ | 331/388 [17:07<02:46,  2.91s/it, v_num=1, train_loss_step=243, train_loss_epoch=250]"
     ]
    },
    {
     "name": "stderr",
     "output_type": "stream",
     "text": [
      "/Users/shivaramakrishna/Library/Python/3.9/lib/python/site-packages/scvi/module/_vae.py:458: UserWarning: The value argument must be within the support of the distribution\n",
      "  reconst_loss = -generative_outputs[\"px\"].log_prob(x).sum(-1)\n",
      "/Users/shivaramakrishna/Library/Python/3.9/lib/python/site-packages/scvi/module/_vae.py:458: UserWarning: The value argument must be within the support of the distribution\n",
      "  reconst_loss = -generative_outputs[\"px\"].log_prob(x).sum(-1)\n"
     ]
    },
    {
     "name": "stdout",
     "output_type": "stream",
     "text": [
      "Epoch 333/388:  86%|████████▌ | 332/388 [17:10<02:46,  2.97s/it, v_num=1, train_loss_step=264, train_loss_epoch=250]"
     ]
    },
    {
     "name": "stderr",
     "output_type": "stream",
     "text": [
      "/Users/shivaramakrishna/Library/Python/3.9/lib/python/site-packages/scvi/module/_vae.py:458: UserWarning: The value argument must be within the support of the distribution\n",
      "  reconst_loss = -generative_outputs[\"px\"].log_prob(x).sum(-1)\n",
      "/Users/shivaramakrishna/Library/Python/3.9/lib/python/site-packages/scvi/module/_vae.py:458: UserWarning: The value argument must be within the support of the distribution\n",
      "  reconst_loss = -generative_outputs[\"px\"].log_prob(x).sum(-1)\n"
     ]
    },
    {
     "name": "stdout",
     "output_type": "stream",
     "text": [
      "Epoch 334/388:  86%|████████▌ | 333/388 [17:13<02:42,  2.95s/it, v_num=1, train_loss_step=276, train_loss_epoch=250]"
     ]
    },
    {
     "name": "stderr",
     "output_type": "stream",
     "text": [
      "/Users/shivaramakrishna/Library/Python/3.9/lib/python/site-packages/scvi/module/_vae.py:458: UserWarning: The value argument must be within the support of the distribution\n",
      "  reconst_loss = -generative_outputs[\"px\"].log_prob(x).sum(-1)\n",
      "/Users/shivaramakrishna/Library/Python/3.9/lib/python/site-packages/scvi/module/_vae.py:458: UserWarning: The value argument must be within the support of the distribution\n",
      "  reconst_loss = -generative_outputs[\"px\"].log_prob(x).sum(-1)\n"
     ]
    },
    {
     "name": "stdout",
     "output_type": "stream",
     "text": [
      "Epoch 335/388:  86%|████████▌ | 334/388 [17:16<02:38,  2.94s/it, v_num=1, train_loss_step=256, train_loss_epoch=250]"
     ]
    },
    {
     "name": "stderr",
     "output_type": "stream",
     "text": [
      "/Users/shivaramakrishna/Library/Python/3.9/lib/python/site-packages/scvi/module/_vae.py:458: UserWarning: The value argument must be within the support of the distribution\n",
      "  reconst_loss = -generative_outputs[\"px\"].log_prob(x).sum(-1)\n",
      "/Users/shivaramakrishna/Library/Python/3.9/lib/python/site-packages/scvi/module/_vae.py:458: UserWarning: The value argument must be within the support of the distribution\n",
      "  reconst_loss = -generative_outputs[\"px\"].log_prob(x).sum(-1)\n"
     ]
    },
    {
     "name": "stdout",
     "output_type": "stream",
     "text": [
      "Epoch 336/388:  86%|████████▋ | 335/388 [17:19<02:37,  2.97s/it, v_num=1, train_loss_step=258, train_loss_epoch=250]"
     ]
    },
    {
     "name": "stderr",
     "output_type": "stream",
     "text": [
      "/Users/shivaramakrishna/Library/Python/3.9/lib/python/site-packages/scvi/module/_vae.py:458: UserWarning: The value argument must be within the support of the distribution\n",
      "  reconst_loss = -generative_outputs[\"px\"].log_prob(x).sum(-1)\n",
      "/Users/shivaramakrishna/Library/Python/3.9/lib/python/site-packages/scvi/module/_vae.py:458: UserWarning: The value argument must be within the support of the distribution\n",
      "  reconst_loss = -generative_outputs[\"px\"].log_prob(x).sum(-1)\n"
     ]
    },
    {
     "name": "stdout",
     "output_type": "stream",
     "text": [
      "Epoch 337/388:  87%|████████▋ | 336/388 [17:22<02:38,  3.05s/it, v_num=1, train_loss_step=287, train_loss_epoch=250]"
     ]
    },
    {
     "name": "stderr",
     "output_type": "stream",
     "text": [
      "/Users/shivaramakrishna/Library/Python/3.9/lib/python/site-packages/scvi/module/_vae.py:458: UserWarning: The value argument must be within the support of the distribution\n",
      "  reconst_loss = -generative_outputs[\"px\"].log_prob(x).sum(-1)\n",
      "/Users/shivaramakrishna/Library/Python/3.9/lib/python/site-packages/scvi/module/_vae.py:458: UserWarning: The value argument must be within the support of the distribution\n",
      "  reconst_loss = -generative_outputs[\"px\"].log_prob(x).sum(-1)\n"
     ]
    },
    {
     "name": "stdout",
     "output_type": "stream",
     "text": [
      "Epoch 338/388:  87%|████████▋ | 337/388 [17:25<02:35,  3.05s/it, v_num=1, train_loss_step=257, train_loss_epoch=250]"
     ]
    },
    {
     "name": "stderr",
     "output_type": "stream",
     "text": [
      "/Users/shivaramakrishna/Library/Python/3.9/lib/python/site-packages/scvi/module/_vae.py:458: UserWarning: The value argument must be within the support of the distribution\n",
      "  reconst_loss = -generative_outputs[\"px\"].log_prob(x).sum(-1)\n",
      "/Users/shivaramakrishna/Library/Python/3.9/lib/python/site-packages/scvi/module/_vae.py:458: UserWarning: The value argument must be within the support of the distribution\n",
      "  reconst_loss = -generative_outputs[\"px\"].log_prob(x).sum(-1)\n"
     ]
    },
    {
     "name": "stdout",
     "output_type": "stream",
     "text": [
      "Epoch 339/388:  87%|████████▋ | 338/388 [17:28<02:27,  2.96s/it, v_num=1, train_loss_step=251, train_loss_epoch=251]"
     ]
    },
    {
     "name": "stderr",
     "output_type": "stream",
     "text": [
      "/Users/shivaramakrishna/Library/Python/3.9/lib/python/site-packages/scvi/module/_vae.py:458: UserWarning: The value argument must be within the support of the distribution\n",
      "  reconst_loss = -generative_outputs[\"px\"].log_prob(x).sum(-1)\n",
      "/Users/shivaramakrishna/Library/Python/3.9/lib/python/site-packages/scvi/module/_vae.py:458: UserWarning: The value argument must be within the support of the distribution\n",
      "  reconst_loss = -generative_outputs[\"px\"].log_prob(x).sum(-1)\n"
     ]
    },
    {
     "name": "stdout",
     "output_type": "stream",
     "text": [
      "Epoch 340/388:  87%|████████▋ | 339/388 [17:31<02:25,  2.97s/it, v_num=1, train_loss_step=245, train_loss_epoch=251]"
     ]
    },
    {
     "name": "stderr",
     "output_type": "stream",
     "text": [
      "/Users/shivaramakrishna/Library/Python/3.9/lib/python/site-packages/scvi/module/_vae.py:458: UserWarning: The value argument must be within the support of the distribution\n",
      "  reconst_loss = -generative_outputs[\"px\"].log_prob(x).sum(-1)\n",
      "/Users/shivaramakrishna/Library/Python/3.9/lib/python/site-packages/scvi/module/_vae.py:458: UserWarning: The value argument must be within the support of the distribution\n",
      "  reconst_loss = -generative_outputs[\"px\"].log_prob(x).sum(-1)\n"
     ]
    },
    {
     "name": "stdout",
     "output_type": "stream",
     "text": [
      "Epoch 341/388:  88%|████████▊ | 340/388 [17:34<02:22,  2.97s/it, v_num=1, train_loss_step=302, train_loss_epoch=250]"
     ]
    },
    {
     "name": "stderr",
     "output_type": "stream",
     "text": [
      "/Users/shivaramakrishna/Library/Python/3.9/lib/python/site-packages/scvi/module/_vae.py:458: UserWarning: The value argument must be within the support of the distribution\n",
      "  reconst_loss = -generative_outputs[\"px\"].log_prob(x).sum(-1)\n",
      "/Users/shivaramakrishna/Library/Python/3.9/lib/python/site-packages/scvi/module/_vae.py:458: UserWarning: The value argument must be within the support of the distribution\n",
      "  reconst_loss = -generative_outputs[\"px\"].log_prob(x).sum(-1)\n"
     ]
    },
    {
     "name": "stdout",
     "output_type": "stream",
     "text": [
      "Epoch 342/388:  88%|████████▊ | 341/388 [17:37<02:18,  2.95s/it, v_num=1, train_loss_step=219, train_loss_epoch=251]"
     ]
    },
    {
     "name": "stderr",
     "output_type": "stream",
     "text": [
      "/Users/shivaramakrishna/Library/Python/3.9/lib/python/site-packages/scvi/module/_vae.py:458: UserWarning: The value argument must be within the support of the distribution\n",
      "  reconst_loss = -generative_outputs[\"px\"].log_prob(x).sum(-1)\n",
      "/Users/shivaramakrishna/Library/Python/3.9/lib/python/site-packages/scvi/module/_vae.py:458: UserWarning: The value argument must be within the support of the distribution\n",
      "  reconst_loss = -generative_outputs[\"px\"].log_prob(x).sum(-1)\n"
     ]
    },
    {
     "name": "stdout",
     "output_type": "stream",
     "text": [
      "Epoch 343/388:  88%|████████▊ | 342/388 [17:40<02:15,  2.94s/it, v_num=1, train_loss_step=326, train_loss_epoch=251]"
     ]
    },
    {
     "name": "stderr",
     "output_type": "stream",
     "text": [
      "/Users/shivaramakrishna/Library/Python/3.9/lib/python/site-packages/scvi/module/_vae.py:458: UserWarning: The value argument must be within the support of the distribution\n",
      "  reconst_loss = -generative_outputs[\"px\"].log_prob(x).sum(-1)\n",
      "/Users/shivaramakrishna/Library/Python/3.9/lib/python/site-packages/scvi/module/_vae.py:458: UserWarning: The value argument must be within the support of the distribution\n",
      "  reconst_loss = -generative_outputs[\"px\"].log_prob(x).sum(-1)\n"
     ]
    },
    {
     "name": "stdout",
     "output_type": "stream",
     "text": [
      "Epoch 344/388:  88%|████████▊ | 343/388 [17:43<02:12,  2.95s/it, v_num=1, train_loss_step=263, train_loss_epoch=251]"
     ]
    },
    {
     "name": "stderr",
     "output_type": "stream",
     "text": [
      "/Users/shivaramakrishna/Library/Python/3.9/lib/python/site-packages/scvi/module/_vae.py:458: UserWarning: The value argument must be within the support of the distribution\n",
      "  reconst_loss = -generative_outputs[\"px\"].log_prob(x).sum(-1)\n",
      "/Users/shivaramakrishna/Library/Python/3.9/lib/python/site-packages/scvi/module/_vae.py:458: UserWarning: The value argument must be within the support of the distribution\n",
      "  reconst_loss = -generative_outputs[\"px\"].log_prob(x).sum(-1)\n"
     ]
    },
    {
     "name": "stdout",
     "output_type": "stream",
     "text": [
      "Epoch 345/388:  89%|████████▊ | 344/388 [17:46<02:09,  2.94s/it, v_num=1, train_loss_step=278, train_loss_epoch=251]"
     ]
    },
    {
     "name": "stderr",
     "output_type": "stream",
     "text": [
      "/Users/shivaramakrishna/Library/Python/3.9/lib/python/site-packages/scvi/module/_vae.py:458: UserWarning: The value argument must be within the support of the distribution\n",
      "  reconst_loss = -generative_outputs[\"px\"].log_prob(x).sum(-1)\n",
      "/Users/shivaramakrishna/Library/Python/3.9/lib/python/site-packages/scvi/module/_vae.py:458: UserWarning: The value argument must be within the support of the distribution\n",
      "  reconst_loss = -generative_outputs[\"px\"].log_prob(x).sum(-1)\n"
     ]
    },
    {
     "name": "stdout",
     "output_type": "stream",
     "text": [
      "Epoch 346/388:  89%|████████▉ | 345/388 [17:49<02:06,  2.94s/it, v_num=1, train_loss_step=240, train_loss_epoch=251]"
     ]
    },
    {
     "name": "stderr",
     "output_type": "stream",
     "text": [
      "/Users/shivaramakrishna/Library/Python/3.9/lib/python/site-packages/scvi/module/_vae.py:458: UserWarning: The value argument must be within the support of the distribution\n",
      "  reconst_loss = -generative_outputs[\"px\"].log_prob(x).sum(-1)\n",
      "/Users/shivaramakrishna/Library/Python/3.9/lib/python/site-packages/scvi/module/_vae.py:458: UserWarning: The value argument must be within the support of the distribution\n",
      "  reconst_loss = -generative_outputs[\"px\"].log_prob(x).sum(-1)\n"
     ]
    },
    {
     "name": "stdout",
     "output_type": "stream",
     "text": [
      "Epoch 347/388:  89%|████████▉ | 346/388 [17:52<02:02,  2.93s/it, v_num=1, train_loss_step=345, train_loss_epoch=251]"
     ]
    },
    {
     "name": "stderr",
     "output_type": "stream",
     "text": [
      "/Users/shivaramakrishna/Library/Python/3.9/lib/python/site-packages/scvi/module/_vae.py:458: UserWarning: The value argument must be within the support of the distribution\n",
      "  reconst_loss = -generative_outputs[\"px\"].log_prob(x).sum(-1)\n",
      "/Users/shivaramakrishna/Library/Python/3.9/lib/python/site-packages/scvi/module/_vae.py:458: UserWarning: The value argument must be within the support of the distribution\n",
      "  reconst_loss = -generative_outputs[\"px\"].log_prob(x).sum(-1)\n"
     ]
    },
    {
     "name": "stdout",
     "output_type": "stream",
     "text": [
      "Epoch 348/388:  89%|████████▉ | 347/388 [17:55<02:00,  2.95s/it, v_num=1, train_loss_step=253, train_loss_epoch=251]"
     ]
    },
    {
     "name": "stderr",
     "output_type": "stream",
     "text": [
      "/Users/shivaramakrishna/Library/Python/3.9/lib/python/site-packages/scvi/module/_vae.py:458: UserWarning: The value argument must be within the support of the distribution\n",
      "  reconst_loss = -generative_outputs[\"px\"].log_prob(x).sum(-1)\n",
      "/Users/shivaramakrishna/Library/Python/3.9/lib/python/site-packages/scvi/module/_vae.py:458: UserWarning: The value argument must be within the support of the distribution\n",
      "  reconst_loss = -generative_outputs[\"px\"].log_prob(x).sum(-1)\n"
     ]
    },
    {
     "name": "stdout",
     "output_type": "stream",
     "text": [
      "Epoch 349/388:  90%|████████▉ | 348/388 [17:58<01:57,  2.94s/it, v_num=1, train_loss_step=348, train_loss_epoch=251]"
     ]
    },
    {
     "name": "stderr",
     "output_type": "stream",
     "text": [
      "/Users/shivaramakrishna/Library/Python/3.9/lib/python/site-packages/scvi/module/_vae.py:458: UserWarning: The value argument must be within the support of the distribution\n",
      "  reconst_loss = -generative_outputs[\"px\"].log_prob(x).sum(-1)\n",
      "/Users/shivaramakrishna/Library/Python/3.9/lib/python/site-packages/scvi/module/_vae.py:458: UserWarning: The value argument must be within the support of the distribution\n",
      "  reconst_loss = -generative_outputs[\"px\"].log_prob(x).sum(-1)\n"
     ]
    },
    {
     "name": "stdout",
     "output_type": "stream",
     "text": [
      "Epoch 350/388:  90%|████████▉ | 349/388 [18:00<01:53,  2.91s/it, v_num=1, train_loss_step=258, train_loss_epoch=251]"
     ]
    },
    {
     "name": "stderr",
     "output_type": "stream",
     "text": [
      "/Users/shivaramakrishna/Library/Python/3.9/lib/python/site-packages/scvi/module/_vae.py:458: UserWarning: The value argument must be within the support of the distribution\n",
      "  reconst_loss = -generative_outputs[\"px\"].log_prob(x).sum(-1)\n",
      "/Users/shivaramakrishna/Library/Python/3.9/lib/python/site-packages/scvi/module/_vae.py:458: UserWarning: The value argument must be within the support of the distribution\n",
      "  reconst_loss = -generative_outputs[\"px\"].log_prob(x).sum(-1)\n"
     ]
    },
    {
     "name": "stdout",
     "output_type": "stream",
     "text": [
      "Epoch 351/388:  90%|█████████ | 350/388 [18:03<01:51,  2.93s/it, v_num=1, train_loss_step=281, train_loss_epoch=251]"
     ]
    },
    {
     "name": "stderr",
     "output_type": "stream",
     "text": [
      "/Users/shivaramakrishna/Library/Python/3.9/lib/python/site-packages/scvi/module/_vae.py:458: UserWarning: The value argument must be within the support of the distribution\n",
      "  reconst_loss = -generative_outputs[\"px\"].log_prob(x).sum(-1)\n",
      "/Users/shivaramakrishna/Library/Python/3.9/lib/python/site-packages/scvi/module/_vae.py:458: UserWarning: The value argument must be within the support of the distribution\n",
      "  reconst_loss = -generative_outputs[\"px\"].log_prob(x).sum(-1)\n"
     ]
    },
    {
     "name": "stdout",
     "output_type": "stream",
     "text": [
      "Epoch 352/388:  90%|█████████ | 351/388 [18:06<01:48,  2.92s/it, v_num=1, train_loss_step=244, train_loss_epoch=251]"
     ]
    },
    {
     "name": "stderr",
     "output_type": "stream",
     "text": [
      "/Users/shivaramakrishna/Library/Python/3.9/lib/python/site-packages/scvi/module/_vae.py:458: UserWarning: The value argument must be within the support of the distribution\n",
      "  reconst_loss = -generative_outputs[\"px\"].log_prob(x).sum(-1)\n",
      "/Users/shivaramakrishna/Library/Python/3.9/lib/python/site-packages/scvi/module/_vae.py:458: UserWarning: The value argument must be within the support of the distribution\n",
      "  reconst_loss = -generative_outputs[\"px\"].log_prob(x).sum(-1)\n"
     ]
    },
    {
     "name": "stdout",
     "output_type": "stream",
     "text": [
      "Epoch 353/388:  91%|█████████ | 352/388 [18:09<01:44,  2.92s/it, v_num=1, train_loss_step=271, train_loss_epoch=251]"
     ]
    },
    {
     "name": "stderr",
     "output_type": "stream",
     "text": [
      "/Users/shivaramakrishna/Library/Python/3.9/lib/python/site-packages/scvi/module/_vae.py:458: UserWarning: The value argument must be within the support of the distribution\n",
      "  reconst_loss = -generative_outputs[\"px\"].log_prob(x).sum(-1)\n",
      "/Users/shivaramakrishna/Library/Python/3.9/lib/python/site-packages/scvi/module/_vae.py:458: UserWarning: The value argument must be within the support of the distribution\n",
      "  reconst_loss = -generative_outputs[\"px\"].log_prob(x).sum(-1)\n"
     ]
    },
    {
     "name": "stdout",
     "output_type": "stream",
     "text": [
      "Epoch 354/388:  91%|█████████ | 353/388 [18:12<01:41,  2.91s/it, v_num=1, train_loss_step=280, train_loss_epoch=251]"
     ]
    },
    {
     "name": "stderr",
     "output_type": "stream",
     "text": [
      "/Users/shivaramakrishna/Library/Python/3.9/lib/python/site-packages/scvi/module/_vae.py:458: UserWarning: The value argument must be within the support of the distribution\n",
      "  reconst_loss = -generative_outputs[\"px\"].log_prob(x).sum(-1)\n",
      "/Users/shivaramakrishna/Library/Python/3.9/lib/python/site-packages/scvi/module/_vae.py:458: UserWarning: The value argument must be within the support of the distribution\n",
      "  reconst_loss = -generative_outputs[\"px\"].log_prob(x).sum(-1)\n"
     ]
    },
    {
     "name": "stdout",
     "output_type": "stream",
     "text": [
      "Epoch 355/388:  91%|█████████ | 354/388 [18:15<01:39,  2.92s/it, v_num=1, train_loss_step=257, train_loss_epoch=251]"
     ]
    },
    {
     "name": "stderr",
     "output_type": "stream",
     "text": [
      "/Users/shivaramakrishna/Library/Python/3.9/lib/python/site-packages/scvi/module/_vae.py:458: UserWarning: The value argument must be within the support of the distribution\n",
      "  reconst_loss = -generative_outputs[\"px\"].log_prob(x).sum(-1)\n",
      "/Users/shivaramakrishna/Library/Python/3.9/lib/python/site-packages/scvi/module/_vae.py:458: UserWarning: The value argument must be within the support of the distribution\n",
      "  reconst_loss = -generative_outputs[\"px\"].log_prob(x).sum(-1)\n"
     ]
    },
    {
     "name": "stdout",
     "output_type": "stream",
     "text": [
      "Epoch 356/388:  91%|█████████▏| 355/388 [18:18<01:36,  2.94s/it, v_num=1, train_loss_step=269, train_loss_epoch=251]"
     ]
    },
    {
     "name": "stderr",
     "output_type": "stream",
     "text": [
      "/Users/shivaramakrishna/Library/Python/3.9/lib/python/site-packages/scvi/module/_vae.py:458: UserWarning: The value argument must be within the support of the distribution\n",
      "  reconst_loss = -generative_outputs[\"px\"].log_prob(x).sum(-1)\n",
      "/Users/shivaramakrishna/Library/Python/3.9/lib/python/site-packages/scvi/module/_vae.py:458: UserWarning: The value argument must be within the support of the distribution\n",
      "  reconst_loss = -generative_outputs[\"px\"].log_prob(x).sum(-1)\n"
     ]
    },
    {
     "name": "stdout",
     "output_type": "stream",
     "text": [
      "Epoch 357/388:  92%|█████████▏| 356/388 [18:21<01:33,  2.91s/it, v_num=1, train_loss_step=257, train_loss_epoch=251]"
     ]
    },
    {
     "name": "stderr",
     "output_type": "stream",
     "text": [
      "/Users/shivaramakrishna/Library/Python/3.9/lib/python/site-packages/scvi/module/_vae.py:458: UserWarning: The value argument must be within the support of the distribution\n",
      "  reconst_loss = -generative_outputs[\"px\"].log_prob(x).sum(-1)\n",
      "/Users/shivaramakrishna/Library/Python/3.9/lib/python/site-packages/scvi/module/_vae.py:458: UserWarning: The value argument must be within the support of the distribution\n",
      "  reconst_loss = -generative_outputs[\"px\"].log_prob(x).sum(-1)\n"
     ]
    },
    {
     "name": "stdout",
     "output_type": "stream",
     "text": [
      "Epoch 358/388:  92%|█████████▏| 357/388 [18:24<01:30,  2.92s/it, v_num=1, train_loss_step=305, train_loss_epoch=251]"
     ]
    },
    {
     "name": "stderr",
     "output_type": "stream",
     "text": [
      "/Users/shivaramakrishna/Library/Python/3.9/lib/python/site-packages/scvi/module/_vae.py:458: UserWarning: The value argument must be within the support of the distribution\n",
      "  reconst_loss = -generative_outputs[\"px\"].log_prob(x).sum(-1)\n",
      "/Users/shivaramakrishna/Library/Python/3.9/lib/python/site-packages/scvi/module/_vae.py:458: UserWarning: The value argument must be within the support of the distribution\n",
      "  reconst_loss = -generative_outputs[\"px\"].log_prob(x).sum(-1)\n"
     ]
    },
    {
     "name": "stdout",
     "output_type": "stream",
     "text": [
      "Epoch 359/388:  92%|█████████▏| 358/388 [18:27<01:27,  2.92s/it, v_num=1, train_loss_step=283, train_loss_epoch=251]"
     ]
    },
    {
     "name": "stderr",
     "output_type": "stream",
     "text": [
      "/Users/shivaramakrishna/Library/Python/3.9/lib/python/site-packages/scvi/module/_vae.py:458: UserWarning: The value argument must be within the support of the distribution\n",
      "  reconst_loss = -generative_outputs[\"px\"].log_prob(x).sum(-1)\n",
      "/Users/shivaramakrishna/Library/Python/3.9/lib/python/site-packages/scvi/module/_vae.py:458: UserWarning: The value argument must be within the support of the distribution\n",
      "  reconst_loss = -generative_outputs[\"px\"].log_prob(x).sum(-1)\n"
     ]
    },
    {
     "name": "stdout",
     "output_type": "stream",
     "text": [
      "Epoch 360/388:  93%|█████████▎| 359/388 [18:30<01:25,  2.95s/it, v_num=1, train_loss_step=242, train_loss_epoch=251]"
     ]
    },
    {
     "name": "stderr",
     "output_type": "stream",
     "text": [
      "/Users/shivaramakrishna/Library/Python/3.9/lib/python/site-packages/scvi/module/_vae.py:458: UserWarning: The value argument must be within the support of the distribution\n",
      "  reconst_loss = -generative_outputs[\"px\"].log_prob(x).sum(-1)\n",
      "/Users/shivaramakrishna/Library/Python/3.9/lib/python/site-packages/scvi/module/_vae.py:458: UserWarning: The value argument must be within the support of the distribution\n",
      "  reconst_loss = -generative_outputs[\"px\"].log_prob(x).sum(-1)\n"
     ]
    },
    {
     "name": "stdout",
     "output_type": "stream",
     "text": [
      "Epoch 361/388:  93%|█████████▎| 360/388 [18:33<01:22,  2.94s/it, v_num=1, train_loss_step=252, train_loss_epoch=251]"
     ]
    },
    {
     "name": "stderr",
     "output_type": "stream",
     "text": [
      "/Users/shivaramakrishna/Library/Python/3.9/lib/python/site-packages/scvi/module/_vae.py:458: UserWarning: The value argument must be within the support of the distribution\n",
      "  reconst_loss = -generative_outputs[\"px\"].log_prob(x).sum(-1)\n",
      "/Users/shivaramakrishna/Library/Python/3.9/lib/python/site-packages/scvi/module/_vae.py:458: UserWarning: The value argument must be within the support of the distribution\n",
      "  reconst_loss = -generative_outputs[\"px\"].log_prob(x).sum(-1)\n"
     ]
    },
    {
     "name": "stdout",
     "output_type": "stream",
     "text": [
      "Epoch 362/388:  93%|█████████▎| 361/388 [18:36<01:19,  2.93s/it, v_num=1, train_loss_step=255, train_loss_epoch=251]"
     ]
    },
    {
     "name": "stderr",
     "output_type": "stream",
     "text": [
      "/Users/shivaramakrishna/Library/Python/3.9/lib/python/site-packages/scvi/module/_vae.py:458: UserWarning: The value argument must be within the support of the distribution\n",
      "  reconst_loss = -generative_outputs[\"px\"].log_prob(x).sum(-1)\n",
      "/Users/shivaramakrishna/Library/Python/3.9/lib/python/site-packages/scvi/module/_vae.py:458: UserWarning: The value argument must be within the support of the distribution\n",
      "  reconst_loss = -generative_outputs[\"px\"].log_prob(x).sum(-1)\n"
     ]
    },
    {
     "name": "stdout",
     "output_type": "stream",
     "text": [
      "Epoch 363/388:  93%|█████████▎| 362/388 [18:39<01:16,  2.93s/it, v_num=1, train_loss_step=304, train_loss_epoch=251]"
     ]
    },
    {
     "name": "stderr",
     "output_type": "stream",
     "text": [
      "/Users/shivaramakrishna/Library/Python/3.9/lib/python/site-packages/scvi/module/_vae.py:458: UserWarning: The value argument must be within the support of the distribution\n",
      "  reconst_loss = -generative_outputs[\"px\"].log_prob(x).sum(-1)\n",
      "/Users/shivaramakrishna/Library/Python/3.9/lib/python/site-packages/scvi/module/_vae.py:458: UserWarning: The value argument must be within the support of the distribution\n",
      "  reconst_loss = -generative_outputs[\"px\"].log_prob(x).sum(-1)\n"
     ]
    },
    {
     "name": "stdout",
     "output_type": "stream",
     "text": [
      "Epoch 364/388:  94%|█████████▎| 363/388 [18:41<01:12,  2.92s/it, v_num=1, train_loss_step=256, train_loss_epoch=251]"
     ]
    },
    {
     "name": "stderr",
     "output_type": "stream",
     "text": [
      "/Users/shivaramakrishna/Library/Python/3.9/lib/python/site-packages/scvi/module/_vae.py:458: UserWarning: The value argument must be within the support of the distribution\n",
      "  reconst_loss = -generative_outputs[\"px\"].log_prob(x).sum(-1)\n",
      "/Users/shivaramakrishna/Library/Python/3.9/lib/python/site-packages/scvi/module/_vae.py:458: UserWarning: The value argument must be within the support of the distribution\n",
      "  reconst_loss = -generative_outputs[\"px\"].log_prob(x).sum(-1)\n"
     ]
    },
    {
     "name": "stdout",
     "output_type": "stream",
     "text": [
      "Epoch 365/388:  94%|█████████▍| 364/388 [18:44<01:10,  2.92s/it, v_num=1, train_loss_step=310, train_loss_epoch=251]"
     ]
    },
    {
     "name": "stderr",
     "output_type": "stream",
     "text": [
      "/Users/shivaramakrishna/Library/Python/3.9/lib/python/site-packages/scvi/module/_vae.py:458: UserWarning: The value argument must be within the support of the distribution\n",
      "  reconst_loss = -generative_outputs[\"px\"].log_prob(x).sum(-1)\n",
      "/Users/shivaramakrishna/Library/Python/3.9/lib/python/site-packages/scvi/module/_vae.py:458: UserWarning: The value argument must be within the support of the distribution\n",
      "  reconst_loss = -generative_outputs[\"px\"].log_prob(x).sum(-1)\n"
     ]
    },
    {
     "name": "stdout",
     "output_type": "stream",
     "text": [
      "Epoch 366/388:  94%|█████████▍| 365/388 [18:47<01:07,  2.94s/it, v_num=1, train_loss_step=223, train_loss_epoch=251]"
     ]
    },
    {
     "name": "stderr",
     "output_type": "stream",
     "text": [
      "/Users/shivaramakrishna/Library/Python/3.9/lib/python/site-packages/scvi/module/_vae.py:458: UserWarning: The value argument must be within the support of the distribution\n",
      "  reconst_loss = -generative_outputs[\"px\"].log_prob(x).sum(-1)\n",
      "/Users/shivaramakrishna/Library/Python/3.9/lib/python/site-packages/scvi/module/_vae.py:458: UserWarning: The value argument must be within the support of the distribution\n",
      "  reconst_loss = -generative_outputs[\"px\"].log_prob(x).sum(-1)\n"
     ]
    },
    {
     "name": "stdout",
     "output_type": "stream",
     "text": [
      "Epoch 367/388:  94%|█████████▍| 366/388 [18:50<01:04,  2.94s/it, v_num=1, train_loss_step=241, train_loss_epoch=251]"
     ]
    },
    {
     "name": "stderr",
     "output_type": "stream",
     "text": [
      "/Users/shivaramakrishna/Library/Python/3.9/lib/python/site-packages/scvi/module/_vae.py:458: UserWarning: The value argument must be within the support of the distribution\n",
      "  reconst_loss = -generative_outputs[\"px\"].log_prob(x).sum(-1)\n",
      "/Users/shivaramakrishna/Library/Python/3.9/lib/python/site-packages/scvi/module/_vae.py:458: UserWarning: The value argument must be within the support of the distribution\n",
      "  reconst_loss = -generative_outputs[\"px\"].log_prob(x).sum(-1)\n"
     ]
    },
    {
     "name": "stdout",
     "output_type": "stream",
     "text": [
      "Epoch 368/388:  95%|█████████▍| 367/388 [18:53<01:02,  2.96s/it, v_num=1, train_loss_step=259, train_loss_epoch=251]"
     ]
    },
    {
     "name": "stderr",
     "output_type": "stream",
     "text": [
      "/Users/shivaramakrishna/Library/Python/3.9/lib/python/site-packages/scvi/module/_vae.py:458: UserWarning: The value argument must be within the support of the distribution\n",
      "  reconst_loss = -generative_outputs[\"px\"].log_prob(x).sum(-1)\n",
      "/Users/shivaramakrishna/Library/Python/3.9/lib/python/site-packages/scvi/module/_vae.py:458: UserWarning: The value argument must be within the support of the distribution\n",
      "  reconst_loss = -generative_outputs[\"px\"].log_prob(x).sum(-1)\n"
     ]
    },
    {
     "name": "stdout",
     "output_type": "stream",
     "text": [
      "Epoch 369/388:  95%|█████████▍| 368/388 [18:56<00:58,  2.94s/it, v_num=1, train_loss_step=251, train_loss_epoch=251]"
     ]
    },
    {
     "name": "stderr",
     "output_type": "stream",
     "text": [
      "/Users/shivaramakrishna/Library/Python/3.9/lib/python/site-packages/scvi/module/_vae.py:458: UserWarning: The value argument must be within the support of the distribution\n",
      "  reconst_loss = -generative_outputs[\"px\"].log_prob(x).sum(-1)\n",
      "/Users/shivaramakrishna/Library/Python/3.9/lib/python/site-packages/scvi/module/_vae.py:458: UserWarning: The value argument must be within the support of the distribution\n",
      "  reconst_loss = -generative_outputs[\"px\"].log_prob(x).sum(-1)\n"
     ]
    },
    {
     "name": "stdout",
     "output_type": "stream",
     "text": [
      "Epoch 370/388:  95%|█████████▌| 369/388 [18:59<00:55,  2.94s/it, v_num=1, train_loss_step=257, train_loss_epoch=251]"
     ]
    },
    {
     "name": "stderr",
     "output_type": "stream",
     "text": [
      "/Users/shivaramakrishna/Library/Python/3.9/lib/python/site-packages/scvi/module/_vae.py:458: UserWarning: The value argument must be within the support of the distribution\n",
      "  reconst_loss = -generative_outputs[\"px\"].log_prob(x).sum(-1)\n",
      "/Users/shivaramakrishna/Library/Python/3.9/lib/python/site-packages/scvi/module/_vae.py:458: UserWarning: The value argument must be within the support of the distribution\n",
      "  reconst_loss = -generative_outputs[\"px\"].log_prob(x).sum(-1)\n"
     ]
    },
    {
     "name": "stdout",
     "output_type": "stream",
     "text": [
      "Epoch 371/388:  95%|█████████▌| 370/388 [19:02<00:52,  2.93s/it, v_num=1, train_loss_step=292, train_loss_epoch=251]"
     ]
    },
    {
     "name": "stderr",
     "output_type": "stream",
     "text": [
      "/Users/shivaramakrishna/Library/Python/3.9/lib/python/site-packages/scvi/module/_vae.py:458: UserWarning: The value argument must be within the support of the distribution\n",
      "  reconst_loss = -generative_outputs[\"px\"].log_prob(x).sum(-1)\n",
      "/Users/shivaramakrishna/Library/Python/3.9/lib/python/site-packages/scvi/module/_vae.py:458: UserWarning: The value argument must be within the support of the distribution\n",
      "  reconst_loss = -generative_outputs[\"px\"].log_prob(x).sum(-1)\n"
     ]
    },
    {
     "name": "stdout",
     "output_type": "stream",
     "text": [
      "Epoch 372/388:  96%|█████████▌| 371/388 [19:05<00:49,  2.92s/it, v_num=1, train_loss_step=263, train_loss_epoch=251]"
     ]
    },
    {
     "name": "stderr",
     "output_type": "stream",
     "text": [
      "/Users/shivaramakrishna/Library/Python/3.9/lib/python/site-packages/scvi/module/_vae.py:458: UserWarning: The value argument must be within the support of the distribution\n",
      "  reconst_loss = -generative_outputs[\"px\"].log_prob(x).sum(-1)\n",
      "/Users/shivaramakrishna/Library/Python/3.9/lib/python/site-packages/scvi/module/_vae.py:458: UserWarning: The value argument must be within the support of the distribution\n",
      "  reconst_loss = -generative_outputs[\"px\"].log_prob(x).sum(-1)\n"
     ]
    },
    {
     "name": "stdout",
     "output_type": "stream",
     "text": [
      "Epoch 373/388:  96%|█████████▌| 372/388 [19:08<00:46,  2.93s/it, v_num=1, train_loss_step=258, train_loss_epoch=251]"
     ]
    },
    {
     "name": "stderr",
     "output_type": "stream",
     "text": [
      "/Users/shivaramakrishna/Library/Python/3.9/lib/python/site-packages/scvi/module/_vae.py:458: UserWarning: The value argument must be within the support of the distribution\n",
      "  reconst_loss = -generative_outputs[\"px\"].log_prob(x).sum(-1)\n",
      "/Users/shivaramakrishna/Library/Python/3.9/lib/python/site-packages/scvi/module/_vae.py:458: UserWarning: The value argument must be within the support of the distribution\n",
      "  reconst_loss = -generative_outputs[\"px\"].log_prob(x).sum(-1)\n"
     ]
    },
    {
     "name": "stdout",
     "output_type": "stream",
     "text": [
      "Epoch 374/388:  96%|█████████▌| 373/388 [19:11<00:44,  2.94s/it, v_num=1, train_loss_step=244, train_loss_epoch=252]"
     ]
    },
    {
     "name": "stderr",
     "output_type": "stream",
     "text": [
      "/Users/shivaramakrishna/Library/Python/3.9/lib/python/site-packages/scvi/module/_vae.py:458: UserWarning: The value argument must be within the support of the distribution\n",
      "  reconst_loss = -generative_outputs[\"px\"].log_prob(x).sum(-1)\n",
      "/Users/shivaramakrishna/Library/Python/3.9/lib/python/site-packages/scvi/module/_vae.py:458: UserWarning: The value argument must be within the support of the distribution\n",
      "  reconst_loss = -generative_outputs[\"px\"].log_prob(x).sum(-1)\n"
     ]
    },
    {
     "name": "stdout",
     "output_type": "stream",
     "text": [
      "Epoch 375/388:  96%|█████████▋| 374/388 [19:14<00:41,  2.94s/it, v_num=1, train_loss_step=280, train_loss_epoch=252]"
     ]
    },
    {
     "name": "stderr",
     "output_type": "stream",
     "text": [
      "/Users/shivaramakrishna/Library/Python/3.9/lib/python/site-packages/scvi/module/_vae.py:458: UserWarning: The value argument must be within the support of the distribution\n",
      "  reconst_loss = -generative_outputs[\"px\"].log_prob(x).sum(-1)\n",
      "/Users/shivaramakrishna/Library/Python/3.9/lib/python/site-packages/scvi/module/_vae.py:458: UserWarning: The value argument must be within the support of the distribution\n",
      "  reconst_loss = -generative_outputs[\"px\"].log_prob(x).sum(-1)\n"
     ]
    },
    {
     "name": "stdout",
     "output_type": "stream",
     "text": [
      "Epoch 376/388:  97%|█████████▋| 375/388 [19:17<00:38,  2.94s/it, v_num=1, train_loss_step=290, train_loss_epoch=252]"
     ]
    },
    {
     "name": "stderr",
     "output_type": "stream",
     "text": [
      "/Users/shivaramakrishna/Library/Python/3.9/lib/python/site-packages/scvi/module/_vae.py:458: UserWarning: The value argument must be within the support of the distribution\n",
      "  reconst_loss = -generative_outputs[\"px\"].log_prob(x).sum(-1)\n",
      "/Users/shivaramakrishna/Library/Python/3.9/lib/python/site-packages/scvi/module/_vae.py:458: UserWarning: The value argument must be within the support of the distribution\n",
      "  reconst_loss = -generative_outputs[\"px\"].log_prob(x).sum(-1)\n"
     ]
    },
    {
     "name": "stdout",
     "output_type": "stream",
     "text": [
      "Epoch 377/388:  97%|█████████▋| 376/388 [19:20<00:35,  2.94s/it, v_num=1, train_loss_step=282, train_loss_epoch=252]"
     ]
    },
    {
     "name": "stderr",
     "output_type": "stream",
     "text": [
      "/Users/shivaramakrishna/Library/Python/3.9/lib/python/site-packages/scvi/module/_vae.py:458: UserWarning: The value argument must be within the support of the distribution\n",
      "  reconst_loss = -generative_outputs[\"px\"].log_prob(x).sum(-1)\n",
      "/Users/shivaramakrishna/Library/Python/3.9/lib/python/site-packages/scvi/module/_vae.py:458: UserWarning: The value argument must be within the support of the distribution\n",
      "  reconst_loss = -generative_outputs[\"px\"].log_prob(x).sum(-1)\n"
     ]
    },
    {
     "name": "stdout",
     "output_type": "stream",
     "text": [
      "Epoch 378/388:  97%|█████████▋| 377/388 [19:23<00:32,  2.97s/it, v_num=1, train_loss_step=241, train_loss_epoch=252]"
     ]
    },
    {
     "name": "stderr",
     "output_type": "stream",
     "text": [
      "/Users/shivaramakrishna/Library/Python/3.9/lib/python/site-packages/scvi/module/_vae.py:458: UserWarning: The value argument must be within the support of the distribution\n",
      "  reconst_loss = -generative_outputs[\"px\"].log_prob(x).sum(-1)\n",
      "/Users/shivaramakrishna/Library/Python/3.9/lib/python/site-packages/scvi/module/_vae.py:458: UserWarning: The value argument must be within the support of the distribution\n",
      "  reconst_loss = -generative_outputs[\"px\"].log_prob(x).sum(-1)\n"
     ]
    },
    {
     "name": "stdout",
     "output_type": "stream",
     "text": [
      "Epoch 379/388:  97%|█████████▋| 378/388 [19:26<00:29,  2.94s/it, v_num=1, train_loss_step=247, train_loss_epoch=252]"
     ]
    },
    {
     "name": "stderr",
     "output_type": "stream",
     "text": [
      "/Users/shivaramakrishna/Library/Python/3.9/lib/python/site-packages/scvi/module/_vae.py:458: UserWarning: The value argument must be within the support of the distribution\n",
      "  reconst_loss = -generative_outputs[\"px\"].log_prob(x).sum(-1)\n",
      "/Users/shivaramakrishna/Library/Python/3.9/lib/python/site-packages/scvi/module/_vae.py:458: UserWarning: The value argument must be within the support of the distribution\n",
      "  reconst_loss = -generative_outputs[\"px\"].log_prob(x).sum(-1)\n"
     ]
    },
    {
     "name": "stdout",
     "output_type": "stream",
     "text": [
      "Epoch 380/388:  98%|█████████▊| 379/388 [19:29<00:26,  2.95s/it, v_num=1, train_loss_step=240, train_loss_epoch=252]"
     ]
    },
    {
     "name": "stderr",
     "output_type": "stream",
     "text": [
      "/Users/shivaramakrishna/Library/Python/3.9/lib/python/site-packages/scvi/module/_vae.py:458: UserWarning: The value argument must be within the support of the distribution\n",
      "  reconst_loss = -generative_outputs[\"px\"].log_prob(x).sum(-1)\n",
      "/Users/shivaramakrishna/Library/Python/3.9/lib/python/site-packages/scvi/module/_vae.py:458: UserWarning: The value argument must be within the support of the distribution\n",
      "  reconst_loss = -generative_outputs[\"px\"].log_prob(x).sum(-1)\n"
     ]
    },
    {
     "name": "stdout",
     "output_type": "stream",
     "text": [
      "Epoch 381/388:  98%|█████████▊| 380/388 [19:31<00:23,  2.94s/it, v_num=1, train_loss_step=240, train_loss_epoch=252]"
     ]
    },
    {
     "name": "stderr",
     "output_type": "stream",
     "text": [
      "/Users/shivaramakrishna/Library/Python/3.9/lib/python/site-packages/scvi/module/_vae.py:458: UserWarning: The value argument must be within the support of the distribution\n",
      "  reconst_loss = -generative_outputs[\"px\"].log_prob(x).sum(-1)\n",
      "/Users/shivaramakrishna/Library/Python/3.9/lib/python/site-packages/scvi/module/_vae.py:458: UserWarning: The value argument must be within the support of the distribution\n",
      "  reconst_loss = -generative_outputs[\"px\"].log_prob(x).sum(-1)\n"
     ]
    },
    {
     "name": "stdout",
     "output_type": "stream",
     "text": [
      "Epoch 382/388:  98%|█████████▊| 381/388 [19:34<00:20,  2.92s/it, v_num=1, train_loss_step=241, train_loss_epoch=252]"
     ]
    },
    {
     "name": "stderr",
     "output_type": "stream",
     "text": [
      "/Users/shivaramakrishna/Library/Python/3.9/lib/python/site-packages/scvi/module/_vae.py:458: UserWarning: The value argument must be within the support of the distribution\n",
      "  reconst_loss = -generative_outputs[\"px\"].log_prob(x).sum(-1)\n",
      "/Users/shivaramakrishna/Library/Python/3.9/lib/python/site-packages/scvi/module/_vae.py:458: UserWarning: The value argument must be within the support of the distribution\n",
      "  reconst_loss = -generative_outputs[\"px\"].log_prob(x).sum(-1)\n"
     ]
    },
    {
     "name": "stdout",
     "output_type": "stream",
     "text": [
      "Epoch 383/388:  98%|█████████▊| 382/388 [19:37<00:17,  2.93s/it, v_num=1, train_loss_step=297, train_loss_epoch=252]"
     ]
    },
    {
     "name": "stderr",
     "output_type": "stream",
     "text": [
      "/Users/shivaramakrishna/Library/Python/3.9/lib/python/site-packages/scvi/module/_vae.py:458: UserWarning: The value argument must be within the support of the distribution\n",
      "  reconst_loss = -generative_outputs[\"px\"].log_prob(x).sum(-1)\n",
      "/Users/shivaramakrishna/Library/Python/3.9/lib/python/site-packages/scvi/module/_vae.py:458: UserWarning: The value argument must be within the support of the distribution\n",
      "  reconst_loss = -generative_outputs[\"px\"].log_prob(x).sum(-1)\n"
     ]
    },
    {
     "name": "stdout",
     "output_type": "stream",
     "text": [
      "Epoch 384/388:  99%|█████████▊| 383/388 [19:40<00:14,  2.93s/it, v_num=1, train_loss_step=264, train_loss_epoch=252]"
     ]
    },
    {
     "name": "stderr",
     "output_type": "stream",
     "text": [
      "/Users/shivaramakrishna/Library/Python/3.9/lib/python/site-packages/scvi/module/_vae.py:458: UserWarning: The value argument must be within the support of the distribution\n",
      "  reconst_loss = -generative_outputs[\"px\"].log_prob(x).sum(-1)\n",
      "/Users/shivaramakrishna/Library/Python/3.9/lib/python/site-packages/scvi/module/_vae.py:458: UserWarning: The value argument must be within the support of the distribution\n",
      "  reconst_loss = -generative_outputs[\"px\"].log_prob(x).sum(-1)\n"
     ]
    },
    {
     "name": "stdout",
     "output_type": "stream",
     "text": [
      "Epoch 385/388:  99%|█████████▉| 384/388 [19:43<00:11,  2.93s/it, v_num=1, train_loss_step=307, train_loss_epoch=252]"
     ]
    },
    {
     "name": "stderr",
     "output_type": "stream",
     "text": [
      "/Users/shivaramakrishna/Library/Python/3.9/lib/python/site-packages/scvi/module/_vae.py:458: UserWarning: The value argument must be within the support of the distribution\n",
      "  reconst_loss = -generative_outputs[\"px\"].log_prob(x).sum(-1)\n",
      "/Users/shivaramakrishna/Library/Python/3.9/lib/python/site-packages/scvi/module/_vae.py:458: UserWarning: The value argument must be within the support of the distribution\n",
      "  reconst_loss = -generative_outputs[\"px\"].log_prob(x).sum(-1)\n"
     ]
    },
    {
     "name": "stdout",
     "output_type": "stream",
     "text": [
      "Epoch 386/388:  99%|█████████▉| 385/388 [19:46<00:08,  2.94s/it, v_num=1, train_loss_step=271, train_loss_epoch=252]"
     ]
    },
    {
     "name": "stderr",
     "output_type": "stream",
     "text": [
      "/Users/shivaramakrishna/Library/Python/3.9/lib/python/site-packages/scvi/module/_vae.py:458: UserWarning: The value argument must be within the support of the distribution\n",
      "  reconst_loss = -generative_outputs[\"px\"].log_prob(x).sum(-1)\n",
      "/Users/shivaramakrishna/Library/Python/3.9/lib/python/site-packages/scvi/module/_vae.py:458: UserWarning: The value argument must be within the support of the distribution\n",
      "  reconst_loss = -generative_outputs[\"px\"].log_prob(x).sum(-1)\n"
     ]
    },
    {
     "name": "stdout",
     "output_type": "stream",
     "text": [
      "Epoch 387/388:  99%|█████████▉| 386/388 [19:49<00:05,  2.94s/it, v_num=1, train_loss_step=313, train_loss_epoch=252]"
     ]
    },
    {
     "name": "stderr",
     "output_type": "stream",
     "text": [
      "/Users/shivaramakrishna/Library/Python/3.9/lib/python/site-packages/scvi/module/_vae.py:458: UserWarning: The value argument must be within the support of the distribution\n",
      "  reconst_loss = -generative_outputs[\"px\"].log_prob(x).sum(-1)\n",
      "/Users/shivaramakrishna/Library/Python/3.9/lib/python/site-packages/scvi/module/_vae.py:458: UserWarning: The value argument must be within the support of the distribution\n",
      "  reconst_loss = -generative_outputs[\"px\"].log_prob(x).sum(-1)\n"
     ]
    },
    {
     "name": "stdout",
     "output_type": "stream",
     "text": [
      "Epoch 388/388: 100%|█████████▉| 387/388 [19:52<00:02,  2.95s/it, v_num=1, train_loss_step=283, train_loss_epoch=252]"
     ]
    },
    {
     "name": "stderr",
     "output_type": "stream",
     "text": [
      "/Users/shivaramakrishna/Library/Python/3.9/lib/python/site-packages/scvi/module/_vae.py:458: UserWarning: The value argument must be within the support of the distribution\n",
      "  reconst_loss = -generative_outputs[\"px\"].log_prob(x).sum(-1)\n",
      "/Users/shivaramakrishna/Library/Python/3.9/lib/python/site-packages/scvi/module/_vae.py:458: UserWarning: The value argument must be within the support of the distribution\n",
      "  reconst_loss = -generative_outputs[\"px\"].log_prob(x).sum(-1)\n"
     ]
    },
    {
     "name": "stdout",
     "output_type": "stream",
     "text": [
      "Epoch 388/388: 100%|██████████| 388/388 [19:55<00:00,  2.97s/it, v_num=1, train_loss_step=275, train_loss_epoch=252]"
     ]
    },
    {
     "name": "stderr",
     "output_type": "stream",
     "text": [
      "`Trainer.fit` stopped: `max_epochs=388` reached.\n"
     ]
    },
    {
     "name": "stdout",
     "output_type": "stream",
     "text": [
      "Epoch 388/388: 100%|██████████| 388/388 [19:55<00:00,  3.08s/it, v_num=1, train_loss_step=275, train_loss_epoch=252]\n"
     ]
    }
   ],
   "source": [
    "scvi.model.SCVI.setup_anndata(sclcCells)\n",
    "vae = scvi.model.SCVI(sclcCells)\n",
    "vae.train()"
   ]
  },
  {
   "cell_type": "code",
   "execution_count": 13,
   "metadata": {},
   "outputs": [
    {
     "name": "stdout",
     "output_type": "stream",
     "text": [
      "\u001b[34mINFO    \u001b[0m Creating doublets, preparing SOLO model.                                                                  \n"
     ]
    },
    {
     "name": "stderr",
     "output_type": "stream",
     "text": [
      "/Users/shivaramakrishna/Library/Python/3.9/lib/python/site-packages/scvi/data/fields/_base_field.py:64: UserWarning: adata.X does not contain unnormalized count data. Are you sure this is what you want?\n",
      "  self.validate_field(adata)\n",
      "GPU available: True (mps), used: False\n",
      "TPU available: False, using: 0 TPU cores\n",
      "IPU available: False, using: 0 IPUs\n",
      "HPU available: False, using: 0 HPUs\n",
      "/Users/shivaramakrishna/Library/Python/3.9/lib/python/site-packages/lightning/pytorch/trainer/setup.py:187: GPU available but not used. You can set it by doing `Trainer(accelerator='gpu')`.\n",
      "/Users/shivaramakrishna/Library/Python/3.9/lib/python/site-packages/lightning/pytorch/trainer/connectors/data_connector.py:441: The 'train_dataloader' does not have many workers which may be a bottleneck. Consider increasing the value of the `num_workers` argument` to `num_workers=9` in the `DataLoader` to improve performance.\n",
      "/Users/shivaramakrishna/Library/Python/3.9/lib/python/site-packages/lightning/pytorch/trainer/connectors/data_connector.py:441: The 'val_dataloader' does not have many workers which may be a bottleneck. Consider increasing the value of the `num_workers` argument` to `num_workers=9` in the `DataLoader` to improve performance.\n"
     ]
    },
    {
     "name": "stdout",
     "output_type": "stream",
     "text": [
      "Epoch 195/400:  49%|████▉     | 195/400 [01:43<01:48,  1.89it/s, v_num=1, train_loss_step=0.0789, train_loss_epoch=0.0238]  \n",
      "Monitored metric validation_loss did not improve in the last 30 records. Best score: 0.022. Signaling Trainer to stop.\n"
     ]
    }
   ],
   "source": [
    "solo = scvi.external.SOLO.from_scvi_model(vae) # get the SOLO model from SCVI\n",
    "solo.train() # train the model over the standard number of epochs, set to auto-terminate"
   ]
  },
  {
   "cell_type": "code",
   "execution_count": 14,
   "metadata": {},
   "outputs": [
    {
     "data": {
      "text/html": [
       "<div>\n",
       "<style scoped>\n",
       "    .dataframe tbody tr th:only-of-type {\n",
       "        vertical-align: middle;\n",
       "    }\n",
       "\n",
       "    .dataframe tbody tr th {\n",
       "        vertical-align: top;\n",
       "    }\n",
       "\n",
       "    .dataframe thead th {\n",
       "        text-align: right;\n",
       "    }\n",
       "</style>\n",
       "<table border=\"1\" class=\"dataframe\">\n",
       "  <thead>\n",
       "    <tr style=\"text-align: right;\">\n",
       "      <th></th>\n",
       "      <th>doublet</th>\n",
       "      <th>singlet</th>\n",
       "      <th>prediction</th>\n",
       "    </tr>\n",
       "  </thead>\n",
       "  <tbody>\n",
       "    <tr>\n",
       "      <th>scrBT1428_CCACGGATCGCATGGC_lambrechts</th>\n",
       "      <td>-4.792464</td>\n",
       "      <td>3.552075</td>\n",
       "      <td>singlet</td>\n",
       "    </tr>\n",
       "    <tr>\n",
       "      <th>BT1248_GGACAGGATGACCA_lambrechts</th>\n",
       "      <td>-3.557067</td>\n",
       "      <td>1.664423</td>\n",
       "      <td>singlet</td>\n",
       "    </tr>\n",
       "    <tr>\n",
       "      <th>scrBT1428_TATGCCCTCCACTGGG_lambrechts</th>\n",
       "      <td>-5.775774</td>\n",
       "      <td>4.016318</td>\n",
       "      <td>singlet</td>\n",
       "    </tr>\n",
       "    <tr>\n",
       "      <th>scrBT1426_ATTCTACTCTGTGCAA_lambrechts</th>\n",
       "      <td>-3.409890</td>\n",
       "      <td>2.384172</td>\n",
       "      <td>singlet</td>\n",
       "    </tr>\n",
       "    <tr>\n",
       "      <th>scrBT1428_GGACGTCAGCTAACAA_lambrechts</th>\n",
       "      <td>-3.391118</td>\n",
       "      <td>3.038306</td>\n",
       "      <td>singlet</td>\n",
       "    </tr>\n",
       "  </tbody>\n",
       "</table>\n",
       "</div>"
      ],
      "text/plain": [
       "                                        doublet   singlet prediction\n",
       "scrBT1428_CCACGGATCGCATGGC_lambrechts -4.792464  3.552075    singlet\n",
       "BT1248_GGACAGGATGACCA_lambrechts      -3.557067  1.664423    singlet\n",
       "scrBT1428_TATGCCCTCCACTGGG_lambrechts -5.775774  4.016318    singlet\n",
       "scrBT1426_ATTCTACTCTGTGCAA_lambrechts -3.409890  2.384172    singlet\n",
       "scrBT1428_GGACGTCAGCTAACAA_lambrechts -3.391118  3.038306    singlet"
      ]
     },
     "execution_count": 14,
     "metadata": {},
     "output_type": "execute_result"
    }
   ],
   "source": [
    "doubletPredict = solo.predict() # use the SOLO model to predict if a cell is a singlet or doublet\n",
    "doubletPredict['prediction'] = solo.predict(soft=False) # predict in a new column\n",
    "doubletPredict.head(5) # visualise counts"
   ]
  },
  {
   "cell_type": "code",
   "execution_count": 16,
   "metadata": {},
   "outputs": [
    {
     "data": {
      "text/html": [
       "<div>\n",
       "<style scoped>\n",
       "    .dataframe tbody tr th:only-of-type {\n",
       "        vertical-align: middle;\n",
       "    }\n",
       "\n",
       "    .dataframe tbody tr th {\n",
       "        vertical-align: top;\n",
       "    }\n",
       "\n",
       "    .dataframe thead th {\n",
       "        text-align: right;\n",
       "    }\n",
       "</style>\n",
       "<table border=\"1\" class=\"dataframe\">\n",
       "  <thead>\n",
       "    <tr style=\"text-align: right;\">\n",
       "      <th></th>\n",
       "      <th>doublet</th>\n",
       "      <th>singlet</th>\n",
       "    </tr>\n",
       "    <tr>\n",
       "      <th>prediction</th>\n",
       "      <th></th>\n",
       "      <th></th>\n",
       "    </tr>\n",
       "  </thead>\n",
       "  <tbody>\n",
       "    <tr>\n",
       "      <th>doublet</th>\n",
       "      <td>138</td>\n",
       "      <td>138</td>\n",
       "    </tr>\n",
       "    <tr>\n",
       "      <th>singlet</th>\n",
       "      <td>20493</td>\n",
       "      <td>20493</td>\n",
       "    </tr>\n",
       "  </tbody>\n",
       "</table>\n",
       "</div>"
      ],
      "text/plain": [
       "            doublet  singlet\n",
       "prediction                  \n",
       "doublet         138      138\n",
       "singlet       20493    20493"
      ]
     },
     "execution_count": 16,
     "metadata": {},
     "output_type": "execute_result"
    }
   ],
   "source": [
    "doubletPredict.groupby('prediction').count() # doublets - 126, singlets - 20505\n"
   ]
  },
  {
   "cell_type": "code",
   "execution_count": 19,
   "metadata": {},
   "outputs": [
    {
     "data": {
      "text/plain": [
       "(20631, 4)"
      ]
     },
     "execution_count": 19,
     "metadata": {},
     "output_type": "execute_result"
    },
    {
     "data": {
      "image/png": "[encoded data removed]",
      "text/plain": [
       "<Figure size 500x500 with 1 Axes>"
      ]
     },
     "metadata": {},
     "output_type": "display_data"
    }
   ],
   "source": [
    "doubletPredict['predDif'] = abs(doubletPredict['singlet'] - doubletPredict['doublet']) # visualise certainty with which singlets are predicted\n",
    "sns.displot(doubletPredict[doubletPredict.prediction == 'doublet'], x = 'predDif')\n",
    "doubletPredict.shape "
   ]
  },
  {
   "cell_type": "code",
   "execution_count": 22,
   "metadata": {},
   "outputs": [],
   "source": [
    "doublets = doubletPredict[(doubletPredict.prediction == 'doublet') & (doubletPredict.predDif > 1)]"
   ]
  },
  {
   "cell_type": "code",
   "execution_count": 23,
   "metadata": {},
   "outputs": [],
   "source": [
    "sclcCells_Full = sc.read_h5ad('hlca/sclcCells.h5ad')\n",
    "sclcCells_Full.obs['doublet'] = sclcCells_Full.obs.index.isin(doublets.index)"
   ]
  },
  {
   "cell_type": "code",
   "execution_count": 26,
   "metadata": {},
   "outputs": [
    {
     "data": {
      "text/html": [
       "<div>\n",
       "<style scoped>\n",
       "    .dataframe tbody tr th:only-of-type {\n",
       "        vertical-align: middle;\n",
       "    }\n",
       "\n",
       "    .dataframe tbody tr th {\n",
       "        vertical-align: top;\n",
       "    }\n",
       "\n",
       "    .dataframe thead th {\n",
       "        text-align: right;\n",
       "    }\n",
       "</style>\n",
       "<table border=\"1\" class=\"dataframe\">\n",
       "  <thead>\n",
       "    <tr style=\"text-align: right;\">\n",
       "      <th></th>\n",
       "      <th>suspension_type</th>\n",
       "      <th>donor_id</th>\n",
       "      <th>is_primary_data</th>\n",
       "      <th>assay_ontology_term_id</th>\n",
       "      <th>cell_type_ontology_term_id</th>\n",
       "      <th>development_stage_ontology_term_id</th>\n",
       "      <th>disease_ontology_term_id</th>\n",
       "      <th>self_reported_ethnicity_ontology_term_id</th>\n",
       "      <th>tissue_ontology_term_id</th>\n",
       "      <th>organism_ontology_term_id</th>\n",
       "      <th>...</th>\n",
       "      <th>cell_type</th>\n",
       "      <th>assay</th>\n",
       "      <th>disease</th>\n",
       "      <th>organism</th>\n",
       "      <th>sex</th>\n",
       "      <th>tissue</th>\n",
       "      <th>self_reported_ethnicity</th>\n",
       "      <th>development_stage</th>\n",
       "      <th>observation_joinid</th>\n",
       "      <th>doublet</th>\n",
       "    </tr>\n",
       "  </thead>\n",
       "  <tbody>\n",
       "    <tr>\n",
       "      <th>scrBT1428_CCACGGATCGCATGGC_lambrechts</th>\n",
       "      <td>cell</td>\n",
       "      <td>homosapiens_None_2023_None_sikkemalisa_002_d10...</td>\n",
       "      <td>True</td>\n",
       "      <td>EFO:0030003</td>\n",
       "      <td>CL:0000625</td>\n",
       "      <td>unknown</td>\n",
       "      <td>MONDO:0005097</td>\n",
       "      <td>unknown</td>\n",
       "      <td>UBERON:0002048</td>\n",
       "      <td>NCBITaxon:9606</td>\n",
       "      <td>...</td>\n",
       "      <td>CD8-positive, alpha-beta T cell</td>\n",
       "      <td>10x 3' transcription profiling</td>\n",
       "      <td>squamous cell lung carcinoma</td>\n",
       "      <td>Homo sapiens</td>\n",
       "      <td>unknown</td>\n",
       "      <td>lung</td>\n",
       "      <td>unknown</td>\n",
       "      <td>unknown</td>\n",
       "      <td>kok@4pR6O8</td>\n",
       "      <td>False</td>\n",
       "    </tr>\n",
       "    <tr>\n",
       "      <th>BT1248_GGACAGGATGACCA_lambrechts</th>\n",
       "      <td>cell</td>\n",
       "      <td>homosapiens_None_2023_None_sikkemalisa_002_d10...</td>\n",
       "      <td>True</td>\n",
       "      <td>EFO:0030003</td>\n",
       "      <td>CL:0000625</td>\n",
       "      <td>unknown</td>\n",
       "      <td>MONDO:0005097</td>\n",
       "      <td>unknown</td>\n",
       "      <td>UBERON:0002048</td>\n",
       "      <td>NCBITaxon:9606</td>\n",
       "      <td>...</td>\n",
       "      <td>CD8-positive, alpha-beta T cell</td>\n",
       "      <td>10x 3' transcription profiling</td>\n",
       "      <td>squamous cell lung carcinoma</td>\n",
       "      <td>Homo sapiens</td>\n",
       "      <td>unknown</td>\n",
       "      <td>lung</td>\n",
       "      <td>unknown</td>\n",
       "      <td>unknown</td>\n",
       "      <td>wxUib0^bFj</td>\n",
       "      <td>False</td>\n",
       "    </tr>\n",
       "    <tr>\n",
       "      <th>scrBT1428_TATGCCCTCCACTGGG_lambrechts</th>\n",
       "      <td>cell</td>\n",
       "      <td>homosapiens_None_2023_None_sikkemalisa_002_d10...</td>\n",
       "      <td>True</td>\n",
       "      <td>EFO:0030003</td>\n",
       "      <td>CL:0002063</td>\n",
       "      <td>unknown</td>\n",
       "      <td>MONDO:0005097</td>\n",
       "      <td>unknown</td>\n",
       "      <td>UBERON:0002048</td>\n",
       "      <td>NCBITaxon:9606</td>\n",
       "      <td>...</td>\n",
       "      <td>type II pneumocyte</td>\n",
       "      <td>10x 3' transcription profiling</td>\n",
       "      <td>squamous cell lung carcinoma</td>\n",
       "      <td>Homo sapiens</td>\n",
       "      <td>unknown</td>\n",
       "      <td>lung</td>\n",
       "      <td>unknown</td>\n",
       "      <td>unknown</td>\n",
       "      <td>t;Y`(D7%Y~</td>\n",
       "      <td>False</td>\n",
       "    </tr>\n",
       "    <tr>\n",
       "      <th>scrBT1426_ATTCTACTCTGTGCAA_lambrechts</th>\n",
       "      <td>cell</td>\n",
       "      <td>homosapiens_None_2023_None_sikkemalisa_002_d10...</td>\n",
       "      <td>True</td>\n",
       "      <td>EFO:0030003</td>\n",
       "      <td>CL:0000236</td>\n",
       "      <td>unknown</td>\n",
       "      <td>MONDO:0005097</td>\n",
       "      <td>unknown</td>\n",
       "      <td>UBERON:0002048</td>\n",
       "      <td>NCBITaxon:9606</td>\n",
       "      <td>...</td>\n",
       "      <td>B cell</td>\n",
       "      <td>10x 3' transcription profiling</td>\n",
       "      <td>squamous cell lung carcinoma</td>\n",
       "      <td>Homo sapiens</td>\n",
       "      <td>unknown</td>\n",
       "      <td>lung</td>\n",
       "      <td>unknown</td>\n",
       "      <td>unknown</td>\n",
       "      <td>0=fyWhM&gt;W7</td>\n",
       "      <td>False</td>\n",
       "    </tr>\n",
       "    <tr>\n",
       "      <th>scrBT1428_GGACGTCAGCTAACAA_lambrechts</th>\n",
       "      <td>cell</td>\n",
       "      <td>homosapiens_None_2023_None_sikkemalisa_002_d10...</td>\n",
       "      <td>True</td>\n",
       "      <td>EFO:0030003</td>\n",
       "      <td>CL:0002144</td>\n",
       "      <td>unknown</td>\n",
       "      <td>MONDO:0005097</td>\n",
       "      <td>unknown</td>\n",
       "      <td>UBERON:0002048</td>\n",
       "      <td>NCBITaxon:9606</td>\n",
       "      <td>...</td>\n",
       "      <td>capillary endothelial cell</td>\n",
       "      <td>10x 3' transcription profiling</td>\n",
       "      <td>squamous cell lung carcinoma</td>\n",
       "      <td>Homo sapiens</td>\n",
       "      <td>unknown</td>\n",
       "      <td>lung</td>\n",
       "      <td>unknown</td>\n",
       "      <td>unknown</td>\n",
       "      <td>GhFu_CKEE-</td>\n",
       "      <td>False</td>\n",
       "    </tr>\n",
       "    <tr>\n",
       "      <th>...</th>\n",
       "      <td>...</td>\n",
       "      <td>...</td>\n",
       "      <td>...</td>\n",
       "      <td>...</td>\n",
       "      <td>...</td>\n",
       "      <td>...</td>\n",
       "      <td>...</td>\n",
       "      <td>...</td>\n",
       "      <td>...</td>\n",
       "      <td>...</td>\n",
       "      <td>...</td>\n",
       "      <td>...</td>\n",
       "      <td>...</td>\n",
       "      <td>...</td>\n",
       "      <td>...</td>\n",
       "      <td>...</td>\n",
       "      <td>...</td>\n",
       "      <td>...</td>\n",
       "      <td>...</td>\n",
       "      <td>...</td>\n",
       "      <td>...</td>\n",
       "    </tr>\n",
       "    <tr>\n",
       "      <th>scrBT1428_AGACGTTTCTATCGCC_lambrechts</th>\n",
       "      <td>cell</td>\n",
       "      <td>homosapiens_None_2023_None_sikkemalisa_002_d10...</td>\n",
       "      <td>True</td>\n",
       "      <td>EFO:0030003</td>\n",
       "      <td>CL:0000583</td>\n",
       "      <td>unknown</td>\n",
       "      <td>MONDO:0005097</td>\n",
       "      <td>unknown</td>\n",
       "      <td>UBERON:0002048</td>\n",
       "      <td>NCBITaxon:9606</td>\n",
       "      <td>...</td>\n",
       "      <td>alveolar macrophage</td>\n",
       "      <td>10x 3' transcription profiling</td>\n",
       "      <td>squamous cell lung carcinoma</td>\n",
       "      <td>Homo sapiens</td>\n",
       "      <td>unknown</td>\n",
       "      <td>lung</td>\n",
       "      <td>unknown</td>\n",
       "      <td>unknown</td>\n",
       "      <td>&amp;|+z*D`I)J</td>\n",
       "      <td>False</td>\n",
       "    </tr>\n",
       "    <tr>\n",
       "      <th>scrBT1427_CCCTCCTTCCCTTGTG_lambrechts</th>\n",
       "      <td>cell</td>\n",
       "      <td>homosapiens_None_2023_None_sikkemalisa_002_d10...</td>\n",
       "      <td>True</td>\n",
       "      <td>EFO:0030003</td>\n",
       "      <td>CL:0000624</td>\n",
       "      <td>unknown</td>\n",
       "      <td>MONDO:0005097</td>\n",
       "      <td>unknown</td>\n",
       "      <td>UBERON:0002048</td>\n",
       "      <td>NCBITaxon:9606</td>\n",
       "      <td>...</td>\n",
       "      <td>CD4-positive, alpha-beta T cell</td>\n",
       "      <td>10x 3' transcription profiling</td>\n",
       "      <td>squamous cell lung carcinoma</td>\n",
       "      <td>Homo sapiens</td>\n",
       "      <td>unknown</td>\n",
       "      <td>lung</td>\n",
       "      <td>unknown</td>\n",
       "      <td>unknown</td>\n",
       "      <td>hskfC(8B79</td>\n",
       "      <td>False</td>\n",
       "    </tr>\n",
       "    <tr>\n",
       "      <th>scrBT1428_AACTCCCTCAGATAAG_lambrechts</th>\n",
       "      <td>cell</td>\n",
       "      <td>homosapiens_None_2023_None_sikkemalisa_002_d10...</td>\n",
       "      <td>True</td>\n",
       "      <td>EFO:0030003</td>\n",
       "      <td>CL:0002144</td>\n",
       "      <td>unknown</td>\n",
       "      <td>MONDO:0005097</td>\n",
       "      <td>unknown</td>\n",
       "      <td>UBERON:0002048</td>\n",
       "      <td>NCBITaxon:9606</td>\n",
       "      <td>...</td>\n",
       "      <td>capillary endothelial cell</td>\n",
       "      <td>10x 3' transcription profiling</td>\n",
       "      <td>squamous cell lung carcinoma</td>\n",
       "      <td>Homo sapiens</td>\n",
       "      <td>unknown</td>\n",
       "      <td>lung</td>\n",
       "      <td>unknown</td>\n",
       "      <td>unknown</td>\n",
       "      <td>7Bb&gt;U?`BZg</td>\n",
       "      <td>False</td>\n",
       "    </tr>\n",
       "    <tr>\n",
       "      <th>scrBT1428_GACTACACAGATTGCT_lambrechts</th>\n",
       "      <td>cell</td>\n",
       "      <td>homosapiens_None_2023_None_sikkemalisa_002_d10...</td>\n",
       "      <td>True</td>\n",
       "      <td>EFO:0030003</td>\n",
       "      <td>CL:0000625</td>\n",
       "      <td>unknown</td>\n",
       "      <td>MONDO:0005097</td>\n",
       "      <td>unknown</td>\n",
       "      <td>UBERON:0002048</td>\n",
       "      <td>NCBITaxon:9606</td>\n",
       "      <td>...</td>\n",
       "      <td>CD8-positive, alpha-beta T cell</td>\n",
       "      <td>10x 3' transcription profiling</td>\n",
       "      <td>squamous cell lung carcinoma</td>\n",
       "      <td>Homo sapiens</td>\n",
       "      <td>unknown</td>\n",
       "      <td>lung</td>\n",
       "      <td>unknown</td>\n",
       "      <td>unknown</td>\n",
       "      <td>EF(B&amp;MU(_w</td>\n",
       "      <td>False</td>\n",
       "    </tr>\n",
       "    <tr>\n",
       "      <th>BT1247_GCCTCAACAGATCC_lambrechts</th>\n",
       "      <td>cell</td>\n",
       "      <td>homosapiens_None_2023_None_sikkemalisa_002_d10...</td>\n",
       "      <td>True</td>\n",
       "      <td>EFO:0030003</td>\n",
       "      <td>CL:0002144</td>\n",
       "      <td>unknown</td>\n",
       "      <td>MONDO:0005097</td>\n",
       "      <td>unknown</td>\n",
       "      <td>UBERON:0002048</td>\n",
       "      <td>NCBITaxon:9606</td>\n",
       "      <td>...</td>\n",
       "      <td>capillary endothelial cell</td>\n",
       "      <td>10x 3' transcription profiling</td>\n",
       "      <td>squamous cell lung carcinoma</td>\n",
       "      <td>Homo sapiens</td>\n",
       "      <td>unknown</td>\n",
       "      <td>lung</td>\n",
       "      <td>unknown</td>\n",
       "      <td>unknown</td>\n",
       "      <td>+5Fsb-YQK2</td>\n",
       "      <td>False</td>\n",
       "    </tr>\n",
       "  </tbody>\n",
       "</table>\n",
       "<p>20631 rows × 71 columns</p>\n",
       "</div>"
      ],
      "text/plain": [
       "                                      suspension_type  \\\n",
       "scrBT1428_CCACGGATCGCATGGC_lambrechts            cell   \n",
       "BT1248_GGACAGGATGACCA_lambrechts                 cell   \n",
       "scrBT1428_TATGCCCTCCACTGGG_lambrechts            cell   \n",
       "scrBT1426_ATTCTACTCTGTGCAA_lambrechts            cell   \n",
       "scrBT1428_GGACGTCAGCTAACAA_lambrechts            cell   \n",
       "...                                               ...   \n",
       "scrBT1428_AGACGTTTCTATCGCC_lambrechts            cell   \n",
       "scrBT1427_CCCTCCTTCCCTTGTG_lambrechts            cell   \n",
       "scrBT1428_AACTCCCTCAGATAAG_lambrechts            cell   \n",
       "scrBT1428_GACTACACAGATTGCT_lambrechts            cell   \n",
       "BT1247_GCCTCAACAGATCC_lambrechts                 cell   \n",
       "\n",
       "                                                                                donor_id  \\\n",
       "scrBT1428_CCACGGATCGCATGGC_lambrechts  homosapiens_None_2023_None_sikkemalisa_002_d10...   \n",
       "BT1248_GGACAGGATGACCA_lambrechts       homosapiens_None_2023_None_sikkemalisa_002_d10...   \n",
       "scrBT1428_TATGCCCTCCACTGGG_lambrechts  homosapiens_None_2023_None_sikkemalisa_002_d10...   \n",
       "scrBT1426_ATTCTACTCTGTGCAA_lambrechts  homosapiens_None_2023_None_sikkemalisa_002_d10...   \n",
       "scrBT1428_GGACGTCAGCTAACAA_lambrechts  homosapiens_None_2023_None_sikkemalisa_002_d10...   \n",
       "...                                                                                  ...   \n",
       "scrBT1428_AGACGTTTCTATCGCC_lambrechts  homosapiens_None_2023_None_sikkemalisa_002_d10...   \n",
       "scrBT1427_CCCTCCTTCCCTTGTG_lambrechts  homosapiens_None_2023_None_sikkemalisa_002_d10...   \n",
       "scrBT1428_AACTCCCTCAGATAAG_lambrechts  homosapiens_None_2023_None_sikkemalisa_002_d10...   \n",
       "scrBT1428_GACTACACAGATTGCT_lambrechts  homosapiens_None_2023_None_sikkemalisa_002_d10...   \n",
       "BT1247_GCCTCAACAGATCC_lambrechts       homosapiens_None_2023_None_sikkemalisa_002_d10...   \n",
       "\n",
       "                                       is_primary_data assay_ontology_term_id  \\\n",
       "scrBT1428_CCACGGATCGCATGGC_lambrechts             True            EFO:0030003   \n",
       "BT1248_GGACAGGATGACCA_lambrechts                  True            EFO:0030003   \n",
       "scrBT1428_TATGCCCTCCACTGGG_lambrechts             True            EFO:0030003   \n",
       "scrBT1426_ATTCTACTCTGTGCAA_lambrechts             True            EFO:0030003   \n",
       "scrBT1428_GGACGTCAGCTAACAA_lambrechts             True            EFO:0030003   \n",
       "...                                                ...                    ...   \n",
       "scrBT1428_AGACGTTTCTATCGCC_lambrechts             True            EFO:0030003   \n",
       "scrBT1427_CCCTCCTTCCCTTGTG_lambrechts             True            EFO:0030003   \n",
       "scrBT1428_AACTCCCTCAGATAAG_lambrechts             True            EFO:0030003   \n",
       "scrBT1428_GACTACACAGATTGCT_lambrechts             True            EFO:0030003   \n",
       "BT1247_GCCTCAACAGATCC_lambrechts                  True            EFO:0030003   \n",
       "\n",
       "                                      cell_type_ontology_term_id  \\\n",
       "scrBT1428_CCACGGATCGCATGGC_lambrechts                 CL:0000625   \n",
       "BT1248_GGACAGGATGACCA_lambrechts                      CL:0000625   \n",
       "scrBT1428_TATGCCCTCCACTGGG_lambrechts                 CL:0002063   \n",
       "scrBT1426_ATTCTACTCTGTGCAA_lambrechts                 CL:0000236   \n",
       "scrBT1428_GGACGTCAGCTAACAA_lambrechts                 CL:0002144   \n",
       "...                                                          ...   \n",
       "scrBT1428_AGACGTTTCTATCGCC_lambrechts                 CL:0000583   \n",
       "scrBT1427_CCCTCCTTCCCTTGTG_lambrechts                 CL:0000624   \n",
       "scrBT1428_AACTCCCTCAGATAAG_lambrechts                 CL:0002144   \n",
       "scrBT1428_GACTACACAGATTGCT_lambrechts                 CL:0000625   \n",
       "BT1247_GCCTCAACAGATCC_lambrechts                      CL:0002144   \n",
       "\n",
       "                                      development_stage_ontology_term_id  \\\n",
       "scrBT1428_CCACGGATCGCATGGC_lambrechts                            unknown   \n",
       "BT1248_GGACAGGATGACCA_lambrechts                                 unknown   \n",
       "scrBT1428_TATGCCCTCCACTGGG_lambrechts                            unknown   \n",
       "scrBT1426_ATTCTACTCTGTGCAA_lambrechts                            unknown   \n",
       "scrBT1428_GGACGTCAGCTAACAA_lambrechts                            unknown   \n",
       "...                                                                  ...   \n",
       "scrBT1428_AGACGTTTCTATCGCC_lambrechts                            unknown   \n",
       "scrBT1427_CCCTCCTTCCCTTGTG_lambrechts                            unknown   \n",
       "scrBT1428_AACTCCCTCAGATAAG_lambrechts                            unknown   \n",
       "scrBT1428_GACTACACAGATTGCT_lambrechts                            unknown   \n",
       "BT1247_GCCTCAACAGATCC_lambrechts                                 unknown   \n",
       "\n",
       "                                      disease_ontology_term_id  \\\n",
       "scrBT1428_CCACGGATCGCATGGC_lambrechts            MONDO:0005097   \n",
       "BT1248_GGACAGGATGACCA_lambrechts                 MONDO:0005097   \n",
       "scrBT1428_TATGCCCTCCACTGGG_lambrechts            MONDO:0005097   \n",
       "scrBT1426_ATTCTACTCTGTGCAA_lambrechts            MONDO:0005097   \n",
       "scrBT1428_GGACGTCAGCTAACAA_lambrechts            MONDO:0005097   \n",
       "...                                                        ...   \n",
       "scrBT1428_AGACGTTTCTATCGCC_lambrechts            MONDO:0005097   \n",
       "scrBT1427_CCCTCCTTCCCTTGTG_lambrechts            MONDO:0005097   \n",
       "scrBT1428_AACTCCCTCAGATAAG_lambrechts            MONDO:0005097   \n",
       "scrBT1428_GACTACACAGATTGCT_lambrechts            MONDO:0005097   \n",
       "BT1247_GCCTCAACAGATCC_lambrechts                 MONDO:0005097   \n",
       "\n",
       "                                      self_reported_ethnicity_ontology_term_id  \\\n",
       "scrBT1428_CCACGGATCGCATGGC_lambrechts                                  unknown   \n",
       "BT1248_GGACAGGATGACCA_lambrechts                                       unknown   \n",
       "scrBT1428_TATGCCCTCCACTGGG_lambrechts                                  unknown   \n",
       "scrBT1426_ATTCTACTCTGTGCAA_lambrechts                                  unknown   \n",
       "scrBT1428_GGACGTCAGCTAACAA_lambrechts                                  unknown   \n",
       "...                                                                        ...   \n",
       "scrBT1428_AGACGTTTCTATCGCC_lambrechts                                  unknown   \n",
       "scrBT1427_CCCTCCTTCCCTTGTG_lambrechts                                  unknown   \n",
       "scrBT1428_AACTCCCTCAGATAAG_lambrechts                                  unknown   \n",
       "scrBT1428_GACTACACAGATTGCT_lambrechts                                  unknown   \n",
       "BT1247_GCCTCAACAGATCC_lambrechts                                       unknown   \n",
       "\n",
       "                                      tissue_ontology_term_id  \\\n",
       "scrBT1428_CCACGGATCGCATGGC_lambrechts          UBERON:0002048   \n",
       "BT1248_GGACAGGATGACCA_lambrechts               UBERON:0002048   \n",
       "scrBT1428_TATGCCCTCCACTGGG_lambrechts          UBERON:0002048   \n",
       "scrBT1426_ATTCTACTCTGTGCAA_lambrechts          UBERON:0002048   \n",
       "scrBT1428_GGACGTCAGCTAACAA_lambrechts          UBERON:0002048   \n",
       "...                                                       ...   \n",
       "scrBT1428_AGACGTTTCTATCGCC_lambrechts          UBERON:0002048   \n",
       "scrBT1427_CCCTCCTTCCCTTGTG_lambrechts          UBERON:0002048   \n",
       "scrBT1428_AACTCCCTCAGATAAG_lambrechts          UBERON:0002048   \n",
       "scrBT1428_GACTACACAGATTGCT_lambrechts          UBERON:0002048   \n",
       "BT1247_GCCTCAACAGATCC_lambrechts               UBERON:0002048   \n",
       "\n",
       "                                      organism_ontology_term_id  ...  \\\n",
       "scrBT1428_CCACGGATCGCATGGC_lambrechts            NCBITaxon:9606  ...   \n",
       "BT1248_GGACAGGATGACCA_lambrechts                 NCBITaxon:9606  ...   \n",
       "scrBT1428_TATGCCCTCCACTGGG_lambrechts            NCBITaxon:9606  ...   \n",
       "scrBT1426_ATTCTACTCTGTGCAA_lambrechts            NCBITaxon:9606  ...   \n",
       "scrBT1428_GGACGTCAGCTAACAA_lambrechts            NCBITaxon:9606  ...   \n",
       "...                                                         ...  ...   \n",
       "scrBT1428_AGACGTTTCTATCGCC_lambrechts            NCBITaxon:9606  ...   \n",
       "scrBT1427_CCCTCCTTCCCTTGTG_lambrechts            NCBITaxon:9606  ...   \n",
       "scrBT1428_AACTCCCTCAGATAAG_lambrechts            NCBITaxon:9606  ...   \n",
       "scrBT1428_GACTACACAGATTGCT_lambrechts            NCBITaxon:9606  ...   \n",
       "BT1247_GCCTCAACAGATCC_lambrechts                 NCBITaxon:9606  ...   \n",
       "\n",
       "                                                             cell_type  \\\n",
       "scrBT1428_CCACGGATCGCATGGC_lambrechts  CD8-positive, alpha-beta T cell   \n",
       "BT1248_GGACAGGATGACCA_lambrechts       CD8-positive, alpha-beta T cell   \n",
       "scrBT1428_TATGCCCTCCACTGGG_lambrechts               type II pneumocyte   \n",
       "scrBT1426_ATTCTACTCTGTGCAA_lambrechts                           B cell   \n",
       "scrBT1428_GGACGTCAGCTAACAA_lambrechts       capillary endothelial cell   \n",
       "...                                                                ...   \n",
       "scrBT1428_AGACGTTTCTATCGCC_lambrechts              alveolar macrophage   \n",
       "scrBT1427_CCCTCCTTCCCTTGTG_lambrechts  CD4-positive, alpha-beta T cell   \n",
       "scrBT1428_AACTCCCTCAGATAAG_lambrechts       capillary endothelial cell   \n",
       "scrBT1428_GACTACACAGATTGCT_lambrechts  CD8-positive, alpha-beta T cell   \n",
       "BT1247_GCCTCAACAGATCC_lambrechts            capillary endothelial cell   \n",
       "\n",
       "                                                                assay  \\\n",
       "scrBT1428_CCACGGATCGCATGGC_lambrechts  10x 3' transcription profiling   \n",
       "BT1248_GGACAGGATGACCA_lambrechts       10x 3' transcription profiling   \n",
       "scrBT1428_TATGCCCTCCACTGGG_lambrechts  10x 3' transcription profiling   \n",
       "scrBT1426_ATTCTACTCTGTGCAA_lambrechts  10x 3' transcription profiling   \n",
       "scrBT1428_GGACGTCAGCTAACAA_lambrechts  10x 3' transcription profiling   \n",
       "...                                                               ...   \n",
       "scrBT1428_AGACGTTTCTATCGCC_lambrechts  10x 3' transcription profiling   \n",
       "scrBT1427_CCCTCCTTCCCTTGTG_lambrechts  10x 3' transcription profiling   \n",
       "scrBT1428_AACTCCCTCAGATAAG_lambrechts  10x 3' transcription profiling   \n",
       "scrBT1428_GACTACACAGATTGCT_lambrechts  10x 3' transcription profiling   \n",
       "BT1247_GCCTCAACAGATCC_lambrechts       10x 3' transcription profiling   \n",
       "\n",
       "                                                            disease  \\\n",
       "scrBT1428_CCACGGATCGCATGGC_lambrechts  squamous cell lung carcinoma   \n",
       "BT1248_GGACAGGATGACCA_lambrechts       squamous cell lung carcinoma   \n",
       "scrBT1428_TATGCCCTCCACTGGG_lambrechts  squamous cell lung carcinoma   \n",
       "scrBT1426_ATTCTACTCTGTGCAA_lambrechts  squamous cell lung carcinoma   \n",
       "scrBT1428_GGACGTCAGCTAACAA_lambrechts  squamous cell lung carcinoma   \n",
       "...                                                             ...   \n",
       "scrBT1428_AGACGTTTCTATCGCC_lambrechts  squamous cell lung carcinoma   \n",
       "scrBT1427_CCCTCCTTCCCTTGTG_lambrechts  squamous cell lung carcinoma   \n",
       "scrBT1428_AACTCCCTCAGATAAG_lambrechts  squamous cell lung carcinoma   \n",
       "scrBT1428_GACTACACAGATTGCT_lambrechts  squamous cell lung carcinoma   \n",
       "BT1247_GCCTCAACAGATCC_lambrechts       squamous cell lung carcinoma   \n",
       "\n",
       "                                           organism      sex  tissue  \\\n",
       "scrBT1428_CCACGGATCGCATGGC_lambrechts  Homo sapiens  unknown    lung   \n",
       "BT1248_GGACAGGATGACCA_lambrechts       Homo sapiens  unknown    lung   \n",
       "scrBT1428_TATGCCCTCCACTGGG_lambrechts  Homo sapiens  unknown    lung   \n",
       "scrBT1426_ATTCTACTCTGTGCAA_lambrechts  Homo sapiens  unknown    lung   \n",
       "scrBT1428_GGACGTCAGCTAACAA_lambrechts  Homo sapiens  unknown    lung   \n",
       "...                                             ...      ...     ...   \n",
       "scrBT1428_AGACGTTTCTATCGCC_lambrechts  Homo sapiens  unknown    lung   \n",
       "scrBT1427_CCCTCCTTCCCTTGTG_lambrechts  Homo sapiens  unknown    lung   \n",
       "scrBT1428_AACTCCCTCAGATAAG_lambrechts  Homo sapiens  unknown    lung   \n",
       "scrBT1428_GACTACACAGATTGCT_lambrechts  Homo sapiens  unknown    lung   \n",
       "BT1247_GCCTCAACAGATCC_lambrechts       Homo sapiens  unknown    lung   \n",
       "\n",
       "                                      self_reported_ethnicity  \\\n",
       "scrBT1428_CCACGGATCGCATGGC_lambrechts                 unknown   \n",
       "BT1248_GGACAGGATGACCA_lambrechts                      unknown   \n",
       "scrBT1428_TATGCCCTCCACTGGG_lambrechts                 unknown   \n",
       "scrBT1426_ATTCTACTCTGTGCAA_lambrechts                 unknown   \n",
       "scrBT1428_GGACGTCAGCTAACAA_lambrechts                 unknown   \n",
       "...                                                       ...   \n",
       "scrBT1428_AGACGTTTCTATCGCC_lambrechts                 unknown   \n",
       "scrBT1427_CCCTCCTTCCCTTGTG_lambrechts                 unknown   \n",
       "scrBT1428_AACTCCCTCAGATAAG_lambrechts                 unknown   \n",
       "scrBT1428_GACTACACAGATTGCT_lambrechts                 unknown   \n",
       "BT1247_GCCTCAACAGATCC_lambrechts                      unknown   \n",
       "\n",
       "                                      development_stage observation_joinid  \\\n",
       "scrBT1428_CCACGGATCGCATGGC_lambrechts           unknown         kok@4pR6O8   \n",
       "BT1248_GGACAGGATGACCA_lambrechts                unknown         wxUib0^bFj   \n",
       "scrBT1428_TATGCCCTCCACTGGG_lambrechts           unknown         t;Y`(D7%Y~   \n",
       "scrBT1426_ATTCTACTCTGTGCAA_lambrechts           unknown         0=fyWhM>W7   \n",
       "scrBT1428_GGACGTCAGCTAACAA_lambrechts           unknown         GhFu_CKEE-   \n",
       "...                                                 ...                ...   \n",
       "scrBT1428_AGACGTTTCTATCGCC_lambrechts           unknown         &|+z*D`I)J   \n",
       "scrBT1427_CCCTCCTTCCCTTGTG_lambrechts           unknown         hskfC(8B79   \n",
       "scrBT1428_AACTCCCTCAGATAAG_lambrechts           unknown         7Bb>U?`BZg   \n",
       "scrBT1428_GACTACACAGATTGCT_lambrechts           unknown         EF(B&MU(_w   \n",
       "BT1247_GCCTCAACAGATCC_lambrechts                unknown         +5Fsb-YQK2   \n",
       "\n",
       "                                      doublet  \n",
       "scrBT1428_CCACGGATCGCATGGC_lambrechts   False  \n",
       "BT1248_GGACAGGATGACCA_lambrechts        False  \n",
       "scrBT1428_TATGCCCTCCACTGGG_lambrechts   False  \n",
       "scrBT1426_ATTCTACTCTGTGCAA_lambrechts   False  \n",
       "scrBT1428_GGACGTCAGCTAACAA_lambrechts   False  \n",
       "...                                       ...  \n",
       "scrBT1428_AGACGTTTCTATCGCC_lambrechts   False  \n",
       "scrBT1427_CCCTCCTTCCCTTGTG_lambrechts   False  \n",
       "scrBT1428_AACTCCCTCAGATAAG_lambrechts   False  \n",
       "scrBT1428_GACTACACAGATTGCT_lambrechts   False  \n",
       "BT1247_GCCTCAACAGATCC_lambrechts        False  \n",
       "\n",
       "[20631 rows x 71 columns]"
      ]
     },
     "execution_count": 26,
     "metadata": {},
     "output_type": "execute_result"
    }
   ],
   "source": [
    "sclcCells_Full.obs"
   ]
  },
  {
   "cell_type": "code",
   "execution_count": 27,
   "metadata": {},
   "outputs": [],
   "source": [
    "sclcCells_Full = sclcCells_Full[~sclcCells_Full.obs.doublet]"
   ]
  },
  {
   "cell_type": "code",
   "execution_count": 41,
   "metadata": {},
   "outputs": [
    {
     "ename": "",
     "evalue": "",
     "output_type": "error",
     "traceback": [
      "\u001b[1;31mThe Kernel crashed while executing code in the current cell or a previous cell. \n",
      "\u001b[1;31mPlease review the code in the cell(s) to identify a possible cause of the failure. \n",
      "\u001b[1;31mClick <a href='https://aka.ms/vscodeJupyterKernelCrash'>here</a> for more info. \n",
      "\u001b[1;31mView Jupyter <a href='command:jupyter.viewOutput'>log</a> for further details."
     ]
    }
   ],
   "source": [
    "sclcCells_Full.write_h5ad('sclcSinglets.h5ad')"
   ]
  }
 ],
 "metadata": {
  "kernelspec": {
   "display_name": "Python 3",
   "language": "python",
   "name": "python3"
  },
  "language_info": {
   "codemirror_mode": {
    "name": "ipython",
    "version": 3
   },
   "file_extension": ".py",
   "mimetype": "text/x-python",
   "name": "python",
   "nbconvert_exporter": "python",
   "pygments_lexer": "ipython3",
   "version": "3.9.6"
  }
 },
 "nbformat": 4,
 "nbformat_minor": 2
}
